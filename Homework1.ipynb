{
  "cells": [
    {
      "cell_type": "markdown",
      "metadata": {
        "id": "VpJoSzHkmseh"
      },
      "source": [
        "# **Homework - Week 1 (Optional Practice)**\n",
        "\n",
        "---\n",
        "**Topics Covered in the Homework:**\n",
        "\n",
        "*   Print functions\n",
        "*   Variables\n",
        "*   Arithmetic operators\n",
        "*   Lists\n",
        "*   Functions\n",
        "\n",
        "\n",
        "\n",
        "**NOTE:** This Python practice is **optional**. These problems are intended to give you some more practice with the Python concepts we have learned. It is a good idea to try at least one or two problems in each section, but if you are confident with that material then you can skip the rest of the problems and move onto the next section.\n",
        "\n",
        "---"
      ]
    },
    {
      "cell_type": "markdown",
      "metadata": {
        "id": "4Ft6xAhwYqvN",
        "jp-MarkdownHeadingCollapsed": true,
        "tags": []
      },
      "source": [
        "## **The Print Function**\n",
        "---"
      ]
    },
    {
      "cell_type": "markdown",
      "metadata": {
        "id": "XQ3zpD9G_rb3",
        "tags": []
      },
      "source": [
        "#### **Problem #1:** Print `Hello friends.`"
      ]
    },
    {
      "cell_type": "code",
      "execution_count": null,
      "metadata": {
        "id": "czESqJz_AKQP",
        "colab": {
          "base_uri": "https://localhost:8080/"
        },
        "outputId": "90b23571-7039-4d06-b5d8-5eef4ee5a7dc"
      },
      "outputs": [
        {
          "output_type": "stream",
          "name": "stdout",
          "text": [
            "Hello friends.\n"
          ]
        }
      ],
      "source": [
        "print(\"Hello friends.\")"
      ]
    },
    {
      "cell_type": "markdown",
      "metadata": {
        "id": "QinoVuPOAdBg"
      },
      "source": [
        "#### **Problem #2:** Print the number `10`."
      ]
    },
    {
      "cell_type": "code",
      "execution_count": null,
      "metadata": {
        "id": "z4kNYrt2Nj0W",
        "colab": {
          "base_uri": "https://localhost:8080/"
        },
        "outputId": "89f5dd32-c778-42d7-9133-be5f1bd1f1a7"
      },
      "outputs": [
        {
          "output_type": "stream",
          "name": "stdout",
          "text": [
            "10\n"
          ]
        }
      ],
      "source": [
        "print(10)\n"
      ]
    },
    {
      "cell_type": "markdown",
      "metadata": {
        "id": "oMCHyhfet4wi"
      },
      "source": [
        "#### **Problem #3:** Print the names of three countries."
      ]
    },
    {
      "cell_type": "code",
      "source": [
        "print(\"Three countries in South America: Colombia, Venezuela, and Brazil!\")"
      ],
      "metadata": {
        "id": "kwzObg5POhPY",
        "colab": {
          "base_uri": "https://localhost:8080/"
        },
        "outputId": "2bb0be43-e21a-4de2-daad-64672b831a0b"
      },
      "execution_count": null,
      "outputs": [
        {
          "output_type": "stream",
          "name": "stdout",
          "text": [
            "Three countries in South America: Colombia, Venezuela, and Brazil!\n"
          ]
        }
      ]
    },
    {
      "cell_type": "markdown",
      "metadata": {
        "id": "brKDsi2BuT75"
      },
      "source": [
        "#### **Problem #4:** Print the year."
      ]
    },
    {
      "cell_type": "code",
      "execution_count": null,
      "metadata": {
        "id": "9liBz_fUus6T",
        "colab": {
          "base_uri": "https://localhost:8080/"
        },
        "outputId": "b0d857af-d055-4e0a-ae60-047628dc5e26"
      },
      "outputs": [
        {
          "output_type": "stream",
          "name": "stdout",
          "text": [
            "2022\n"
          ]
        }
      ],
      "source": [
        "print(2022)"
      ]
    },
    {
      "cell_type": "markdown",
      "metadata": {
        "id": "eiJEhAoAalKG",
        "jp-MarkdownHeadingCollapsed": true,
        "tags": []
      },
      "source": [
        "## **Variables**"
      ]
    },
    {
      "cell_type": "markdown",
      "metadata": {
        "id": "DrNIKf1TAo1z"
      },
      "source": [
        "#### **Problem #1:** Create a variable called `popular_name` and assign it to the name 'Olivia'."
      ]
    },
    {
      "cell_type": "code",
      "execution_count": null,
      "metadata": {
        "id": "sVICWNIOAx2V"
      },
      "outputs": [],
      "source": [
        "popular_name = \"Olivia\""
      ]
    },
    {
      "cell_type": "markdown",
      "metadata": {
        "id": "oLDz58wguUFM"
      },
      "source": [
        "#### **Problem #2:** Create a variable `birth_year` and set it equal to the year your were born. Then print, `\"I was born in <birth_year>\"`"
      ]
    },
    {
      "cell_type": "code",
      "execution_count": null,
      "metadata": {
        "id": "aSIo7OJHvEAu",
        "colab": {
          "base_uri": "https://localhost:8080/"
        },
        "outputId": "d14b8d1c-96b4-4a63-e842-72f3fbedbdfa"
      },
      "outputs": [
        {
          "output_type": "stream",
          "name": "stdout",
          "text": [
            "I was born in 2006\n"
          ]
        }
      ],
      "source": [
        "birth_year = 2006\n",
        "print(\"I was born in \" + str(birth_year))"
      ]
    },
    {
      "cell_type": "markdown",
      "metadata": {
        "id": "-bnV4zY2yMs8"
      },
      "source": [
        "#### **Problem #3:** Create a variable `name` and assign it to your name. Print `name`. "
      ]
    },
    {
      "cell_type": "code",
      "execution_count": null,
      "metadata": {
        "id": "xLdAevEYyREb",
        "colab": {
          "base_uri": "https://localhost:8080/"
        },
        "outputId": "35ddd2ca-f116-48a9-fca5-18b518b4f2e6"
      },
      "outputs": [
        {
          "output_type": "stream",
          "name": "stdout",
          "text": [
            "Sebastian Rodriguez\n"
          ]
        }
      ],
      "source": [
        "name = \"Sebastian Rodriguez\"\n",
        "print(name)"
      ]
    },
    {
      "cell_type": "markdown",
      "metadata": {
        "id": "8E_hjAwnzJIJ"
      },
      "source": [
        "#### **Problem #4:** Label the following data types.\n",
        "\n",
        "**NOTE**: You can change the text below by double clicking on the cell."
      ]
    },
    {
      "cell_type": "markdown",
      "metadata": {
        "id": "UgjKT51TYqvW"
      },
      "source": [
        "```\n",
        "2 - int\n",
        "8.9 - float\n",
        "\"Train\" - string\n",
        "[\"string\"] - list\n",
        "5.0 - float\n",
        "```"
      ]
    },
    {
      "cell_type": "markdown",
      "metadata": {
        "id": "GBHg9Rpo3CUS",
        "tags": []
      },
      "source": [
        "#### **Problem #5:** Using only variables, print the statement `\"I love coding\"`."
      ]
    },
    {
      "cell_type": "code",
      "execution_count": null,
      "metadata": {
        "id": "p2ZOU4TrNj0c",
        "colab": {
          "base_uri": "https://localhost:8080/"
        },
        "outputId": "1b46da1c-7fa8-4b95-f70d-21172a513ab7"
      },
      "outputs": [
        {
          "output_type": "stream",
          "name": "stdout",
          "text": [
            "I love coding\n"
          ]
        }
      ],
      "source": [
        "# what do y'all mean?!?!\n",
        "a = \"I love coding\"\n",
        "print(a)\n"
      ]
    },
    {
      "cell_type": "markdown",
      "metadata": {
        "id": "X5NDfAeTa3HX",
        "jp-MarkdownHeadingCollapsed": true,
        "tags": []
      },
      "source": [
        "## **Arithmetic**"
      ]
    },
    {
      "cell_type": "markdown",
      "metadata": {
        "id": "pHe7t_BKNj0c"
      },
      "source": [
        "#### **Problem #1**: Print the result of 6 divided by 3."
      ]
    },
    {
      "cell_type": "code",
      "execution_count": null,
      "metadata": {
        "id": "M8PLR4bQNj0c",
        "colab": {
          "base_uri": "https://localhost:8080/"
        },
        "outputId": "272e7843-fd6d-4467-fcdf-ca6717522b2a"
      },
      "outputs": [
        {
          "output_type": "stream",
          "name": "stdout",
          "text": [
            "2.0\n"
          ]
        }
      ],
      "source": [
        "result = 6/3\n",
        "print(result)"
      ]
    },
    {
      "cell_type": "markdown",
      "source": [
        "#### **Problem #2**: Print 2 + 2."
      ],
      "metadata": {
        "id": "VZzbhUgsR1Qq"
      }
    },
    {
      "cell_type": "code",
      "source": [
        "result = 2 + 2\n",
        "print(result)"
      ],
      "metadata": {
        "id": "xRZbaJ9XR_w3",
        "colab": {
          "base_uri": "https://localhost:8080/"
        },
        "outputId": "0fbf1f90-7c28-4638-ee56-35f817d429cf"
      },
      "execution_count": null,
      "outputs": [
        {
          "output_type": "stream",
          "name": "stdout",
          "text": [
            "4\n"
          ]
        }
      ]
    },
    {
      "cell_type": "markdown",
      "metadata": {
        "id": "rn1m4Qxf404c",
        "tags": []
      },
      "source": [
        "####  **Problem #3:** Use code to solve this problem: Jenny had 25 marbles. She received ten more from her best friend, Alexa. Jenny's younger brother took 20 marbles from Jenny's room. How many marbles does Jenny have now?"
      ]
    },
    {
      "cell_type": "code",
      "execution_count": null,
      "metadata": {
        "id": "fIwSmGAX43HV",
        "colab": {
          "base_uri": "https://localhost:8080/"
        },
        "outputId": "77115e69-ab2f-452c-feaf-247144ea47f3"
      },
      "outputs": [
        {
          "output_type": "stream",
          "name": "stdout",
          "text": [
            "15\n"
          ]
        }
      ],
      "source": [
        "jenny = 25\n",
        "alexa = 10\n",
        "jenny += alexa\n",
        "brother = 20\n",
        "jenny -= brother\n",
        "print(jenny)\n"
      ]
    },
    {
      "cell_type": "markdown",
      "metadata": {
        "jp-MarkdownHeadingCollapsed": true,
        "tags": [],
        "id": "EDlmhlMBNj0e"
      },
      "source": [
        "## **Comments and Debugging**"
      ]
    },
    {
      "cell_type": "markdown",
      "metadata": {
        "id": "BflShJAaNj0f"
      },
      "source": [
        "####  **Problem #1**: The code below is intended to output the number 6, but this doesn't happen when you run it (try it for yourself). Correct the code so that it works properly."
      ]
    },
    {
      "cell_type": "code",
      "execution_count": null,
      "metadata": {
        "id": "mvU7yxGONj0f",
        "outputId": "d2818656-a164-499d-c4e7-a8dd6eeccf93",
        "colab": {
          "base_uri": "https://localhost:8080/"
        }
      },
      "outputs": [
        {
          "output_type": "stream",
          "name": "stdout",
          "text": [
            "6.0\n"
          ]
        }
      ],
      "source": [
        "x = 12\n",
        "y = 2\n",
        "print(x / y) #you can't divide strings silly goose!"
      ]
    },
    {
      "cell_type": "markdown",
      "metadata": {
        "id": "YW6VJecNNj0g"
      },
      "source": [
        "####  **Problem #2**: Identify the errors in the following code: \n"
      ]
    },
    {
      "cell_type": "code",
      "source": [
        "question = \"What is a collection of quantum gates called?\" # you need to put quotation marks around the string!\n",
        "print(\"My question is \"+ question) # don't capitalize print... also you have to use open and closed quotation marks, not just open "
      ],
      "metadata": {
        "id": "okwYG0P1SioZ",
        "colab": {
          "base_uri": "https://localhost:8080/"
        },
        "outputId": "3a3e5737-7881-4806-dd39-0a08e6268613"
      },
      "execution_count": null,
      "outputs": [
        {
          "output_type": "stream",
          "name": "stdout",
          "text": [
            "My question is What is a collection of quantum gates called?\n"
          ]
        }
      ]
    },
    {
      "cell_type": "markdown",
      "metadata": {
        "id": "cl9xmTIm9VAf",
        "jp-MarkdownHeadingCollapsed": true,
        "tags": []
      },
      "source": [
        "## **Lists**\n",
        "---\n"
      ]
    },
    {
      "cell_type": "markdown",
      "metadata": {
        "id": "piqucBgPUi1O"
      },
      "source": [
        "Use the list `temperatures` below to answer Problems #1-4."
      ]
    },
    {
      "cell_type": "code",
      "execution_count": null,
      "metadata": {
        "id": "47FMiwaiUfr5"
      },
      "outputs": [],
      "source": [
        "temperatures = [60, 66, 42, 38, 71]"
      ]
    },
    {
      "cell_type": "markdown",
      "metadata": {
        "id": "uSCTnndlT-mB"
      },
      "source": [
        "#### **Problem #1:**  Replace `42` with 50."
      ]
    },
    {
      "cell_type": "code",
      "execution_count": null,
      "metadata": {
        "id": "vJJJmW0Z3KcH"
      },
      "outputs": [],
      "source": [
        "temperatures[2] = 50"
      ]
    },
    {
      "cell_type": "markdown",
      "metadata": {
        "id": "nvxk8oq1U_UT"
      },
      "source": [
        "#### **Problem #2:** Drop value 71. "
      ]
    },
    {
      "cell_type": "code",
      "execution_count": null,
      "metadata": {
        "id": "qiwH5yUL3Tw6"
      },
      "outputs": [],
      "source": [
        "temperatures.remove(71)"
      ]
    },
    {
      "cell_type": "markdown",
      "metadata": {
        "id": "B3IYGSpOVbnt"
      },
      "source": [
        "#### **Problem #3:** Add value 65."
      ]
    },
    {
      "cell_type": "code",
      "source": [
        "temperatures.append(65)"
      ],
      "metadata": {
        "id": "kCJO6vIY79Oq"
      },
      "execution_count": null,
      "outputs": []
    },
    {
      "cell_type": "code",
      "execution_count": null,
      "metadata": {
        "id": "xaQuluOc3adP"
      },
      "outputs": [],
      "source": []
    },
    {
      "cell_type": "markdown",
      "metadata": {
        "id": "RvCS8T9QVsOq"
      },
      "source": [
        "#### **Problem #4** Replace 65 with 85."
      ]
    },
    {
      "cell_type": "code",
      "execution_count": null,
      "metadata": {
        "id": "wP8-nB7A3iS7",
        "colab": {
          "base_uri": "https://localhost:8080/"
        },
        "outputId": "ed1d189b-b36f-4616-dbeb-c47c9462c616"
      },
      "outputs": [
        {
          "output_type": "stream",
          "name": "stdout",
          "text": [
            "[60, 66, 50, 38, 65]\n",
            "[60, 66, 50, 38, 85]\n"
          ]
        }
      ],
      "source": [
        "print(temperatures)\n",
        "temperatures[len(temperatures) - 1] = 85\n",
        "print(temperatures)"
      ]
    },
    {
      "cell_type": "markdown",
      "metadata": {
        "id": "ZQgiZ51bWriK"
      },
      "source": [
        "Use the list `subjects` below to answer Problems #5-9."
      ]
    },
    {
      "cell_type": "code",
      "execution_count": null,
      "metadata": {
        "id": "J2hhXPkoWwCB"
      },
      "outputs": [],
      "source": [
        "subjects = [\"Math\", \"Physics\", \"Chemistry\", \"Biology\"]"
      ]
    },
    {
      "cell_type": "markdown",
      "metadata": {
        "id": "lASyq8zGW1xF"
      },
      "source": [
        "#### **Problem #5:** Add Calculus."
      ]
    },
    {
      "cell_type": "code",
      "execution_count": null,
      "metadata": {
        "id": "M6McB8Tt4RiJ"
      },
      "outputs": [],
      "source": [
        "subjects.append(\"Calculus\")"
      ]
    },
    {
      "cell_type": "markdown",
      "metadata": {
        "id": "RmwkksaCW4gX"
      },
      "source": [
        "#### **Problem #6:** Drop Math."
      ]
    },
    {
      "cell_type": "code",
      "execution_count": null,
      "metadata": {
        "id": "zE0vh7R44XzU"
      },
      "outputs": [],
      "source": [
        "subjects.remove(\"Math\")"
      ]
    },
    {
      "cell_type": "markdown",
      "metadata": {
        "id": "jZ8AJlrVW5k2"
      },
      "source": [
        "#### **Problem #7:** Replace Physics with AP Physics."
      ]
    },
    {
      "cell_type": "code",
      "execution_count": null,
      "metadata": {
        "id": "NGn2rRQl4EoB"
      },
      "outputs": [],
      "source": [
        "subjects[0] = \"AP Physics\""
      ]
    },
    {
      "cell_type": "markdown",
      "metadata": {
        "id": "Xj6gU-xDW9Oj"
      },
      "source": [
        "#### **Problem #8:** Replace Biology with AP Bio."
      ]
    },
    {
      "cell_type": "code",
      "execution_count": null,
      "metadata": {
        "id": "sw0cpC5aW-oq",
        "colab": {
          "base_uri": "https://localhost:8080/"
        },
        "outputId": "71eb8bf3-0c5f-487e-e29f-bfd4068fd66d"
      },
      "outputs": [
        {
          "output_type": "stream",
          "name": "stdout",
          "text": [
            "['AP Physics', 'Chemistry', 'AP Bio', 'Calculus']\n"
          ]
        }
      ],
      "source": [
        "subjects[2] = \"AP Bio\"\n",
        "print(subjects)"
      ]
    },
    {
      "cell_type": "markdown",
      "metadata": {
        "id": "-2timCvfW-9g"
      },
      "source": [
        "#### **Problem #9:** Drop Calculus. "
      ]
    },
    {
      "cell_type": "code",
      "execution_count": null,
      "metadata": {
        "id": "rMxJuZ_7HvU-"
      },
      "outputs": [],
      "source": [
        "subjects.remove(\"Calculus\")"
      ]
    },
    {
      "cell_type": "markdown",
      "metadata": {
        "id": "pvoRnBcN5F00"
      },
      "source": [
        "Use the list `attendance` below to answer Problems #10-14."
      ]
    },
    {
      "cell_type": "code",
      "execution_count": null,
      "metadata": {
        "id": "JQk7FsxI5ZZD"
      },
      "outputs": [],
      "source": [
        "attendance = [\"Ellie\", \"Kyle\", \"Deiondre\", \"Zoe\", \"Joaquin\", \"Jo\", \"Liv\"]"
      ]
    },
    {
      "cell_type": "markdown",
      "metadata": {
        "id": "wnQo7Pzb5TLE"
      },
      "source": [
        "#### **Problem #10:** You forgot to add a student. Add Valentina.\n",
        "\n"
      ]
    },
    {
      "cell_type": "code",
      "execution_count": null,
      "metadata": {
        "id": "1w_O6_6w5sKK"
      },
      "outputs": [],
      "source": [
        "attendance.append(\"Valentina\")"
      ]
    },
    {
      "cell_type": "markdown",
      "metadata": {
        "id": "Jr5a9Fxz5UOq"
      },
      "source": [
        "#### **Problem #11:** Joaquin accidentally got marked present when he is absent. Remove Joaquin."
      ]
    },
    {
      "cell_type": "code",
      "execution_count": null,
      "metadata": {
        "id": "Sl0DUTvr6T0v"
      },
      "outputs": [],
      "source": [
        "attendance.remove(\"Joaquin\")"
      ]
    },
    {
      "cell_type": "markdown",
      "metadata": {
        "id": "rOhwfoxJ5VTz"
      },
      "source": [
        "#### **Problem #12:** It looks like one fo the names wasn't typed correctly. Change \"Jo\" to \"Josh\"."
      ]
    },
    {
      "cell_type": "code",
      "execution_count": null,
      "metadata": {
        "id": "h23BcAiN7xpL"
      },
      "outputs": [],
      "source": [
        "#print(attendance)\n",
        "attendance[4] = \"Josh\""
      ]
    },
    {
      "cell_type": "markdown",
      "metadata": {
        "id": "ZHXLNh_q5WXQ"
      },
      "source": [
        "#### **Problem #13:** Kyle prefers going by Ky. Update the attendance to reflect this preference."
      ]
    },
    {
      "cell_type": "code",
      "execution_count": null,
      "metadata": {
        "id": "JPihwmTT8UAj"
      },
      "outputs": [],
      "source": [
        "#print(attendance)\n",
        "attendance[1] = \"Ky\""
      ]
    },
    {
      "cell_type": "markdown",
      "metadata": {
        "id": "H1x4fWj65YLV"
      },
      "source": [
        "#### **Problem #14:** Another student arrived. Add Akilah to the attendance."
      ]
    },
    {
      "cell_type": "code",
      "execution_count": null,
      "metadata": {
        "id": "pgMjpUr18a8a"
      },
      "outputs": [],
      "source": [
        "attendance.append(\"Akilah\")"
      ]
    },
    {
      "cell_type": "markdown",
      "metadata": {
        "jp-MarkdownHeadingCollapsed": true,
        "tags": [],
        "id": "y6F6xQ6BNj0w"
      },
      "source": [
        "## **Defining Functions**\n",
        "---"
      ]
    },
    {
      "cell_type": "markdown",
      "metadata": {
        "id": "0sR3rHJK_TdA"
      },
      "source": [
        "#### **Problem #1.** How many parameters does the following function have?\n",
        "\n",
        "```\n",
        "def hello():\n",
        "  print(\"Hello!\")\n",
        "```"
      ]
    },
    {
      "cell_type": "code",
      "source": [
        "print(\"Technically 0, not sure if void is a thing in python, because then it might be 1? Going with 0 though!\")"
      ],
      "metadata": {
        "id": "0CDKIFXwapfs",
        "colab": {
          "base_uri": "https://localhost:8080/"
        },
        "outputId": "68a792de-84c5-4d82-d04b-4b4beacd5b5f"
      },
      "execution_count": null,
      "outputs": [
        {
          "output_type": "stream",
          "name": "stdout",
          "text": [
            "Technically 0, not sure if void is a thing in python, because then it might be 1? Going with 0 though!\n"
          ]
        }
      ]
    },
    {
      "cell_type": "markdown",
      "metadata": {
        "id": "xbH67uoR_S5W"
      },
      "source": [
        "#### **Problem #2:** Looking at the following function, describe what it will do when called.\n",
        "```\n",
        "def mystery(x, y):\n",
        "  print(x + y)\n",
        "```"
      ]
    },
    {
      "cell_type": "code",
      "source": [
        "print(\"The function takes in two numbers, x and y, and prints the sum of them\")"
      ],
      "metadata": {
        "id": "zgl79p6zbvfP",
        "colab": {
          "base_uri": "https://localhost:8080/"
        },
        "outputId": "da6f70a8-9874-4351-eaf4-1fb1db4c3ff1"
      },
      "execution_count": null,
      "outputs": [
        {
          "output_type": "stream",
          "name": "stdout",
          "text": [
            "The function takes in two numbers, x and y, and prints the sum of them\n"
          ]
        }
      ]
    },
    {
      "cell_type": "markdown",
      "metadata": {
        "id": "ACGVYZ6X_UYX"
      },
      "source": [
        "#### **Problem #3:** How many paramters does the following function have?\n",
        "```\n",
        "def params(param):\n",
        "  print(\"You passed \" + str(param) + \" as a parameter\")\n",
        "```"
      ]
    },
    {
      "cell_type": "code",
      "execution_count": null,
      "metadata": {
        "id": "O6j_ViRtAnPz",
        "colab": {
          "base_uri": "https://localhost:8080/"
        },
        "outputId": "064510b7-b49b-425b-d5da-01f293d62331"
      },
      "outputs": [
        {
          "output_type": "stream",
          "name": "stdout",
          "text": [
            "1\n"
          ]
        }
      ],
      "source": [
        "print(1)"
      ]
    },
    {
      "cell_type": "markdown",
      "metadata": {
        "id": "K9MYkRd4_Vas"
      },
      "source": [
        "#### **Problem #4:** Fill in the following function so it will add the first two numbers, then subtract the third and print the result."
      ]
    },
    {
      "cell_type": "code",
      "execution_count": null,
      "metadata": {
        "id": "V7iFh61xA1H0"
      },
      "outputs": [],
      "source": [
        "def math_func(num1, num2, num3):\n",
        "  num4 = num1 + num2\n",
        "  num4 -= num3\n",
        "  print(num4)"
      ]
    },
    {
      "cell_type": "markdown",
      "metadata": {
        "id": "ToAzo9oZ_Whu"
      },
      "source": [
        "#### **Problem #5:** Fill in the following function so it prints the two names in the format: `\"Name One: <name1>, Name Two: <name2>\"`"
      ]
    },
    {
      "cell_type": "code",
      "execution_count": null,
      "metadata": {
        "id": "5YOE6WxLBPIm"
      },
      "outputs": [],
      "source": [
        "def two_names(name1, name2):\n",
        "  print(\"Name One: \" + name1 + \", Name Two: \" + name2)"
      ]
    },
    {
      "cell_type": "markdown",
      "metadata": {
        "id": "DWr4zAvn_ZwQ"
      },
      "source": [
        "#### **Challenge Problem:** Create a function that accepts two strings and prints both of them with a space between them."
      ]
    },
    {
      "cell_type": "code",
      "execution_count": null,
      "metadata": {
        "id": "UCAOMCWtCTYR"
      },
      "outputs": [],
      "source": [
        "def twoStrings(string1, string2):\n",
        "  print(string1 + \" \" + string2)"
      ]
    },
    {
      "cell_type": "markdown",
      "metadata": {
        "id": "aVyYQFjY_a2i"
      },
      "source": [
        "#### **Challenge Problem:** Write a function that accepts two parameters. One being a list, and the other an item to add to the list. Add the item to the list, then print this new list."
      ]
    },
    {
      "cell_type": "code",
      "execution_count": null,
      "metadata": {
        "id": "I480S2upDGAa"
      },
      "outputs": [],
      "source": [
        "def add_to_list(list_name, item):\n",
        "  print(list_name.append(item))"
      ]
    },
    {
      "cell_type": "markdown",
      "source": [
        "---\n",
        "Copyright 2022 The Coding School, All rights reserved"
      ],
      "metadata": {
        "id": "gdpTtUR1cZT2"
      }
    }
  ],
  "metadata": {
    "colab": {
      "provenance": [],
      "collapsed_sections": [
        "-bnV4zY2yMs8",
        "8E_hjAwnzJIJ",
        "GBHg9Rpo3CUS",
        "pHe7t_BKNj0c",
        "VZzbhUgsR1Qq",
        "rn1m4Qxf404c",
        "BflShJAaNj0f",
        "YW6VJecNNj0g",
        "uSCTnndlT-mB",
        "nvxk8oq1U_UT",
        "B3IYGSpOVbnt",
        "RvCS8T9QVsOq",
        "lASyq8zGW1xF",
        "RmwkksaCW4gX",
        "jZ8AJlrVW5k2",
        "Xj6gU-xDW9Oj",
        "-2timCvfW-9g",
        "wnQo7Pzb5TLE",
        "Jr5a9Fxz5UOq",
        "rOhwfoxJ5VTz",
        "ZHXLNh_q5WXQ",
        "H1x4fWj65YLV",
        "0sR3rHJK_TdA",
        "xbH67uoR_S5W",
        "ACGVYZ6X_UYX",
        "K9MYkRd4_Vas",
        "ToAzo9oZ_Whu",
        "DWr4zAvn_ZwQ",
        "aVyYQFjY_a2i"
      ]
    },
    "kernelspec": {
      "display_name": "Python 3 (ipykernel)",
      "language": "python",
      "name": "python3"
    },
    "language_info": {
      "codemirror_mode": {
        "name": "ipython",
        "version": 3
      },
      "file_extension": ".py",
      "mimetype": "text/x-python",
      "name": "python",
      "nbconvert_exporter": "python",
      "pygments_lexer": "ipython3",
      "version": "3.8.13"
    }
  },
  "nbformat": 4,
  "nbformat_minor": 0
}