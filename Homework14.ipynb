{
  "nbformat": 4,
  "nbformat_minor": 0,
  "metadata": {
    "colab": {
      "provenance": []
    },
    "kernelspec": {
      "name": "python3",
      "display_name": "Python 3"
    },
    "language_info": {
      "name": "python"
    }
  },
  "cells": [
    {
      "cell_type": "markdown",
      "source": [
        "# Homework #14: K-means\n",
        "---\n",
        "\n",
        "**Description**: In this week's homework, you will implement your own k-means model on the Pokemon dataset. You will be clustering the data of Pokemons on the basis of its characteristics.\n",
        "\n",
        "\n",
        "**Dataset Description:**\n",
        "This data set includes 898 Pokemon, 1072 including alternate forms, including their number, name, first and second type, the stat total and basic stats: HP, Attack, Defense, Special Attack, Special Defense, and Speed, generation, and legendary status. The attributes of each Pokemon are as follows:\n",
        "\n",
        "* `Number`: The ID for each pokemon\n",
        "\n",
        "* `Name`: The name of each pokemon\n",
        "\n",
        "* `Type 1`: Each pokemon has a type, this determines weakness/resistance to attacks\n",
        "\n",
        "* `Type 2`: Some pokemon are dual type and have 2\n",
        "\n",
        "* `Total`: Sum of all stats that come after this, a general guide to how strong a pokemon is\n",
        "\n",
        "* `HP`: Hit points, or health, defines how much damage a pokemon can withstand before fainting\n",
        "\n",
        "* `Attack`: The base modifier for normal attacks (eg. Scratch, Punch)\n",
        "\n",
        "* `Defense`: The base damage resistance against normal attacks\n",
        "\n",
        "* `SP Atk`: Special attack, the base modifier for special attacks (e.g. fire blast, bubble beam)\n",
        "\n",
        "* `SP Def`: Special defense, the base damage resistance against special attacks\n",
        "\n",
        "* `Speed`: Determines which pokemon attacks first each round\n",
        "\n",
        "* `Generation`: The generation of games where the pokemon was first introduced\n",
        "\n",
        "* `Legendary`: Some pokemon are much rarer than others, and are dubbed \"legendary\"\n",
        "\n",
        "<br>\n",
        "\n",
        "\n",
        "**Source:** [data.world](https://data.world/data-society/pokemon-with-stats)\n",
        "\n",
        "\n",
        "**Cheat sheet:** [K-Means Cheat sheet](https://docs.google.com/document/d/1qjofYW__LJs2-ajXYipA6oiF00ky4ebXdCYQAFyPtSg/edit?usp=sharing)"
      ],
      "metadata": {
        "id": "mbZXQ3rA3NwL"
      }
    },
    {
      "cell_type": "markdown",
      "source": [
        "**Run the code below before continuing:**"
      ],
      "metadata": {
        "id": "oZZT5pJqia_E"
      }
    },
    {
      "cell_type": "code",
      "source": [
        "import pandas as pd\n",
        "import numpy as np\n",
        "import matplotlib.pyplot as plt\n",
        "%matplotlib inline"
      ],
      "metadata": {
        "id": "J697Qi0eizBL"
      },
      "execution_count": null,
      "outputs": []
    },
    {
      "cell_type": "markdown",
      "metadata": {
        "id": "orMt3jE9YtMR"
      },
      "source": [
        "#### **Step #1: Load the Pokemon Dataset**\n",
        "**Run the following code before continuing:**\n",
        "\n"
      ]
    },
    {
      "cell_type": "code",
      "source": [],
      "metadata": {
        "id": "oBWjA0ibS-IL"
      },
      "execution_count": null,
      "outputs": []
    },
    {
      "cell_type": "code",
      "execution_count": null,
      "metadata": {
        "id": "hkrj1WVRYtMR",
        "colab": {
          "base_uri": "https://localhost:8080/",
          "height": 537
        },
        "outputId": "20d52045-5f3f-4259-a8ca-ed906d1efe31"
      },
      "outputs": [
        {
          "output_type": "execute_result",
          "data": {
            "text/plain": [
              "      number                  name    type1   type2  total   hp  attack  \\\n",
              "0          1             Bulbasaur    Grass  Poison    318   45      49   \n",
              "1          2               Ivysaur    Grass  Poison    405   60      62   \n",
              "2          3              Venusaur    Grass  Poison    525   80      82   \n",
              "3          3         Mega Venusaur    Grass  Poison    625   80     100   \n",
              "4          3   Gigantamax Venusaur    Grass  Poison    525   80      82   \n",
              "...      ...                   ...      ...     ...    ...  ...     ...   \n",
              "1067     896             Glastrier      Ice     NaN    580  100     145   \n",
              "1068     897             Spectrier    Ghost     NaN    580  100      65   \n",
              "1069     898               Calyrex  Psychic   Grass    500  100      80   \n",
              "1070     898     Ice Rider Calyrex  Psychic     Ice    680  100     165   \n",
              "1071     898  Shadow Rider Calyrex  Psychic   Ghost    680  100      85   \n",
              "\n",
              "      defense  sp_attack  sp_defense  speed  generation  legendary  \n",
              "0          49         65          65     45           1      False  \n",
              "1          63         80          80     60           1      False  \n",
              "2          83        100         100     80           1      False  \n",
              "3         123        122         120     80           1      False  \n",
              "4          83        100         100     80           1      False  \n",
              "...       ...        ...         ...    ...         ...        ...  \n",
              "1067      130         65         110     30           8       True  \n",
              "1068       60        145          80    130           8       True  \n",
              "1069       80         80          80     80           8       True  \n",
              "1070      150         85         130     50           8       True  \n",
              "1071       80        165         100    150           8       True  \n",
              "\n",
              "[1072 rows x 13 columns]"
            ],
            "text/html": [
              "\n",
              "  <div id=\"df-5df6248b-1e64-44dc-9dc6-eb927d31c12c\">\n",
              "    <div class=\"colab-df-container\">\n",
              "      <div>\n",
              "<style scoped>\n",
              "    .dataframe tbody tr th:only-of-type {\n",
              "        vertical-align: middle;\n",
              "    }\n",
              "\n",
              "    .dataframe tbody tr th {\n",
              "        vertical-align: top;\n",
              "    }\n",
              "\n",
              "    .dataframe thead th {\n",
              "        text-align: right;\n",
              "    }\n",
              "</style>\n",
              "<table border=\"1\" class=\"dataframe\">\n",
              "  <thead>\n",
              "    <tr style=\"text-align: right;\">\n",
              "      <th></th>\n",
              "      <th>number</th>\n",
              "      <th>name</th>\n",
              "      <th>type1</th>\n",
              "      <th>type2</th>\n",
              "      <th>total</th>\n",
              "      <th>hp</th>\n",
              "      <th>attack</th>\n",
              "      <th>defense</th>\n",
              "      <th>sp_attack</th>\n",
              "      <th>sp_defense</th>\n",
              "      <th>speed</th>\n",
              "      <th>generation</th>\n",
              "      <th>legendary</th>\n",
              "    </tr>\n",
              "  </thead>\n",
              "  <tbody>\n",
              "    <tr>\n",
              "      <th>0</th>\n",
              "      <td>1</td>\n",
              "      <td>Bulbasaur</td>\n",
              "      <td>Grass</td>\n",
              "      <td>Poison</td>\n",
              "      <td>318</td>\n",
              "      <td>45</td>\n",
              "      <td>49</td>\n",
              "      <td>49</td>\n",
              "      <td>65</td>\n",
              "      <td>65</td>\n",
              "      <td>45</td>\n",
              "      <td>1</td>\n",
              "      <td>False</td>\n",
              "    </tr>\n",
              "    <tr>\n",
              "      <th>1</th>\n",
              "      <td>2</td>\n",
              "      <td>Ivysaur</td>\n",
              "      <td>Grass</td>\n",
              "      <td>Poison</td>\n",
              "      <td>405</td>\n",
              "      <td>60</td>\n",
              "      <td>62</td>\n",
              "      <td>63</td>\n",
              "      <td>80</td>\n",
              "      <td>80</td>\n",
              "      <td>60</td>\n",
              "      <td>1</td>\n",
              "      <td>False</td>\n",
              "    </tr>\n",
              "    <tr>\n",
              "      <th>2</th>\n",
              "      <td>3</td>\n",
              "      <td>Venusaur</td>\n",
              "      <td>Grass</td>\n",
              "      <td>Poison</td>\n",
              "      <td>525</td>\n",
              "      <td>80</td>\n",
              "      <td>82</td>\n",
              "      <td>83</td>\n",
              "      <td>100</td>\n",
              "      <td>100</td>\n",
              "      <td>80</td>\n",
              "      <td>1</td>\n",
              "      <td>False</td>\n",
              "    </tr>\n",
              "    <tr>\n",
              "      <th>3</th>\n",
              "      <td>3</td>\n",
              "      <td>Mega Venusaur</td>\n",
              "      <td>Grass</td>\n",
              "      <td>Poison</td>\n",
              "      <td>625</td>\n",
              "      <td>80</td>\n",
              "      <td>100</td>\n",
              "      <td>123</td>\n",
              "      <td>122</td>\n",
              "      <td>120</td>\n",
              "      <td>80</td>\n",
              "      <td>1</td>\n",
              "      <td>False</td>\n",
              "    </tr>\n",
              "    <tr>\n",
              "      <th>4</th>\n",
              "      <td>3</td>\n",
              "      <td>Gigantamax Venusaur</td>\n",
              "      <td>Grass</td>\n",
              "      <td>Poison</td>\n",
              "      <td>525</td>\n",
              "      <td>80</td>\n",
              "      <td>82</td>\n",
              "      <td>83</td>\n",
              "      <td>100</td>\n",
              "      <td>100</td>\n",
              "      <td>80</td>\n",
              "      <td>1</td>\n",
              "      <td>False</td>\n",
              "    </tr>\n",
              "    <tr>\n",
              "      <th>...</th>\n",
              "      <td>...</td>\n",
              "      <td>...</td>\n",
              "      <td>...</td>\n",
              "      <td>...</td>\n",
              "      <td>...</td>\n",
              "      <td>...</td>\n",
              "      <td>...</td>\n",
              "      <td>...</td>\n",
              "      <td>...</td>\n",
              "      <td>...</td>\n",
              "      <td>...</td>\n",
              "      <td>...</td>\n",
              "      <td>...</td>\n",
              "    </tr>\n",
              "    <tr>\n",
              "      <th>1067</th>\n",
              "      <td>896</td>\n",
              "      <td>Glastrier</td>\n",
              "      <td>Ice</td>\n",
              "      <td>NaN</td>\n",
              "      <td>580</td>\n",
              "      <td>100</td>\n",
              "      <td>145</td>\n",
              "      <td>130</td>\n",
              "      <td>65</td>\n",
              "      <td>110</td>\n",
              "      <td>30</td>\n",
              "      <td>8</td>\n",
              "      <td>True</td>\n",
              "    </tr>\n",
              "    <tr>\n",
              "      <th>1068</th>\n",
              "      <td>897</td>\n",
              "      <td>Spectrier</td>\n",
              "      <td>Ghost</td>\n",
              "      <td>NaN</td>\n",
              "      <td>580</td>\n",
              "      <td>100</td>\n",
              "      <td>65</td>\n",
              "      <td>60</td>\n",
              "      <td>145</td>\n",
              "      <td>80</td>\n",
              "      <td>130</td>\n",
              "      <td>8</td>\n",
              "      <td>True</td>\n",
              "    </tr>\n",
              "    <tr>\n",
              "      <th>1069</th>\n",
              "      <td>898</td>\n",
              "      <td>Calyrex</td>\n",
              "      <td>Psychic</td>\n",
              "      <td>Grass</td>\n",
              "      <td>500</td>\n",
              "      <td>100</td>\n",
              "      <td>80</td>\n",
              "      <td>80</td>\n",
              "      <td>80</td>\n",
              "      <td>80</td>\n",
              "      <td>80</td>\n",
              "      <td>8</td>\n",
              "      <td>True</td>\n",
              "    </tr>\n",
              "    <tr>\n",
              "      <th>1070</th>\n",
              "      <td>898</td>\n",
              "      <td>Ice Rider Calyrex</td>\n",
              "      <td>Psychic</td>\n",
              "      <td>Ice</td>\n",
              "      <td>680</td>\n",
              "      <td>100</td>\n",
              "      <td>165</td>\n",
              "      <td>150</td>\n",
              "      <td>85</td>\n",
              "      <td>130</td>\n",
              "      <td>50</td>\n",
              "      <td>8</td>\n",
              "      <td>True</td>\n",
              "    </tr>\n",
              "    <tr>\n",
              "      <th>1071</th>\n",
              "      <td>898</td>\n",
              "      <td>Shadow Rider Calyrex</td>\n",
              "      <td>Psychic</td>\n",
              "      <td>Ghost</td>\n",
              "      <td>680</td>\n",
              "      <td>100</td>\n",
              "      <td>85</td>\n",
              "      <td>80</td>\n",
              "      <td>165</td>\n",
              "      <td>100</td>\n",
              "      <td>150</td>\n",
              "      <td>8</td>\n",
              "      <td>True</td>\n",
              "    </tr>\n",
              "  </tbody>\n",
              "</table>\n",
              "<p>1072 rows × 13 columns</p>\n",
              "</div>\n",
              "      <button class=\"colab-df-convert\" onclick=\"convertToInteractive('df-5df6248b-1e64-44dc-9dc6-eb927d31c12c')\"\n",
              "              title=\"Convert this dataframe to an interactive table.\"\n",
              "              style=\"display:none;\">\n",
              "        \n",
              "  <svg xmlns=\"http://www.w3.org/2000/svg\" height=\"24px\"viewBox=\"0 0 24 24\"\n",
              "       width=\"24px\">\n",
              "    <path d=\"M0 0h24v24H0V0z\" fill=\"none\"/>\n",
              "    <path d=\"M18.56 5.44l.94 2.06.94-2.06 2.06-.94-2.06-.94-.94-2.06-.94 2.06-2.06.94zm-11 1L8.5 8.5l.94-2.06 2.06-.94-2.06-.94L8.5 2.5l-.94 2.06-2.06.94zm10 10l.94 2.06.94-2.06 2.06-.94-2.06-.94-.94-2.06-.94 2.06-2.06.94z\"/><path d=\"M17.41 7.96l-1.37-1.37c-.4-.4-.92-.59-1.43-.59-.52 0-1.04.2-1.43.59L10.3 9.45l-7.72 7.72c-.78.78-.78 2.05 0 2.83L4 21.41c.39.39.9.59 1.41.59.51 0 1.02-.2 1.41-.59l7.78-7.78 2.81-2.81c.8-.78.8-2.07 0-2.86zM5.41 20L4 18.59l7.72-7.72 1.47 1.35L5.41 20z\"/>\n",
              "  </svg>\n",
              "      </button>\n",
              "      \n",
              "  <style>\n",
              "    .colab-df-container {\n",
              "      display:flex;\n",
              "      flex-wrap:wrap;\n",
              "      gap: 12px;\n",
              "    }\n",
              "\n",
              "    .colab-df-convert {\n",
              "      background-color: #E8F0FE;\n",
              "      border: none;\n",
              "      border-radius: 50%;\n",
              "      cursor: pointer;\n",
              "      display: none;\n",
              "      fill: #1967D2;\n",
              "      height: 32px;\n",
              "      padding: 0 0 0 0;\n",
              "      width: 32px;\n",
              "    }\n",
              "\n",
              "    .colab-df-convert:hover {\n",
              "      background-color: #E2EBFA;\n",
              "      box-shadow: 0px 1px 2px rgba(60, 64, 67, 0.3), 0px 1px 3px 1px rgba(60, 64, 67, 0.15);\n",
              "      fill: #174EA6;\n",
              "    }\n",
              "\n",
              "    [theme=dark] .colab-df-convert {\n",
              "      background-color: #3B4455;\n",
              "      fill: #D2E3FC;\n",
              "    }\n",
              "\n",
              "    [theme=dark] .colab-df-convert:hover {\n",
              "      background-color: #434B5C;\n",
              "      box-shadow: 0px 1px 3px 1px rgba(0, 0, 0, 0.15);\n",
              "      filter: drop-shadow(0px 1px 2px rgba(0, 0, 0, 0.3));\n",
              "      fill: #FFFFFF;\n",
              "    }\n",
              "  </style>\n",
              "\n",
              "      <script>\n",
              "        const buttonEl =\n",
              "          document.querySelector('#df-5df6248b-1e64-44dc-9dc6-eb927d31c12c button.colab-df-convert');\n",
              "        buttonEl.style.display =\n",
              "          google.colab.kernel.accessAllowed ? 'block' : 'none';\n",
              "\n",
              "        async function convertToInteractive(key) {\n",
              "          const element = document.querySelector('#df-5df6248b-1e64-44dc-9dc6-eb927d31c12c');\n",
              "          const dataTable =\n",
              "            await google.colab.kernel.invokeFunction('convertToInteractive',\n",
              "                                                     [key], {});\n",
              "          if (!dataTable) return;\n",
              "\n",
              "          const docLinkHtml = 'Like what you see? Visit the ' +\n",
              "            '<a target=\"_blank\" href=https://colab.research.google.com/notebooks/data_table.ipynb>data table notebook</a>'\n",
              "            + ' to learn more about interactive tables.';\n",
              "          element.innerHTML = '';\n",
              "          dataTable['output_type'] = 'display_data';\n",
              "          await google.colab.output.renderOutput(dataTable, element);\n",
              "          const docLink = document.createElement('div');\n",
              "          docLink.innerHTML = docLinkHtml;\n",
              "          element.appendChild(docLink);\n",
              "        }\n",
              "      </script>\n",
              "    </div>\n",
              "  </div>\n",
              "  "
            ]
          },
          "metadata": {},
          "execution_count": 3
        }
      ],
      "source": [
        "url =\"https://query.data.world/s/p4tnasnlximnov7fpjlu2msnmegyrb\"\n",
        "pokemon_df = pd.read_csv(url,  sep = \",\")\n",
        "pokemon_df"
      ]
    },
    {
      "cell_type": "markdown",
      "metadata": {
        "id": "44m6ftFfYtMS"
      },
      "source": [
        "#### **Step #2: Create X**\n",
        "We can observe that the given dataset has some categorical features. Clustering using categorical features is a bit more difficult than numeric features because of the absence of any natural order, high dimensionality and existence of subspace clustering. So for this project we will only work with numeric features of the given dataset. Run the following code and then create X.\n",
        "```\n",
        "new_pokemon_df = pokemon_df[['total', 'hp', 'attack', 'defense', 'sp_attack', 'sp_defense', 'speed', 'generation']]\n",
        "```\n"
      ]
    },
    {
      "cell_type": "code",
      "source": [
        "new_pokemon_df = pokemon_df[['total', 'hp', 'attack', 'defense', 'sp_attack', 'sp_defense', 'speed', 'generation']]"
      ],
      "metadata": {
        "id": "0Czvr9AoC2Bh"
      },
      "execution_count": null,
      "outputs": []
    },
    {
      "cell_type": "markdown",
      "source": [
        "##### **Determine optimal cluster number with elbow method**\n",
        "\n",
        "Before we continue, we are going to use an elbow plot to determing the optimal k for this model. Use the following code to help set up your plot.\n",
        "*We will use `yellowbrick` library to implement elbow method.*"
      ],
      "metadata": {
        "id": "hqh2A96BvQhD"
      }
    },
    {
      "cell_type": "markdown",
      "source": [
        "#####**Import `KElbowVisualizer` from `yellowbrick.cluster` and `kmeans` from `sklearn.cluster`.**\n",
        "\n",
        "How to import `KElbowVisualizer`:\n",
        "```\n",
        "from yellowbrick.cluster import KElbowVisualizer\n",
        "```"
      ],
      "metadata": {
        "id": "SThj-OYXUI2Y"
      }
    },
    {
      "cell_type": "code",
      "source": [
        "from yellowbrick.cluster import KElbowVisualizer\n",
        "from sklearn.cluster import KMeans "
      ],
      "metadata": {
        "id": "QaFxrZ-J2WYn"
      },
      "execution_count": null,
      "outputs": []
    },
    {
      "cell_type": "markdown",
      "source": [
        "#####**Set parameter `k = (4,12)` of `KElbowVisualizer` method. Fit, visualize and figure out the optimal value of `k`.**\n",
        "\n",
        "This has been provided for you."
      ],
      "metadata": {
        "id": "pO1_QYuNzPZb"
      }
    },
    {
      "cell_type": "code",
      "source": [
        "model = KMeans(random_state=42)\n",
        "visualizer = KElbowVisualizer(model, k=(4,12))\n",
        "\n",
        "#from sklearn.preprocessing import StandardScaler\n",
        "X = new_pokemon_df.values\n",
        "#scaler = StandardScaler()\n",
        "#X_scaled = scaler.fit_transform(X)\n",
        "\n",
        "visualizer.fit(X) # Fit the data to the visualizer\n",
        "visualizer.show()"
      ],
      "metadata": {
        "id": "A9KJ5VI9ydYh",
        "colab": {
          "base_uri": "https://localhost:8080/",
          "height": 393
        },
        "outputId": "b3de9c68-183c-41b3-80b7-eeec69246aa4"
      },
      "execution_count": null,
      "outputs": [
        {
          "output_type": "display_data",
          "data": {
            "text/plain": [
              "<Figure size 576x396 with 2 Axes>"
            ],
            "image/png": "[encoded data removed]"
          },
          "metadata": {}
        },
        {
          "output_type": "execute_result",
          "data": {
            "text/plain": [
              "<matplotlib.axes._subplots.AxesSubplot at 0x7f94ea492fd0>"
            ]
          },
          "metadata": {},
          "execution_count": 6
        }
      ]
    },
    {
      "cell_type": "markdown",
      "source": [
        "<br>\n",
        "\n",
        "####***STOP!* Answer the following question under problem #6: What is the best k for this model?**\n",
        "\n",
        "<br>"
      ],
      "metadata": {
        "id": "uuy20V7WD8x-"
      }
    },
    {
      "cell_type": "markdown",
      "metadata": {
        "id": "XsJ-th_DYtMS"
      },
      "source": [
        "#### **Step #4: Import your model**\n",
        "\n",
        "We will also be using standarization to make our model more accurate. Make sure to include the following line below:\n",
        "```\n",
        "from sklearn.preprocessing import StandardScaler\n",
        "```"
      ]
    },
    {
      "cell_type": "code",
      "execution_count": null,
      "metadata": {
        "id": "sJ1CEu3gYtMS"
      },
      "outputs": [],
      "source": [
        "from sklearn.preprocessing import StandardScaler\n",
        "#X = new_pokemon_df.values\n",
        "scaler = StandardScaler()\n",
        "X_scaled = scaler.fit_transform(X)"
      ]
    },
    {
      "cell_type": "markdown",
      "metadata": {
        "id": "CYiN_QbbYtMS"
      },
      "source": [
        "#### **Step #5: Initialize your model and set hyperparameters**\n",
        "\n",
        "Assign `n_clusters` the optimal value of `k` obtained  from the elbow method to define your KMeans model.\n",
        "\n",
        "**Add an optional parameter as follows:**\n",
        "```\n",
        "random_state = 42\n",
        "```\n",
        "`random_state` allows reproducible results, so when you are looking at the answer key later, your results will *be the same as ours*, despite the random aspect. If you are interested in reading more, click [here](https://towardsdatascience.com/why-do-we-set-a-random-state-in-machine-learning-models-bb2dc68d8431)."
      ]
    },
    {
      "cell_type": "code",
      "execution_count": null,
      "metadata": {
        "id": "Itr7QnikYtMT"
      },
      "outputs": [],
      "source": [
        "kmeans = KMeans(n_clusters = 7, random_state=42)"
      ]
    },
    {
      "cell_type": "markdown",
      "metadata": {
        "id": "tR1zyWS5YtMU"
      },
      "source": [
        "#### **Step #6: Fit your model and create a visual**\n",
        "\n",
        "This dataset requires standardization. Be sure to standardize your data in this step.\n",
        "\n",
        "Use the following to standardize:\n",
        "```python\n",
        "from sklearn.preprocessing import StandardScaler\n",
        "scaler = StandardScaler()\n",
        "X_scaled = scaler.fit_transform(X)\n",
        "```\n",
        "\n",
        "Then pass in your scaled values to fit.\n",
        "\n",
        "```python\n",
        "y_pred = kmeans.fit_predict(X_std)\n",
        "```"
      ]
    },
    {
      "cell_type": "markdown",
      "source": [
        "#####**Standardize the data before fitting it:**\n",
        "\n",
        "\n",
        "\n"
      ],
      "metadata": {
        "id": "V0n4lNpYdgBa"
      }
    },
    {
      "cell_type": "code",
      "execution_count": null,
      "metadata": {
        "id": "yry5WqhLdgBb"
      },
      "outputs": [],
      "source": [
        "from sklearn.preprocessing import StandardScaler\n",
        "scaler = StandardScaler()\n",
        "X_scaled = scaler.fit_transform(X)"
      ]
    },
    {
      "cell_type": "markdown",
      "source": [
        "#####**Now fit the standardized data using above defined model.**\n",
        "\n",
        "*Use `fit_predict` on `X_std` to create `y`*"
      ],
      "metadata": {
        "id": "3ffhaGqorxgv"
      }
    },
    {
      "cell_type": "code",
      "source": [
        "y_pred = kmeans.fit_predict(X_scaled)"
      ],
      "metadata": {
        "id": "rGIzLtFqrzmh"
      },
      "execution_count": null,
      "outputs": []
    },
    {
      "cell_type": "markdown",
      "metadata": {
        "id": "N4fud95ydgBb"
      },
      "source": [
        "#### **[Optional Challenge] Visualize the results**\n",
        "---\n",
        "Use the features `attack` and  `defense` to visualize how well the clusters separate the data.\n",
        "\n",
        "**NOTE:** You may have to experiment with different graphs. Since this model used several features, a good two-dimensional visual is difficult to create. \n"
      ]
    },
    {
      "cell_type": "code",
      "source": [],
      "metadata": {
        "id": "2iWkIPd34GWY"
      },
      "execution_count": null,
      "outputs": []
    },
    {
      "cell_type": "markdown",
      "metadata": {
        "id": "ZPpe7pwGdgBb"
      },
      "source": [
        "#### **Step \\#7 Calculate the Silhouette Score to test the accuracy of your model**\n"
      ]
    },
    {
      "cell_type": "code",
      "execution_count": null,
      "metadata": {
        "id": "Iv9pbOUKdgBb",
        "colab": {
          "base_uri": "https://localhost:8080/"
        },
        "outputId": "19af3da2-9a9b-48f0-a12d-f1d26fc99c54"
      },
      "outputs": [
        {
          "output_type": "stream",
          "name": "stdout",
          "text": [
            "silhouette score:  0.06108532027257252\n"
          ]
        }
      ],
      "source": [
        "from sklearn.metrics import silhouette_score\n",
        "score = silhouette_score(X, kmeans.labels_, metric='euclidean')\n",
        "print('silhouette score: ', score)"
      ]
    },
    {
      "cell_type": "markdown",
      "source": [
        "<br>\n",
        "\n",
        "####***STOP!* Answer the following question under problem #7: What is the approximate silhouette score?**\n",
        "\n",
        "<br>"
      ],
      "metadata": {
        "id": "KZlXn3sfFglf"
      }
    },
    {
      "cell_type": "markdown",
      "metadata": {
        "id": "TBPVAtFOdgBc"
      },
      "source": [
        "#### **Step \\#8: Use the model**\n",
        "\n",
        "Given the following values, predict in which cluster these Pokemon would fall.\n",
        "1.  `total = 300`,\t`hp = 50`, `attack = 40`,\t`defense = 60`,\t`sp_attack = 60`,\t`sp_defense = 67`,\t`speed = 40`,\t`generation = 6`\n",
        "2.  `total = 250`,\t`hp = 40`, `attack = 60`,\t`defense = 40`,\t`sp_attack = 40`,\t`sp_defense = 30`,\t`speed = 70`,\t`generation = 8`\n",
        "3. `total = 500`,\t`hp = 70`, `attack = 50`,\t`defense = 75`,\t`sp_attack = 80`,\t`sp_defense = 80`,\t`speed = 100`,\t`generation = 6`\n",
        "\n",
        "\n",
        "Use the `kmeans.predict([[]])` to complete this problem. \n",
        "\n",
        "####***Remember to standardize the data with the scaler you used in Step #6***\n",
        "\n",
        "```\n",
        "new_pokemon = np.array([[pokemon #1 data],[pokemon #2 data], [pokemon #3 data]])\n",
        "new_scld = scaler.fit_transform(new_pokemon)\n",
        "```\n"
      ]
    },
    {
      "cell_type": "code",
      "source": [
        "new_pokemon = np.array([[300, 50, 40, 60, 60, 67, 40, 6],\n",
        "                       [250, 40, 60, 40, 40, 30, 70, 8],\n",
        "                       [500, 70, 50, 75, 80, 80, 100, 6]])\n",
        "new_scaled = scaler.fit_transform(new_pokemon)"
      ],
      "metadata": {
        "id": "iyhcn0lZQsJB"
      },
      "execution_count": null,
      "outputs": []
    },
    {
      "cell_type": "code",
      "source": [
        "kmeans.predict(scaler.transform(new_pokemon))"
      ],
      "metadata": {
        "colab": {
          "base_uri": "https://localhost:8080/"
        },
        "id": "63-kaEfD0lJa",
        "outputId": "2a47992e-d41e-472f-c53c-f6ab39aa9265"
      },
      "execution_count": null,
      "outputs": [
        {
          "output_type": "execute_result",
          "data": {
            "text/plain": [
              "array([2, 3, 0], dtype=int32)"
            ]
          },
          "metadata": {},
          "execution_count": 17
        }
      ]
    },
    {
      "cell_type": "markdown",
      "source": [
        "<br>\n",
        "\n",
        "####**Answer the following question under problem #8: What number cluster is the first pokemon assigned to?**"
      ],
      "metadata": {
        "id": "knmhj5fPHm_Y"
      }
    },
    {
      "cell_type": "markdown",
      "source": [
        "####**Answer the following question under problem #9: What number cluster is the second pokemon assigned to?**"
      ],
      "metadata": {
        "id": "MVsq5_GeJfCz"
      }
    },
    {
      "cell_type": "markdown",
      "source": [
        "####**Answer the following question under problem #10: What number cluster is the third pokemon assigned to?**"
      ],
      "metadata": {
        "id": "a-hQlTIFJhGk"
      }
    },
    {
      "cell_type": "markdown",
      "source": [
        "---\n",
        "© 2023 The Coding School, All rights reserved"
      ],
      "metadata": {
        "id": "a4q2X1XfF84t"
      }
    }
  ]
}