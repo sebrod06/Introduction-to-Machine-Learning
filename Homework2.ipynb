{
  "nbformat": 4,
  "nbformat_minor": 0,
  "metadata": {
    "colab": {
      "provenance": []
    },
    "kernelspec": {
      "name": "python3",
      "display_name": "Python 3"
    },
    "language_info": {
      "name": "python"
    }
  },
  "cells": [
    {
      "cell_type": "markdown",
      "source": [
        "# Week 2 Homework: Exploratory Data Analysis (EDA)\n",
        "---\n",
        "In this week's homework, you'll practice the exploratory data analysis (EDA) skills you learned during lecture and lab this week. You will work with three datasets and learn more about them.\n",
        "\n",
        "There is optional additional practice to practice data cleaning and wrangling if your lab group completed those sections. "
      ],
      "metadata": {
        "id": "U7FgZPkM9MrF"
      }
    },
    {
      "cell_type": "markdown",
      "source": [
        "##### **Make sure to run these libraries before starting.**"
      ],
      "metadata": {
        "id": "SDkdA2v0_Wl1"
      }
    },
    {
      "cell_type": "code",
      "source": [
        "# import pandas as pd \n",
        "import pandas as pd\n",
        "\n",
        "# Import datasets submodule\n",
        "from sklearn import datasets"
      ],
      "metadata": {
        "id": "Z6X-73pa_kXd"
      },
      "execution_count": null,
      "outputs": []
    },
    {
      "cell_type": "markdown",
      "source": [
        "## **Dataset #1**\n",
        "---"
      ],
      "metadata": {
        "id": "wZhFUWCX_MIm"
      }
    },
    {
      "cell_type": "markdown",
      "source": [
        "The dataset below contains information about 10 U.S. States in alphabetical order. "
      ],
      "metadata": {
        "id": "lZ-ToXXH_lnF"
      }
    },
    {
      "cell_type": "code",
      "source": [
        "df = pd.DataFrame({'U.S. State':['Alabama', 'Alaska', 'Arizona', 'Arkansas', 'California', 'Colorado', 'Connecticut', 'Delaware', 'Florida', 'Georgia'], \n",
        "                         'Size (mi)': [52420, 665384, 113990, 53178, 163695, 104094, 5543, 2489, 65758, 59425], \n",
        "                         'Number of U.S. Representatives':[7, 1, 9, 4, 53, 7, 5, 1, 27, 14]}) "
      ],
      "metadata": {
        "id": "WolgOGQo_oS9"
      },
      "execution_count": null,
      "outputs": []
    },
    {
      "cell_type": "code",
      "source": [
        "df"
      ],
      "metadata": {
        "id": "Cw8T1bK5A7Kp",
        "colab": {
          "base_uri": "https://localhost:8080/",
          "height": 363
        },
        "outputId": "bbc94849-0bab-4499-e067-d3d094566281"
      },
      "execution_count": null,
      "outputs": [
        {
          "output_type": "execute_result",
          "data": {
            "text/plain": [
              "    U.S. State  Size (mi)  Number of U.S. Representatives\n",
              "0      Alabama      52420                               7\n",
              "1       Alaska     665384                               1\n",
              "2      Arizona     113990                               9\n",
              "3     Arkansas      53178                               4\n",
              "4   California     163695                              53\n",
              "5     Colorado     104094                               7\n",
              "6  Connecticut       5543                               5\n",
              "7     Delaware       2489                               1\n",
              "8      Florida      65758                              27\n",
              "9      Georgia      59425                              14"
            ],
            "text/html": [
              "\n",
              "  <div id=\"df-947fcb80-a310-462b-8140-98afd318a69d\">\n",
              "    <div class=\"colab-df-container\">\n",
              "      <div>\n",
              "<style scoped>\n",
              "    .dataframe tbody tr th:only-of-type {\n",
              "        vertical-align: middle;\n",
              "    }\n",
              "\n",
              "    .dataframe tbody tr th {\n",
              "        vertical-align: top;\n",
              "    }\n",
              "\n",
              "    .dataframe thead th {\n",
              "        text-align: right;\n",
              "    }\n",
              "</style>\n",
              "<table border=\"1\" class=\"dataframe\">\n",
              "  <thead>\n",
              "    <tr style=\"text-align: right;\">\n",
              "      <th></th>\n",
              "      <th>U.S. State</th>\n",
              "      <th>Size (mi)</th>\n",
              "      <th>Number of U.S. Representatives</th>\n",
              "    </tr>\n",
              "  </thead>\n",
              "  <tbody>\n",
              "    <tr>\n",
              "      <th>0</th>\n",
              "      <td>Alabama</td>\n",
              "      <td>52420</td>\n",
              "      <td>7</td>\n",
              "    </tr>\n",
              "    <tr>\n",
              "      <th>1</th>\n",
              "      <td>Alaska</td>\n",
              "      <td>665384</td>\n",
              "      <td>1</td>\n",
              "    </tr>\n",
              "    <tr>\n",
              "      <th>2</th>\n",
              "      <td>Arizona</td>\n",
              "      <td>113990</td>\n",
              "      <td>9</td>\n",
              "    </tr>\n",
              "    <tr>\n",
              "      <th>3</th>\n",
              "      <td>Arkansas</td>\n",
              "      <td>53178</td>\n",
              "      <td>4</td>\n",
              "    </tr>\n",
              "    <tr>\n",
              "      <th>4</th>\n",
              "      <td>California</td>\n",
              "      <td>163695</td>\n",
              "      <td>53</td>\n",
              "    </tr>\n",
              "    <tr>\n",
              "      <th>5</th>\n",
              "      <td>Colorado</td>\n",
              "      <td>104094</td>\n",
              "      <td>7</td>\n",
              "    </tr>\n",
              "    <tr>\n",
              "      <th>6</th>\n",
              "      <td>Connecticut</td>\n",
              "      <td>5543</td>\n",
              "      <td>5</td>\n",
              "    </tr>\n",
              "    <tr>\n",
              "      <th>7</th>\n",
              "      <td>Delaware</td>\n",
              "      <td>2489</td>\n",
              "      <td>1</td>\n",
              "    </tr>\n",
              "    <tr>\n",
              "      <th>8</th>\n",
              "      <td>Florida</td>\n",
              "      <td>65758</td>\n",
              "      <td>27</td>\n",
              "    </tr>\n",
              "    <tr>\n",
              "      <th>9</th>\n",
              "      <td>Georgia</td>\n",
              "      <td>59425</td>\n",
              "      <td>14</td>\n",
              "    </tr>\n",
              "  </tbody>\n",
              "</table>\n",
              "</div>\n",
              "      <button class=\"colab-df-convert\" onclick=\"convertToInteractive('df-947fcb80-a310-462b-8140-98afd318a69d')\"\n",
              "              title=\"Convert this dataframe to an interactive table.\"\n",
              "              style=\"display:none;\">\n",
              "        \n",
              "  <svg xmlns=\"http://www.w3.org/2000/svg\" height=\"24px\"viewBox=\"0 0 24 24\"\n",
              "       width=\"24px\">\n",
              "    <path d=\"M0 0h24v24H0V0z\" fill=\"none\"/>\n",
              "    <path d=\"M18.56 5.44l.94 2.06.94-2.06 2.06-.94-2.06-.94-.94-2.06-.94 2.06-2.06.94zm-11 1L8.5 8.5l.94-2.06 2.06-.94-2.06-.94L8.5 2.5l-.94 2.06-2.06.94zm10 10l.94 2.06.94-2.06 2.06-.94-2.06-.94-.94-2.06-.94 2.06-2.06.94z\"/><path d=\"M17.41 7.96l-1.37-1.37c-.4-.4-.92-.59-1.43-.59-.52 0-1.04.2-1.43.59L10.3 9.45l-7.72 7.72c-.78.78-.78 2.05 0 2.83L4 21.41c.39.39.9.59 1.41.59.51 0 1.02-.2 1.41-.59l7.78-7.78 2.81-2.81c.8-.78.8-2.07 0-2.86zM5.41 20L4 18.59l7.72-7.72 1.47 1.35L5.41 20z\"/>\n",
              "  </svg>\n",
              "      </button>\n",
              "      \n",
              "  <style>\n",
              "    .colab-df-container {\n",
              "      display:flex;\n",
              "      flex-wrap:wrap;\n",
              "      gap: 12px;\n",
              "    }\n",
              "\n",
              "    .colab-df-convert {\n",
              "      background-color: #E8F0FE;\n",
              "      border: none;\n",
              "      border-radius: 50%;\n",
              "      cursor: pointer;\n",
              "      display: none;\n",
              "      fill: #1967D2;\n",
              "      height: 32px;\n",
              "      padding: 0 0 0 0;\n",
              "      width: 32px;\n",
              "    }\n",
              "\n",
              "    .colab-df-convert:hover {\n",
              "      background-color: #E2EBFA;\n",
              "      box-shadow: 0px 1px 2px rgba(60, 64, 67, 0.3), 0px 1px 3px 1px rgba(60, 64, 67, 0.15);\n",
              "      fill: #174EA6;\n",
              "    }\n",
              "\n",
              "    [theme=dark] .colab-df-convert {\n",
              "      background-color: #3B4455;\n",
              "      fill: #D2E3FC;\n",
              "    }\n",
              "\n",
              "    [theme=dark] .colab-df-convert:hover {\n",
              "      background-color: #434B5C;\n",
              "      box-shadow: 0px 1px 3px 1px rgba(0, 0, 0, 0.15);\n",
              "      filter: drop-shadow(0px 1px 2px rgba(0, 0, 0, 0.3));\n",
              "      fill: #FFFFFF;\n",
              "    }\n",
              "  </style>\n",
              "\n",
              "      <script>\n",
              "        const buttonEl =\n",
              "          document.querySelector('#df-947fcb80-a310-462b-8140-98afd318a69d button.colab-df-convert');\n",
              "        buttonEl.style.display =\n",
              "          google.colab.kernel.accessAllowed ? 'block' : 'none';\n",
              "\n",
              "        async function convertToInteractive(key) {\n",
              "          const element = document.querySelector('#df-947fcb80-a310-462b-8140-98afd318a69d');\n",
              "          const dataTable =\n",
              "            await google.colab.kernel.invokeFunction('convertToInteractive',\n",
              "                                                     [key], {});\n",
              "          if (!dataTable) return;\n",
              "\n",
              "          const docLinkHtml = 'Like what you see? Visit the ' +\n",
              "            '<a target=\"_blank\" href=https://colab.research.google.com/notebooks/data_table.ipynb>data table notebook</a>'\n",
              "            + ' to learn more about interactive tables.';\n",
              "          element.innerHTML = '';\n",
              "          dataTable['output_type'] = 'display_data';\n",
              "          await google.colab.output.renderOutput(dataTable, element);\n",
              "          const docLink = document.createElement('div');\n",
              "          docLink.innerHTML = docLinkHtml;\n",
              "          element.appendChild(docLink);\n",
              "        }\n",
              "      </script>\n",
              "    </div>\n",
              "  </div>\n",
              "  "
            ]
          },
          "metadata": {},
          "execution_count": 3
        }
      ]
    },
    {
      "cell_type": "markdown",
      "source": [
        "#### **Exercise 1:** How many variables are there?"
      ],
      "metadata": {
        "id": "16qhiHllBKX_"
      }
    },
    {
      "cell_type": "code",
      "source": [
        "df.size"
      ],
      "metadata": {
        "id": "yeCXPmd-BOoE",
        "colab": {
          "base_uri": "https://localhost:8080/"
        },
        "outputId": "d53df9c0-f991-4c30-eacb-ccc46a079b0e"
      },
      "execution_count": null,
      "outputs": [
        {
          "output_type": "execute_result",
          "data": {
            "text/plain": [
              "30"
            ]
          },
          "metadata": {},
          "execution_count": 4
        }
      ]
    },
    {
      "cell_type": "markdown",
      "source": [
        "#### **Exercise 2:** What is the data type of `U.S. State`?"
      ],
      "metadata": {
        "id": "pkUHM248BnAt"
      }
    },
    {
      "cell_type": "code",
      "source": [
        "df.dtypes"
      ],
      "metadata": {
        "id": "cuwh0LefBvHv",
        "colab": {
          "base_uri": "https://localhost:8080/"
        },
        "outputId": "0d067b1d-adb7-4abe-dd5e-d17830dcd946"
      },
      "execution_count": null,
      "outputs": [
        {
          "output_type": "execute_result",
          "data": {
            "text/plain": [
              "U.S. State                        object\n",
              "Size (mi)                          int64\n",
              "Number of U.S. Representatives     int64\n",
              "dtype: object"
            ]
          },
          "metadata": {},
          "execution_count": 7
        }
      ]
    },
    {
      "cell_type": "markdown",
      "source": [
        "#### **Exercise 3:** What is the mean of the variable `Size`?"
      ],
      "metadata": {
        "id": "J9Z1HhDfB465"
      }
    },
    {
      "cell_type": "code",
      "source": [
        "df.describe()"
      ],
      "metadata": {
        "id": "-xRVldNzCDvu",
        "colab": {
          "base_uri": "https://localhost:8080/",
          "height": 300
        },
        "outputId": "e0871568-da67-4ad5-8d65-59ae2c5cd14c"
      },
      "execution_count": null,
      "outputs": [
        {
          "output_type": "execute_result",
          "data": {
            "text/plain": [
              "           Size (mi)  Number of U.S. Representatives\n",
              "count      10.000000                       10.000000\n",
              "mean   128597.600000                       12.800000\n",
              "std    194780.758633                       16.047153\n",
              "min      2489.000000                        1.000000\n",
              "25%     52609.500000                        4.250000\n",
              "50%     62591.500000                        7.000000\n",
              "75%    111516.000000                       12.750000\n",
              "max    665384.000000                       53.000000"
            ],
            "text/html": [
              "\n",
              "  <div id=\"df-c1a7e917-4378-4aa6-af0b-3361b148579f\">\n",
              "    <div class=\"colab-df-container\">\n",
              "      <div>\n",
              "<style scoped>\n",
              "    .dataframe tbody tr th:only-of-type {\n",
              "        vertical-align: middle;\n",
              "    }\n",
              "\n",
              "    .dataframe tbody tr th {\n",
              "        vertical-align: top;\n",
              "    }\n",
              "\n",
              "    .dataframe thead th {\n",
              "        text-align: right;\n",
              "    }\n",
              "</style>\n",
              "<table border=\"1\" class=\"dataframe\">\n",
              "  <thead>\n",
              "    <tr style=\"text-align: right;\">\n",
              "      <th></th>\n",
              "      <th>Size (mi)</th>\n",
              "      <th>Number of U.S. Representatives</th>\n",
              "    </tr>\n",
              "  </thead>\n",
              "  <tbody>\n",
              "    <tr>\n",
              "      <th>count</th>\n",
              "      <td>10.000000</td>\n",
              "      <td>10.000000</td>\n",
              "    </tr>\n",
              "    <tr>\n",
              "      <th>mean</th>\n",
              "      <td>128597.600000</td>\n",
              "      <td>12.800000</td>\n",
              "    </tr>\n",
              "    <tr>\n",
              "      <th>std</th>\n",
              "      <td>194780.758633</td>\n",
              "      <td>16.047153</td>\n",
              "    </tr>\n",
              "    <tr>\n",
              "      <th>min</th>\n",
              "      <td>2489.000000</td>\n",
              "      <td>1.000000</td>\n",
              "    </tr>\n",
              "    <tr>\n",
              "      <th>25%</th>\n",
              "      <td>52609.500000</td>\n",
              "      <td>4.250000</td>\n",
              "    </tr>\n",
              "    <tr>\n",
              "      <th>50%</th>\n",
              "      <td>62591.500000</td>\n",
              "      <td>7.000000</td>\n",
              "    </tr>\n",
              "    <tr>\n",
              "      <th>75%</th>\n",
              "      <td>111516.000000</td>\n",
              "      <td>12.750000</td>\n",
              "    </tr>\n",
              "    <tr>\n",
              "      <th>max</th>\n",
              "      <td>665384.000000</td>\n",
              "      <td>53.000000</td>\n",
              "    </tr>\n",
              "  </tbody>\n",
              "</table>\n",
              "</div>\n",
              "      <button class=\"colab-df-convert\" onclick=\"convertToInteractive('df-c1a7e917-4378-4aa6-af0b-3361b148579f')\"\n",
              "              title=\"Convert this dataframe to an interactive table.\"\n",
              "              style=\"display:none;\">\n",
              "        \n",
              "  <svg xmlns=\"http://www.w3.org/2000/svg\" height=\"24px\"viewBox=\"0 0 24 24\"\n",
              "       width=\"24px\">\n",
              "    <path d=\"M0 0h24v24H0V0z\" fill=\"none\"/>\n",
              "    <path d=\"M18.56 5.44l.94 2.06.94-2.06 2.06-.94-2.06-.94-.94-2.06-.94 2.06-2.06.94zm-11 1L8.5 8.5l.94-2.06 2.06-.94-2.06-.94L8.5 2.5l-.94 2.06-2.06.94zm10 10l.94 2.06.94-2.06 2.06-.94-2.06-.94-.94-2.06-.94 2.06-2.06.94z\"/><path d=\"M17.41 7.96l-1.37-1.37c-.4-.4-.92-.59-1.43-.59-.52 0-1.04.2-1.43.59L10.3 9.45l-7.72 7.72c-.78.78-.78 2.05 0 2.83L4 21.41c.39.39.9.59 1.41.59.51 0 1.02-.2 1.41-.59l7.78-7.78 2.81-2.81c.8-.78.8-2.07 0-2.86zM5.41 20L4 18.59l7.72-7.72 1.47 1.35L5.41 20z\"/>\n",
              "  </svg>\n",
              "      </button>\n",
              "      \n",
              "  <style>\n",
              "    .colab-df-container {\n",
              "      display:flex;\n",
              "      flex-wrap:wrap;\n",
              "      gap: 12px;\n",
              "    }\n",
              "\n",
              "    .colab-df-convert {\n",
              "      background-color: #E8F0FE;\n",
              "      border: none;\n",
              "      border-radius: 50%;\n",
              "      cursor: pointer;\n",
              "      display: none;\n",
              "      fill: #1967D2;\n",
              "      height: 32px;\n",
              "      padding: 0 0 0 0;\n",
              "      width: 32px;\n",
              "    }\n",
              "\n",
              "    .colab-df-convert:hover {\n",
              "      background-color: #E2EBFA;\n",
              "      box-shadow: 0px 1px 2px rgba(60, 64, 67, 0.3), 0px 1px 3px 1px rgba(60, 64, 67, 0.15);\n",
              "      fill: #174EA6;\n",
              "    }\n",
              "\n",
              "    [theme=dark] .colab-df-convert {\n",
              "      background-color: #3B4455;\n",
              "      fill: #D2E3FC;\n",
              "    }\n",
              "\n",
              "    [theme=dark] .colab-df-convert:hover {\n",
              "      background-color: #434B5C;\n",
              "      box-shadow: 0px 1px 3px 1px rgba(0, 0, 0, 0.15);\n",
              "      filter: drop-shadow(0px 1px 2px rgba(0, 0, 0, 0.3));\n",
              "      fill: #FFFFFF;\n",
              "    }\n",
              "  </style>\n",
              "\n",
              "      <script>\n",
              "        const buttonEl =\n",
              "          document.querySelector('#df-c1a7e917-4378-4aa6-af0b-3361b148579f button.colab-df-convert');\n",
              "        buttonEl.style.display =\n",
              "          google.colab.kernel.accessAllowed ? 'block' : 'none';\n",
              "\n",
              "        async function convertToInteractive(key) {\n",
              "          const element = document.querySelector('#df-c1a7e917-4378-4aa6-af0b-3361b148579f');\n",
              "          const dataTable =\n",
              "            await google.colab.kernel.invokeFunction('convertToInteractive',\n",
              "                                                     [key], {});\n",
              "          if (!dataTable) return;\n",
              "\n",
              "          const docLinkHtml = 'Like what you see? Visit the ' +\n",
              "            '<a target=\"_blank\" href=https://colab.research.google.com/notebooks/data_table.ipynb>data table notebook</a>'\n",
              "            + ' to learn more about interactive tables.';\n",
              "          element.innerHTML = '';\n",
              "          dataTable['output_type'] = 'display_data';\n",
              "          await google.colab.output.renderOutput(dataTable, element);\n",
              "          const docLink = document.createElement('div');\n",
              "          docLink.innerHTML = docLinkHtml;\n",
              "          element.appendChild(docLink);\n",
              "        }\n",
              "      </script>\n",
              "    </div>\n",
              "  </div>\n",
              "  "
            ]
          },
          "metadata": {},
          "execution_count": 13
        }
      ]
    },
    {
      "cell_type": "markdown",
      "source": [
        "#### **Exercise 4:** What is the average number of U.S. House of Representatives that each state has?"
      ],
      "metadata": {
        "id": "0VpfZbG9B_FS"
      }
    },
    {
      "cell_type": "code",
      "source": [
        "df[\"Number of U.S. Representatives\"].mean()"
      ],
      "metadata": {
        "id": "CJvbQ1LSC2W0",
        "colab": {
          "base_uri": "https://localhost:8080/"
        },
        "outputId": "5a2a2ba9-e84e-4928-8fb0-dce13e74f9d8"
      },
      "execution_count": null,
      "outputs": [
        {
          "output_type": "execute_result",
          "data": {
            "text/plain": [
              "12.8"
            ]
          },
          "metadata": {},
          "execution_count": 16
        }
      ]
    },
    {
      "cell_type": "markdown",
      "source": [
        "## **Dataset #2**\n",
        "---"
      ],
      "metadata": {
        "id": "-h1OOAijFERg"
      }
    },
    {
      "cell_type": "markdown",
      "source": [
        "This DataFrame loads data from the NBA including the game matchups, location, all shots taken, when on the shot clock they were taken, whether the shot was a make or a miss, the shooter, the closest defender, and more.\n",
        "\n",
        "Each row represents a possesion prior to a shot."
      ],
      "metadata": {
        "id": "BrteBaWdapzH"
      }
    },
    {
      "cell_type": "code",
      "source": [
        "#load CSV\n",
        "url = \"https://raw.githubusercontent.com/the-codingschool/datascience/master/Unit%202/shot_logs.csv\"\n",
        "basketball_df = pd.read_csv(url)"
      ],
      "metadata": {
        "id": "DhYnVlIHaqSH"
      },
      "execution_count": null,
      "outputs": []
    },
    {
      "cell_type": "markdown",
      "source": [
        "#### **Problem #1**. How many rows are there? Print the shape of the DataFrame."
      ],
      "metadata": {
        "id": "U9cnTF7Pawiq"
      }
    },
    {
      "cell_type": "code",
      "source": [
        "print(basketball_df.shape)\n",
        "print(\"There are 128069 rows in the DataFrame\")"
      ],
      "metadata": {
        "id": "h--6Hamn_XWb",
        "colab": {
          "base_uri": "https://localhost:8080/"
        },
        "outputId": "b5af69e1-62a7-4dee-c19c-ddf17bb4c477"
      },
      "execution_count": null,
      "outputs": [
        {
          "output_type": "stream",
          "name": "stdout",
          "text": [
            "(128069, 21)\n",
            "There are 128069 rows in the DataFrame\n"
          ]
        }
      ]
    },
    {
      "cell_type": "markdown",
      "source": [
        "#### **Problem #2**. What is the datatype of `DRIBBLES`?"
      ],
      "metadata": {
        "id": "4DBbfXiMa12O"
      }
    },
    {
      "cell_type": "code",
      "source": [
        "basketball_df[\"DRIBBLES\"].dtypes"
      ],
      "metadata": {
        "id": "z6hYZ0Dv__oY",
        "colab": {
          "base_uri": "https://localhost:8080/"
        },
        "outputId": "de51c4c4-fc01-4b13-e165-99bc20aa50b5"
      },
      "execution_count": null,
      "outputs": [
        {
          "output_type": "execute_result",
          "data": {
            "text/plain": [
              "dtype('int64')"
            ]
          },
          "metadata": {},
          "execution_count": 26
        }
      ]
    },
    {
      "cell_type": "markdown",
      "source": [
        "#### **Problem #3**: What are the mean number of dribbles per possesion? Use `DRIBBLES` as the feature."
      ],
      "metadata": {
        "id": "_UKSAp2WK2wA"
      }
    },
    {
      "cell_type": "code",
      "source": [
        "basketball_df[\"DRIBBLES\"].mean()"
      ],
      "metadata": {
        "id": "0N3u3dXwMT4R",
        "colab": {
          "base_uri": "https://localhost:8080/"
        },
        "outputId": "5609c9e4-d0a7-4d53-8b2c-615525331e65"
      },
      "execution_count": null,
      "outputs": [
        {
          "output_type": "execute_result",
          "data": {
            "text/plain": [
              "2.023354597912063"
            ]
          },
          "metadata": {},
          "execution_count": 27
        }
      ]
    },
    {
      "cell_type": "markdown",
      "source": [
        "#### **Problem #4**: Examine the value counts of the `player_name` column."
      ],
      "metadata": {
        "id": "YCNwGr_YLuw9"
      }
    },
    {
      "cell_type": "code",
      "source": [
        "basketball_df[\"player_name\"].value_counts()"
      ],
      "metadata": {
        "id": "IqZ_xrJoKhKu",
        "colab": {
          "base_uri": "https://localhost:8080/"
        },
        "outputId": "8dd4f134-7514-41ba-d198-089f8f0292c8"
      },
      "execution_count": null,
      "outputs": [
        {
          "output_type": "execute_result",
          "data": {
            "text/plain": [
              "james harden         1054\n",
              "mnta ellis           1052\n",
              "lamarcus aldridge    1050\n",
              "damian lillard        986\n",
              "lebron james          978\n",
              "                     ... \n",
              "alan crabbe            94\n",
              "mike miller            94\n",
              "joey dorsey            93\n",
              "jerome jordan          88\n",
              "greg smith             47\n",
              "Name: player_name, Length: 281, dtype: int64"
            ]
          },
          "metadata": {},
          "execution_count": 28
        }
      ]
    },
    {
      "cell_type": "markdown",
      "source": [
        "#### **Problem #5**: Which player had the ball on the 1000th possession?"
      ],
      "metadata": {
        "id": "HIabEM5INlyZ"
      }
    },
    {
      "cell_type": "code",
      "source": [
        "basketball_df[\"player_name\"][999]\n",
        "#I assume the 999th spot would be the 1000th possession if the rows start at index 0?"
      ],
      "metadata": {
        "id": "XsX6iDY1N6KE",
        "colab": {
          "base_uri": "https://localhost:8080/",
          "height": 35
        },
        "outputId": "89733302-36af-4925-efdf-793767e83ff5"
      },
      "execution_count": null,
      "outputs": [
        {
          "output_type": "execute_result",
          "data": {
            "text/plain": [
              "'al jefferson'"
            ],
            "application/vnd.google.colaboratory.intrinsic+json": {
              "type": "string"
            }
          },
          "metadata": {},
          "execution_count": 30
        }
      ]
    },
    {
      "cell_type": "markdown",
      "source": [
        "#### **Problem #6**: Were more shots made or missed by players? Use the feature `SHOT_RESULT`."
      ],
      "metadata": {
        "id": "lGceH2GUGtEK"
      }
    },
    {
      "cell_type": "code",
      "source": [
        "print( basketball_df[\"SHOT_RESULT\"].value_counts() )\n",
        "print()\n",
        "print(\"More shots were missed than made by players\")"
      ],
      "metadata": {
        "id": "tq6MajW9Gvdi",
        "colab": {
          "base_uri": "https://localhost:8080/"
        },
        "outputId": "1fb0ab8e-5043-4493-92fe-bb348e86b763"
      },
      "execution_count": null,
      "outputs": [
        {
          "output_type": "stream",
          "name": "stdout",
          "text": [
            "missed    70164\n",
            "made      57905\n",
            "Name: SHOT_RESULT, dtype: int64\n",
            "\n",
            "More shots were missed than made by players\n"
          ]
        }
      ]
    },
    {
      "cell_type": "markdown",
      "source": [
        "#### **Problem #7:** What was the median for the final margin in each basketball game? Use the feature `final_margin`."
      ],
      "metadata": {
        "id": "lKPLyGX9HeO-"
      }
    },
    {
      "cell_type": "code",
      "source": [
        "basketball_df[\"FINAL_MARGIN\"].median()"
      ],
      "metadata": {
        "id": "cnx4dC80H9Zi",
        "colab": {
          "base_uri": "https://localhost:8080/"
        },
        "outputId": "82bb33d6-8d75-4caa-8d8f-520724acff63"
      },
      "execution_count": null,
      "outputs": [
        {
          "output_type": "execute_result",
          "data": {
            "text/plain": [
              "1.0"
            ]
          },
          "metadata": {},
          "execution_count": 39
        }
      ]
    },
    {
      "cell_type": "markdown",
      "source": [
        "### **Dataset #3**\n",
        "---"
      ],
      "metadata": {
        "id": "AlM7m2XSaTjJ"
      }
    },
    {
      "cell_type": "markdown",
      "source": [
        "This dataset contains information collected by the U.S Census Service concerning housing in the area of Boston, Massachusetts. It is a very commonly used dataset within the machine learning space - this particular version is the original *raw* version. It contains `Nan` values and anomalous results.\n",
        "\n",
        "\n",
        "**There are 11 attributes in each case of the dataset.**\n",
        "\n",
        "`CRIM` - per capita crime rate by town \n",
        "\n",
        "`ZN` - proportion of residential land zoned for lots over 25,000 sq.ft.\n",
        "\n",
        "`INDUS` - proportion of non-retail business acres per town.\n",
        "\n",
        "`CHAS` - Charles River dummy variable (1 if tract bounds river; 0 otherwise)\n",
        "\n",
        "`NOX` - nitric oxides concentration (parts per 10 million)\n",
        "\n",
        "`RM` - average number of rooms per dwelling\n",
        "\n",
        "`AGE` - proportion of owner-occupied units built prior to 1940\n",
        "\n",
        "`DIS` - weighted distances to five Boston employment centres\n",
        "\n",
        "`RAD` - index of accessibility to radial highways\n",
        "\n",
        "`TAX` - full-value property-tax rate per $10,000\n",
        "\n",
        "`PTRATIO` - pupil-teacher ratio by town\n",
        "\n",
        "More information about the dataset can be found [here](https://www.cs.toronto.edu/~delve/data/boston/bostonDetail.html)."
      ],
      "metadata": {
        "id": "K42d_AuKeetI"
      }
    },
    {
      "cell_type": "markdown",
      "source": [
        "**Run the code below to load the dataframe:**"
      ],
      "metadata": {
        "id": "7Bo-cFO8ekUM"
      }
    },
    {
      "cell_type": "code",
      "source": [
        "data_url = \"http://lib.stat.cmu.edu/datasets/boston\"\n",
        "df = pd.read_csv(data_url, sep=\"\\s+\", skiprows=22, header=None)\n",
        "columns = ['CRIM', 'ZN', 'INDUS', 'CHAS', 'NOX', 'RM', 'AGE', 'DIS', 'RAD', 'TAX',\n",
        "       'PTRATIO']\n",
        "df.columns = columns"
      ],
      "metadata": {
        "id": "dvbkgtSBeleJ"
      },
      "execution_count": null,
      "outputs": []
    },
    {
      "cell_type": "markdown",
      "source": [
        "#### **Exercise 1:** Using only the DataFrame attributes, how many rows of data does the DataFrame have?"
      ],
      "metadata": {
        "id": "OhgOu3qZPain"
      }
    },
    {
      "cell_type": "code",
      "source": [
        "print(df.shape)\n",
        "print()\n",
        "print(\"There are 1012 rows of data in the DataFrame\")"
      ],
      "metadata": {
        "id": "GtJQ_YlPPaio",
        "colab": {
          "base_uri": "https://localhost:8080/"
        },
        "outputId": "3ded7c77-74e2-40f6-aa96-9ba5c601f914"
      },
      "execution_count": null,
      "outputs": [
        {
          "output_type": "stream",
          "name": "stdout",
          "text": [
            "(1012, 11)\n",
            "\n",
            "There are 1012 rows of data in the DataFrame\n"
          ]
        }
      ]
    },
    {
      "cell_type": "markdown",
      "source": [
        "#### **Exercise 2:** What is the average number of rooms per home? "
      ],
      "metadata": {
        "id": "IfkCBIVaevw2"
      }
    },
    {
      "cell_type": "code",
      "source": [
        "#RM attribute lists \"average number of rooms per dwelling\"\n",
        "df[\"RM\"].mean()"
      ],
      "metadata": {
        "id": "-LzaHGGUexRH",
        "colab": {
          "base_uri": "https://localhost:8080/"
        },
        "outputId": "9b6fd1e6-6448-4766-9819-ec1fa0887692"
      },
      "execution_count": null,
      "outputs": [
        {
          "output_type": "execute_result",
          "data": {
            "text/plain": [
              "6.284634387351779"
            ]
          },
          "metadata": {},
          "execution_count": 48
        }
      ]
    },
    {
      "cell_type": "markdown",
      "source": [
        "#### **Exercise 3:** What is the median of the `DIS` feature?"
      ],
      "metadata": {
        "id": "haN0oKyee5dH"
      }
    },
    {
      "cell_type": "code",
      "source": [
        "df[\"DIS\"].median()"
      ],
      "metadata": {
        "id": "dyV-4i9de61-",
        "colab": {
          "base_uri": "https://localhost:8080/"
        },
        "outputId": "86f3f42f-65db-4cc3-c5b8-32e5cdb59787"
      },
      "execution_count": null,
      "outputs": [
        {
          "output_type": "execute_result",
          "data": {
            "text/plain": [
              "3.2074499999999997"
            ]
          },
          "metadata": {},
          "execution_count": 49
        }
      ]
    },
    {
      "cell_type": "markdown",
      "source": [
        "#### **Exercise 4:** Index the 494th row."
      ],
      "metadata": {
        "id": "nMJpLJyMOMgS"
      }
    },
    {
      "cell_type": "code",
      "source": [
        "df.iloc[494:495]"
      ],
      "metadata": {
        "id": "_KY47Bk0OMgS",
        "colab": {
          "base_uri": "https://localhost:8080/",
          "height": 81
        },
        "outputId": "c17a9c98-a809-44ba-ca41-663797e1dbf5"
      },
      "execution_count": null,
      "outputs": [
        {
          "output_type": "execute_result",
          "data": {
            "text/plain": [
              "        CRIM    ZN  INDUS  CHAS    NOX     RM   AGE     DIS  RAD    TAX  \\\n",
              "494  0.19657  22.0   5.86   0.0  0.431  6.226  79.2  8.0555  7.0  330.0   \n",
              "\n",
              "     PTRATIO  \n",
              "494     19.1  "
            ],
            "text/html": [
              "\n",
              "  <div id=\"df-638e7338-9593-454f-97cb-50c3273ab80d\">\n",
              "    <div class=\"colab-df-container\">\n",
              "      <div>\n",
              "<style scoped>\n",
              "    .dataframe tbody tr th:only-of-type {\n",
              "        vertical-align: middle;\n",
              "    }\n",
              "\n",
              "    .dataframe tbody tr th {\n",
              "        vertical-align: top;\n",
              "    }\n",
              "\n",
              "    .dataframe thead th {\n",
              "        text-align: right;\n",
              "    }\n",
              "</style>\n",
              "<table border=\"1\" class=\"dataframe\">\n",
              "  <thead>\n",
              "    <tr style=\"text-align: right;\">\n",
              "      <th></th>\n",
              "      <th>CRIM</th>\n",
              "      <th>ZN</th>\n",
              "      <th>INDUS</th>\n",
              "      <th>CHAS</th>\n",
              "      <th>NOX</th>\n",
              "      <th>RM</th>\n",
              "      <th>AGE</th>\n",
              "      <th>DIS</th>\n",
              "      <th>RAD</th>\n",
              "      <th>TAX</th>\n",
              "      <th>PTRATIO</th>\n",
              "    </tr>\n",
              "  </thead>\n",
              "  <tbody>\n",
              "    <tr>\n",
              "      <th>494</th>\n",
              "      <td>0.19657</td>\n",
              "      <td>22.0</td>\n",
              "      <td>5.86</td>\n",
              "      <td>0.0</td>\n",
              "      <td>0.431</td>\n",
              "      <td>6.226</td>\n",
              "      <td>79.2</td>\n",
              "      <td>8.0555</td>\n",
              "      <td>7.0</td>\n",
              "      <td>330.0</td>\n",
              "      <td>19.1</td>\n",
              "    </tr>\n",
              "  </tbody>\n",
              "</table>\n",
              "</div>\n",
              "      <button class=\"colab-df-convert\" onclick=\"convertToInteractive('df-638e7338-9593-454f-97cb-50c3273ab80d')\"\n",
              "              title=\"Convert this dataframe to an interactive table.\"\n",
              "              style=\"display:none;\">\n",
              "        \n",
              "  <svg xmlns=\"http://www.w3.org/2000/svg\" height=\"24px\"viewBox=\"0 0 24 24\"\n",
              "       width=\"24px\">\n",
              "    <path d=\"M0 0h24v24H0V0z\" fill=\"none\"/>\n",
              "    <path d=\"M18.56 5.44l.94 2.06.94-2.06 2.06-.94-2.06-.94-.94-2.06-.94 2.06-2.06.94zm-11 1L8.5 8.5l.94-2.06 2.06-.94-2.06-.94L8.5 2.5l-.94 2.06-2.06.94zm10 10l.94 2.06.94-2.06 2.06-.94-2.06-.94-.94-2.06-.94 2.06-2.06.94z\"/><path d=\"M17.41 7.96l-1.37-1.37c-.4-.4-.92-.59-1.43-.59-.52 0-1.04.2-1.43.59L10.3 9.45l-7.72 7.72c-.78.78-.78 2.05 0 2.83L4 21.41c.39.39.9.59 1.41.59.51 0 1.02-.2 1.41-.59l7.78-7.78 2.81-2.81c.8-.78.8-2.07 0-2.86zM5.41 20L4 18.59l7.72-7.72 1.47 1.35L5.41 20z\"/>\n",
              "  </svg>\n",
              "      </button>\n",
              "      \n",
              "  <style>\n",
              "    .colab-df-container {\n",
              "      display:flex;\n",
              "      flex-wrap:wrap;\n",
              "      gap: 12px;\n",
              "    }\n",
              "\n",
              "    .colab-df-convert {\n",
              "      background-color: #E8F0FE;\n",
              "      border: none;\n",
              "      border-radius: 50%;\n",
              "      cursor: pointer;\n",
              "      display: none;\n",
              "      fill: #1967D2;\n",
              "      height: 32px;\n",
              "      padding: 0 0 0 0;\n",
              "      width: 32px;\n",
              "    }\n",
              "\n",
              "    .colab-df-convert:hover {\n",
              "      background-color: #E2EBFA;\n",
              "      box-shadow: 0px 1px 2px rgba(60, 64, 67, 0.3), 0px 1px 3px 1px rgba(60, 64, 67, 0.15);\n",
              "      fill: #174EA6;\n",
              "    }\n",
              "\n",
              "    [theme=dark] .colab-df-convert {\n",
              "      background-color: #3B4455;\n",
              "      fill: #D2E3FC;\n",
              "    }\n",
              "\n",
              "    [theme=dark] .colab-df-convert:hover {\n",
              "      background-color: #434B5C;\n",
              "      box-shadow: 0px 1px 3px 1px rgba(0, 0, 0, 0.15);\n",
              "      filter: drop-shadow(0px 1px 2px rgba(0, 0, 0, 0.3));\n",
              "      fill: #FFFFFF;\n",
              "    }\n",
              "  </style>\n",
              "\n",
              "      <script>\n",
              "        const buttonEl =\n",
              "          document.querySelector('#df-638e7338-9593-454f-97cb-50c3273ab80d button.colab-df-convert');\n",
              "        buttonEl.style.display =\n",
              "          google.colab.kernel.accessAllowed ? 'block' : 'none';\n",
              "\n",
              "        async function convertToInteractive(key) {\n",
              "          const element = document.querySelector('#df-638e7338-9593-454f-97cb-50c3273ab80d');\n",
              "          const dataTable =\n",
              "            await google.colab.kernel.invokeFunction('convertToInteractive',\n",
              "                                                     [key], {});\n",
              "          if (!dataTable) return;\n",
              "\n",
              "          const docLinkHtml = 'Like what you see? Visit the ' +\n",
              "            '<a target=\"_blank\" href=https://colab.research.google.com/notebooks/data_table.ipynb>data table notebook</a>'\n",
              "            + ' to learn more about interactive tables.';\n",
              "          element.innerHTML = '';\n",
              "          dataTable['output_type'] = 'display_data';\n",
              "          await google.colab.output.renderOutput(dataTable, element);\n",
              "          const docLink = document.createElement('div');\n",
              "          docLink.innerHTML = docLinkHtml;\n",
              "          element.appendChild(docLink);\n",
              "        }\n",
              "      </script>\n",
              "    </div>\n",
              "  </div>\n",
              "  "
            ]
          },
          "metadata": {},
          "execution_count": 52
        }
      ]
    },
    {
      "cell_type": "markdown",
      "source": [
        "#### **Exercise 5:** How much mitric oxides concentration is there in total? "
      ],
      "metadata": {
        "id": "oEZcspFmOwIr"
      }
    },
    {
      "cell_type": "code",
      "source": [
        "#NOX - nitric oxides concentration (parts per 10 million)\n",
        "\n",
        "#is the question adding for the sum of the concentrations?\n",
        "\n",
        "df[\"NOX\"].sum()"
      ],
      "metadata": {
        "id": "ndpUoquNLqj9",
        "colab": {
          "base_uri": "https://localhost:8080/"
        },
        "outputId": "a179f9a7-fa09-4570-9d7f-974235a7c0a2"
      },
      "execution_count": null,
      "outputs": [
        {
          "output_type": "execute_result",
          "data": {
            "text/plain": [
              "280.6757"
            ]
          },
          "metadata": {},
          "execution_count": 53
        }
      ]
    },
    {
      "cell_type": "markdown",
      "source": [
        "#### **Exercise 6:** Which feature(s) have the most missing data? "
      ],
      "metadata": {
        "id": "y0vfQ-tqKsp6"
      }
    },
    {
      "cell_type": "code",
      "source": [
        "print(df.info() )\n",
        "print()\n",
        "print(\"The CHAS, NOX, RM, AGE, DIS, RAD, TAX, and PTRATIO features have the most missing data\")"
      ],
      "metadata": {
        "id": "0AiOc0ZCKwxi",
        "colab": {
          "base_uri": "https://localhost:8080/"
        },
        "outputId": "e09bafdf-3b54-4d34-b233-a6746525ad2f"
      },
      "execution_count": null,
      "outputs": [
        {
          "output_type": "stream",
          "name": "stdout",
          "text": [
            "<class 'pandas.core.frame.DataFrame'>\n",
            "RangeIndex: 1012 entries, 0 to 1011\n",
            "Data columns (total 11 columns):\n",
            " #   Column   Non-Null Count  Dtype  \n",
            "---  ------   --------------  -----  \n",
            " 0   CRIM     1012 non-null   float64\n",
            " 1   ZN       1012 non-null   float64\n",
            " 2   INDUS    1012 non-null   float64\n",
            " 3   CHAS     506 non-null    float64\n",
            " 4   NOX      506 non-null    float64\n",
            " 5   RM       506 non-null    float64\n",
            " 6   AGE      506 non-null    float64\n",
            " 7   DIS      506 non-null    float64\n",
            " 8   RAD      506 non-null    float64\n",
            " 9   TAX      506 non-null    float64\n",
            " 10  PTRATIO  506 non-null    float64\n",
            "dtypes: float64(11)\n",
            "memory usage: 87.1 KB\n",
            "None\n",
            "\n",
            "The CHAS, NOX, RM, AGE, DIS, RAD, TAX, and PTRATIO features have the most missing data\n"
          ]
        }
      ]
    },
    {
      "cell_type": "markdown",
      "source": [
        "### **Data Cleaning # 1 [Optional]**\n",
        "\n",
        "---\n",
        "\n",
        "Let's pretend you are a nutritionist looking at the prices of certain fruits to provide info to your client."
      ],
      "metadata": {
        "id": "DLTf_KPGKhm4"
      }
    },
    {
      "cell_type": "code",
      "source": [
        "fruit_df = pd.DataFrame({ \n",
        "    'fruit': ['apple','banana','cherry', \n",
        "              'dates','elderberry'], \n",
        "    'price':[1.00 , 0.50, None, 2.50, None]}) \n",
        "fruit_df"
      ],
      "metadata": {
        "colab": {
          "base_uri": "https://localhost:8080/",
          "height": 206
        },
        "id": "6OPH2Vy8P-Fu",
        "outputId": "607bf71f-96ef-4882-a7c5-e2696e47b49d"
      },
      "execution_count": null,
      "outputs": [
        {
          "output_type": "execute_result",
          "data": {
            "text/plain": [
              "        fruit  price\n",
              "0       apple    1.0\n",
              "1      banana    0.5\n",
              "2      cherry    NaN\n",
              "3       dates    2.5\n",
              "4  elderberry    NaN"
            ],
            "text/html": [
              "\n",
              "  <div id=\"df-9da96e06-e3e2-4589-af86-fd012ad8c7cc\">\n",
              "    <div class=\"colab-df-container\">\n",
              "      <div>\n",
              "<style scoped>\n",
              "    .dataframe tbody tr th:only-of-type {\n",
              "        vertical-align: middle;\n",
              "    }\n",
              "\n",
              "    .dataframe tbody tr th {\n",
              "        vertical-align: top;\n",
              "    }\n",
              "\n",
              "    .dataframe thead th {\n",
              "        text-align: right;\n",
              "    }\n",
              "</style>\n",
              "<table border=\"1\" class=\"dataframe\">\n",
              "  <thead>\n",
              "    <tr style=\"text-align: right;\">\n",
              "      <th></th>\n",
              "      <th>fruit</th>\n",
              "      <th>price</th>\n",
              "    </tr>\n",
              "  </thead>\n",
              "  <tbody>\n",
              "    <tr>\n",
              "      <th>0</th>\n",
              "      <td>apple</td>\n",
              "      <td>1.0</td>\n",
              "    </tr>\n",
              "    <tr>\n",
              "      <th>1</th>\n",
              "      <td>banana</td>\n",
              "      <td>0.5</td>\n",
              "    </tr>\n",
              "    <tr>\n",
              "      <th>2</th>\n",
              "      <td>cherry</td>\n",
              "      <td>NaN</td>\n",
              "    </tr>\n",
              "    <tr>\n",
              "      <th>3</th>\n",
              "      <td>dates</td>\n",
              "      <td>2.5</td>\n",
              "    </tr>\n",
              "    <tr>\n",
              "      <th>4</th>\n",
              "      <td>elderberry</td>\n",
              "      <td>NaN</td>\n",
              "    </tr>\n",
              "  </tbody>\n",
              "</table>\n",
              "</div>\n",
              "      <button class=\"colab-df-convert\" onclick=\"convertToInteractive('df-9da96e06-e3e2-4589-af86-fd012ad8c7cc')\"\n",
              "              title=\"Convert this dataframe to an interactive table.\"\n",
              "              style=\"display:none;\">\n",
              "        \n",
              "  <svg xmlns=\"http://www.w3.org/2000/svg\" height=\"24px\"viewBox=\"0 0 24 24\"\n",
              "       width=\"24px\">\n",
              "    <path d=\"M0 0h24v24H0V0z\" fill=\"none\"/>\n",
              "    <path d=\"M18.56 5.44l.94 2.06.94-2.06 2.06-.94-2.06-.94-.94-2.06-.94 2.06-2.06.94zm-11 1L8.5 8.5l.94-2.06 2.06-.94-2.06-.94L8.5 2.5l-.94 2.06-2.06.94zm10 10l.94 2.06.94-2.06 2.06-.94-2.06-.94-.94-2.06-.94 2.06-2.06.94z\"/><path d=\"M17.41 7.96l-1.37-1.37c-.4-.4-.92-.59-1.43-.59-.52 0-1.04.2-1.43.59L10.3 9.45l-7.72 7.72c-.78.78-.78 2.05 0 2.83L4 21.41c.39.39.9.59 1.41.59.51 0 1.02-.2 1.41-.59l7.78-7.78 2.81-2.81c.8-.78.8-2.07 0-2.86zM5.41 20L4 18.59l7.72-7.72 1.47 1.35L5.41 20z\"/>\n",
              "  </svg>\n",
              "      </button>\n",
              "      \n",
              "  <style>\n",
              "    .colab-df-container {\n",
              "      display:flex;\n",
              "      flex-wrap:wrap;\n",
              "      gap: 12px;\n",
              "    }\n",
              "\n",
              "    .colab-df-convert {\n",
              "      background-color: #E8F0FE;\n",
              "      border: none;\n",
              "      border-radius: 50%;\n",
              "      cursor: pointer;\n",
              "      display: none;\n",
              "      fill: #1967D2;\n",
              "      height: 32px;\n",
              "      padding: 0 0 0 0;\n",
              "      width: 32px;\n",
              "    }\n",
              "\n",
              "    .colab-df-convert:hover {\n",
              "      background-color: #E2EBFA;\n",
              "      box-shadow: 0px 1px 2px rgba(60, 64, 67, 0.3), 0px 1px 3px 1px rgba(60, 64, 67, 0.15);\n",
              "      fill: #174EA6;\n",
              "    }\n",
              "\n",
              "    [theme=dark] .colab-df-convert {\n",
              "      background-color: #3B4455;\n",
              "      fill: #D2E3FC;\n",
              "    }\n",
              "\n",
              "    [theme=dark] .colab-df-convert:hover {\n",
              "      background-color: #434B5C;\n",
              "      box-shadow: 0px 1px 3px 1px rgba(0, 0, 0, 0.15);\n",
              "      filter: drop-shadow(0px 1px 2px rgba(0, 0, 0, 0.3));\n",
              "      fill: #FFFFFF;\n",
              "    }\n",
              "  </style>\n",
              "\n",
              "      <script>\n",
              "        const buttonEl =\n",
              "          document.querySelector('#df-9da96e06-e3e2-4589-af86-fd012ad8c7cc button.colab-df-convert');\n",
              "        buttonEl.style.display =\n",
              "          google.colab.kernel.accessAllowed ? 'block' : 'none';\n",
              "\n",
              "        async function convertToInteractive(key) {\n",
              "          const element = document.querySelector('#df-9da96e06-e3e2-4589-af86-fd012ad8c7cc');\n",
              "          const dataTable =\n",
              "            await google.colab.kernel.invokeFunction('convertToInteractive',\n",
              "                                                     [key], {});\n",
              "          if (!dataTable) return;\n",
              "\n",
              "          const docLinkHtml = 'Like what you see? Visit the ' +\n",
              "            '<a target=\"_blank\" href=https://colab.research.google.com/notebooks/data_table.ipynb>data table notebook</a>'\n",
              "            + ' to learn more about interactive tables.';\n",
              "          element.innerHTML = '';\n",
              "          dataTable['output_type'] = 'display_data';\n",
              "          await google.colab.output.renderOutput(dataTable, element);\n",
              "          const docLink = document.createElement('div');\n",
              "          docLink.innerHTML = docLinkHtml;\n",
              "          element.appendChild(docLink);\n",
              "        }\n",
              "      </script>\n",
              "    </div>\n",
              "  </div>\n",
              "  "
            ]
          },
          "metadata": {},
          "execution_count": 57
        }
      ]
    },
    {
      "cell_type": "markdown",
      "source": [
        "#### **Exercise 1:** Use mean to fill in the missing values from the `fruit_df` DataFrame given in the previous problem and save as a new DataFrame `df_filled_mean`. Then check to make sure it worked."
      ],
      "metadata": {
        "id": "TDDvPo2Ab5RI"
      }
    },
    {
      "cell_type": "code",
      "source": [
        "average = fruit_df[\"price\"].mean()\n",
        "\n",
        "print(\"This is the average: \" + str(average))\n",
        "\n",
        "df_filled_mean = fruit_df\n",
        "df_filled_mean[\"price\"] = df_filled_mean[\"price\"].fillna(value = average)\n",
        "\n",
        "print()\n",
        "print(df_filled_mean)\n"
      ],
      "metadata": {
        "id": "zYhrvL53AApb",
        "colab": {
          "base_uri": "https://localhost:8080/"
        },
        "outputId": "3fc338f8-df79-4859-8bb5-7414172bb99f"
      },
      "execution_count": null,
      "outputs": [
        {
          "output_type": "stream",
          "name": "stdout",
          "text": [
            "This is the average: 1.3333333333333333\n",
            "\n",
            "        fruit     price\n",
            "0       apple  1.000000\n",
            "1      banana  0.500000\n",
            "2      cherry  1.333333\n",
            "3       dates  2.500000\n",
            "4  elderberry  1.333333\n"
          ]
        }
      ]
    },
    {
      "cell_type": "markdown",
      "source": [
        "### **Data Cleaning # 2 [Optional]**\n",
        "---\n",
        "\n",
        "Medical data at a local urgent care is recorded in a DataFrame. Patients are given a unique id upon entry and are charged according to their age and symptoms."
      ],
      "metadata": {
        "id": "ZZ4UZBQDKuvN"
      }
    },
    {
      "cell_type": "code",
      "source": [
        "medical_df = pd.DataFrame({'patient id':[100, 101, 102, 103, 104, 105, 106, 107, 108, 109], \n",
        "                         'age': [10, 13, 15, 17, 19, 18, 16, 12, 14, 11], \n",
        "                         'symptom':[None, 'flu', 'headache', 'headache', 'flu', None, None, 'headache', 'flu', None], \n",
        "                         'charge':[30.00, None, 35.00, 36.00, 39.00, 38.00, 36.00, 32.00, 33.00, None]}) "
      ],
      "metadata": {
        "id": "P0m42mWbQfk8"
      },
      "execution_count": null,
      "outputs": []
    },
    {
      "cell_type": "code",
      "source": [
        "medical_df"
      ],
      "metadata": {
        "colab": {
          "base_uri": "https://localhost:8080/",
          "height": 363
        },
        "id": "eDewQgmDrdEM",
        "outputId": "800bb2c4-1177-4544-fb99-27f9972581bc"
      },
      "execution_count": null,
      "outputs": [
        {
          "output_type": "execute_result",
          "data": {
            "text/plain": [
              "   patient id  age   symptom  charge\n",
              "0         100   10      None    30.0\n",
              "1         101   13       flu     NaN\n",
              "2         102   15  headache    35.0\n",
              "3         103   17  headache    36.0\n",
              "4         104   19       flu    39.0\n",
              "5         105   18      None    38.0\n",
              "6         106   16      None    36.0\n",
              "7         107   12  headache    32.0\n",
              "8         108   14       flu    33.0\n",
              "9         109   11      None     NaN"
            ],
            "text/html": [
              "\n",
              "  <div id=\"df-be909e39-f5b6-4e45-8726-9764bfff757b\">\n",
              "    <div class=\"colab-df-container\">\n",
              "      <div>\n",
              "<style scoped>\n",
              "    .dataframe tbody tr th:only-of-type {\n",
              "        vertical-align: middle;\n",
              "    }\n",
              "\n",
              "    .dataframe tbody tr th {\n",
              "        vertical-align: top;\n",
              "    }\n",
              "\n",
              "    .dataframe thead th {\n",
              "        text-align: right;\n",
              "    }\n",
              "</style>\n",
              "<table border=\"1\" class=\"dataframe\">\n",
              "  <thead>\n",
              "    <tr style=\"text-align: right;\">\n",
              "      <th></th>\n",
              "      <th>patient id</th>\n",
              "      <th>age</th>\n",
              "      <th>symptom</th>\n",
              "      <th>charge</th>\n",
              "    </tr>\n",
              "  </thead>\n",
              "  <tbody>\n",
              "    <tr>\n",
              "      <th>0</th>\n",
              "      <td>100</td>\n",
              "      <td>10</td>\n",
              "      <td>None</td>\n",
              "      <td>30.0</td>\n",
              "    </tr>\n",
              "    <tr>\n",
              "      <th>1</th>\n",
              "      <td>101</td>\n",
              "      <td>13</td>\n",
              "      <td>flu</td>\n",
              "      <td>NaN</td>\n",
              "    </tr>\n",
              "    <tr>\n",
              "      <th>2</th>\n",
              "      <td>102</td>\n",
              "      <td>15</td>\n",
              "      <td>headache</td>\n",
              "      <td>35.0</td>\n",
              "    </tr>\n",
              "    <tr>\n",
              "      <th>3</th>\n",
              "      <td>103</td>\n",
              "      <td>17</td>\n",
              "      <td>headache</td>\n",
              "      <td>36.0</td>\n",
              "    </tr>\n",
              "    <tr>\n",
              "      <th>4</th>\n",
              "      <td>104</td>\n",
              "      <td>19</td>\n",
              "      <td>flu</td>\n",
              "      <td>39.0</td>\n",
              "    </tr>\n",
              "    <tr>\n",
              "      <th>5</th>\n",
              "      <td>105</td>\n",
              "      <td>18</td>\n",
              "      <td>None</td>\n",
              "      <td>38.0</td>\n",
              "    </tr>\n",
              "    <tr>\n",
              "      <th>6</th>\n",
              "      <td>106</td>\n",
              "      <td>16</td>\n",
              "      <td>None</td>\n",
              "      <td>36.0</td>\n",
              "    </tr>\n",
              "    <tr>\n",
              "      <th>7</th>\n",
              "      <td>107</td>\n",
              "      <td>12</td>\n",
              "      <td>headache</td>\n",
              "      <td>32.0</td>\n",
              "    </tr>\n",
              "    <tr>\n",
              "      <th>8</th>\n",
              "      <td>108</td>\n",
              "      <td>14</td>\n",
              "      <td>flu</td>\n",
              "      <td>33.0</td>\n",
              "    </tr>\n",
              "    <tr>\n",
              "      <th>9</th>\n",
              "      <td>109</td>\n",
              "      <td>11</td>\n",
              "      <td>None</td>\n",
              "      <td>NaN</td>\n",
              "    </tr>\n",
              "  </tbody>\n",
              "</table>\n",
              "</div>\n",
              "      <button class=\"colab-df-convert\" onclick=\"convertToInteractive('df-be909e39-f5b6-4e45-8726-9764bfff757b')\"\n",
              "              title=\"Convert this dataframe to an interactive table.\"\n",
              "              style=\"display:none;\">\n",
              "        \n",
              "  <svg xmlns=\"http://www.w3.org/2000/svg\" height=\"24px\"viewBox=\"0 0 24 24\"\n",
              "       width=\"24px\">\n",
              "    <path d=\"M0 0h24v24H0V0z\" fill=\"none\"/>\n",
              "    <path d=\"M18.56 5.44l.94 2.06.94-2.06 2.06-.94-2.06-.94-.94-2.06-.94 2.06-2.06.94zm-11 1L8.5 8.5l.94-2.06 2.06-.94-2.06-.94L8.5 2.5l-.94 2.06-2.06.94zm10 10l.94 2.06.94-2.06 2.06-.94-2.06-.94-.94-2.06-.94 2.06-2.06.94z\"/><path d=\"M17.41 7.96l-1.37-1.37c-.4-.4-.92-.59-1.43-.59-.52 0-1.04.2-1.43.59L10.3 9.45l-7.72 7.72c-.78.78-.78 2.05 0 2.83L4 21.41c.39.39.9.59 1.41.59.51 0 1.02-.2 1.41-.59l7.78-7.78 2.81-2.81c.8-.78.8-2.07 0-2.86zM5.41 20L4 18.59l7.72-7.72 1.47 1.35L5.41 20z\"/>\n",
              "  </svg>\n",
              "      </button>\n",
              "      \n",
              "  <style>\n",
              "    .colab-df-container {\n",
              "      display:flex;\n",
              "      flex-wrap:wrap;\n",
              "      gap: 12px;\n",
              "    }\n",
              "\n",
              "    .colab-df-convert {\n",
              "      background-color: #E8F0FE;\n",
              "      border: none;\n",
              "      border-radius: 50%;\n",
              "      cursor: pointer;\n",
              "      display: none;\n",
              "      fill: #1967D2;\n",
              "      height: 32px;\n",
              "      padding: 0 0 0 0;\n",
              "      width: 32px;\n",
              "    }\n",
              "\n",
              "    .colab-df-convert:hover {\n",
              "      background-color: #E2EBFA;\n",
              "      box-shadow: 0px 1px 2px rgba(60, 64, 67, 0.3), 0px 1px 3px 1px rgba(60, 64, 67, 0.15);\n",
              "      fill: #174EA6;\n",
              "    }\n",
              "\n",
              "    [theme=dark] .colab-df-convert {\n",
              "      background-color: #3B4455;\n",
              "      fill: #D2E3FC;\n",
              "    }\n",
              "\n",
              "    [theme=dark] .colab-df-convert:hover {\n",
              "      background-color: #434B5C;\n",
              "      box-shadow: 0px 1px 3px 1px rgba(0, 0, 0, 0.15);\n",
              "      filter: drop-shadow(0px 1px 2px rgba(0, 0, 0, 0.3));\n",
              "      fill: #FFFFFF;\n",
              "    }\n",
              "  </style>\n",
              "\n",
              "      <script>\n",
              "        const buttonEl =\n",
              "          document.querySelector('#df-be909e39-f5b6-4e45-8726-9764bfff757b button.colab-df-convert');\n",
              "        buttonEl.style.display =\n",
              "          google.colab.kernel.accessAllowed ? 'block' : 'none';\n",
              "\n",
              "        async function convertToInteractive(key) {\n",
              "          const element = document.querySelector('#df-be909e39-f5b6-4e45-8726-9764bfff757b');\n",
              "          const dataTable =\n",
              "            await google.colab.kernel.invokeFunction('convertToInteractive',\n",
              "                                                     [key], {});\n",
              "          if (!dataTable) return;\n",
              "\n",
              "          const docLinkHtml = 'Like what you see? Visit the ' +\n",
              "            '<a target=\"_blank\" href=https://colab.research.google.com/notebooks/data_table.ipynb>data table notebook</a>'\n",
              "            + ' to learn more about interactive tables.';\n",
              "          element.innerHTML = '';\n",
              "          dataTable['output_type'] = 'display_data';\n",
              "          await google.colab.output.renderOutput(dataTable, element);\n",
              "          const docLink = document.createElement('div');\n",
              "          docLink.innerHTML = docLinkHtml;\n",
              "          element.appendChild(docLink);\n",
              "        }\n",
              "      </script>\n",
              "    </div>\n",
              "  </div>\n",
              "  "
            ]
          },
          "metadata": {},
          "execution_count": 71
        }
      ]
    },
    {
      "cell_type": "markdown",
      "source": [
        "#### **Exercise 1:** Using the calculated mean below, use `fillna()` to replace NA values in the `\"charge\"` column."
      ],
      "metadata": {
        "id": "KkBmCDobcur8"
      }
    },
    {
      "cell_type": "code",
      "source": [
        "chargeAverage = medical_df[\"charge\"].mean()\n",
        "\n",
        "print(\"This is the average of the charge column: \" + str(chargeAverage))\n",
        "\n",
        "medical_df[\"charge\"] = medical_df[\"charge\"].fillna(value = chargeAverage)\n",
        "\n",
        "print()\n",
        "print(medical_df)\n"
      ],
      "metadata": {
        "id": "l5PM47RjAB3X",
        "colab": {
          "base_uri": "https://localhost:8080/"
        },
        "outputId": "9f82173f-a73f-4deb-c2d4-e4a7df8380fc"
      },
      "execution_count": null,
      "outputs": [
        {
          "output_type": "stream",
          "name": "stdout",
          "text": [
            "This is the average of the charge column: 34.875\n",
            "\n",
            "   patient id  age   symptom  charge\n",
            "0         100   10      None  30.000\n",
            "1         101   13       flu  34.875\n",
            "2         102   15  headache  35.000\n",
            "3         103   17  headache  36.000\n",
            "4         104   19       flu  39.000\n",
            "5         105   18      None  38.000\n",
            "6         106   16      None  36.000\n",
            "7         107   12  headache  32.000\n",
            "8         108   14       flu  33.000\n",
            "9         109   11      None  34.875\n"
          ]
        }
      ]
    },
    {
      "cell_type": "markdown",
      "source": [
        "#### **Exercise 2:** Drop all the null values, and compare the shape of the DataFrame before and after. How many rows were dropped?"
      ],
      "metadata": {
        "id": "shN308ZncbU1"
      }
    },
    {
      "cell_type": "code",
      "source": [
        "new_medical_df = medical_df.dropna(axis=0, how='any', subset=None)\n",
        "\n",
        "print(\"The shape of the original DataFrame is: \" + str(medical_df.shape))\n",
        "print(\"The shape of the new DataFrame is: \" + str(new_medical_df.shape))\n",
        "\n",
        "print()\n",
        "print(\"A total of four rows were dropped!\")"
      ],
      "metadata": {
        "id": "Vfezw_wcABmy",
        "colab": {
          "base_uri": "https://localhost:8080/"
        },
        "outputId": "5d10bc7f-b768-497f-c3c7-4875038a22a3"
      },
      "execution_count": null,
      "outputs": [
        {
          "output_type": "stream",
          "name": "stdout",
          "text": [
            "The shape of the original DataFrame is: (10, 4)\n",
            "The shape of the new DataFrame is: (6, 4)\n",
            "\n",
            "A total of four rows were dropped!\n"
          ]
        }
      ]
    },
    {
      "cell_type": "markdown",
      "source": [
        "#### **Exercise 3:** What is the average cost of going to this clinic?"
      ],
      "metadata": {
        "id": "UMUNLECTSI1p"
      }
    },
    {
      "cell_type": "code",
      "source": [
        "#getting the average for the new clinic?\n",
        "newAvgCost = new_medical_df[\"charge\"].mean()\n",
        "\n",
        "print(\"The average cost of going to this new clinic is: $\" + str(newAvgCost))"
      ],
      "metadata": {
        "id": "3jJUsogMSI1y",
        "colab": {
          "base_uri": "https://localhost:8080/"
        },
        "outputId": "eeea0ddb-e9c6-4b8e-93f5-c50a807a4e13"
      },
      "execution_count": null,
      "outputs": [
        {
          "output_type": "stream",
          "name": "stdout",
          "text": [
            "The average cost of going to this new clinic is: $34.979166666666664\n"
          ]
        }
      ]
    },
    {
      "cell_type": "markdown",
      "source": [
        "---\n",
        "Copyright 2022 The Coding School, All rights Reserved"
      ],
      "metadata": {
        "id": "1fKuMhTg8Sk9"
      }
    }
  ]
}