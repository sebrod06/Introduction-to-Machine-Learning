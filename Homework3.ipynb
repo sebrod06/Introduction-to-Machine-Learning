{
  "nbformat": 4,
  "nbformat_minor": 0,
  "metadata": {
    "colab": {
      "provenance": []
    },
    "kernelspec": {
      "name": "python3",
      "display_name": "Python 3"
    },
    "language_info": {
      "name": "python"
    }
  },
  "cells": [
    {
      "cell_type": "markdown",
      "source": [
        "# Homework - Week #3\n",
        "---\n"
      ],
      "metadata": {
        "id": "kO_6ofTBGs5Q"
      }
    },
    {
      "cell_type": "markdown",
      "source": [
        "##**RESOURCES**: \n",
        "[Data Visualization with Matplotlib Cheatsheet](https://docs.google.com/document/d/1TDM-BcXtsPKdj9WjuK6wDx485aRqo56ymhMypd9onz4/edit)"
      ],
      "metadata": {
        "id": "ixOOrYVrmY2A"
      }
    },
    {
      "cell_type": "markdown",
      "source": [
        "###**Line**\n",
        "\n",
        "The matplotlib's `plot()` function can be used like this:\n",
        "\n",
        "```python\n",
        "import matplotlib.pyplot as plt\n",
        "plt.plot(x, y)\n",
        "plt.show()\n",
        "```\n",
        "\n",
        "The inputs for `plt.plot(x,y)` are your data for the `x-axis` and `y-axis` respectively.\n",
        "\n",
        "Additionally, to label the plot, you would use the following syntax: \n",
        "\n",
        "```python\n",
        "plt.xlabel('x') #label your x axis\n",
        "plt.ylabel('y') #label your y-axis\n",
        "plt.title('title') #set a title for your plot\n",
        "```"
      ],
      "metadata": {
        "id": "J9xg-eTPDEbK"
      }
    },
    {
      "cell_type": "markdown",
      "source": [
        "###**Scatter**\n",
        "\n",
        "To recall, the syntax to plot a basic scatterplot is: \n",
        "\n",
        "```python\n",
        "import matplotlib.pyplot as plt\n",
        "plt.scatter(x, y)\n",
        "```\n",
        "\n",
        "where `x,y` is your data (lists).\n",
        "\n",
        "To change the color of the points, the syntax is: \n",
        "\n",
        "```python\n",
        "plt.scatter(x, y, c='my color')\n",
        "```\n",
        "where `c` is given a string that represents a color. \n",
        "\n",
        "\n",
        "To change the size of the points, the syntax is: \n",
        "\n",
        "```python\n",
        "plt.scatter(steps, calories_burned, s='a number')\n",
        "```\n",
        "where `s` is given an integer or float value that represents the size of the points.\n",
        "\n",
        "\n",
        "\n",
        "To change the transparency of the points, the syntax is: \n",
        "\n",
        "```python\n",
        "plt.scatter(steps, calories_burned, alpha='a number')\n",
        "```\n",
        "where `alpha` is given an integer or float value that represents the transparency of the points. You would pass in a numeric value between 0 and 1. A value of 0 will make the plots fully transparent and unable to view on a white background. A value of 1 is the default with non-transparent points."
      ],
      "metadata": {
        "id": "wr430_oeC9_h"
      }
    },
    {
      "cell_type": "markdown",
      "source": [
        "###**Bar**  \n",
        "\n",
        "The syntax of the bar graph function to be used with the axes is as follows:\n",
        "```python\n",
        "plt.bar(x, height, width, bottom, align)\n",
        "```\n",
        "The function creates a bar plot bounded with a rectangle depending on the given parameters. \n",
        "\n",
        "\n",
        "We can also make a grouped bar graph by calling `plt.bar(...)` for each dataset and setting the data apart to make sure the bars do not overlap:\n",
        "\n",
        "```python\n",
        "plt.bar(x, height, width)\n",
        "plt.bar(x2 + width, height2, width)\n",
        "plt.bar(x3 + 2*width, height3, width)\n",
        "...\n",
        "```"
      ],
      "metadata": {
        "id": "qCmg3hjhHKi9"
      }
    },
    {
      "cell_type": "markdown",
      "source": [
        "##**PART 1** "
      ],
      "metadata": {
        "id": "E0LBK5SWIfI-"
      }
    },
    {
      "cell_type": "code",
      "source": [
        "# IMPORT BEFORE YOU START\n",
        "import matplotlib.pyplot as plt\n",
        "import numpy as np"
      ],
      "metadata": {
        "id": "tdnsCnzmmarj"
      },
      "execution_count": null,
      "outputs": []
    },
    {
      "cell_type": "markdown",
      "source": [
        "### **Scatterplot Practice**"
      ],
      "metadata": {
        "id": "-9xmHqrqrXNN"
      }
    },
    {
      "cell_type": "markdown",
      "source": [
        "#####**Problem #1:**\n",
        "\n",
        "Plot the following data into a scatterplot. Make the color red."
      ],
      "metadata": {
        "id": "1CHBjdr1AIGF"
      }
    },
    {
      "cell_type": "code",
      "source": [
        "# RUN THIS CELL\n",
        "x =[5, 7, 8, 7, 2, 17, 2, 9, \n",
        "    4, 11, 12, 9, 6]  \n",
        "y =[99, 86, 87, 88, 100, 86,  \n",
        "    103, 87, 94, 78, 77, 85, 86] "
      ],
      "metadata": {
        "id": "eU3y4YRLAifW"
      },
      "execution_count": null,
      "outputs": []
    },
    {
      "cell_type": "code",
      "source": [
        "#scatter plot\n",
        "plt.scatter(x,y, color='red')\n",
        "plt.show()"
      ],
      "metadata": {
        "id": "P1ddTi2LAdQb",
        "colab": {
          "base_uri": "https://localhost:8080/",
          "height": 265
        },
        "outputId": "c382531a-524c-4f53-df52-d56915beb057"
      },
      "execution_count": null,
      "outputs": [
        {
          "output_type": "display_data",
          "data": {
            "text/plain": [
              "<Figure size 432x288 with 1 Axes>"
            ],
            "image/png": "[encoded data removed]"
          },
          "metadata": {
            "needs_background": "light"
          }
        }
      ]
    },
    {
      "cell_type": "markdown",
      "source": [
        "#####**Problem #2:** \n",
        "\n",
        "Plot the following scatter plot. \n",
        "* Add labels for the x and y axis accordingly.\n",
        "* Title the graph 'Computer Science Class 2016-2017'\n",
        "* Make the title bold.\n",
        "* Make the plots green.\n",
        "* Change the size of the plots."
      ],
      "metadata": {
        "id": "y50Ate8pAfEP"
      }
    },
    {
      "cell_type": "code",
      "source": [
        "# RUN THIS CELL\n",
        "students_grades = [89, 90, 70, 89, 100, 80, 90, 100, 80, 34] # y axis \n",
        "grades_range = [10, 20, 30, 40, 50, 60, 70, 80, 90, 100] # x axis"
      ],
      "metadata": {
        "id": "DBAHJy1OA5j3"
      },
      "execution_count": null,
      "outputs": []
    },
    {
      "cell_type": "code",
      "source": [
        "plt.scatter(grades_range, students_grades, color='green',s=100)\n",
        "plt.ylabel(\"Student Grades\")\n",
        "plt.xlabel(\"Range of Grade Values\")\n",
        "plt.title(\"Computer Science Class 2016-2017\", fontweight='bold')\n",
        "plt.show()\n"
      ],
      "metadata": {
        "id": "tEHzEuacA8nj",
        "colab": {
          "base_uri": "https://localhost:8080/",
          "height": 295
        },
        "outputId": "255d0f15-2789-4b7c-ad54-b3fb657c96dc"
      },
      "execution_count": null,
      "outputs": [
        {
          "output_type": "display_data",
          "data": {
            "text/plain": [
              "<Figure size 432x288 with 1 Axes>"
            ],
            "image/png": "[encoded data removed]"
          },
          "metadata": {
            "needs_background": "light"
          }
        }
      ]
    },
    {
      "cell_type": "markdown",
      "source": [
        "### **Line Plot Practice**"
      ],
      "metadata": {
        "id": "EKI_e86GsPn7"
      }
    },
    {
      "cell_type": "markdown",
      "source": [
        "#####**Problem #1:** \n",
        "\n",
        "Plot the data below as a line plot. Make the line purple."
      ],
      "metadata": {
        "id": "F6DpofljsYTL"
      }
    },
    {
      "cell_type": "code",
      "source": [
        "# RUN THIS CELL\n",
        "x = [1, 2, 3, 4, 5, 6, 7, 8, 9, 10]  \n",
        "fib_num = [1, 1, 2, 3, 5, 8, 13, 21, 34, 55] "
      ],
      "metadata": {
        "id": "MCdjyx3osXWn"
      },
      "execution_count": null,
      "outputs": []
    },
    {
      "cell_type": "code",
      "source": [
        "# add code here\n",
        "plt.plot(x, fib_num, color='purple')\n",
        "plt.show()"
      ],
      "metadata": {
        "id": "ToqJi0h9skak",
        "colab": {
          "base_uri": "https://localhost:8080/",
          "height": 265
        },
        "outputId": "67b3d4e8-5fa5-480e-f157-6cb9550110bf"
      },
      "execution_count": null,
      "outputs": [
        {
          "output_type": "display_data",
          "data": {
            "text/plain": [
              "<Figure size 432x288 with 1 Axes>"
            ],
            "image/png": "[encoded data removed]"
          },
          "metadata": {
            "needs_background": "light"
          }
        }
      ]
    },
    {
      "cell_type": "markdown",
      "source": [
        "#####**Problem #2:**\n",
        "\n",
        "Plot the following line plot. Add labels for the x and y axis accordingly. Make the title `Unemployment Rate Vs Year`. Make x label `Year` and the y label `Unemployment Rate`. Lastly, make the color of the line magenta and add square markers."
      ],
      "metadata": {
        "id": "srr2yTQAA9EZ"
      }
    },
    {
      "cell_type": "code",
      "source": [
        "# RUN THIS CELL\n",
        "Year = [1920,1930,1940,1950,1960,1970,1980,1990,2000,2010] # x axis\n",
        "Unemployment_Rate = [9.8,12,8,7.2,6.9,7,6.5,6.2,5.5,6.3] # y axis"
      ],
      "metadata": {
        "id": "0egLH3-UBsLN"
      },
      "execution_count": null,
      "outputs": []
    },
    {
      "cell_type": "code",
      "source": [
        "plt.plot(Year, Unemployment_Rate, color='magenta',marker='s')\n",
        "plt.xlabel(\"Year\")\n",
        "plt.ylabel(\"Unemployment Rate at that Year\")\n",
        "plt.title(\"Unemployment Rate\")\n",
        "plt.show()"
      ],
      "metadata": {
        "colab": {
          "base_uri": "https://localhost:8080/",
          "height": 295
        },
        "id": "Lz7cUEl3N0m3",
        "outputId": "1dba1a85-5463-4d8f-9fe4-b64e76e42326"
      },
      "execution_count": null,
      "outputs": [
        {
          "output_type": "display_data",
          "data": {
            "text/plain": [
              "<Figure size 432x288 with 1 Axes>"
            ],
            "image/png": "[encoded data removed]"
          },
          "metadata": {
            "needs_background": "light"
          }
        }
      ]
    },
    {
      "cell_type": "markdown",
      "source": [
        "### **Bar Graph Practice**"
      ],
      "metadata": {
        "id": "XWP1sgj_stzj"
      }
    },
    {
      "cell_type": "markdown",
      "source": [
        "#####**Problem #1:**\n",
        "\n",
        "Plot the following bar graph. Add labels for the x and y axis accordingly. Make the title `Interest Rates vs. Homes`. Make x label `Home` and the y label `Interest Rate`. Make the bar color blue."
      ],
      "metadata": {
        "id": "bXb8tzjGgxtw"
      }
    },
    {
      "cell_type": "code",
      "source": [
        "# RUN THIS CELL\n",
        "homes = ['H1','H2','H3','H4','H5'] # x axis\n",
        "interest_rate = [10.2,10.3,22.5,14.9,18.2] # y axis"
      ],
      "metadata": {
        "id": "CaSOghpshSRD"
      },
      "execution_count": null,
      "outputs": []
    },
    {
      "cell_type": "code",
      "source": [
        "plt.bar(homes, interest_rate, color='blue')\n",
        "plt.title(\"Interest Rates vs. Homes\")\n",
        "plt.xlabel(\"Home\")\n",
        "plt.ylabel(\"Interest Rate\")\n",
        "plt.show()"
      ],
      "metadata": {
        "colab": {
          "base_uri": "https://localhost:8080/",
          "height": 295
        },
        "id": "Mex-5lnoO4Uq",
        "outputId": "a0d90f0a-bc43-425e-cd93-853474b97fa9"
      },
      "execution_count": null,
      "outputs": [
        {
          "output_type": "display_data",
          "data": {
            "text/plain": [
              "<Figure size 432x288 with 1 Axes>"
            ],
            "image/png": "[encoded data removed]"
          },
          "metadata": {
            "needs_background": "light"
          }
        }
      ]
    },
    {
      "cell_type": "markdown",
      "source": [
        "#####**Problem #2:**\n",
        "\n",
        "Create a brown bar graph with black bar edges. Add an appropriate bolded title and axis/graph labels."
      ],
      "metadata": {
        "id": "KdQrSltziFDg"
      }
    },
    {
      "cell_type": "code",
      "source": [
        "# RUN THIS CELL\n",
        "groups = ['G1','G2','G3','G4','G5'] # x axis\n",
        "scores = [100,94,37,29,72] # y axis"
      ],
      "metadata": {
        "id": "9mDpEc7givxt"
      },
      "execution_count": null,
      "outputs": []
    },
    {
      "cell_type": "code",
      "source": [
        "plt.bar(groups, scores, color='#964B00', edgeColor='black') #when I put 'brown' as color, it looked red so I just looked up that hex code for brown\n",
        "plt.title(\"Group Scores\", fontweight='bold')\n",
        "plt.xlabel(\"Group #\")\n",
        "plt.ylabel(\"Score\")\n",
        "plt.show()"
      ],
      "metadata": {
        "colab": {
          "base_uri": "https://localhost:8080/",
          "height": 295
        },
        "id": "ZYxIWScsPPyE",
        "outputId": "4b16a251-2710-4eff-c9fa-990b3fbfff54"
      },
      "execution_count": null,
      "outputs": [
        {
          "output_type": "display_data",
          "data": {
            "text/plain": [
              "<Figure size 432x288 with 1 Axes>"
            ],
            "image/png": "[encoded data removed]"
          },
          "metadata": {
            "needs_background": "light"
          }
        }
      ]
    },
    {
      "cell_type": "markdown",
      "source": [
        "#####**Problem #3:**\n",
        "\n",
        "Create a grouped bar graph for the following data. Make `group_A` brown and `group_b` teal. Add a bolded title and axis labels."
      ],
      "metadata": {
        "id": "e6TF4snSj7wt"
      }
    },
    {
      "cell_type": "code",
      "source": [
        "times = [\"Before\",\"Present\", \"Predicted\"]\n",
        "group_A_scores = np.array([20,90, 95])\n",
        "group_B_scores = np.array([84,86, 88])"
      ],
      "metadata": {
        "id": "3RIgcNiZkMSx"
      },
      "execution_count": null,
      "outputs": []
    },
    {
      "cell_type": "code",
      "source": [
        "x_axis = np.arange(1,4)\n",
        "plt.bar(x_axis, group_A_scores, width=width, color='#964B00')\n",
        "width=0.3\n",
        "plt.bar(x_axis+width, group_B_scores, width=width, color='teal')\n",
        "plt.xticks(x_axis+0.15, times)\n",
        "plt.title(\"Group Scores vs. Times\", fontweight='bold')\n",
        "plt.xlabel(\"Times\")\n",
        "plt.ylabel(\"Group A and B Scores\")\n",
        "plt.show()"
      ],
      "metadata": {
        "colab": {
          "base_uri": "https://localhost:8080/",
          "height": 295
        },
        "id": "d8iunlDRQWa4",
        "outputId": "8d2837b5-77e7-42e4-9a40-80bee253933d"
      },
      "execution_count": null,
      "outputs": [
        {
          "output_type": "display_data",
          "data": {
            "text/plain": [
              "<Figure size 432x288 with 1 Axes>"
            ],
            "image/png": "[encoded data removed]"
          },
          "metadata": {
            "needs_background": "light"
          }
        }
      ]
    },
    {
      "cell_type": "markdown",
      "source": [
        "##**PART 2**"
      ],
      "metadata": {
        "id": "5fA_PqWo4eaq"
      }
    },
    {
      "cell_type": "markdown",
      "source": [
        "Use the data provided in the cell below for problems #1-3. "
      ],
      "metadata": {
        "id": "Zr6sPsfcIhvw"
      }
    },
    {
      "cell_type": "code",
      "source": [
        "patientID = [101, 102, 103, 104, 105, 106, 107, 108, 109, 110, 111, 112, 113, 114, 115] \n",
        "weight = [125, 101, 165, 187, 144, 202, 113, 191, 223, 303, 166, 150, 108, 217, 191] \n",
        "height = [64, 59, 70, 72, 66, 72, 61, 71, 74, 69, 69, 67, 60, 70, 65] "
      ],
      "metadata": {
        "id": "xr7_sYIw-dWa"
      },
      "execution_count": null,
      "outputs": []
    },
    {
      "cell_type": "markdown",
      "source": [
        "##### **Problem #1:**\n",
        "\n",
        "Visualize the relationship between height and weight in the previous dataset. Use a scatter plot. Add labels for the x- and y-axis, as well as the title \"Height and Weight of Patients\". Decrease the size of the image."
      ],
      "metadata": {
        "id": "xxR87ifa--mU"
      }
    },
    {
      "cell_type": "code",
      "source": [
        "plt.figure(figsize = (3,2))\n",
        "plt.scatter(weight, height)\n",
        "plt.xlabel(\"Weight\")\n",
        "plt.ylabel(\"Height\")\n",
        "plt.title(\"Height and Weight of Patients\")\n",
        "plt.show()"
      ],
      "metadata": {
        "id": "_9Iau0X3_Fxc",
        "colab": {
          "base_uri": "https://localhost:8080/",
          "height": 187
        },
        "outputId": "20702bd4-9ec3-4ac6-d030-ad1160e386b6"
      },
      "execution_count": null,
      "outputs": [
        {
          "output_type": "display_data",
          "data": {
            "text/plain": [
              "<Figure size 216x144 with 1 Axes>"
            ],
            "image/png": "[encoded data removed]"
          },
          "metadata": {
            "needs_background": "light"
          }
        }
      ]
    },
    {
      "cell_type": "markdown",
      "source": [
        "##### **Problem #2:**\n",
        "Given weight and age data sorted by three categories, create a grouped bar graph to visualize the relationship between height and weight.\n",
        "\n",
        "Make sure to give appropriate titles and axis labels as well as a legend. Also make sure to adjust the following so that the graph is legible:\n",
        "*  figure size\n",
        "*  bar width\n",
        "*  bar colors"
      ],
      "metadata": {
        "id": "iw_Yrjj7qkws"
      }
    },
    {
      "cell_type": "code",
      "source": [
        "group1_weights = [100, 111, 112, 123, 127, 134, 145, 155, 178, 190, 210, 230, 245, 257, 267, 244]\n",
        "group2_weights = [101, 102, 103, 115, 120, 127, 121, 143, 140, 151, 180, 186, 187, 188, 196, 210]\n",
        "group3_weights = [90, 100, 111, 112, 124, 127, 118, 150, 140, 150, 170, 183, 186, 187, 198, 200]\n",
        "heights = np.arange(59,75)"
      ],
      "metadata": {
        "id": "u335XQFVrLsU"
      },
      "execution_count": null,
      "outputs": []
    },
    {
      "cell_type": "code",
      "source": [
        "plt.figure(figsize = (11,8))\n",
        "width=0.5\n",
        "plt.bar(heights, group1_weights, width=width-0.22, color='orange', label='Group 1 Weights')\n",
        "plt.bar(heights+width-0.22, group2_weights, width=width-0.22, color='blue', label='Group 2 Weights')\n",
        "plt.bar(heights+width*2-0.44, group3_weights, width=width-0.22, color='green', label='Group 3 Weights')\n",
        "plt.legend()\n",
        "plt.xticks(heights+0.25, heights)\n",
        "plt.show()"
      ],
      "metadata": {
        "colab": {
          "base_uri": "https://localhost:8080/",
          "height": 483
        },
        "id": "1uCDfEw73pv1",
        "outputId": "ba70939a-b40d-4e68-fe2b-e0fe522a6135"
      },
      "execution_count": null,
      "outputs": [
        {
          "output_type": "display_data",
          "data": {
            "text/plain": [
              "<Figure size 792x576 with 1 Axes>"
            ],
            "image/png": "[encoded data removed]"
          },
          "metadata": {
            "needs_background": "light"
          }
        }
      ]
    },
    {
      "cell_type": "markdown",
      "source": [
        "#####**Problem #4:**\n",
        "\n",
        "Create a line graph showing a patients height over time using the provided. Meet the following specifications:\n",
        "* Include an appropriate graph title.\n",
        "* Include appropriate axis labels.\n",
        "* Change the color to orange.\n",
        "* Add gridlines and a legend with one entry: 'Height'"
      ],
      "metadata": {
        "id": "FRRpPN0l_g9Q"
      }
    },
    {
      "cell_type": "code",
      "source": [
        "# RUN THIS CELL\n",
        "age = [0, 1, 2, 3, 4, 5, 6, 7, 8, 9, 10, 11, 12, 13, 14, 15, 16, 17, 18]\n",
        "height = [12, 18, 24, 30, 34, 38, 42, 45, 47, 50, 53, 56, 59, 62, 67, 68, 69, 70, 70]"
      ],
      "metadata": {
        "id": "bxWPQzl7_sm9"
      },
      "execution_count": null,
      "outputs": []
    },
    {
      "cell_type": "code",
      "source": [
        "plt.plot(age,height, color='orange', label='Height')\n",
        "plt.legend()\n",
        "plt.grid()\n",
        "plt.xlabel(\"Age\")\n",
        "plt.ylabel(\"Height\")\n",
        "plt.title(\"Age vs. Height\")\n",
        "plt.show()"
      ],
      "metadata": {
        "colab": {
          "base_uri": "https://localhost:8080/",
          "height": 295
        },
        "id": "uYSLzhHB9uzm",
        "outputId": "7388fe41-da94-4039-e322-d135e1f26933"
      },
      "execution_count": null,
      "outputs": [
        {
          "output_type": "display_data",
          "data": {
            "text/plain": [
              "<Figure size 432x288 with 1 Axes>"
            ],
            "image/png": "[encoded data removed]"
          },
          "metadata": {
            "needs_background": "light"
          }
        }
      ]
    },
    {
      "cell_type": "markdown",
      "source": [
        "#####**Problem #5:**\n",
        "\n",
        "Run the cell below to produce a fake dataset, `margin`, meant to represent the margins of victory of a political party for all of the counties and a numerical ID for each county, `county_id`, in the state.\n",
        "\n",
        "Make a bar graph:\n",
        "* Increase the size of the whole figure so that the data is legible.\n",
        "* Change bar color to black.\n",
        "* You do not need to change any other formatting."
      ],
      "metadata": {
        "id": "9MiOgnjctLSr"
      }
    },
    {
      "cell_type": "code",
      "source": [
        "county_id = np.arange(50)\n",
        "margin = np.random.random(size=50) * 100"
      ],
      "metadata": {
        "id": "DtukUOED207b"
      },
      "execution_count": null,
      "outputs": []
    },
    {
      "cell_type": "code",
      "source": [
        "#create a bar graph here\n",
        "plt.figure(figsize = (11,6))\n",
        "plt.bar(county_id, margin, color='black')\n",
        "plt.show()"
      ],
      "metadata": {
        "id": "Kx1LAEzIHWl3",
        "colab": {
          "base_uri": "https://localhost:8080/",
          "height": 374
        },
        "outputId": "1e0e0603-6b4f-408c-932e-882d180f5fb7"
      },
      "execution_count": null,
      "outputs": [
        {
          "output_type": "display_data",
          "data": {
            "text/plain": [
              "<Figure size 792x432 with 1 Axes>"
            ],
            "image/png": "[encoded data removed]"
          },
          "metadata": {
            "needs_background": "light"
          }
        }
      ]
    },
    {
      "cell_type": "markdown",
      "source": [
        "#####**Problem #6:**\n",
        "\n",
        "Now, run the cell below to randomly choose one of the county IDs to highlight in the graph.\n",
        "\n",
        "Then, using your code from Problem #5, highlight the bar in your graph associated with this `id` in red."
      ],
      "metadata": {
        "id": "4s34GOnqtSmp"
      }
    },
    {
      "cell_type": "code",
      "source": [
        "id = np.random.randint(51)"
      ],
      "metadata": {
        "id": "jd2PYUnT3ntt"
      },
      "execution_count": null,
      "outputs": []
    },
    {
      "cell_type": "code",
      "source": [
        "count = 0\n",
        "colors = []\n",
        "while(count < 50):\n",
        "  colors.append('black')\n",
        "  count += 1\n",
        "\n",
        "colors[id] = 'red'\n",
        "plt.figure(figsize = (11,6))\n",
        "plt.bar(county_id, margin, color=colors)\n",
        "plt.figure(figsize = (11,6))\n",
        "plt.show()\n"
      ],
      "metadata": {
        "colab": {
          "base_uri": "https://localhost:8080/",
          "height": 391
        },
        "id": "9rDgfKPXA-le",
        "outputId": "0600877c-5e1e-4821-997c-25cff28bbf32"
      },
      "execution_count": null,
      "outputs": [
        {
          "output_type": "display_data",
          "data": {
            "text/plain": [
              "<Figure size 792x432 with 1 Axes>"
            ],
            "image/png": "[encoded data removed]"
          },
          "metadata": {
            "needs_background": "light"
          }
        },
        {
          "output_type": "display_data",
          "data": {
            "text/plain": [
              "<Figure size 792x432 with 0 Axes>"
            ]
          },
          "metadata": {}
        }
      ]
    },
    {
      "cell_type": "markdown",
      "source": [
        "#####**Problem #7:**\n",
        "\n",
        "You've been provided with a user's Fitbit data of daily step count and daily calories burned over a 15-day period. A basic scatterplot has already been plotted for you. Your task is to:\n",
        "1. Adjust the color of the scatter points. Make them green.\n",
        "2. Adjust the size of the scatter points. Make the size equal `75`.\n",
        "3. Make the markers starts (*). \n",
        "4. Make the x and y labels **bold**.\n",
        "\n",
        "If you've forgotten any of the syntax for scatter plots, you can check out the official documentation [here](https://matplotlib.org/stable/api/_as_gen/matplotlib.pyplot.scatter.html)."
      ],
      "metadata": {
        "id": "Ppmnc2DUBv7T"
      }
    },
    {
      "cell_type": "code",
      "source": [
        "# the data \n",
        "calories_burned = [3092, 2754, 2852, 2527, 3199, 2640, 2874, 2649,\n",
        "                   2525, 2858, 2530, 2535, 2487, 2534, 2668]\n",
        "\n",
        "steps = [15578, 8769, 14133, 8757, 18045, 9087, 14367, 11326, 6776,\n",
        "                   14359, 10428, 9296, 8177, 8705, 9426]\n",
        "\n",
        "# plot basic scatterplot \n",
        "plt.figure(figsize=(8, 8))\n",
        "plt.scatter(steps, calories_burned, color='green', s=75, marker='*')\n",
        "plt.title(\"Calories Burned Based on Steps Taken\", fontsize=18, y=1.03)\n",
        "plt.xlabel(\"Steps Taken Per Day\", fontsize=14, labelpad=15, fontweight='bold')\n",
        "plt.ylabel(\"Calories Burned Per Day\", fontsize=14, labelpad=15, fontweight='bold')\n",
        "plt.tick_params(labelsize=12, pad=6)"
      ],
      "metadata": {
        "id": "V6PE2vwADX2x",
        "colab": {
          "base_uri": "https://localhost:8080/",
          "height": 550
        },
        "outputId": "49b81044-54ee-4e1c-a94c-4bdffd5d69de"
      },
      "execution_count": null,
      "outputs": [
        {
          "output_type": "display_data",
          "data": {
            "text/plain": [
              "<Figure size 576x576 with 1 Axes>"
            ],
            "image/png": "[encoded data removed]"
          },
          "metadata": {
            "needs_background": "light"
          }
        }
      ]
    },
    {
      "cell_type": "markdown",
      "source": [
        "#####**Problem #8:**\n",
        "\n",
        "Create a bar graph with the following data. Make the x label `U.S. States`, the y label `Taxes (percentage)`, and the title `Different Taxes Across U.S. States`. Make the bars (in order) red, orange, green, and blue. Then make the edges of the bar be black. \n",
        "\n",
        "If you've forgotten any of the syntax for bar graphs, you can check out the documentation [here](https://matplotlib.org/stable/api/_as_gen/matplotlib.pyplot.bar.html)."
      ],
      "metadata": {
        "id": "Y1oIOojHEbvP"
      }
    },
    {
      "cell_type": "code",
      "source": [
        "# RUN THIS CELL\n",
        "#x data\n",
        "states = [\"Alabama\", \"Texas\", \"New York\", \"California\"]\n",
        "\n",
        "#y data\n",
        "taxes = [20, 15, 30, 35]"
      ],
      "metadata": {
        "id": "5kiqimhSJnBQ"
      },
      "execution_count": null,
      "outputs": []
    },
    {
      "cell_type": "code",
      "source": [
        "colors=[\"red\", \"orange\", \"green\", \"blue\"]\n",
        "plt.bar(states, taxes, color=colors, edgeColor='black')\n",
        "plt.xlabel(\"U.S. States\")\n",
        "plt.ylabel(\"Texas (percentage)\")\n",
        "plt.title(\"Different Taxes Across U.S. States\")\n",
        "plt.show()"
      ],
      "metadata": {
        "colab": {
          "base_uri": "https://localhost:8080/",
          "height": 295
        },
        "id": "bfAGzf7vEGli",
        "outputId": "7f521b85-620b-4bae-e862-4ac36470d7bf"
      },
      "execution_count": null,
      "outputs": [
        {
          "output_type": "display_data",
          "data": {
            "text/plain": [
              "<Figure size 432x288 with 1 Axes>"
            ],
            "image/png": "[encoded data removed]"
          },
          "metadata": {
            "needs_background": "light"
          }
        }
      ]
    },
    {
      "cell_type": "markdown",
      "source": [
        "#####**Problem #9:**\n",
        "\n",
        "Use the following data to make a bar graph. Make the x label `Energy Source`, the y label `Energy Output (GJ)` and the title `Energy output from various fuel sources`. Make the width `.6`."
      ],
      "metadata": {
        "id": "7j_DPgGmKGKU"
      }
    },
    {
      "cell_type": "code",
      "source": [
        "# RUN THIS CELL\n",
        "energy_source = ['Nuclear', 'Hydro', 'Gas', 'Oil', 'Coal', 'Biofuel']\n",
        "energy_output = [5, 6, 15, 22, 24, 8]"
      ],
      "metadata": {
        "id": "UJUgns2rLARn"
      },
      "execution_count": null,
      "outputs": []
    },
    {
      "cell_type": "code",
      "source": [
        "plt.bar(energy_source, energy_output, width=0.6)\n",
        "plt.xlabel(\"Energy Source\")\n",
        "plt.ylabel(\"Energy Output (GJ)\")\n",
        "plt.title(\"Energy output from various fuel sources\")\n",
        "plt.show()"
      ],
      "metadata": {
        "id": "CZAAGIOILaH1",
        "colab": {
          "base_uri": "https://localhost:8080/",
          "height": 295
        },
        "outputId": "db9aaa3e-ed09-4ef5-d4a3-788cbf1a04fd"
      },
      "execution_count": null,
      "outputs": [
        {
          "output_type": "display_data",
          "data": {
            "text/plain": [
              "<Figure size 432x288 with 1 Axes>"
            ],
            "image/png": "[encoded data removed]"
          },
          "metadata": {
            "needs_background": "light"
          }
        }
      ]
    },
    {
      "cell_type": "markdown",
      "source": [
        "#####**Problem #10:**\n",
        "\n",
        "Create a *horizontal* bar graph out of the following data.\n",
        "\n",
        "**HINT:** Many computer science problems will require you to look up information that you don't know. This is one of them. You can find documentation for horizontal bar graphs online."
      ],
      "metadata": {
        "id": "JNXc2o-1LkTo"
      }
    },
    {
      "cell_type": "code",
      "source": [
        "# RUN THIS CELL\n",
        "x = [\"A\", \"B\", \"C\", \"D\"]\n",
        "y = [3, 8, 1, 10]"
      ],
      "metadata": {
        "id": "LCiFz89FMLqg"
      },
      "execution_count": null,
      "outputs": []
    },
    {
      "cell_type": "code",
      "source": [
        "plt.rcdefaults()\n",
        "fig, ax = plt.subplots()\n",
        "\n",
        "plt.barh(x, y)\n",
        "ax.invert_yaxis()  # labels read top-to-bottom\n",
        "\n"
      ],
      "metadata": {
        "id": "Rj9Lb_rYMNWO",
        "colab": {
          "base_uri": "https://localhost:8080/",
          "height": 430
        },
        "outputId": "f9a61490-02d1-4d91-8d50-6e0d258dabda"
      },
      "execution_count": null,
      "outputs": [
        {
          "output_type": "display_data",
          "data": {
            "text/plain": [
              "<Figure size 640x480 with 1 Axes>"
            ],
            "image/png": "[encoded data removed]"
          },
          "metadata": {}
        }
      ]
    }
  ]
}