{
  "nbformat": 4,
  "nbformat_minor": 0,
  "metadata": {
    "colab": {
      "provenance": [],
      "toc_visible": true
    },
    "kernelspec": {
      "name": "python3",
      "display_name": "Python 3"
    },
    "language_info": {
      "name": "python"
    }
  },
  "cells": [
    {
      "cell_type": "markdown",
      "source": [
        "## **Homework #5: K-Nearest Neighbors**\n",
        "----\n",
        "\n",
        "## **Description**\n",
        "In this homework, you will reinforce the concepts related to the **K-Nearest Neighbors algorithm**  through practice problems.\n",
        "\n",
        "\n",
        "\n",
        "\n",
        "<br>\n",
        "\n",
        "## **Cheat Sheet**\n",
        "\n",
        "[K-Nearest Neighbors with sklearn](https://docs.google.com/document/d/1kggnJfxf3RS9xyJ-g0VOqV1IWHqfmgs4H6rLVkopU1k/edit?usp=sharing)"
      ],
      "metadata": {
        "id": "EcG6Z2zPTX0J"
      }
    },
    {
      "cell_type": "markdown",
      "source": [
        "####**Before you begin, make sure to import your libraries!**"
      ],
      "metadata": {
        "id": "AA-7HDHPGlhx"
      }
    },
    {
      "cell_type": "code",
      "source": [
        "import numpy as np\n",
        "import pandas as pd\n",
        "import matplotlib.pyplot as plt\n",
        "from sklearn.model_selection import train_test_split \n",
        "\n",
        "from sklearn.neighbors import KNeighborsClassifier\n",
        "\n",
        "from sklearn.preprocessing import StandardScaler # Useful for scaling/normalizing our data. You do not need to know this\n"
      ],
      "metadata": {
        "id": "l2oyIkjzGlFX"
      },
      "execution_count": null,
      "outputs": []
    },
    {
      "cell_type": "markdown",
      "source": [
        "### **Life Expectancy by Continent**\n",
        "---\n",
        "For the following exercise, we will use a dataset that maps life expectancy around the world. Explore the dataset and get familiar with the data before proceeding. \n",
        "\n",
        "<br>\n",
        "\n",
        "### **Goal**\n",
        "\n",
        "With KNN, you will use the overall life expectancy, as well as the male and female life expectancy of new datapoints, to determine which continent the data might belong to.**"
      ],
      "metadata": {
        "id": "mWF3B0FZFdNE"
      }
    },
    {
      "cell_type": "markdown",
      "source": [
        "#### **Step \\#1: Load the data**\n",
        "---\n",
        "Run the given code to load and view your data frame."
      ],
      "metadata": {
        "id": "FqEhezJQBGNY"
      }
    },
    {
      "cell_type": "code",
      "source": [
        "url = 'https://docs.google.com/spreadsheets/d/1z5WPTM4Rge-8U4Dq11Jh9JmNxDAbMrel/edit?usp=sharing&ouid=117761513509433635335&rtpof=true&sd=true'\n",
        "url='https://drive.google.com/uc?id=' + url.split('/')[-2]\n",
        "life_expectancy_df = pd.read_excel(url)\n",
        "\n"
      ],
      "metadata": {
        "id": "tom104vbGQEE"
      },
      "execution_count": null,
      "outputs": []
    },
    {
      "cell_type": "markdown",
      "source": [
        "#### **Step \\#2: Decide independent and dependent variables**\n",
        "---\n",
        "Use the dataframe `life_expectancy_df` and subset your data into `inputs` and `output`.\n",
        "\n",
        "<br>\n",
        "\n",
        "The `inputs` will be `Overall Life`,\t`Male Life`, and `Female Life`.\n",
        "\n",
        "The `output` will be `Continent`."
      ],
      "metadata": {
        "id": "1Pi_Oyq1BIOj"
      }
    },
    {
      "cell_type": "code",
      "source": [
        "inputs = life_expectancy_df[[\"Overall Life\", \"Male Life\", \"Female Life\"]]\n",
        "output = life_expectancy_df[['Continent']]"
      ],
      "metadata": {
        "id": "n_D9Oo6QX856"
      },
      "execution_count": null,
      "outputs": []
    },
    {
      "cell_type": "markdown",
      "source": [
        "#### **Step \\#3: Split the data into train and test data**\n",
        "---\n",
        "Split your data into training and testing data. Reserve 20% of the data for testing. Set the **random_state** parameter to **42**.\n",
        "\n",
        "**Hint**: Use `train_test_split` method from `sklearn` library."
      ],
      "metadata": {
        "id": "ioRVV7UXBMDV"
      }
    },
    {
      "cell_type": "code",
      "source": [
        "x_train, x_test, y_train, y_test = train_test_split(inputs, output, test_size=0.2, random_state=42)"
      ],
      "metadata": {
        "id": "WXO5pzVqS6y9"
      },
      "execution_count": null,
      "outputs": []
    },
    {
      "cell_type": "markdown",
      "source": [
        "#### **Step \\#4: Import your model**\n",
        "---"
      ],
      "metadata": {
        "id": "_kAVztveBPzj"
      }
    },
    {
      "cell_type": "code",
      "source": [
        "from sklearn.neighbors import KNeighborsClassifier"
      ],
      "metadata": {
        "id": "25_nVC5aCwEK"
      },
      "execution_count": null,
      "outputs": []
    },
    {
      "cell_type": "markdown",
      "source": [
        "#### **Step \\#5: Initialize your model**\n",
        "---\n",
        "Build your model with $K=5$\n",
        "\n",
        "**Hint**: Use `KNeighborsClassifier()` method from `sklearn` library."
      ],
      "metadata": {
        "id": "5K2_7LozBRlD"
      }
    },
    {
      "cell_type": "code",
      "source": [
        "knn_model = KNeighborsClassifier(n_neighbors= 5)"
      ],
      "metadata": {
        "id": "98KYkIoPYo_3"
      },
      "execution_count": null,
      "outputs": []
    },
    {
      "cell_type": "markdown",
      "source": [
        "#### **Step \\#6: Fit your model and make a prediction**\n",
        "---\n",
        "Train your model with the `x_train` and `y_train` training data."
      ],
      "metadata": {
        "id": "OsaJ5yZxBRq-"
      }
    },
    {
      "cell_type": "code",
      "source": [
        "knn_model.fit(x_train, y_train)"
      ],
      "metadata": {
        "id": "dBDd6tY7C3Ih",
        "colab": {
          "base_uri": "https://localhost:8080/"
        },
        "outputId": "40c39cc9-f44f-4c64-9cf4-cac7351fa2b2"
      },
      "execution_count": null,
      "outputs": [
        {
          "output_type": "stream",
          "name": "stderr",
          "text": [
            "/usr/local/lib/python3.7/dist-packages/sklearn/neighbors/_classification.py:198: DataConversionWarning: A column-vector y was passed when a 1d array was expected. Please change the shape of y to (n_samples,), for example using ravel().\n",
            "  return self._fit(X, y)\n"
          ]
        },
        {
          "output_type": "execute_result",
          "data": {
            "text/plain": [
              "KNeighborsClassifier()"
            ]
          },
          "metadata": {},
          "execution_count": 42
        }
      ]
    },
    {
      "cell_type": "markdown",
      "source": [
        "#### **Step \\#7: Test the model**\n",
        "\n",
        "\n",
        "Now, use your model to predict `x_test` "
      ],
      "metadata": {
        "id": "YY3tT85OQRhz"
      }
    },
    {
      "cell_type": "code",
      "source": [
        "# Make Predictions\n",
        "pred = knn_model.predict(x_test)\n",
        "print(pred)\n",
        "\n",
        "male = x_test[\"Male Life\"]\n",
        "female = x_test[\"Female Life\"]\n",
        "\n",
        "\n",
        "# converting the predictions to colors\n",
        "continent_to_color = {\"Africa\": \"orange\", \"Asia\": \"green\", \"Europe\": \"teal\", \n",
        "                      \"North America\": \"brown\", \"Oceania\": \"red\", \"South America\": \"maroon\"}\n",
        "pred = [continent_to_color[p] for p in pred]                    \n",
        "\n",
        "\n",
        "# visualize these predictions\n",
        "plt.figure(figsize=(10,6))\n",
        "\n",
        "plt.scatter(male, female, c = pred)\n",
        "\n",
        "plt.title(\"Male and Female Life Expectancy Colored by Predicted Continent\")\n",
        "plt.xlabel(\"Male Life Expectancy\")\n",
        "plt.ylabel(\"Female Life Expectancy\")\n",
        "\n",
        "plt.show()"
      ],
      "metadata": {
        "id": "E7CmnMPqQP1I",
        "colab": {
          "base_uri": "https://localhost:8080/",
          "height": 526
        },
        "outputId": "eeb9ecb1-8cae-42d7-f5b9-6fe864873d83"
      },
      "execution_count": null,
      "outputs": [
        {
          "output_type": "stream",
          "name": "stdout",
          "text": [
            "['Europe' 'Africa' 'Asia' 'Africa' 'Africa' 'Asia' 'South America' 'Asia'\n",
            " 'Africa' 'Africa' 'Europe' 'Europe' 'Africa' 'Europe' 'Europe'\n",
            " 'North America' 'Africa' 'South America' 'Africa' 'Asia' 'North America'\n",
            " 'Europe' 'South America' 'North America' 'Asia' 'Oceania' 'Africa' 'Asia'\n",
            " 'North America' 'Oceania' 'Africa' 'South America' 'Europe' 'Africa'\n",
            " 'Asia' 'Asia' 'Asia' 'Europe' 'South America' 'Africa' 'Asia' 'Africa'\n",
            " 'Africa' 'Europe' 'Asia']\n"
          ]
        },
        {
          "output_type": "display_data",
          "data": {
            "text/plain": [
              "<Figure size 720x432 with 1 Axes>"
            ],
            "image/png": "[encoded data removed]"
          },
          "metadata": {
            "needs_background": "light"
          }
        }
      ]
    },
    {
      "cell_type": "markdown",
      "source": [
        "#### **Step \\#8: Make predictions**\n",
        "---\n",
        "\n",
        "**Use the mystery country supplied to predict what continent it is a part of.**\n",
        "\n",
        "\n",
        "1. The mystery country's data has already been setup below. Use your KNN model to predict the continent:"
      ],
      "metadata": {
        "id": "y1asRJsmBbvB"
      }
    },
    {
      "cell_type": "code",
      "source": [
        "mystery_country = pd.DataFrame([[84.65, 87.15, 92.24]], columns = [\"Overall Life\", \"Male Life\", \"Female Life\"])\n",
        "\n",
        "prediction = knn_model.predict(mystery_country)\n",
        "\n",
        "print(prediction)"
      ],
      "metadata": {
        "id": "QGmp-CjUvzfh",
        "colab": {
          "base_uri": "https://localhost:8080/"
        },
        "outputId": "5dc311ac-87d1-46fc-ad22-e397bd7ca3e0"
      },
      "execution_count": null,
      "outputs": [
        {
          "output_type": "stream",
          "name": "stdout",
          "text": [
            "['Asia']\n"
          ]
        }
      ]
    },
    {
      "cell_type": "markdown",
      "source": [
        "**Use your model and the code from above to predict for the following data points:**\n",
        "\n",
        "2.  `Overall Life`: 70,   `Male Life`: 65,   `Female Life`: 86 (`[70, 65, 86]`)\n",
        "3.  `Overall Life`: 65,   `Male Life`: 64,   `Female Life`: 68 (`[65, 64, 68]`)\n",
        "4.  `Overall Life`: 80,   `Male Life`: 74,   `Female Life`: 80 (`[80, 74, 80]`)"
      ],
      "metadata": {
        "id": "DrYD3awEilAS"
      }
    },
    {
      "cell_type": "code",
      "source": [
        "# 2.\n",
        "country_1 = pd.DataFrame([[70, 65, 86]], columns = [\"Overall Life\", \"Male Life\", \"Female Life\"])\n",
        "pred1 = knn_model.predict(country_1)\n",
        "print(pred1)"
      ],
      "metadata": {
        "id": "dP3XMOStjEYl",
        "colab": {
          "base_uri": "https://localhost:8080/"
        },
        "outputId": "32ec890c-f557-40bd-e798-77fcc682193a"
      },
      "execution_count": null,
      "outputs": [
        {
          "output_type": "stream",
          "name": "stdout",
          "text": [
            "['Asia']\n"
          ]
        }
      ]
    },
    {
      "cell_type": "code",
      "source": [
        "# 3.\n",
        "country_2 = pd.DataFrame([[65, 64, 68]], columns = [\"Overall Life\", \"Male Life\", \"Female Life\"])\n",
        "pred2 = knn_model.predict(country_2)\n",
        "print(pred2)"
      ],
      "metadata": {
        "id": "krgqOwC2jL7p",
        "colab": {
          "base_uri": "https://localhost:8080/"
        },
        "outputId": "38e7bdec-f02e-4a37-ffc1-49e310b683c8"
      },
      "execution_count": null,
      "outputs": [
        {
          "output_type": "stream",
          "name": "stdout",
          "text": [
            "['Africa']\n"
          ]
        }
      ]
    },
    {
      "cell_type": "code",
      "source": [
        "# 4.\n",
        "country_3 = pd.DataFrame([[80, 74, 80]], columns = [\"Overall Life\", \"Male Life\", \"Female Life\"])\n",
        "pred3 = knn_model.predict(country_3)\n",
        "print(pred3)"
      ],
      "metadata": {
        "id": "Te8c9s32jTnC",
        "colab": {
          "base_uri": "https://localhost:8080/"
        },
        "outputId": "e38cbc53-80d7-4fed-b19c-2ea02375b4ea"
      },
      "execution_count": null,
      "outputs": [
        {
          "output_type": "stream",
          "name": "stdout",
          "text": [
            "['North America']\n"
          ]
        }
      ]
    },
    {
      "cell_type": "markdown",
      "source": [
        "### **Classifying Stars**\n",
        "---\n",
        "For the following exercise, we will use a dataset that contains data collected by astronomers about different classes of stars that have been observed. Explore the dataset and get familiar with the data before proceeding.\n",
        "\n",
        "\n",
        "<br>\n",
        "\n",
        "### **Goal**\n",
        "\n",
        "With KNN, you will use the size and temperature of stars to determine which class they may be.\n",
        "\n",
        "\n",
        "<br><br>\n",
        "\n",
        "***Side Note***: For reference, the classes of stars we are classifying are given below. If you are interested in this topic, feel free to do some research on these different categories of stars!\n",
        "\n",
        "0: Red Dwarf\n",
        "\n",
        "1: Brown Dwarf\n",
        "\n",
        "2: White Dwarf\n",
        "\n",
        "3: Main Sequence\n",
        "\n",
        "4: SuperGiants\n",
        "\n",
        "5: HyperGiants"
      ],
      "metadata": {
        "id": "UxfdmNbVmJuq"
      }
    },
    {
      "cell_type": "markdown",
      "source": [
        "#### **Step \\#1: Load the data**\n",
        "---\n",
        "Run the given code to load and view your data frame."
      ],
      "metadata": {
        "id": "aCFtCV4tmJu0"
      }
    },
    {
      "cell_type": "code",
      "source": [
        "url = 'https://docs.google.com/spreadsheets/d/e/2PACX-1vTCZgoegOHa49SFXYU-ZZTdCkgTp0sneU1BsEOa7vusjTXPPLcn0i3kXhX1nyqkApJHCKTkw0mWuWr4/pub?gid=753880827&single=true&output=csv'\n",
        "stars_df = pd.read_csv(url)\n",
        "\n",
        "stars_df.shape"
      ],
      "metadata": {
        "id": "i_m80YtamJu0",
        "colab": {
          "base_uri": "https://localhost:8080/"
        },
        "outputId": "4c8da39a-f929-450c-8af7-66b2907349a3"
      },
      "execution_count": null,
      "outputs": [
        {
          "output_type": "execute_result",
          "data": {
            "text/plain": [
              "(240, 5)"
            ]
          },
          "metadata": {},
          "execution_count": 4
        }
      ]
    },
    {
      "cell_type": "markdown",
      "source": [
        "#### **Step \\#2: Decide independent and dependent variables**\n",
        "---\n",
        "Use the dataframe `stars_df` and subset your data into `inputs` and `output`.\n",
        "\n",
        "<br>\n",
        "\n",
        "The `inputs` will be `size` and `temperature`.\n",
        "\n",
        "The `output` will be `class`."
      ],
      "metadata": {
        "id": "w0fsjaktmJu0"
      }
    },
    {
      "cell_type": "code",
      "source": [
        "inputs = stars_df[[\"size\", \"temperature\"]]\n",
        "output = stars_df[\"class\"]"
      ],
      "metadata": {
        "id": "_QhIbfKAmJu0"
      },
      "execution_count": null,
      "outputs": []
    },
    {
      "cell_type": "markdown",
      "source": [
        "#### **Step \\#3: Split the data into train and test data**\n",
        "---\n",
        "Let's split your data into training and testing data. Since this is a small dataset, let's just reserve 10% of the data for testing. Set the **random_state** parameter to **42**.\n",
        "\n",
        "**Hint**: Use `train_test_split` method from `sklearn` library."
      ],
      "metadata": {
        "id": "A6ij7uTDmJu1"
      }
    },
    {
      "cell_type": "code",
      "source": [
        "x_train, x_test, y_train, y_test = train_test_split(inputs, output, test_size=0.2, random_state=42)"
      ],
      "metadata": {
        "id": "xBz7QtFVmJu1"
      },
      "execution_count": null,
      "outputs": []
    },
    {
      "cell_type": "markdown",
      "source": [
        "#### **Step \\#4: Import your model**\n",
        "---"
      ],
      "metadata": {
        "id": "nAl_9jbkmJu1"
      }
    },
    {
      "cell_type": "code",
      "source": [
        "from sklearn.neighbors import KNeighborsClassifier"
      ],
      "metadata": {
        "id": "RDdDbE-TmJu1"
      },
      "execution_count": null,
      "outputs": []
    },
    {
      "cell_type": "markdown",
      "source": [
        "#### **Step \\#5: Initialize your model**\n",
        "---\n",
        "Build your model with $K=7$\n",
        "\n",
        "**Hint**: Use `KNeighborsClassifier()` method from `sklearn` library."
      ],
      "metadata": {
        "id": "dSFm8SYpmJu1"
      }
    },
    {
      "cell_type": "code",
      "source": [
        "starModel = KNeighborsClassifier(n_neighbors= 7)"
      ],
      "metadata": {
        "id": "cNSH7W1zmJu1"
      },
      "execution_count": null,
      "outputs": []
    },
    {
      "cell_type": "markdown",
      "source": [
        "#### **Step \\#6: Fit your model and make a prediction**\n",
        "---\n",
        "Train your model with the `x_train` and `y_train` training data."
      ],
      "metadata": {
        "id": "mtBikiJdmJu1"
      }
    },
    {
      "cell_type": "code",
      "source": [
        "starModel.fit(x_train, y_train)"
      ],
      "metadata": {
        "id": "WwgcJ34dmJu1",
        "colab": {
          "base_uri": "https://localhost:8080/"
        },
        "outputId": "7cb4ded4-26c6-4e0f-8b8a-24d3a63ad466"
      },
      "execution_count": null,
      "outputs": [
        {
          "output_type": "execute_result",
          "data": {
            "text/plain": [
              "KNeighborsClassifier(n_neighbors=7)"
            ]
          },
          "metadata": {},
          "execution_count": 23
        }
      ]
    },
    {
      "cell_type": "markdown",
      "source": [
        "#### **Step \\#7: Test the model**\n",
        "\n",
        "\n",
        "Now, use your model to predict `x_test` "
      ],
      "metadata": {
        "id": "BkdOoY7pmJu1"
      }
    },
    {
      "cell_type": "code",
      "source": [
        "# Make Predictions\n",
        "pred2 = starModel.predict(x_test)\n",
        "print(pred2)\n",
        "\n",
        "size = x_test[\"size\"]\n",
        "temp = x_test[\"temperature\"]\n",
        "\n",
        "# converting the predictions to colors\n",
        "#planet_to_color = {'0': \"red\",'1': \"brown\", '2': \"grey\", \n",
        " #                     '3': \"blue\", '4': \"orange\", '5': \"maroon\"}\n",
        "#pred2 = [planet_to_color[p] for p in pred2]  \n",
        "\n",
        "\n",
        "# visualize these predictions\n",
        "plt.figure(figsize=(10,6))\n",
        "\n",
        "plt.scatter(size, temp, c = pred2)\n",
        "\n",
        "plt.title(\"Temperature and Size of Star Colored by Predicted Class\")\n",
        "plt.xlabel(\"Size of Star\")\n",
        "plt.ylabel(\"Temperature of Star\")\n",
        "\n",
        "plt.show()"
      ],
      "metadata": {
        "id": "YXTtYfndmJu1",
        "colab": {
          "base_uri": "https://localhost:8080/",
          "height": 439
        },
        "outputId": "6515fbd9-faad-46d5-d8ee-557d7aee242c"
      },
      "execution_count": null,
      "outputs": [
        {
          "output_type": "stream",
          "name": "stdout",
          "text": [
            "[2 0 3 3 2 5 3 2 0 2 1 4 5 2 5 4 0 1 2 1 0 0 3 3 2 3 1 2 2 2 3 4 2 0 0 0 0\n",
            " 5 1 5 2 5 2 0 4 0 2 3]\n"
          ]
        },
        {
          "output_type": "display_data",
          "data": {
            "text/plain": [
              "<Figure size 720x432 with 1 Axes>"
            ],
            "image/png": "[encoded data removed]"
          },
          "metadata": {
            "needs_background": "light"
          }
        }
      ]
    },
    {
      "cell_type": "markdown",
      "source": [
        "#### **Step \\#8: Make predictions**\n",
        "---\n",
        "\n",
        "Astronomers have heard of your amazing ML model for predicting star types and want you to help them categorize new stars they have observed! For each problem below, use your KNN model to classify the stars based on the data given to you.\n",
        "\n",
        "\t\n",
        "1. `size`: 708.9, `temperature`: 12100 (`[708.9, 12100]`)\n",
        "\n",
        "2. `size`: 0.0998, `temperature`:  3484 (`[0.0998, 3484]`)\n",
        "\n",
        "3. `size`: 6.39, `temperature`:  34190 (`[6.39, 34190]`)\n",
        "\n",
        "4. `size`: 0.16, `temperature`: 2799 (`[0.16, 2799]`)"
      ],
      "metadata": {
        "id": "kGoZURsgmJu1"
      }
    },
    {
      "cell_type": "code",
      "source": [
        "# 1.\n",
        "star1 = pd.DataFrame([[708.9, 12100]], columns = [\"size\", \"temperature\"])\n",
        "pred1 = knn_model.predict(star1)\n",
        "print(pred1)"
      ],
      "metadata": {
        "id": "eVAkvlUkmJu1",
        "colab": {
          "base_uri": "https://localhost:8080/"
        },
        "outputId": "1688d4b2-35e2-4d35-e9e9-53874cbad73f"
      },
      "execution_count": null,
      "outputs": [
        {
          "output_type": "stream",
          "name": "stdout",
          "text": [
            "[4]\n"
          ]
        }
      ]
    },
    {
      "cell_type": "code",
      "source": [
        "# 2.\n",
        "star2 = pd.DataFrame([[0.0998, 3484]], columns = [\"size\", \"temperature\"])\n",
        "pred2 = knn_model.predict(star2)\n",
        "print(pred2)"
      ],
      "metadata": {
        "id": "TLG1zWTBmJu2",
        "colab": {
          "base_uri": "https://localhost:8080/"
        },
        "outputId": "ac78bcf2-e9c5-4089-acae-47297f0dc981"
      },
      "execution_count": null,
      "outputs": [
        {
          "output_type": "stream",
          "name": "stdout",
          "text": [
            "[0]\n"
          ]
        }
      ]
    },
    {
      "cell_type": "code",
      "source": [
        "# 3.\n",
        "star3 = pd.DataFrame([[6.39, 34190]], columns = [\"size\", \"temperature\"])\n",
        "pred3 = knn_model.predict(star3)\n",
        "print(pred3)"
      ],
      "metadata": {
        "id": "GqgEvKc8mJu2",
        "colab": {
          "base_uri": "https://localhost:8080/"
        },
        "outputId": "038c49f6-be30-452f-e6e5-454bce44ef61"
      },
      "execution_count": null,
      "outputs": [
        {
          "output_type": "stream",
          "name": "stdout",
          "text": [
            "[3]\n"
          ]
        }
      ]
    },
    {
      "cell_type": "code",
      "source": [
        "# 4.\n",
        "star4 = pd.DataFrame([[0.16, 2799]], columns = [\"size\", \"temperature\"])\n",
        "pred4 = knn_model.predict(star4)\n",
        "print(pred4)"
      ],
      "metadata": {
        "id": "vSHZvr_rmJu2",
        "colab": {
          "base_uri": "https://localhost:8080/"
        },
        "outputId": "f544c03a-aaf9-48bd-89d8-10a87d3d2554"
      },
      "execution_count": null,
      "outputs": [
        {
          "output_type": "stream",
          "name": "stdout",
          "text": [
            "[0]\n"
          ]
        }
      ]
    },
    {
      "cell_type": "markdown",
      "source": [
        "---\n",
        "###© 2022 The Coding School, All rights reserved"
      ],
      "metadata": {
        "id": "pcdKf4L8k9aq"
      }
    }
  ]
}