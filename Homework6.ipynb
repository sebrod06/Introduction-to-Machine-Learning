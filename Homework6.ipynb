{
  "cells": [
    {
      "cell_type": "markdown",
      "metadata": {
        "id": "_iaXDd2j9axp"
      },
      "source": [
        "# Homework \\#6: K-Nearest Neighbors Part II\n",
        "---\n",
        "\n"
      ]
    },
    {
      "cell_type": "markdown",
      "metadata": {
        "id": "7VJ0olpwwTvn"
      },
      "source": [
        "## **Part 0: Import sklearn**\n",
        "---\n",
        "\n",
        "**Run the code below before continuing.**"
      ]
    },
    {
      "cell_type": "code",
      "execution_count": null,
      "metadata": {
        "id": "I67Z7TAJwTvo"
      },
      "outputs": [],
      "source": [
        "import pandas as pd\n",
        "import numpy as np\n",
        "import matplotlib.pyplot as plt\n",
        "from sklearn import datasets, model_selection, metrics"
      ]
    },
    {
      "cell_type": "markdown",
      "metadata": {
        "id": "O1wMbq7L4J9H"
      },
      "source": [
        "## **Part 1: The Key Pieces**\n",
        "---\n",
        "\n",
        "In this section, you will practice the key pieces that we have seen when implementing KNN models for different datasets."
      ]
    },
    {
      "cell_type": "markdown",
      "metadata": {
        "id": "jzjiFy9g4bl8"
      },
      "source": [
        "### **Exercise #1: Feature Selection**\n",
        "---\n",
        "In this exercise, you will determine the features that you think are best for using in a KNN model. \n",
        "\n",
        "**For each part, there will be corresponding questions on Canvas.**\n",
        "\n",
        "1. Load in the data at the provided url and look at the first few rows of the DataFrame."
      ]
    },
    {
      "cell_type": "code",
      "source": [
        "url = \"https://docs.google.com/spreadsheets/d/e/2PACX-1vTTY64uwF1NcVXhm4MjkPmgqQbpZ4E-h6MzEWcD3j_mrMHtTmcLoGfNrF7VgJ92SgPcgbIrQcmoqUaP/pub?gid=735416119&single=true&output=csv\"\n",
        "df = pd.read_csv(url)\n",
        "\n",
        "df.head()"
      ],
      "metadata": {
        "id": "P3hU2OrFpJfT",
        "colab": {
          "base_uri": "https://localhost:8080/",
          "height": 206
        },
        "outputId": "aca9a0a6-4b94-42ca-a8a7-1dd81c5d4d98"
      },
      "execution_count": null,
      "outputs": [
        {
          "output_type": "execute_result",
          "data": {
            "text/plain": [
              "   distance_from_home  distance_from_last_transaction  \\\n",
              "0            5.841547                        2.919675   \n",
              "1            2.826652                        1.335472   \n",
              "2           79.452616                        0.732648   \n",
              "3           15.371582                        0.301456   \n",
              "4           10.068538                        0.083172   \n",
              "\n",
              "   ratio_to_median_purchase_price  repeat_retailer  used_chip  \\\n",
              "0                        1.528776                1          1   \n",
              "1                        0.457052                1          0   \n",
              "2                        0.846234                1          1   \n",
              "3                        2.768575                1          1   \n",
              "4                        2.072339                1          1   \n",
              "\n",
              "   used_pin_number  online_order  fraud  \n",
              "0                0             1      0  \n",
              "1                0             1      0  \n",
              "2                0             1      0  \n",
              "3                0             1      0  \n",
              "4                0             1      0  "
            ],
            "text/html": [
              "\n",
              "  <div id=\"df-9ed3e491-6a91-4ffa-ab41-9a995b78de19\">\n",
              "    <div class=\"colab-df-container\">\n",
              "      <div>\n",
              "<style scoped>\n",
              "    .dataframe tbody tr th:only-of-type {\n",
              "        vertical-align: middle;\n",
              "    }\n",
              "\n",
              "    .dataframe tbody tr th {\n",
              "        vertical-align: top;\n",
              "    }\n",
              "\n",
              "    .dataframe thead th {\n",
              "        text-align: right;\n",
              "    }\n",
              "</style>\n",
              "<table border=\"1\" class=\"dataframe\">\n",
              "  <thead>\n",
              "    <tr style=\"text-align: right;\">\n",
              "      <th></th>\n",
              "      <th>distance_from_home</th>\n",
              "      <th>distance_from_last_transaction</th>\n",
              "      <th>ratio_to_median_purchase_price</th>\n",
              "      <th>repeat_retailer</th>\n",
              "      <th>used_chip</th>\n",
              "      <th>used_pin_number</th>\n",
              "      <th>online_order</th>\n",
              "      <th>fraud</th>\n",
              "    </tr>\n",
              "  </thead>\n",
              "  <tbody>\n",
              "    <tr>\n",
              "      <th>0</th>\n",
              "      <td>5.841547</td>\n",
              "      <td>2.919675</td>\n",
              "      <td>1.528776</td>\n",
              "      <td>1</td>\n",
              "      <td>1</td>\n",
              "      <td>0</td>\n",
              "      <td>1</td>\n",
              "      <td>0</td>\n",
              "    </tr>\n",
              "    <tr>\n",
              "      <th>1</th>\n",
              "      <td>2.826652</td>\n",
              "      <td>1.335472</td>\n",
              "      <td>0.457052</td>\n",
              "      <td>1</td>\n",
              "      <td>0</td>\n",
              "      <td>0</td>\n",
              "      <td>1</td>\n",
              "      <td>0</td>\n",
              "    </tr>\n",
              "    <tr>\n",
              "      <th>2</th>\n",
              "      <td>79.452616</td>\n",
              "      <td>0.732648</td>\n",
              "      <td>0.846234</td>\n",
              "      <td>1</td>\n",
              "      <td>1</td>\n",
              "      <td>0</td>\n",
              "      <td>1</td>\n",
              "      <td>0</td>\n",
              "    </tr>\n",
              "    <tr>\n",
              "      <th>3</th>\n",
              "      <td>15.371582</td>\n",
              "      <td>0.301456</td>\n",
              "      <td>2.768575</td>\n",
              "      <td>1</td>\n",
              "      <td>1</td>\n",
              "      <td>0</td>\n",
              "      <td>1</td>\n",
              "      <td>0</td>\n",
              "    </tr>\n",
              "    <tr>\n",
              "      <th>4</th>\n",
              "      <td>10.068538</td>\n",
              "      <td>0.083172</td>\n",
              "      <td>2.072339</td>\n",
              "      <td>1</td>\n",
              "      <td>1</td>\n",
              "      <td>0</td>\n",
              "      <td>1</td>\n",
              "      <td>0</td>\n",
              "    </tr>\n",
              "  </tbody>\n",
              "</table>\n",
              "</div>\n",
              "      <button class=\"colab-df-convert\" onclick=\"convertToInteractive('df-9ed3e491-6a91-4ffa-ab41-9a995b78de19')\"\n",
              "              title=\"Convert this dataframe to an interactive table.\"\n",
              "              style=\"display:none;\">\n",
              "        \n",
              "  <svg xmlns=\"http://www.w3.org/2000/svg\" height=\"24px\"viewBox=\"0 0 24 24\"\n",
              "       width=\"24px\">\n",
              "    <path d=\"M0 0h24v24H0V0z\" fill=\"none\"/>\n",
              "    <path d=\"M18.56 5.44l.94 2.06.94-2.06 2.06-.94-2.06-.94-.94-2.06-.94 2.06-2.06.94zm-11 1L8.5 8.5l.94-2.06 2.06-.94-2.06-.94L8.5 2.5l-.94 2.06-2.06.94zm10 10l.94 2.06.94-2.06 2.06-.94-2.06-.94-.94-2.06-.94 2.06-2.06.94z\"/><path d=\"M17.41 7.96l-1.37-1.37c-.4-.4-.92-.59-1.43-.59-.52 0-1.04.2-1.43.59L10.3 9.45l-7.72 7.72c-.78.78-.78 2.05 0 2.83L4 21.41c.39.39.9.59 1.41.59.51 0 1.02-.2 1.41-.59l7.78-7.78 2.81-2.81c.8-.78.8-2.07 0-2.86zM5.41 20L4 18.59l7.72-7.72 1.47 1.35L5.41 20z\"/>\n",
              "  </svg>\n",
              "      </button>\n",
              "      \n",
              "  <style>\n",
              "    .colab-df-container {\n",
              "      display:flex;\n",
              "      flex-wrap:wrap;\n",
              "      gap: 12px;\n",
              "    }\n",
              "\n",
              "    .colab-df-convert {\n",
              "      background-color: #E8F0FE;\n",
              "      border: none;\n",
              "      border-radius: 50%;\n",
              "      cursor: pointer;\n",
              "      display: none;\n",
              "      fill: #1967D2;\n",
              "      height: 32px;\n",
              "      padding: 0 0 0 0;\n",
              "      width: 32px;\n",
              "    }\n",
              "\n",
              "    .colab-df-convert:hover {\n",
              "      background-color: #E2EBFA;\n",
              "      box-shadow: 0px 1px 2px rgba(60, 64, 67, 0.3), 0px 1px 3px 1px rgba(60, 64, 67, 0.15);\n",
              "      fill: #174EA6;\n",
              "    }\n",
              "\n",
              "    [theme=dark] .colab-df-convert {\n",
              "      background-color: #3B4455;\n",
              "      fill: #D2E3FC;\n",
              "    }\n",
              "\n",
              "    [theme=dark] .colab-df-convert:hover {\n",
              "      background-color: #434B5C;\n",
              "      box-shadow: 0px 1px 3px 1px rgba(0, 0, 0, 0.15);\n",
              "      filter: drop-shadow(0px 1px 2px rgba(0, 0, 0, 0.3));\n",
              "      fill: #FFFFFF;\n",
              "    }\n",
              "  </style>\n",
              "\n",
              "      <script>\n",
              "        const buttonEl =\n",
              "          document.querySelector('#df-9ed3e491-6a91-4ffa-ab41-9a995b78de19 button.colab-df-convert');\n",
              "        buttonEl.style.display =\n",
              "          google.colab.kernel.accessAllowed ? 'block' : 'none';\n",
              "\n",
              "        async function convertToInteractive(key) {\n",
              "          const element = document.querySelector('#df-9ed3e491-6a91-4ffa-ab41-9a995b78de19');\n",
              "          const dataTable =\n",
              "            await google.colab.kernel.invokeFunction('convertToInteractive',\n",
              "                                                     [key], {});\n",
              "          if (!dataTable) return;\n",
              "\n",
              "          const docLinkHtml = 'Like what you see? Visit the ' +\n",
              "            '<a target=\"_blank\" href=https://colab.research.google.com/notebooks/data_table.ipynb>data table notebook</a>'\n",
              "            + ' to learn more about interactive tables.';\n",
              "          element.innerHTML = '';\n",
              "          dataTable['output_type'] = 'display_data';\n",
              "          await google.colab.output.renderOutput(dataTable, element);\n",
              "          const docLink = document.createElement('div');\n",
              "          docLink.innerHTML = docLinkHtml;\n",
              "          element.appendChild(docLink);\n",
              "        }\n",
              "      </script>\n",
              "    </div>\n",
              "  </div>\n",
              "  "
            ]
          },
          "metadata": {},
          "execution_count": 3
        }
      ]
    },
    {
      "cell_type": "markdown",
      "source": [
        "2. Print out the variance of each feature in this DataFrame."
      ],
      "metadata": {
        "id": "NF0BFtwF451N"
      }
    },
    {
      "cell_type": "code",
      "source": [
        "df.var()"
      ],
      "metadata": {
        "id": "w8rRWcgfrGOc",
        "colab": {
          "base_uri": "https://localhost:8080/"
        },
        "outputId": "0135f4c7-2fd4-4a01-f574-6c3ee6fed14a"
      },
      "execution_count": null,
      "outputs": [
        {
          "output_type": "execute_result",
          "data": {
            "text/plain": [
              "distance_from_home                2481.234455\n",
              "distance_from_last_transaction     308.306236\n",
              "ratio_to_median_purchase_price       7.536876\n",
              "repeat_retailer                      0.096820\n",
              "used_chip                            0.227312\n",
              "used_pin_number                      0.100523\n",
              "online_order                         0.225582\n",
              "fraud                                0.086489\n",
              "dtype: float64"
            ]
          },
          "metadata": {},
          "execution_count": 4
        }
      ]
    },
    {
      "cell_type": "markdown",
      "source": [
        "3. Print out the correlation between the features in this DataFrame."
      ],
      "metadata": {
        "id": "FM90qeqG5Ckq"
      }
    },
    {
      "cell_type": "code",
      "source": [
        "df.corr()"
      ],
      "metadata": {
        "id": "Jc4zNGshqek8",
        "colab": {
          "base_uri": "https://localhost:8080/",
          "height": 300
        },
        "outputId": "e6db500d-14f3-4110-869d-0ba757d1f732"
      },
      "execution_count": null,
      "outputs": [
        {
          "output_type": "execute_result",
          "data": {
            "text/plain": [
              "                                distance_from_home  \\\n",
              "distance_from_home                        1.000000   \n",
              "distance_from_last_transaction           -0.028709   \n",
              "ratio_to_median_purchase_price            0.016137   \n",
              "repeat_retailer                           0.169967   \n",
              "used_chip                                -0.016657   \n",
              "used_pin_number                          -0.010943   \n",
              "online_order                              0.001980   \n",
              "fraud                                     0.221519   \n",
              "\n",
              "                                distance_from_last_transaction  \\\n",
              "distance_from_home                                   -0.028709   \n",
              "distance_from_last_transaction                        1.000000   \n",
              "ratio_to_median_purchase_price                       -0.033220   \n",
              "repeat_retailer                                      -0.049709   \n",
              "used_chip                                            -0.032366   \n",
              "used_pin_number                                       0.007737   \n",
              "online_order                                         -0.007444   \n",
              "fraud                                                 0.080028   \n",
              "\n",
              "                                ratio_to_median_purchase_price  \\\n",
              "distance_from_home                                    0.016137   \n",
              "distance_from_last_transaction                       -0.033220   \n",
              "ratio_to_median_purchase_price                        1.000000   \n",
              "repeat_retailer                                      -0.015613   \n",
              "used_chip                                            -0.018414   \n",
              "used_pin_number                                      -0.007500   \n",
              "online_order                                         -0.006509   \n",
              "fraud                                                 0.514608   \n",
              "\n",
              "                                repeat_retailer  used_chip  used_pin_number  \\\n",
              "distance_from_home                     0.169967  -0.016657        -0.010943   \n",
              "distance_from_last_transaction        -0.049709  -0.032366         0.007737   \n",
              "ratio_to_median_purchase_price        -0.015613  -0.018414        -0.007500   \n",
              "repeat_retailer                        1.000000   0.022200         0.032650   \n",
              "used_chip                              0.022200   1.000000        -0.012740   \n",
              "used_pin_number                        0.032650  -0.012740         1.000000   \n",
              "online_order                           0.002343   0.032761        -0.014432   \n",
              "fraud                                 -0.018949  -0.065239        -0.111582   \n",
              "\n",
              "                                online_order     fraud  \n",
              "distance_from_home                  0.001980  0.221519  \n",
              "distance_from_last_transaction     -0.007444  0.080028  \n",
              "ratio_to_median_purchase_price     -0.006509  0.514608  \n",
              "repeat_retailer                     0.002343 -0.018949  \n",
              "used_chip                           0.032761 -0.065239  \n",
              "used_pin_number                    -0.014432 -0.111582  \n",
              "online_order                        1.000000  0.188653  \n",
              "fraud                               0.188653  1.000000  "
            ],
            "text/html": [
              "\n",
              "  <div id=\"df-5e22f4ae-b58d-4697-b490-08a66f8e0c25\">\n",
              "    <div class=\"colab-df-container\">\n",
              "      <div>\n",
              "<style scoped>\n",
              "    .dataframe tbody tr th:only-of-type {\n",
              "        vertical-align: middle;\n",
              "    }\n",
              "\n",
              "    .dataframe tbody tr th {\n",
              "        vertical-align: top;\n",
              "    }\n",
              "\n",
              "    .dataframe thead th {\n",
              "        text-align: right;\n",
              "    }\n",
              "</style>\n",
              "<table border=\"1\" class=\"dataframe\">\n",
              "  <thead>\n",
              "    <tr style=\"text-align: right;\">\n",
              "      <th></th>\n",
              "      <th>distance_from_home</th>\n",
              "      <th>distance_from_last_transaction</th>\n",
              "      <th>ratio_to_median_purchase_price</th>\n",
              "      <th>repeat_retailer</th>\n",
              "      <th>used_chip</th>\n",
              "      <th>used_pin_number</th>\n",
              "      <th>online_order</th>\n",
              "      <th>fraud</th>\n",
              "    </tr>\n",
              "  </thead>\n",
              "  <tbody>\n",
              "    <tr>\n",
              "      <th>distance_from_home</th>\n",
              "      <td>1.000000</td>\n",
              "      <td>-0.028709</td>\n",
              "      <td>0.016137</td>\n",
              "      <td>0.169967</td>\n",
              "      <td>-0.016657</td>\n",
              "      <td>-0.010943</td>\n",
              "      <td>0.001980</td>\n",
              "      <td>0.221519</td>\n",
              "    </tr>\n",
              "    <tr>\n",
              "      <th>distance_from_last_transaction</th>\n",
              "      <td>-0.028709</td>\n",
              "      <td>1.000000</td>\n",
              "      <td>-0.033220</td>\n",
              "      <td>-0.049709</td>\n",
              "      <td>-0.032366</td>\n",
              "      <td>0.007737</td>\n",
              "      <td>-0.007444</td>\n",
              "      <td>0.080028</td>\n",
              "    </tr>\n",
              "    <tr>\n",
              "      <th>ratio_to_median_purchase_price</th>\n",
              "      <td>0.016137</td>\n",
              "      <td>-0.033220</td>\n",
              "      <td>1.000000</td>\n",
              "      <td>-0.015613</td>\n",
              "      <td>-0.018414</td>\n",
              "      <td>-0.007500</td>\n",
              "      <td>-0.006509</td>\n",
              "      <td>0.514608</td>\n",
              "    </tr>\n",
              "    <tr>\n",
              "      <th>repeat_retailer</th>\n",
              "      <td>0.169967</td>\n",
              "      <td>-0.049709</td>\n",
              "      <td>-0.015613</td>\n",
              "      <td>1.000000</td>\n",
              "      <td>0.022200</td>\n",
              "      <td>0.032650</td>\n",
              "      <td>0.002343</td>\n",
              "      <td>-0.018949</td>\n",
              "    </tr>\n",
              "    <tr>\n",
              "      <th>used_chip</th>\n",
              "      <td>-0.016657</td>\n",
              "      <td>-0.032366</td>\n",
              "      <td>-0.018414</td>\n",
              "      <td>0.022200</td>\n",
              "      <td>1.000000</td>\n",
              "      <td>-0.012740</td>\n",
              "      <td>0.032761</td>\n",
              "      <td>-0.065239</td>\n",
              "    </tr>\n",
              "    <tr>\n",
              "      <th>used_pin_number</th>\n",
              "      <td>-0.010943</td>\n",
              "      <td>0.007737</td>\n",
              "      <td>-0.007500</td>\n",
              "      <td>0.032650</td>\n",
              "      <td>-0.012740</td>\n",
              "      <td>1.000000</td>\n",
              "      <td>-0.014432</td>\n",
              "      <td>-0.111582</td>\n",
              "    </tr>\n",
              "    <tr>\n",
              "      <th>online_order</th>\n",
              "      <td>0.001980</td>\n",
              "      <td>-0.007444</td>\n",
              "      <td>-0.006509</td>\n",
              "      <td>0.002343</td>\n",
              "      <td>0.032761</td>\n",
              "      <td>-0.014432</td>\n",
              "      <td>1.000000</td>\n",
              "      <td>0.188653</td>\n",
              "    </tr>\n",
              "    <tr>\n",
              "      <th>fraud</th>\n",
              "      <td>0.221519</td>\n",
              "      <td>0.080028</td>\n",
              "      <td>0.514608</td>\n",
              "      <td>-0.018949</td>\n",
              "      <td>-0.065239</td>\n",
              "      <td>-0.111582</td>\n",
              "      <td>0.188653</td>\n",
              "      <td>1.000000</td>\n",
              "    </tr>\n",
              "  </tbody>\n",
              "</table>\n",
              "</div>\n",
              "      <button class=\"colab-df-convert\" onclick=\"convertToInteractive('df-5e22f4ae-b58d-4697-b490-08a66f8e0c25')\"\n",
              "              title=\"Convert this dataframe to an interactive table.\"\n",
              "              style=\"display:none;\">\n",
              "        \n",
              "  <svg xmlns=\"http://www.w3.org/2000/svg\" height=\"24px\"viewBox=\"0 0 24 24\"\n",
              "       width=\"24px\">\n",
              "    <path d=\"M0 0h24v24H0V0z\" fill=\"none\"/>\n",
              "    <path d=\"M18.56 5.44l.94 2.06.94-2.06 2.06-.94-2.06-.94-.94-2.06-.94 2.06-2.06.94zm-11 1L8.5 8.5l.94-2.06 2.06-.94-2.06-.94L8.5 2.5l-.94 2.06-2.06.94zm10 10l.94 2.06.94-2.06 2.06-.94-2.06-.94-.94-2.06-.94 2.06-2.06.94z\"/><path d=\"M17.41 7.96l-1.37-1.37c-.4-.4-.92-.59-1.43-.59-.52 0-1.04.2-1.43.59L10.3 9.45l-7.72 7.72c-.78.78-.78 2.05 0 2.83L4 21.41c.39.39.9.59 1.41.59.51 0 1.02-.2 1.41-.59l7.78-7.78 2.81-2.81c.8-.78.8-2.07 0-2.86zM5.41 20L4 18.59l7.72-7.72 1.47 1.35L5.41 20z\"/>\n",
              "  </svg>\n",
              "      </button>\n",
              "      \n",
              "  <style>\n",
              "    .colab-df-container {\n",
              "      display:flex;\n",
              "      flex-wrap:wrap;\n",
              "      gap: 12px;\n",
              "    }\n",
              "\n",
              "    .colab-df-convert {\n",
              "      background-color: #E8F0FE;\n",
              "      border: none;\n",
              "      border-radius: 50%;\n",
              "      cursor: pointer;\n",
              "      display: none;\n",
              "      fill: #1967D2;\n",
              "      height: 32px;\n",
              "      padding: 0 0 0 0;\n",
              "      width: 32px;\n",
              "    }\n",
              "\n",
              "    .colab-df-convert:hover {\n",
              "      background-color: #E2EBFA;\n",
              "      box-shadow: 0px 1px 2px rgba(60, 64, 67, 0.3), 0px 1px 3px 1px rgba(60, 64, 67, 0.15);\n",
              "      fill: #174EA6;\n",
              "    }\n",
              "\n",
              "    [theme=dark] .colab-df-convert {\n",
              "      background-color: #3B4455;\n",
              "      fill: #D2E3FC;\n",
              "    }\n",
              "\n",
              "    [theme=dark] .colab-df-convert:hover {\n",
              "      background-color: #434B5C;\n",
              "      box-shadow: 0px 1px 3px 1px rgba(0, 0, 0, 0.15);\n",
              "      filter: drop-shadow(0px 1px 2px rgba(0, 0, 0, 0.3));\n",
              "      fill: #FFFFFF;\n",
              "    }\n",
              "  </style>\n",
              "\n",
              "      <script>\n",
              "        const buttonEl =\n",
              "          document.querySelector('#df-5e22f4ae-b58d-4697-b490-08a66f8e0c25 button.colab-df-convert');\n",
              "        buttonEl.style.display =\n",
              "          google.colab.kernel.accessAllowed ? 'block' : 'none';\n",
              "\n",
              "        async function convertToInteractive(key) {\n",
              "          const element = document.querySelector('#df-5e22f4ae-b58d-4697-b490-08a66f8e0c25');\n",
              "          const dataTable =\n",
              "            await google.colab.kernel.invokeFunction('convertToInteractive',\n",
              "                                                     [key], {});\n",
              "          if (!dataTable) return;\n",
              "\n",
              "          const docLinkHtml = 'Like what you see? Visit the ' +\n",
              "            '<a target=\"_blank\" href=https://colab.research.google.com/notebooks/data_table.ipynb>data table notebook</a>'\n",
              "            + ' to learn more about interactive tables.';\n",
              "          element.innerHTML = '';\n",
              "          dataTable['output_type'] = 'display_data';\n",
              "          await google.colab.output.renderOutput(dataTable, element);\n",
              "          const docLink = document.createElement('div');\n",
              "          docLink.innerHTML = docLinkHtml;\n",
              "          element.appendChild(docLink);\n",
              "        }\n",
              "      </script>\n",
              "    </div>\n",
              "  </div>\n",
              "  "
            ]
          },
          "metadata": {},
          "execution_count": 5
        }
      ]
    },
    {
      "cell_type": "markdown",
      "metadata": {
        "id": "DkhKQfSo4gqj"
      },
      "source": [
        "### **Exercise #2: Create a KNN model trained on new data**\n",
        "---\n",
        "\n",
        "In this problem, you will be provided data about a type of star known as a pulsar that sends out radio signals in pulses. Astronomers measure radio signals coming from space and try to classify them as pulsars or not.\n",
        "\n",
        "The data provided to you has 5 columns:\n",
        "\n",
        "* `mean` is the average of the radio signal frequencies\n",
        "* `range` is the range of the radio signal frequencies\n",
        "* `outliers` is a measure of how much the parts of the radio frequencies fit in with each other\n",
        "*  `asymmetry` is how asymmetrical the radio signal frequencies are over time\n",
        "* `pulsar` is whether the data corresponds to a pulsar (`pulsar = 1`) or not (`pulsar = 0`)\n",
        "\n",
        "<br>\n",
        "\n",
        "**Remember to answer the questions on Canvas corresponding to this section.**\n",
        "\n",
        "1. Load in the data."
      ]
    },
    {
      "cell_type": "code",
      "source": [
        "url = \"https://docs.google.com/spreadsheets/d/e/2PACX-1vSgc-uQoaqMmEJKM5rZKRQSW73NqIrdHBjVRAppLTw8O2g_Y3NhgaShmU6drAC-ly3hEHJuMDzeJg_P/pub?gid=827391263&single=true&output=csv\"\n",
        "df = pd.read_csv(url)\n",
        "\n",
        "df.head()"
      ],
      "metadata": {
        "id": "WukNsKDL-yLm",
        "colab": {
          "base_uri": "https://localhost:8080/",
          "height": 206
        },
        "outputId": "96a872fe-24a4-44d6-b690-d2a2ff02ee16"
      },
      "execution_count": null,
      "outputs": [
        {
          "output_type": "execute_result",
          "data": {
            "text/plain": [
              "         mean      range  outliers  asymmetry  pulsar\n",
              "0  121.156250  48.372971  0.375485  -0.013165       0\n",
              "1   76.968750  36.175557  0.712898   3.388719       0\n",
              "2  130.585938  53.229534  0.133408  -0.297242       0\n",
              "3  156.398438  48.865942 -0.215989  -0.171294       0\n",
              "4   84.804688  36.117659  0.825013   3.274125       0"
            ],
            "text/html": [
              "\n",
              "  <div id=\"df-ab5459ce-09f0-497d-932d-4ed4f0152d6c\">\n",
              "    <div class=\"colab-df-container\">\n",
              "      <div>\n",
              "<style scoped>\n",
              "    .dataframe tbody tr th:only-of-type {\n",
              "        vertical-align: middle;\n",
              "    }\n",
              "\n",
              "    .dataframe tbody tr th {\n",
              "        vertical-align: top;\n",
              "    }\n",
              "\n",
              "    .dataframe thead th {\n",
              "        text-align: right;\n",
              "    }\n",
              "</style>\n",
              "<table border=\"1\" class=\"dataframe\">\n",
              "  <thead>\n",
              "    <tr style=\"text-align: right;\">\n",
              "      <th></th>\n",
              "      <th>mean</th>\n",
              "      <th>range</th>\n",
              "      <th>outliers</th>\n",
              "      <th>asymmetry</th>\n",
              "      <th>pulsar</th>\n",
              "    </tr>\n",
              "  </thead>\n",
              "  <tbody>\n",
              "    <tr>\n",
              "      <th>0</th>\n",
              "      <td>121.156250</td>\n",
              "      <td>48.372971</td>\n",
              "      <td>0.375485</td>\n",
              "      <td>-0.013165</td>\n",
              "      <td>0</td>\n",
              "    </tr>\n",
              "    <tr>\n",
              "      <th>1</th>\n",
              "      <td>76.968750</td>\n",
              "      <td>36.175557</td>\n",
              "      <td>0.712898</td>\n",
              "      <td>3.388719</td>\n",
              "      <td>0</td>\n",
              "    </tr>\n",
              "    <tr>\n",
              "      <th>2</th>\n",
              "      <td>130.585938</td>\n",
              "      <td>53.229534</td>\n",
              "      <td>0.133408</td>\n",
              "      <td>-0.297242</td>\n",
              "      <td>0</td>\n",
              "    </tr>\n",
              "    <tr>\n",
              "      <th>3</th>\n",
              "      <td>156.398438</td>\n",
              "      <td>48.865942</td>\n",
              "      <td>-0.215989</td>\n",
              "      <td>-0.171294</td>\n",
              "      <td>0</td>\n",
              "    </tr>\n",
              "    <tr>\n",
              "      <th>4</th>\n",
              "      <td>84.804688</td>\n",
              "      <td>36.117659</td>\n",
              "      <td>0.825013</td>\n",
              "      <td>3.274125</td>\n",
              "      <td>0</td>\n",
              "    </tr>\n",
              "  </tbody>\n",
              "</table>\n",
              "</div>\n",
              "      <button class=\"colab-df-convert\" onclick=\"convertToInteractive('df-ab5459ce-09f0-497d-932d-4ed4f0152d6c')\"\n",
              "              title=\"Convert this dataframe to an interactive table.\"\n",
              "              style=\"display:none;\">\n",
              "        \n",
              "  <svg xmlns=\"http://www.w3.org/2000/svg\" height=\"24px\"viewBox=\"0 0 24 24\"\n",
              "       width=\"24px\">\n",
              "    <path d=\"M0 0h24v24H0V0z\" fill=\"none\"/>\n",
              "    <path d=\"M18.56 5.44l.94 2.06.94-2.06 2.06-.94-2.06-.94-.94-2.06-.94 2.06-2.06.94zm-11 1L8.5 8.5l.94-2.06 2.06-.94-2.06-.94L8.5 2.5l-.94 2.06-2.06.94zm10 10l.94 2.06.94-2.06 2.06-.94-2.06-.94-.94-2.06-.94 2.06-2.06.94z\"/><path d=\"M17.41 7.96l-1.37-1.37c-.4-.4-.92-.59-1.43-.59-.52 0-1.04.2-1.43.59L10.3 9.45l-7.72 7.72c-.78.78-.78 2.05 0 2.83L4 21.41c.39.39.9.59 1.41.59.51 0 1.02-.2 1.41-.59l7.78-7.78 2.81-2.81c.8-.78.8-2.07 0-2.86zM5.41 20L4 18.59l7.72-7.72 1.47 1.35L5.41 20z\"/>\n",
              "  </svg>\n",
              "      </button>\n",
              "      \n",
              "  <style>\n",
              "    .colab-df-container {\n",
              "      display:flex;\n",
              "      flex-wrap:wrap;\n",
              "      gap: 12px;\n",
              "    }\n",
              "\n",
              "    .colab-df-convert {\n",
              "      background-color: #E8F0FE;\n",
              "      border: none;\n",
              "      border-radius: 50%;\n",
              "      cursor: pointer;\n",
              "      display: none;\n",
              "      fill: #1967D2;\n",
              "      height: 32px;\n",
              "      padding: 0 0 0 0;\n",
              "      width: 32px;\n",
              "    }\n",
              "\n",
              "    .colab-df-convert:hover {\n",
              "      background-color: #E2EBFA;\n",
              "      box-shadow: 0px 1px 2px rgba(60, 64, 67, 0.3), 0px 1px 3px 1px rgba(60, 64, 67, 0.15);\n",
              "      fill: #174EA6;\n",
              "    }\n",
              "\n",
              "    [theme=dark] .colab-df-convert {\n",
              "      background-color: #3B4455;\n",
              "      fill: #D2E3FC;\n",
              "    }\n",
              "\n",
              "    [theme=dark] .colab-df-convert:hover {\n",
              "      background-color: #434B5C;\n",
              "      box-shadow: 0px 1px 3px 1px rgba(0, 0, 0, 0.15);\n",
              "      filter: drop-shadow(0px 1px 2px rgba(0, 0, 0, 0.3));\n",
              "      fill: #FFFFFF;\n",
              "    }\n",
              "  </style>\n",
              "\n",
              "      <script>\n",
              "        const buttonEl =\n",
              "          document.querySelector('#df-ab5459ce-09f0-497d-932d-4ed4f0152d6c button.colab-df-convert');\n",
              "        buttonEl.style.display =\n",
              "          google.colab.kernel.accessAllowed ? 'block' : 'none';\n",
              "\n",
              "        async function convertToInteractive(key) {\n",
              "          const element = document.querySelector('#df-ab5459ce-09f0-497d-932d-4ed4f0152d6c');\n",
              "          const dataTable =\n",
              "            await google.colab.kernel.invokeFunction('convertToInteractive',\n",
              "                                                     [key], {});\n",
              "          if (!dataTable) return;\n",
              "\n",
              "          const docLinkHtml = 'Like what you see? Visit the ' +\n",
              "            '<a target=\"_blank\" href=https://colab.research.google.com/notebooks/data_table.ipynb>data table notebook</a>'\n",
              "            + ' to learn more about interactive tables.';\n",
              "          element.innerHTML = '';\n",
              "          dataTable['output_type'] = 'display_data';\n",
              "          await google.colab.output.renderOutput(dataTable, element);\n",
              "          const docLink = document.createElement('div');\n",
              "          docLink.innerHTML = docLinkHtml;\n",
              "          element.appendChild(docLink);\n",
              "        }\n",
              "      </script>\n",
              "    </div>\n",
              "  </div>\n",
              "  "
            ]
          },
          "metadata": {},
          "execution_count": 6
        }
      ]
    },
    {
      "cell_type": "markdown",
      "source": [
        "2. Split the data into training and testing sets."
      ],
      "metadata": {
        "id": "sL4_o5teART3"
      }
    },
    {
      "cell_type": "code",
      "execution_count": null,
      "metadata": {
        "id": "PhK7ghhDsv8t"
      },
      "outputs": [],
      "source": [
        "inputs = df[[\"range\", \"outliers\"]]\n",
        "output = df[\"pulsar\"]\n",
        "\n",
        "X_train, X_test, y_train, y_test = model_selection.train_test_split(inputs, output, test_size= 0.2, random_state=42)"
      ]
    },
    {
      "cell_type": "markdown",
      "source": [
        "As we saw in lecture, it's important to scale our data. **Run the code below to do this.**"
      ],
      "metadata": {
        "id": "ePTkJgd1sv8u"
      }
    },
    {
      "cell_type": "code",
      "source": [
        "mu = X_train.mean()\n",
        "sig = X_train.std()\n",
        "\n",
        "X_train = (X_train - mu)/sig\n",
        "X_test = (X_test - mu)/sig"
      ],
      "metadata": {
        "id": "nX_PcQKksv8u"
      },
      "execution_count": null,
      "outputs": []
    },
    {
      "cell_type": "markdown",
      "source": [
        "3. Train a KNN model with `K = 1000` (a \"1000NN\" model) on the training data."
      ],
      "metadata": {
        "id": "DRlYwZwnAcYk"
      }
    },
    {
      "cell_type": "code",
      "source": [
        "from sklearn.neighbors import KNeighborsClassifier\n",
        "\n",
        "# COMPLETE THIS CODE\n",
        "model = KNeighborsClassifier(n_neighbors=1000)\n",
        "model.fit(X_train, y_train)"
      ],
      "metadata": {
        "id": "5UvDgQvjAoV0",
        "colab": {
          "base_uri": "https://localhost:8080/"
        },
        "outputId": "8102ade1-aba3-4dac-a308-9289add38032"
      },
      "execution_count": null,
      "outputs": [
        {
          "output_type": "execute_result",
          "data": {
            "text/plain": [
              "KNeighborsClassifier(n_neighbors=1000)"
            ]
          },
          "metadata": {},
          "execution_count": 19
        }
      ]
    },
    {
      "cell_type": "markdown",
      "source": [
        "4. Evaluate this model's accuracy using the test data."
      ],
      "metadata": {
        "id": "3tgI0ptwA1tv"
      }
    },
    {
      "cell_type": "code",
      "source": [
        "from sklearn.metrics import accuracy_score\n",
        "\n",
        "# COMPLETE THIS CODE\n",
        "\n",
        "predictions = model.predict(X_test)\n",
        "metrics.accuracy_score(y_test, predictions)"
      ],
      "metadata": {
        "id": "kwv3lXa8A0_B",
        "colab": {
          "base_uri": "https://localhost:8080/"
        },
        "outputId": "0b05228c-9de9-4d22-9566-82c51a9f2c8c"
      },
      "execution_count": null,
      "outputs": [
        {
          "output_type": "execute_result",
          "data": {
            "text/plain": [
              "0.9490504863362668"
            ]
          },
          "metadata": {},
          "execution_count": 22
        }
      ]
    },
    {
      "cell_type": "markdown",
      "source": [
        "5. Show the model's confusion matrix on the test data."
      ],
      "metadata": {
        "id": "jPIKIZU0CoMr"
      }
    },
    {
      "cell_type": "code",
      "source": [
        "from sklearn.metrics import plot_confusion_matrix\n",
        "\n",
        "# COMPLETE THIS CODE\n",
        "metrics.plot_confusion_matrix(model, X_test, y_test)"
      ],
      "metadata": {
        "id": "T2i_NAHrCsOQ",
        "colab": {
          "base_uri": "https://localhost:8080/",
          "height": 351
        },
        "outputId": "51b09cc1-3df9-4b4f-e700-8e59a999a8ba"
      },
      "execution_count": null,
      "outputs": [
        {
          "output_type": "stream",
          "name": "stderr",
          "text": [
            "/usr/local/lib/python3.7/dist-packages/sklearn/utils/deprecation.py:87: FutureWarning: Function plot_confusion_matrix is deprecated; Function `plot_confusion_matrix` is deprecated in 1.0 and will be removed in 1.2. Use one of the class methods: ConfusionMatrixDisplay.from_predictions or ConfusionMatrixDisplay.from_estimator.\n",
            "  warnings.warn(msg, category=FutureWarning)\n"
          ]
        },
        {
          "output_type": "execute_result",
          "data": {
            "text/plain": [
              "<sklearn.metrics._plot.confusion_matrix.ConfusionMatrixDisplay at 0x7f3e4b0be990>"
            ]
          },
          "metadata": {},
          "execution_count": 23
        },
        {
          "output_type": "display_data",
          "data": {
            "text/plain": [
              "<Figure size 432x288 with 2 Axes>"
            ],
            "image/png": "[encoded data removed]"
          },
          "metadata": {
            "needs_background": "light"
          }
        }
      ]
    },
    {
      "cell_type": "markdown",
      "metadata": {
        "id": "iyOL7a8TFAJ4"
      },
      "source": [
        "### **Exercise #3: Find the Optimal K**\n",
        "---\n",
        "\n",
        "In this problem, you will try out several values of K on the pulsar dataset and see which one is best.\n",
        "\n",
        "\n",
        "For each K value:\n",
        "1. train the model\n",
        "2. determine its accuracy\n",
        "3. show its confusion matrix\n",
        "\n",
        "<br>\n",
        "\n",
        "**Remember to answer the questions on Canvas corresponding to this section.**"
      ]
    },
    {
      "cell_type": "markdown",
      "source": [
        "1. K = 5"
      ],
      "metadata": {
        "id": "rdoZ1xyGGReX"
      }
    },
    {
      "cell_type": "code",
      "source": [
        "# COMPLETE THE LINE THAT COMES BEFORE FITTING (CREATE THE MODEL)\n",
        "model = KNeighborsClassifier(n_neighbors=5)\n",
        "model.fit(X_train, y_train)"
      ],
      "metadata": {
        "id": "FzTKEW1RGTmX",
        "colab": {
          "base_uri": "https://localhost:8080/"
        },
        "outputId": "1d3c92b5-9360-487a-cc0c-7192d0ea0246"
      },
      "execution_count": null,
      "outputs": [
        {
          "output_type": "execute_result",
          "data": {
            "text/plain": [
              "KNeighborsClassifier()"
            ]
          },
          "metadata": {},
          "execution_count": 51
        }
      ]
    },
    {
      "cell_type": "code",
      "source": [
        "predictions = model.predict(X_test)\n",
        "\n",
        "# COMPLETE THIS CODE\n",
        "metrics.accuracy_score(y_test, predictions)"
      ],
      "metadata": {
        "id": "d2h_LDzqG6Co",
        "colab": {
          "base_uri": "https://localhost:8080/"
        },
        "outputId": "2479f868-6263-43ee-bbe7-437648ef24f7"
      },
      "execution_count": null,
      "outputs": [
        {
          "output_type": "execute_result",
          "data": {
            "text/plain": [
              "0.9773043075497916"
            ]
          },
          "metadata": {},
          "execution_count": 56
        }
      ]
    },
    {
      "cell_type": "code",
      "source": [
        "# CONFUSION MATRIX?\n",
        "metrics.plot_confusion_matrix(model, X_test, y_test)"
      ],
      "metadata": {
        "id": "R3SuSywAG5xK",
        "colab": {
          "base_uri": "https://localhost:8080/",
          "height": 351
        },
        "outputId": "a400bdce-8b24-419c-cb2d-326ab2c06751"
      },
      "execution_count": null,
      "outputs": [
        {
          "output_type": "stream",
          "name": "stderr",
          "text": [
            "/usr/local/lib/python3.7/dist-packages/sklearn/utils/deprecation.py:87: FutureWarning: Function plot_confusion_matrix is deprecated; Function `plot_confusion_matrix` is deprecated in 1.0 and will be removed in 1.2. Use one of the class methods: ConfusionMatrixDisplay.from_predictions or ConfusionMatrixDisplay.from_estimator.\n",
            "  warnings.warn(msg, category=FutureWarning)\n"
          ]
        },
        {
          "output_type": "execute_result",
          "data": {
            "text/plain": [
              "<sklearn.metrics._plot.confusion_matrix.ConfusionMatrixDisplay at 0x7f3e47f7d090>"
            ]
          },
          "metadata": {},
          "execution_count": 53
        },
        {
          "output_type": "display_data",
          "data": {
            "text/plain": [
              "<Figure size 432x288 with 2 Axes>"
            ],
            "image/png": "[encoded data removed]"
          },
          "metadata": {
            "needs_background": "light"
          }
        }
      ]
    },
    {
      "cell_type": "markdown",
      "source": [
        "2. K = size of dataset"
      ],
      "metadata": {
        "id": "2UW6DrSoGTza"
      }
    },
    {
      "cell_type": "code",
      "source": [
        "k = len(X_train)\n",
        "model = KNeighborsClassifier(n_neighbors = k)\n",
        "\n",
        "# COMPLETE THIS CODE\n",
        "model.fit(X_train, y_train)"
      ],
      "metadata": {
        "id": "dVRyaw_UHBKZ",
        "colab": {
          "base_uri": "https://localhost:8080/"
        },
        "outputId": "4c215262-ef29-428c-fa87-e569fbb602a6"
      },
      "execution_count": null,
      "outputs": [
        {
          "output_type": "execute_result",
          "data": {
            "text/plain": [
              "KNeighborsClassifier(n_neighbors=8634)"
            ]
          },
          "metadata": {},
          "execution_count": 47
        }
      ]
    },
    {
      "cell_type": "code",
      "source": [
        "predicitons = model.predict(X_test)\n",
        "metrics.accuracy_score(y_test, predictions)"
      ],
      "metadata": {
        "id": "Q6uQvvgCHBKa",
        "colab": {
          "base_uri": "https://localhost:8080/"
        },
        "outputId": "d2821cce-2cbc-43c0-b84e-57e568a29f94"
      },
      "execution_count": null,
      "outputs": [
        {
          "output_type": "execute_result",
          "data": {
            "text/plain": [
              "0.9735988883742474"
            ]
          },
          "metadata": {},
          "execution_count": 48
        }
      ]
    },
    {
      "cell_type": "code",
      "source": [
        "metrics.plot_confusion_matrix(model, X_test, y_test)"
      ],
      "metadata": {
        "id": "wO7kBeW_HBKa",
        "colab": {
          "base_uri": "https://localhost:8080/",
          "height": 351
        },
        "outputId": "b59f8dab-0176-4e8f-9887-730c88c58217"
      },
      "execution_count": null,
      "outputs": [
        {
          "output_type": "stream",
          "name": "stderr",
          "text": [
            "/usr/local/lib/python3.7/dist-packages/sklearn/utils/deprecation.py:87: FutureWarning: Function plot_confusion_matrix is deprecated; Function `plot_confusion_matrix` is deprecated in 1.0 and will be removed in 1.2. Use one of the class methods: ConfusionMatrixDisplay.from_predictions or ConfusionMatrixDisplay.from_estimator.\n",
            "  warnings.warn(msg, category=FutureWarning)\n"
          ]
        },
        {
          "output_type": "execute_result",
          "data": {
            "text/plain": [
              "<sklearn.metrics._plot.confusion_matrix.ConfusionMatrixDisplay at 0x7f3e4afbf090>"
            ]
          },
          "metadata": {},
          "execution_count": 32
        },
        {
          "output_type": "display_data",
          "data": {
            "text/plain": [
              "<Figure size 432x288 with 2 Axes>"
            ],
            "image/png": "[encoded data removed]"
          },
          "metadata": {
            "needs_background": "light"
          }
        }
      ]
    },
    {
      "cell_type": "markdown",
      "source": [
        "3. K = $\\sqrt{\\text{size of dataset}}$"
      ],
      "metadata": {
        "id": "fklarvY-GZAK"
      }
    },
    {
      "cell_type": "code",
      "source": [
        "k = int(len(X_train)**(1/2))\n",
        "\n",
        "# COMPLETE THIS CODE\n",
        "model = KNeighborsClassifier(n_neighbors=k)\n",
        "model.fit(X_train, y_train)"
      ],
      "metadata": {
        "id": "BJXpsOPoHILT",
        "colab": {
          "base_uri": "https://localhost:8080/"
        },
        "outputId": "87ce34e2-e826-4e79-9f36-6c10711c6c38"
      },
      "execution_count": null,
      "outputs": [
        {
          "output_type": "execute_result",
          "data": {
            "text/plain": [
              "KNeighborsClassifier(n_neighbors=92)"
            ]
          },
          "metadata": {},
          "execution_count": 57
        }
      ]
    },
    {
      "cell_type": "code",
      "source": [
        "predictions = model.predict(X_test)\n",
        "metrics.accuracy_score(y_test, predicitons)"
      ],
      "metadata": {
        "id": "ndsnFCvrHILU",
        "colab": {
          "base_uri": "https://localhost:8080/"
        },
        "outputId": "5b5b48d9-6971-4623-80f5-d713cca8585e"
      },
      "execution_count": null,
      "outputs": [
        {
          "output_type": "execute_result",
          "data": {
            "text/plain": [
              "0.8994905048633627"
            ]
          },
          "metadata": {},
          "execution_count": 58
        }
      ]
    },
    {
      "cell_type": "code",
      "source": [
        "metrics.plot_confusion_matrix(model, X_test, y_test)"
      ],
      "metadata": {
        "id": "LwXQJojVHILU",
        "colab": {
          "base_uri": "https://localhost:8080/",
          "height": 351
        },
        "outputId": "e2d3186c-0f6d-4447-92c2-822fb8a0a866"
      },
      "execution_count": null,
      "outputs": [
        {
          "output_type": "stream",
          "name": "stderr",
          "text": [
            "/usr/local/lib/python3.7/dist-packages/sklearn/utils/deprecation.py:87: FutureWarning: Function plot_confusion_matrix is deprecated; Function `plot_confusion_matrix` is deprecated in 1.0 and will be removed in 1.2. Use one of the class methods: ConfusionMatrixDisplay.from_predictions or ConfusionMatrixDisplay.from_estimator.\n",
            "  warnings.warn(msg, category=FutureWarning)\n"
          ]
        },
        {
          "output_type": "execute_result",
          "data": {
            "text/plain": [
              "<sklearn.metrics._plot.confusion_matrix.ConfusionMatrixDisplay at 0x7f3e481e0a50>"
            ]
          },
          "metadata": {},
          "execution_count": 37
        },
        {
          "output_type": "display_data",
          "data": {
            "text/plain": [
              "<Figure size 432x288 with 2 Axes>"
            ],
            "image/png": "[encoded data removed]"
          },
          "metadata": {
            "needs_background": "light"
          }
        }
      ]
    },
    {
      "cell_type": "markdown",
      "source": [
        "4. K = Your Choice! Pick a value and see how it performs."
      ],
      "metadata": {
        "id": "l1tUpiPKGeu-"
      }
    },
    {
      "cell_type": "code",
      "source": [
        "model = KNeighborsClassifier(n_neighbors=150)\n",
        "model.fit(X_train, y_train)"
      ],
      "metadata": {
        "id": "sM-tPOSiHStg",
        "colab": {
          "base_uri": "https://localhost:8080/"
        },
        "outputId": "b2bfe108-1cce-478d-f865-6a1c6e864c2f"
      },
      "execution_count": null,
      "outputs": [
        {
          "output_type": "execute_result",
          "data": {
            "text/plain": [
              "KNeighborsClassifier(n_neighbors=150)"
            ]
          },
          "metadata": {},
          "execution_count": 41
        }
      ]
    },
    {
      "cell_type": "code",
      "source": [
        "predictions = model.predict(X_test)\n",
        "metrics.accuracy_score(y_test, predicitons)"
      ],
      "metadata": {
        "id": "f6D7Ov9yHSth",
        "colab": {
          "base_uri": "https://localhost:8080/"
        },
        "outputId": "062e08d4-97ad-4b59-96b3-50f2b78f9430"
      },
      "execution_count": null,
      "outputs": [
        {
          "output_type": "execute_result",
          "data": {
            "text/plain": [
              "0.8994905048633627"
            ]
          },
          "metadata": {},
          "execution_count": 42
        }
      ]
    },
    {
      "cell_type": "code",
      "source": [
        "metrics.plot_confusion_matrix(model, X_test, y_test)"
      ],
      "metadata": {
        "id": "oaPwu7NbHSth",
        "colab": {
          "base_uri": "https://localhost:8080/",
          "height": 351
        },
        "outputId": "2ff4c024-0fb6-47cc-bd96-6467eb287f8f"
      },
      "execution_count": null,
      "outputs": [
        {
          "output_type": "stream",
          "name": "stderr",
          "text": [
            "/usr/local/lib/python3.7/dist-packages/sklearn/utils/deprecation.py:87: FutureWarning: Function plot_confusion_matrix is deprecated; Function `plot_confusion_matrix` is deprecated in 1.0 and will be removed in 1.2. Use one of the class methods: ConfusionMatrixDisplay.from_predictions or ConfusionMatrixDisplay.from_estimator.\n",
            "  warnings.warn(msg, category=FutureWarning)\n"
          ]
        },
        {
          "output_type": "execute_result",
          "data": {
            "text/plain": [
              "<sklearn.metrics._plot.confusion_matrix.ConfusionMatrixDisplay at 0x7f3e48121dd0>"
            ]
          },
          "metadata": {},
          "execution_count": 43
        },
        {
          "output_type": "display_data",
          "data": {
            "text/plain": [
              "<Figure size 432x288 with 2 Axes>"
            ],
            "image/png": "[encoded data removed]"
          },
          "metadata": {
            "needs_background": "light"
          }
        }
      ]
    },
    {
      "cell_type": "markdown",
      "metadata": {
        "id": "GLGIdRSY5hsa"
      },
      "source": [
        "### **[OPTIONAL] Train KNN models for k = 1 to 100 and graph the accuracy**\n",
        "---"
      ]
    },
    {
      "cell_type": "code",
      "source": [
        "from sklearn.model_selection import GridSearchCV\n",
        "from sklearn.neighbors import KNeighborsClassifier\n",
        "\n",
        "# defining range of ks as odd numbers from 1 to 100\n",
        "ks = list(range(1, 100, 2))\n",
        "param_grid = dict(n_neighbors=ks)\n",
        "\n",
        "\n",
        "# creating grid searcher for KNN Classifier\n",
        "knn = KNeighborsClassifier()\n",
        "grid = GridSearchCV(knn, param_grid)\n",
        "  \n",
        "\n",
        "# fitting the model for grid search\n",
        "grid_search=grid.fit(X_train, y_train)\n",
        "\n",
        "\n",
        "# looking at the scores for this range\n",
        "print(grid_search.cv_results_['mean_test_score'])\n",
        "\n",
        "\n",
        "# looking at the best k value\n",
        "print(grid_search.best_params_)"
      ],
      "metadata": {
        "id": "UNbSjQmn5hsa"
      },
      "execution_count": null,
      "outputs": []
    },
    {
      "cell_type": "markdown",
      "source": [
        "Plot the test scores (accuracies) vs. K Value."
      ],
      "metadata": {
        "id": "oRXUoGTWFwsu"
      }
    },
    {
      "cell_type": "code",
      "source": [
        "# printing results\n",
        "plt.scatter(ks, grid_search.cv_results_['mean_test_score'])\n",
        "\n",
        "plt.title(\"Test Score vs. K Value\")\n",
        "plt.xlabel(\"K\")\n",
        "plt.ylabel(\"Test Score\")\n",
        "plt.show()"
      ],
      "metadata": {
        "id": "AqYwzQH75hsa"
      },
      "execution_count": null,
      "outputs": []
    },
    {
      "cell_type": "markdown",
      "metadata": {
        "id": "d5yFynjX5hsa"
      },
      "source": [
        "Create a final model using the best performing K and make predictions for the following data points."
      ]
    },
    {
      "cell_type": "code",
      "source": [
        "# COMPLETE THIS CODE"
      ],
      "metadata": {
        "id": "Uz12-fpD5hsa"
      },
      "execution_count": null,
      "outputs": []
    },
    {
      "cell_type": "markdown",
      "metadata": {
        "id": "Oey-_8EgN3Pg"
      },
      "source": [
        "## **[OPTIONAL] Part 2: Is this money real or fake?**\n",
        "---\n",
        "\n",
        "### **Description**:\n",
        "**This is an optional part to work through a full implementation of a high quality KNN model from start to finish. We strongly encourage you to work through this section to the best of you ability, but if you simply do not have the time for it then that is ok!** \n",
        "\n",
        "<br>\n",
        "\n",
        "The provided dataset contains information about real and fake banknotes (paper money). Each row represents information about an image of one banknote. This data contains 5 columns:\n",
        "\n",
        "* `range` is the range of patterns in the banknote image\n",
        "* `asymmetry` is the lack of symmetry in the banknote image\n",
        "* `outliers` is the amount of patterns that don't fit in with the rest in the banknote image\n",
        "* `information` is the amount of total information believed to be contained in the banknote image\n",
        "* `class` is 0 if the banknote is real and 1 if the banknote is fake"
      ]
    },
    {
      "cell_type": "markdown",
      "metadata": {
        "id": "8kdQzYB24J9R"
      },
      "source": [
        "### **Exercise #1: Load in data**\n",
        "---"
      ]
    },
    {
      "cell_type": "code",
      "execution_count": null,
      "metadata": {
        "id": "ZXsgJmyIOXz0",
        "colab": {
          "base_uri": "https://localhost:8080/",
          "height": 206
        },
        "outputId": "a1065243-b12d-40e9-ca99-da8bb708c66c"
      },
      "outputs": [
        {
          "output_type": "execute_result",
          "data": {
            "text/plain": [
              "     range  asymmetry  outliers  information  class\n",
              "0  3.62160     8.6661   -2.8073     -0.44699      0\n",
              "1  4.54590     8.1674   -2.4586     -1.46210      0\n",
              "2  3.86600    -2.6383    1.9242      0.10645      0\n",
              "3  3.45660     9.5228   -4.0112     -3.59440      0\n",
              "4  0.32924    -4.4552    4.5718     -0.98880      0"
            ],
            "text/html": [
              "\n",
              "  <div id=\"df-9fa40878-48f9-4379-a451-71e546d6db7c\">\n",
              "    <div class=\"colab-df-container\">\n",
              "      <div>\n",
              "<style scoped>\n",
              "    .dataframe tbody tr th:only-of-type {\n",
              "        vertical-align: middle;\n",
              "    }\n",
              "\n",
              "    .dataframe tbody tr th {\n",
              "        vertical-align: top;\n",
              "    }\n",
              "\n",
              "    .dataframe thead th {\n",
              "        text-align: right;\n",
              "    }\n",
              "</style>\n",
              "<table border=\"1\" class=\"dataframe\">\n",
              "  <thead>\n",
              "    <tr style=\"text-align: right;\">\n",
              "      <th></th>\n",
              "      <th>range</th>\n",
              "      <th>asymmetry</th>\n",
              "      <th>outliers</th>\n",
              "      <th>information</th>\n",
              "      <th>class</th>\n",
              "    </tr>\n",
              "  </thead>\n",
              "  <tbody>\n",
              "    <tr>\n",
              "      <th>0</th>\n",
              "      <td>3.62160</td>\n",
              "      <td>8.6661</td>\n",
              "      <td>-2.8073</td>\n",
              "      <td>-0.44699</td>\n",
              "      <td>0</td>\n",
              "    </tr>\n",
              "    <tr>\n",
              "      <th>1</th>\n",
              "      <td>4.54590</td>\n",
              "      <td>8.1674</td>\n",
              "      <td>-2.4586</td>\n",
              "      <td>-1.46210</td>\n",
              "      <td>0</td>\n",
              "    </tr>\n",
              "    <tr>\n",
              "      <th>2</th>\n",
              "      <td>3.86600</td>\n",
              "      <td>-2.6383</td>\n",
              "      <td>1.9242</td>\n",
              "      <td>0.10645</td>\n",
              "      <td>0</td>\n",
              "    </tr>\n",
              "    <tr>\n",
              "      <th>3</th>\n",
              "      <td>3.45660</td>\n",
              "      <td>9.5228</td>\n",
              "      <td>-4.0112</td>\n",
              "      <td>-3.59440</td>\n",
              "      <td>0</td>\n",
              "    </tr>\n",
              "    <tr>\n",
              "      <th>4</th>\n",
              "      <td>0.32924</td>\n",
              "      <td>-4.4552</td>\n",
              "      <td>4.5718</td>\n",
              "      <td>-0.98880</td>\n",
              "      <td>0</td>\n",
              "    </tr>\n",
              "  </tbody>\n",
              "</table>\n",
              "</div>\n",
              "      <button class=\"colab-df-convert\" onclick=\"convertToInteractive('df-9fa40878-48f9-4379-a451-71e546d6db7c')\"\n",
              "              title=\"Convert this dataframe to an interactive table.\"\n",
              "              style=\"display:none;\">\n",
              "        \n",
              "  <svg xmlns=\"http://www.w3.org/2000/svg\" height=\"24px\"viewBox=\"0 0 24 24\"\n",
              "       width=\"24px\">\n",
              "    <path d=\"M0 0h24v24H0V0z\" fill=\"none\"/>\n",
              "    <path d=\"M18.56 5.44l.94 2.06.94-2.06 2.06-.94-2.06-.94-.94-2.06-.94 2.06-2.06.94zm-11 1L8.5 8.5l.94-2.06 2.06-.94-2.06-.94L8.5 2.5l-.94 2.06-2.06.94zm10 10l.94 2.06.94-2.06 2.06-.94-2.06-.94-.94-2.06-.94 2.06-2.06.94z\"/><path d=\"M17.41 7.96l-1.37-1.37c-.4-.4-.92-.59-1.43-.59-.52 0-1.04.2-1.43.59L10.3 9.45l-7.72 7.72c-.78.78-.78 2.05 0 2.83L4 21.41c.39.39.9.59 1.41.59.51 0 1.02-.2 1.41-.59l7.78-7.78 2.81-2.81c.8-.78.8-2.07 0-2.86zM5.41 20L4 18.59l7.72-7.72 1.47 1.35L5.41 20z\"/>\n",
              "  </svg>\n",
              "      </button>\n",
              "      \n",
              "  <style>\n",
              "    .colab-df-container {\n",
              "      display:flex;\n",
              "      flex-wrap:wrap;\n",
              "      gap: 12px;\n",
              "    }\n",
              "\n",
              "    .colab-df-convert {\n",
              "      background-color: #E8F0FE;\n",
              "      border: none;\n",
              "      border-radius: 50%;\n",
              "      cursor: pointer;\n",
              "      display: none;\n",
              "      fill: #1967D2;\n",
              "      height: 32px;\n",
              "      padding: 0 0 0 0;\n",
              "      width: 32px;\n",
              "    }\n",
              "\n",
              "    .colab-df-convert:hover {\n",
              "      background-color: #E2EBFA;\n",
              "      box-shadow: 0px 1px 2px rgba(60, 64, 67, 0.3), 0px 1px 3px 1px rgba(60, 64, 67, 0.15);\n",
              "      fill: #174EA6;\n",
              "    }\n",
              "\n",
              "    [theme=dark] .colab-df-convert {\n",
              "      background-color: #3B4455;\n",
              "      fill: #D2E3FC;\n",
              "    }\n",
              "\n",
              "    [theme=dark] .colab-df-convert:hover {\n",
              "      background-color: #434B5C;\n",
              "      box-shadow: 0px 1px 3px 1px rgba(0, 0, 0, 0.15);\n",
              "      filter: drop-shadow(0px 1px 2px rgba(0, 0, 0, 0.3));\n",
              "      fill: #FFFFFF;\n",
              "    }\n",
              "  </style>\n",
              "\n",
              "      <script>\n",
              "        const buttonEl =\n",
              "          document.querySelector('#df-9fa40878-48f9-4379-a451-71e546d6db7c button.colab-df-convert');\n",
              "        buttonEl.style.display =\n",
              "          google.colab.kernel.accessAllowed ? 'block' : 'none';\n",
              "\n",
              "        async function convertToInteractive(key) {\n",
              "          const element = document.querySelector('#df-9fa40878-48f9-4379-a451-71e546d6db7c');\n",
              "          const dataTable =\n",
              "            await google.colab.kernel.invokeFunction('convertToInteractive',\n",
              "                                                     [key], {});\n",
              "          if (!dataTable) return;\n",
              "\n",
              "          const docLinkHtml = 'Like what you see? Visit the ' +\n",
              "            '<a target=\"_blank\" href=https://colab.research.google.com/notebooks/data_table.ipynb>data table notebook</a>'\n",
              "            + ' to learn more about interactive tables.';\n",
              "          element.innerHTML = '';\n",
              "          dataTable['output_type'] = 'display_data';\n",
              "          await google.colab.output.renderOutput(dataTable, element);\n",
              "          const docLink = document.createElement('div');\n",
              "          docLink.innerHTML = docLinkHtml;\n",
              "          element.appendChild(docLink);\n",
              "        }\n",
              "      </script>\n",
              "    </div>\n",
              "  </div>\n",
              "  "
            ]
          },
          "metadata": {},
          "execution_count": 44
        }
      ],
      "source": [
        "url = \"https://docs.google.com/spreadsheets/d/e/2PACX-1vRdRzlASrap1oY15IoQxXZnB5hi0RhIUCp_thFmTYOnJOw_xjR0X8sGDVyTSdPesIwqYEUQL_yelQpj/pub?gid=1496556477&single=true&output=csv\"\n",
        "banknote_df = pd.read_csv(url)\n",
        "\n",
        "banknote_df.head()"
      ]
    },
    {
      "cell_type": "markdown",
      "metadata": {
        "id": "fCbaIx8LOXz0"
      },
      "source": [
        "### **Exercise #2: Look at the data and select the best features**\n",
        "---"
      ]
    },
    {
      "cell_type": "code",
      "execution_count": null,
      "metadata": {
        "id": "A1b1-EUyOXz0",
        "colab": {
          "base_uri": "https://localhost:8080/"
        },
        "outputId": "c30d68ae-6c34-453b-c035-737213875aa3"
      },
      "outputs": [
        {
          "output_type": "execute_result",
          "data": {
            "text/plain": [
              "range           8.081299\n",
              "asymmetry      34.445710\n",
              "outliers       18.576359\n",
              "information     4.414256\n",
              "class           0.247112\n",
              "dtype: float64"
            ]
          },
          "metadata": {},
          "execution_count": 45
        }
      ],
      "source": [
        "# VARIANCE?\n",
        "banknote_df.var()"
      ]
    },
    {
      "cell_type": "code",
      "execution_count": null,
      "metadata": {
        "id": "0gLfXo9oOXz0",
        "colab": {
          "base_uri": "https://localhost:8080/",
          "height": 206
        },
        "outputId": "53cd5d71-0fda-44bf-c1ae-202a987405fc"
      },
      "outputs": [
        {
          "output_type": "execute_result",
          "data": {
            "text/plain": [
              "                range  asymmetry  outliers  information     class\n",
              "range        1.000000   0.264026 -0.380850     0.276817 -0.724843\n",
              "asymmetry    0.264026   1.000000 -0.786895    -0.526321 -0.444688\n",
              "outliers    -0.380850  -0.786895  1.000000     0.318841  0.155883\n",
              "information  0.276817  -0.526321  0.318841     1.000000 -0.023424\n",
              "class       -0.724843  -0.444688  0.155883    -0.023424  1.000000"
            ],
            "text/html": [
              "\n",
              "  <div id=\"df-74c3db01-53fc-445f-b3bc-0d90a37a0fe6\">\n",
              "    <div class=\"colab-df-container\">\n",
              "      <div>\n",
              "<style scoped>\n",
              "    .dataframe tbody tr th:only-of-type {\n",
              "        vertical-align: middle;\n",
              "    }\n",
              "\n",
              "    .dataframe tbody tr th {\n",
              "        vertical-align: top;\n",
              "    }\n",
              "\n",
              "    .dataframe thead th {\n",
              "        text-align: right;\n",
              "    }\n",
              "</style>\n",
              "<table border=\"1\" class=\"dataframe\">\n",
              "  <thead>\n",
              "    <tr style=\"text-align: right;\">\n",
              "      <th></th>\n",
              "      <th>range</th>\n",
              "      <th>asymmetry</th>\n",
              "      <th>outliers</th>\n",
              "      <th>information</th>\n",
              "      <th>class</th>\n",
              "    </tr>\n",
              "  </thead>\n",
              "  <tbody>\n",
              "    <tr>\n",
              "      <th>range</th>\n",
              "      <td>1.000000</td>\n",
              "      <td>0.264026</td>\n",
              "      <td>-0.380850</td>\n",
              "      <td>0.276817</td>\n",
              "      <td>-0.724843</td>\n",
              "    </tr>\n",
              "    <tr>\n",
              "      <th>asymmetry</th>\n",
              "      <td>0.264026</td>\n",
              "      <td>1.000000</td>\n",
              "      <td>-0.786895</td>\n",
              "      <td>-0.526321</td>\n",
              "      <td>-0.444688</td>\n",
              "    </tr>\n",
              "    <tr>\n",
              "      <th>outliers</th>\n",
              "      <td>-0.380850</td>\n",
              "      <td>-0.786895</td>\n",
              "      <td>1.000000</td>\n",
              "      <td>0.318841</td>\n",
              "      <td>0.155883</td>\n",
              "    </tr>\n",
              "    <tr>\n",
              "      <th>information</th>\n",
              "      <td>0.276817</td>\n",
              "      <td>-0.526321</td>\n",
              "      <td>0.318841</td>\n",
              "      <td>1.000000</td>\n",
              "      <td>-0.023424</td>\n",
              "    </tr>\n",
              "    <tr>\n",
              "      <th>class</th>\n",
              "      <td>-0.724843</td>\n",
              "      <td>-0.444688</td>\n",
              "      <td>0.155883</td>\n",
              "      <td>-0.023424</td>\n",
              "      <td>1.000000</td>\n",
              "    </tr>\n",
              "  </tbody>\n",
              "</table>\n",
              "</div>\n",
              "      <button class=\"colab-df-convert\" onclick=\"convertToInteractive('df-74c3db01-53fc-445f-b3bc-0d90a37a0fe6')\"\n",
              "              title=\"Convert this dataframe to an interactive table.\"\n",
              "              style=\"display:none;\">\n",
              "        \n",
              "  <svg xmlns=\"http://www.w3.org/2000/svg\" height=\"24px\"viewBox=\"0 0 24 24\"\n",
              "       width=\"24px\">\n",
              "    <path d=\"M0 0h24v24H0V0z\" fill=\"none\"/>\n",
              "    <path d=\"M18.56 5.44l.94 2.06.94-2.06 2.06-.94-2.06-.94-.94-2.06-.94 2.06-2.06.94zm-11 1L8.5 8.5l.94-2.06 2.06-.94-2.06-.94L8.5 2.5l-.94 2.06-2.06.94zm10 10l.94 2.06.94-2.06 2.06-.94-2.06-.94-.94-2.06-.94 2.06-2.06.94z\"/><path d=\"M17.41 7.96l-1.37-1.37c-.4-.4-.92-.59-1.43-.59-.52 0-1.04.2-1.43.59L10.3 9.45l-7.72 7.72c-.78.78-.78 2.05 0 2.83L4 21.41c.39.39.9.59 1.41.59.51 0 1.02-.2 1.41-.59l7.78-7.78 2.81-2.81c.8-.78.8-2.07 0-2.86zM5.41 20L4 18.59l7.72-7.72 1.47 1.35L5.41 20z\"/>\n",
              "  </svg>\n",
              "      </button>\n",
              "      \n",
              "  <style>\n",
              "    .colab-df-container {\n",
              "      display:flex;\n",
              "      flex-wrap:wrap;\n",
              "      gap: 12px;\n",
              "    }\n",
              "\n",
              "    .colab-df-convert {\n",
              "      background-color: #E8F0FE;\n",
              "      border: none;\n",
              "      border-radius: 50%;\n",
              "      cursor: pointer;\n",
              "      display: none;\n",
              "      fill: #1967D2;\n",
              "      height: 32px;\n",
              "      padding: 0 0 0 0;\n",
              "      width: 32px;\n",
              "    }\n",
              "\n",
              "    .colab-df-convert:hover {\n",
              "      background-color: #E2EBFA;\n",
              "      box-shadow: 0px 1px 2px rgba(60, 64, 67, 0.3), 0px 1px 3px 1px rgba(60, 64, 67, 0.15);\n",
              "      fill: #174EA6;\n",
              "    }\n",
              "\n",
              "    [theme=dark] .colab-df-convert {\n",
              "      background-color: #3B4455;\n",
              "      fill: #D2E3FC;\n",
              "    }\n",
              "\n",
              "    [theme=dark] .colab-df-convert:hover {\n",
              "      background-color: #434B5C;\n",
              "      box-shadow: 0px 1px 3px 1px rgba(0, 0, 0, 0.15);\n",
              "      filter: drop-shadow(0px 1px 2px rgba(0, 0, 0, 0.3));\n",
              "      fill: #FFFFFF;\n",
              "    }\n",
              "  </style>\n",
              "\n",
              "      <script>\n",
              "        const buttonEl =\n",
              "          document.querySelector('#df-74c3db01-53fc-445f-b3bc-0d90a37a0fe6 button.colab-df-convert');\n",
              "        buttonEl.style.display =\n",
              "          google.colab.kernel.accessAllowed ? 'block' : 'none';\n",
              "\n",
              "        async function convertToInteractive(key) {\n",
              "          const element = document.querySelector('#df-74c3db01-53fc-445f-b3bc-0d90a37a0fe6');\n",
              "          const dataTable =\n",
              "            await google.colab.kernel.invokeFunction('convertToInteractive',\n",
              "                                                     [key], {});\n",
              "          if (!dataTable) return;\n",
              "\n",
              "          const docLinkHtml = 'Like what you see? Visit the ' +\n",
              "            '<a target=\"_blank\" href=https://colab.research.google.com/notebooks/data_table.ipynb>data table notebook</a>'\n",
              "            + ' to learn more about interactive tables.';\n",
              "          element.innerHTML = '';\n",
              "          dataTable['output_type'] = 'display_data';\n",
              "          await google.colab.output.renderOutput(dataTable, element);\n",
              "          const docLink = document.createElement('div');\n",
              "          docLink.innerHTML = docLinkHtml;\n",
              "          element.appendChild(docLink);\n",
              "        }\n",
              "      </script>\n",
              "    </div>\n",
              "  </div>\n",
              "  "
            ]
          },
          "metadata": {},
          "execution_count": 46
        }
      ],
      "source": [
        "# CORRELATION?\n",
        "banknote_df.corr()"
      ]
    },
    {
      "cell_type": "markdown",
      "metadata": {
        "id": "JkhPiXSLOXz1"
      },
      "source": [
        "### **Exercise #3: Split the data and standardize based on the training set**\n",
        "---"
      ]
    },
    {
      "cell_type": "code",
      "execution_count": null,
      "metadata": {
        "id": "EwsV18S_OXz1"
      },
      "outputs": [],
      "source": [
        "inputs = # BEST FEATURES?\n",
        "output = banknote_df[\"class\"]\n",
        "\n",
        "X_train, X_test, y_train, y_test = model_selection.train_test_split(inputs, output, test_size=0.2, random_state=42)"
      ]
    },
    {
      "cell_type": "markdown",
      "source": [
        "As we saw in lecture, it's important to scale our data. **Run the code below to do this.**"
      ],
      "metadata": {
        "id": "cHIlhWnxO1PR"
      }
    },
    {
      "cell_type": "code",
      "source": [
        "mu = X_train.mean()\n",
        "sig = X_train.std()\n",
        "\n",
        "X_train = (X_train - mu)/sig\n",
        "X_test = (X_test - mu)/sig"
      ],
      "metadata": {
        "id": "upaIrwVGO1PS"
      },
      "execution_count": null,
      "outputs": []
    },
    {
      "cell_type": "markdown",
      "metadata": {
        "id": "eI47DJFf41v1"
      },
      "source": [
        "### **Exercise #4: Try different K values to see what is best**\n",
        "---\n",
        "\n",
        "Create and evaluate KNN models for different K values using accuracy and the confusion matrix."
      ]
    },
    {
      "cell_type": "markdown",
      "source": [
        "#### 1. **K = 1**"
      ],
      "metadata": {
        "id": "lKBOvLLA-WLP"
      }
    },
    {
      "cell_type": "code",
      "source": [],
      "metadata": {
        "id": "GKDkZjxAQGXT"
      },
      "execution_count": null,
      "outputs": []
    },
    {
      "cell_type": "code",
      "source": [],
      "metadata": {
        "id": "qSIxv7KHQGQz"
      },
      "execution_count": null,
      "outputs": []
    },
    {
      "cell_type": "code",
      "source": [],
      "metadata": {
        "id": "ArNUaGsFQGGy"
      },
      "execution_count": null,
      "outputs": []
    },
    {
      "cell_type": "markdown",
      "source": [
        "#### 2. **K = 3**"
      ],
      "metadata": {
        "id": "o3yeZ9UV9z1V"
      }
    },
    {
      "cell_type": "code",
      "source": [],
      "metadata": {
        "id": "F8v_dfFlQHgl"
      },
      "execution_count": null,
      "outputs": []
    },
    {
      "cell_type": "code",
      "source": [],
      "metadata": {
        "id": "o17oGx9RQHbJ"
      },
      "execution_count": null,
      "outputs": []
    },
    {
      "cell_type": "code",
      "source": [],
      "metadata": {
        "id": "oDGP5Cq7QHU3"
      },
      "execution_count": null,
      "outputs": []
    },
    {
      "cell_type": "markdown",
      "source": [
        "#### 3. **K = size of dataset**"
      ],
      "metadata": {
        "id": "8pcJi7Sh96Z9"
      }
    },
    {
      "cell_type": "code",
      "source": [],
      "metadata": {
        "id": "uuqIE58FQJrI"
      },
      "execution_count": null,
      "outputs": []
    },
    {
      "cell_type": "code",
      "source": [],
      "metadata": {
        "id": "JMKyxxUUQJmD"
      },
      "execution_count": null,
      "outputs": []
    },
    {
      "cell_type": "code",
      "source": [],
      "metadata": {
        "id": "VUmPDNt8QJfi"
      },
      "execution_count": null,
      "outputs": []
    },
    {
      "cell_type": "markdown",
      "source": [
        "#### 4. **K = $\\sqrt{\\text{size of dataset}}$**"
      ],
      "metadata": {
        "id": "zLeh-DpM9_5j"
      }
    },
    {
      "cell_type": "code",
      "source": [],
      "metadata": {
        "id": "lWW0OJ20QLb6"
      },
      "execution_count": null,
      "outputs": []
    },
    {
      "cell_type": "code",
      "source": [],
      "metadata": {
        "id": "3mKEqWF_QLWr"
      },
      "execution_count": null,
      "outputs": []
    },
    {
      "cell_type": "code",
      "source": [],
      "metadata": {
        "id": "ubVPqQ7qQLQ6"
      },
      "execution_count": null,
      "outputs": []
    },
    {
      "cell_type": "markdown",
      "source": [
        "Which value of K has the highest accuracy?\n",
        "\n",
        "Which value of K has the best looking confusion matrix?"
      ],
      "metadata": {
        "id": "5SRsNCDuPGWZ"
      }
    },
    {
      "cell_type": "markdown",
      "metadata": {
        "id": "vgrDoZsy4tBy"
      },
      "source": [
        "### **BONUS Exercise: Train KNN models for k = 1 to 100 and graph the accuracy**\n",
        "---\n",
        "\n",
        "**Run the code below to search over all K values from 1 to 100.**\n",
        "\n",
        "Then, plot the results for different K values and determine the best value."
      ]
    },
    {
      "cell_type": "code",
      "execution_count": null,
      "metadata": {
        "id": "47T6SixKtWUq"
      },
      "outputs": [],
      "source": [
        "from sklearn.model_selection import GridSearchCV\n",
        "\n",
        "# defining range of ks\n",
        "ks = list(range(1, 100))\n",
        "param_grid = dict(n_neighbors=ks)\n",
        "\n",
        "\n",
        "# creating grid searcher for KNN Classifier\n",
        "knn = KNeighborsClassifier()\n",
        "grid = GridSearchCV(knn, param_grid)\n",
        "  \n",
        "\n",
        "# fitting the model for grid search\n",
        "grid_search=grid.fit(X_train, y_train)\n",
        "\n",
        "\n",
        "# looking at the scores for this range\n",
        "print(grid_search.cv_results_['mean_test_score'])\n",
        "\n",
        "\n",
        "# looking at the best k value\n",
        "print(grid_search.best_params_)"
      ]
    },
    {
      "cell_type": "code",
      "execution_count": null,
      "metadata": {
        "id": "wh_zyi__tc8W"
      },
      "outputs": [],
      "source": [
        "# PLOT RESULTS"
      ]
    },
    {
      "cell_type": "markdown",
      "source": [
        "---\n",
        "\n",
        "# © 2022 The Coding School, All rights reserved"
      ],
      "metadata": {
        "id": "1cI9UutlB2Xt"
      }
    }
  ],
  "metadata": {
    "colab": {
      "provenance": []
    },
    "kernelspec": {
      "display_name": "Python 3 (ipykernel)",
      "language": "python",
      "name": "python3"
    },
    "language_info": {
      "codemirror_mode": {
        "name": "ipython",
        "version": 3
      },
      "file_extension": ".py",
      "mimetype": "text/x-python",
      "name": "python",
      "nbconvert_exporter": "python",
      "pygments_lexer": "ipython3",
      "version": "3.9.7"
    }
  },
  "nbformat": 4,
  "nbformat_minor": 0
}