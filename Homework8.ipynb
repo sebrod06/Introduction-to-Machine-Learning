{
  "cells": [
    {
      "cell_type": "markdown",
      "metadata": {
        "id": "mbZXQ3rA3NwL"
      },
      "source": [
        "# Homework \\#8: Linear Regression Part II\n",
        "---\n",
        "\n",
        "### **Description**:\n",
        "\n",
        "In this week's homework, you will continue practicing implementing linear regression models on both real and artificial datasets, evaluating these models, and making inferences from them by looking at their coefficients. This will involve both a famous dataset in statistics and your second project of the semester, exploring happiness around the world.\n",
        "\n",
        "There are optional components to stretch your abilities and practice old skills.\n",
        "\n",
        "<br>\n",
        "\n",
        "### **Structure**:\n",
        "\n",
        "**Part 0**: Import functions\n",
        "\n",
        "**Part 1**: Anscombe's Quartet\n",
        "\n",
        "**Part 2**: 2015 World Happiness Report Project\n",
        "\n",
        "\n",
        "<br>\n",
        "\n",
        "### **Cheat Sheet**: \n",
        "[Linear Regression with sklearn](https://docs.google.com/document/d/1fmIR5pvfxAFz_GGHun0dyE0CFWXe4_OWWeFRkZ1K13w/edit?usp=sharing)"
      ]
    },
    {
      "cell_type": "markdown",
      "metadata": {
        "id": "_84uL6H9NJQa"
      },
      "source": [
        "![regression.png](data:image/png;base64,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)"
      ]
    },
    {
      "cell_type": "markdown",
      "metadata": {
        "id": "7VJ0olpwwTvn"
      },
      "source": [
        "## **Part 0: Import functions**\n",
        "---\n",
        "\n",
        "**Run the code below before continuing.**"
      ]
    },
    {
      "cell_type": "code",
      "execution_count": null,
      "metadata": {
        "id": "I67Z7TAJwTvo"
      },
      "outputs": [],
      "source": [
        "import pandas as pd\n",
        "import matplotlib.pyplot as plt\n",
        "\n",
        "from sklearn.model_selection import train_test_split\n",
        "from sklearn.linear_model import LinearRegression, SGDRegressor\n",
        "from sklearn.metrics import r2_score, mean_squared_error, mean_absolute_error\n",
        "from sklearn.datasets import make_regression"
      ]
    },
    {
      "cell_type": "markdown",
      "metadata": {
        "id": "bX7akICQsCxy"
      },
      "source": [
        "## **Part 1: Anscombe's Quartet**\n",
        "---\n",
        "\n",
        "\n",
        "In this section, you will explore the famous Anscombe's Quartet. These four artificial datasets are very simple and small, yet offer some powerful insights into the limitations of individual statistics (like $R^2$) and the value of visualizing data.\n",
        "\n",
        "\n",
        "Each dataset consists of 11 points with an x value (our input or feature) and a y value (our output or target). This is the only information you need to get started. *After you have completed this section*, we encourage you to look up this dataset on Wikipedia and other sources to learn more about it.\n",
        "\n",
        "<br>\n",
        "\n",
        "**NOTE: Because there is such a small number of points, we really cannot afford to split the data even more into training and test sets. To keep our code consistent, we will still use separate variables such as X_train and X_test, but they will actually be the exact same thing. In other words, we will train and test our model on the entire dataset. This is typical practice with such small datasets.**"
      ]
    },
    {
      "cell_type": "markdown",
      "metadata": {
        "id": "auD1haa0Nzmr"
      },
      "source": [
        "### **Exercise 0**\n",
        "\n",
        "To get started, run the provided cell to create a linear regression model trained on each of the four datasets."
      ]
    },
    {
      "cell_type": "code",
      "execution_count": null,
      "metadata": {
        "id": "6RN1gmvlNzmr"
      },
      "outputs": [],
      "source": [
        "# LOAD IN DATA\n",
        "#==============\n",
        "set1 = pd.read_csv(\"https://docs.google.com/spreadsheets/d/e/2PACX-1vRVMS3mke4Skr1LcBoidilU1mcmeS5fpj0pbUfQoB-rG5GefKyOcTbcKoRt8N5QHXZYbaGcCJxZYZSw/pub?gid=646924765&single=true&output=csv\")\n",
        "set2 = pd.read_csv(\"https://docs.google.com/spreadsheets/d/e/2PACX-1vRVMS3mke4Skr1LcBoidilU1mcmeS5fpj0pbUfQoB-rG5GefKyOcTbcKoRt8N5QHXZYbaGcCJxZYZSw/pub?gid=1109791384&single=true&output=csv\")\n",
        "set3 = pd.read_csv(\"https://docs.google.com/spreadsheets/d/e/2PACX-1vRVMS3mke4Skr1LcBoidilU1mcmeS5fpj0pbUfQoB-rG5GefKyOcTbcKoRt8N5QHXZYbaGcCJxZYZSw/pub?gid=2285367&single=true&output=csv\")\n",
        "set4 = pd.read_csv(\"https://docs.google.com/spreadsheets/d/e/2PACX-1vRVMS3mke4Skr1LcBoidilU1mcmeS5fpj0pbUfQoB-rG5GefKyOcTbcKoRt8N5QHXZYbaGcCJxZYZSw/pub?gid=1733916884&single=true&output=csv\")\n",
        "\n",
        "inputs1 = set1[[\"x\"]]\n",
        "output1 = set1[\"y\"]\n",
        "\n",
        "inputs2 = set2[[\"x\"]]\n",
        "output2 = set2[\"y\"]\n",
        "\n",
        "inputs3 = set3[[\"x\"]]\n",
        "output3 = set3[\"y\"]\n",
        "\n",
        "inputs4 = set4[[\"x\"]]\n",
        "output4 = set4[\"y\"]\n",
        "\n",
        "\n",
        "# There's very little data, so we really can't afford to split it\n",
        "X1_train = X1_test = inputs1\n",
        "y1_train = y1_test = output1\n",
        "\n",
        "X2_train = X2_test = inputs2\n",
        "y2_train = y2_test = output2\n",
        "\n",
        "X3_train = X3_test = inputs3\n",
        "y3_train = y3_test = output3\n",
        "\n",
        "X4_train = X4_test = inputs4\n",
        "y4_train = y4_test = output4\n",
        "\n",
        "\n",
        "\n",
        "# TRAIN MODELS\n",
        "#==============\n",
        "model1 = LinearRegression()\n",
        "model1.fit(X1_train, y1_train)\n",
        "predictions1 = model1.predict(X1_test)\n",
        "\n",
        "model2 = LinearRegression()\n",
        "model2.fit(X2_train, y2_train)\n",
        "predictions2 = model2.predict(X2_test)\n",
        "\n",
        "model3 = LinearRegression()\n",
        "model3.fit(X3_train, y3_train)\n",
        "predictions3 = model3.predict(X3_test)\n",
        "\n",
        "model4 = LinearRegression()\n",
        "model4.fit(X4_train, y4_train)\n",
        "predictions4 = model4.predict(X4_test)"
      ]
    },
    {
      "cell_type": "markdown",
      "metadata": {
        "id": "Fkm0RvJAXVDk"
      },
      "source": [
        "### **Exercise 1**\n",
        "\n",
        "Plot the residuals of for each model. \n",
        "\n",
        "Two important reminders:\n",
        "\n",
        "* The residuals are the difference between the actual values in the data (ex: y_test) and the predicted values.\n",
        "* For a linear model to be trusted, the plot of residuals should look randomly distributed around 0. If there is any noticeable shape or pattern to this plot, we cannot trust a linear model or the metrics such as $R^2$ for it.\n",
        "\n",
        "<br>\n",
        "\n",
        "**Model 1**\n",
        "\n",
        "The code for this has been provided to get you started."
      ]
    },
    {
      "cell_type": "code",
      "execution_count": null,
      "metadata": {
        "colab": {
          "base_uri": "https://localhost:8080/",
          "height": 300
        },
        "id": "Os3QvyI3XYLm",
        "outputId": "f3bba00d-ef36-4547-d441-f9368ff0d031"
      },
      "outputs": [
        {
          "output_type": "display_data",
          "data": {
            "text/plain": [
              "<Figure size 432x288 with 1 Axes>"
            ],
            "image/png": "[encoded data removed]"
          },
          "metadata": {
            "needs_background": "light"
          }
        }
      ],
      "source": [
        "residuals1 = y1_test - predictions1\n",
        "\n",
        "plt.scatter(predictions1, residuals1)\n",
        "plt.plot([predictions1.min(), predictions1.max()], [0, 0], color = \"black\")\n",
        "\n",
        "plt.title(\"Residuals for dataset 1\", fontsize = \"x-large\")\n",
        "plt.xlabel(\"Predicted Value\", fontsize = \"x-large\")\n",
        "plt.ylabel(\"Residual\", fontsize = \"x-large\")\n",
        "\n",
        "plt.show()"
      ]
    },
    {
      "cell_type": "markdown",
      "metadata": {
        "id": "HZZCfW01at6H"
      },
      "source": [
        "**Model 2**"
      ]
    },
    {
      "cell_type": "code",
      "execution_count": null,
      "metadata": {
        "id": "HrLSM4nZatds",
        "colab": {
          "base_uri": "https://localhost:8080/",
          "height": 300
        },
        "outputId": "9c0a239d-0e93-4c6e-b56a-d571edfe8ac7"
      },
      "outputs": [
        {
          "output_type": "display_data",
          "data": {
            "text/plain": [
              "<Figure size 432x288 with 1 Axes>"
            ],
            "image/png": "[encoded data removed]"
          },
          "metadata": {
            "needs_background": "light"
          }
        }
      ],
      "source": [
        "residuals2 = y2_test - predictions2\n",
        "\n",
        "plt.scatter(predictions2, residuals2)\n",
        "plt.plot([predictions2.min(), predictions2.max()], [0, 0], color = \"black\")\n",
        "\n",
        "plt.title(\"Residuals for dataset 2\", fontsize = \"x-large\")\n",
        "plt.xlabel(\"Predicted Value\", fontsize = \"x-large\")\n",
        "plt.ylabel(\"Residual\", fontsize = \"x-large\")\n",
        "\n",
        "plt.show()"
      ]
    },
    {
      "cell_type": "markdown",
      "metadata": {
        "id": "i3dJZkY_auwV"
      },
      "source": [
        "**Model 3**"
      ]
    },
    {
      "cell_type": "code",
      "execution_count": null,
      "metadata": {
        "id": "VDGe0Nrcavh3",
        "colab": {
          "base_uri": "https://localhost:8080/",
          "height": 300
        },
        "outputId": "a1a25d79-3d3b-48e4-c537-830b5bb9aab3"
      },
      "outputs": [
        {
          "output_type": "display_data",
          "data": {
            "text/plain": [
              "<Figure size 432x288 with 1 Axes>"
            ],
            "image/png": "[encoded data removed]"
          },
          "metadata": {
            "needs_background": "light"
          }
        }
      ],
      "source": [
        "residuals3 = y3_test - predictions3\n",
        "\n",
        "plt.scatter(predictions3, residuals3)\n",
        "plt.plot([predictions3.min(), predictions3.max()], [0, 0], color = \"black\")\n",
        "\n",
        "plt.title(\"Residuals for dataset 3\", fontsize = \"x-large\")\n",
        "plt.xlabel(\"Predicted Value\", fontsize = \"x-large\")\n",
        "plt.ylabel(\"Residual\", fontsize = \"x-large\")\n",
        "\n",
        "plt.show()"
      ]
    },
    {
      "cell_type": "markdown",
      "metadata": {
        "id": "heSupcFdavzz"
      },
      "source": [
        "**Model 4**"
      ]
    },
    {
      "cell_type": "code",
      "execution_count": null,
      "metadata": {
        "id": "TK8etgx_awbh",
        "colab": {
          "base_uri": "https://localhost:8080/",
          "height": 300
        },
        "outputId": "b4607ae7-2415-45fe-cd74-274fdbe8d098"
      },
      "outputs": [
        {
          "output_type": "display_data",
          "data": {
            "text/plain": [
              "<Figure size 432x288 with 1 Axes>"
            ],
            "image/png": "[encoded data removed]"
          },
          "metadata": {
            "needs_background": "light"
          }
        }
      ],
      "source": [
        "residuals4 = y4_test - predictions4\n",
        "\n",
        "plt.scatter(predictions4, residuals4)\n",
        "plt.plot([predictions4.min(), predictions4.max()], [0, 0], color = \"black\")\n",
        "\n",
        "plt.title(\"Residuals for dataset 4\", fontsize = \"x-large\")\n",
        "plt.xlabel(\"Predicted Value\", fontsize = \"x-large\")\n",
        "plt.ylabel(\"Residual\", fontsize = \"x-large\")\n",
        "\n",
        "plt.show()"
      ]
    },
    {
      "cell_type": "markdown",
      "metadata": {
        "id": "JxoNebnCXPaf"
      },
      "source": [
        "### **Exercise 2**\n",
        "\n",
        "Evalute the $R^2$, MSE, and MAE for each model AND print the coefficient/intercept for each model. To get you started, the code for printing model 1's $R^2$ and coefficient/intercept has already been provided.\n",
        "\n",
        "**Model 1**"
      ]
    },
    {
      "cell_type": "code",
      "execution_count": null,
      "metadata": {
        "id": "MYaC2-qkXUqm",
        "colab": {
          "base_uri": "https://localhost:8080/"
        },
        "outputId": "8ec85502-f364-4ee0-dbbc-615347833ef5"
      },
      "outputs": [
        {
          "output_type": "stream",
          "name": "stdout",
          "text": [
            "R2: 0.6665424595087748\n",
            "MSE: 1.2511536363636366\n",
            "MAE: 0.837404958677686\n",
            "y = 0.5000909090909093*x + 3.0000909090909094\n"
          ]
        }
      ],
      "source": [
        "print(\"R2: \" + str(r2_score(y1_test, predictions1)))\n",
        "print(\"MSE: \" + str(mean_squared_error(y1_test, predictions1)))\n",
        "print(\"MAE: \" + str(mean_absolute_error(y1_test, predictions1)))\n",
        "\n",
        "print(\"y = \" + str(model1.coef_[0]) + \"*x + \" + str(model1.intercept_))"
      ]
    },
    {
      "cell_type": "markdown",
      "metadata": {
        "id": "juon-3wrX0t8"
      },
      "source": [
        "**Model 2**"
      ]
    },
    {
      "cell_type": "code",
      "execution_count": null,
      "metadata": {
        "id": "qJDG2A8HXeK1",
        "colab": {
          "base_uri": "https://localhost:8080/"
        },
        "outputId": "e4f243b0-2d60-4836-9c21-d673b3ec2815"
      },
      "outputs": [
        {
          "output_type": "stream",
          "name": "stdout",
          "text": [
            "R2: 0.6662420337274844\n",
            "MSE: 1.2523900826446281\n",
            "MAE: 0.9679338842975209\n",
            "y = 0.5*x + 3.00090909090909\n"
          ]
        }
      ],
      "source": [
        "print(\"R2: \" + str(r2_score(y2_test, predictions2)))\n",
        "print(\"MSE: \" + str(mean_squared_error(y2_test, predictions2)))\n",
        "print(\"MAE: \" + str(mean_absolute_error(y2_test, predictions2)))\n",
        "\n",
        "print(\"y = \" + str(model2.coef_[0]) + \"*x + \" + str(model2.intercept_))"
      ]
    },
    {
      "cell_type": "markdown",
      "metadata": {
        "id": "o32t7rrqX1yL"
      },
      "source": [
        "**Model 3**"
      ]
    },
    {
      "cell_type": "code",
      "execution_count": null,
      "metadata": {
        "id": "_fmGBunLXdoA",
        "colab": {
          "base_uri": "https://localhost:8080/"
        },
        "outputId": "2cea74b8-bb62-4dbe-93dc-24ce8c513d16"
      },
      "outputs": [
        {
          "output_type": "stream",
          "name": "stdout",
          "text": [
            "R2: 0.6663240410665592\n",
            "MSE: 1.2505628925619836\n",
            "MAE: 0.7159669421487606\n",
            "y = 0.4997272727272728*x + 3.002454545454545\n"
          ]
        }
      ],
      "source": [
        "print(\"R2: \" + str(r2_score(y3_test, predictions3)))\n",
        "print(\"MSE: \" + str(mean_squared_error(y3_test, predictions3)))\n",
        "print(\"MAE: \" + str(mean_absolute_error(y3_test, predictions3)))\n",
        "\n",
        "print(\"y = \" + str(model3.coef_[0]) + \"*x + \" + str(model3.intercept_))"
      ]
    },
    {
      "cell_type": "markdown",
      "metadata": {
        "id": "dpdQE1juX2wj"
      },
      "source": [
        "**Model 4**"
      ]
    },
    {
      "cell_type": "code",
      "execution_count": null,
      "metadata": {
        "id": "m08-bnXmXdSC",
        "colab": {
          "base_uri": "https://localhost:8080/"
        },
        "outputId": "de3208dc-e2f8-426a-91bb-52b061a129c2"
      },
      "outputs": [
        {
          "output_type": "stream",
          "name": "stdout",
          "text": [
            "R2: 0.6667072568984653\n",
            "MSE: 1.249317272727273\n",
            "MAE: 0.902727272727273\n",
            "y = 0.49990909090909097*x + 3.0017272727272726\n"
          ]
        }
      ],
      "source": [
        "print(\"R2: \" + str(r2_score(y4_test, predictions4)))\n",
        "print(\"MSE: \" + str(mean_squared_error(y4_test, predictions4)))\n",
        "print(\"MAE: \" + str(mean_absolute_error(y4_test, predictions4)))\n",
        "\n",
        "print(\"y = \" + str(model4.coef_[0]) + \"*x + \" + str(model4.intercept_))"
      ]
    },
    {
      "cell_type": "markdown",
      "metadata": {
        "id": "CCpBH2ZPXYkl"
      },
      "source": [
        "### **Exercise 3**\n",
        "\n",
        "\n",
        "Plot the data and the model (line) for each dataset.\n",
        "\n",
        "**Model 1**\n",
        "\n",
        "The code to plot the model has been provided. Now, fill in the rest to plot the data too."
      ]
    },
    {
      "cell_type": "code",
      "execution_count": null,
      "metadata": {
        "id": "grGddKEUXaZZ",
        "colab": {
          "base_uri": "https://localhost:8080/",
          "height": 355
        },
        "outputId": "523b424b-45ef-4741-e725-fba872003488"
      },
      "outputs": [
        {
          "output_type": "display_data",
          "data": {
            "text/plain": [
              "<Figure size 576x360 with 1 Axes>"
            ],
            "image/png": "[encoded data removed]"
          },
          "metadata": {
            "needs_background": "light"
          }
        }
      ],
      "source": [
        "plt.figure(figsize = (8, 5))\n",
        "\n",
        "# PLOT THE TEST DATA HERE, INCLUDING A LABEL\n",
        "plt.scatter(X1_test, y1_test, label=\"Test Data\")\n",
        "\n",
        "plt.plot(X1_test, predictions1, color = \"orange\", label = \"Model Predictions\")\n",
        "\n",
        "plt.title(\"Dataset 1\", fontsize = \"x-large\")\n",
        "plt.xlabel(\"x\", fontsize = \"x-large\")\n",
        "plt.ylabel(\"y\", fontsize = \"x-large\")\n",
        "plt.legend()\n",
        "\n",
        "plt.show()"
      ]
    },
    {
      "cell_type": "markdown",
      "metadata": {
        "id": "SzWV4BvJcfpi"
      },
      "source": [
        "**Model 2**"
      ]
    },
    {
      "cell_type": "code",
      "execution_count": null,
      "metadata": {
        "id": "ZYRUlZo7cgqa",
        "colab": {
          "base_uri": "https://localhost:8080/",
          "height": 355
        },
        "outputId": "73a89d9f-c136-436b-ee72-59d357099c53"
      },
      "outputs": [
        {
          "output_type": "display_data",
          "data": {
            "text/plain": [
              "<Figure size 576x360 with 1 Axes>"
            ],
            "image/png": "[encoded data removed]"
          },
          "metadata": {
            "needs_background": "light"
          }
        }
      ],
      "source": [
        "plt.figure(figsize = (8, 5))\n",
        "\n",
        "# PLOT THE TEST DATA HERE, INCLUDING A LABEL\n",
        "plt.scatter(X2_test, y2_test, label=\"Test Data\")\n",
        "\n",
        "plt.plot(X2_test, predictions2, color = \"orange\", label = \"Model Predictions\")\n",
        "\n",
        "plt.title(\"Dataset 2\", fontsize = \"x-large\")\n",
        "plt.xlabel(\"x\", fontsize = \"x-large\")\n",
        "plt.ylabel(\"y\", fontsize = \"x-large\")\n",
        "plt.legend()\n",
        "\n",
        "plt.show()"
      ]
    },
    {
      "cell_type": "markdown",
      "metadata": {
        "id": "5xQDgOsmcmT9"
      },
      "source": [
        "**Model 3**"
      ]
    },
    {
      "cell_type": "code",
      "execution_count": null,
      "metadata": {
        "id": "4EYMAs9mclL5",
        "colab": {
          "base_uri": "https://localhost:8080/",
          "height": 355
        },
        "outputId": "c5d0629b-e50a-4999-8cc6-90695b187455"
      },
      "outputs": [
        {
          "output_type": "display_data",
          "data": {
            "text/plain": [
              "<Figure size 576x360 with 1 Axes>"
            ],
            "image/png": "[encoded data removed]"
          },
          "metadata": {
            "needs_background": "light"
          }
        }
      ],
      "source": [
        "plt.figure(figsize = (8, 5))\n",
        "\n",
        "# PLOT THE TEST DATA HERE, INCLUDING A LABEL\n",
        "plt.scatter(X3_test, y3_test, label=\"Test Data\")\n",
        "\n",
        "plt.plot(X3_test, predictions3, color = \"orange\", label = \"Model Predictions\")\n",
        "\n",
        "plt.title(\"Dataset 3\", fontsize = \"x-large\")\n",
        "plt.xlabel(\"x\", fontsize = \"x-large\")\n",
        "plt.ylabel(\"y\", fontsize = \"x-large\")\n",
        "plt.legend()\n",
        "\n",
        "plt.show()"
      ]
    },
    {
      "cell_type": "markdown",
      "metadata": {
        "id": "2q7vTHptctD1"
      },
      "source": [
        "**Model 4**"
      ]
    },
    {
      "cell_type": "code",
      "execution_count": null,
      "metadata": {
        "id": "t2J49PPDcrqG",
        "colab": {
          "base_uri": "https://localhost:8080/",
          "height": 355
        },
        "outputId": "82c141c2-16fe-4ae2-b4fb-864782384763"
      },
      "outputs": [
        {
          "output_type": "display_data",
          "data": {
            "text/plain": [
              "<Figure size 576x360 with 1 Axes>"
            ],
            "image/png": "[encoded data removed]"
          },
          "metadata": {
            "needs_background": "light"
          }
        }
      ],
      "source": [
        "plt.figure(figsize = (8, 5))\n",
        "\n",
        "# PLOT THE TEST DATA HERE, INCLUDING A LABEL\n",
        "plt.scatter(X4_test, y4_test, label=\"Test Data\")\n",
        "\n",
        "plt.plot(X4_test, predictions4, color = \"orange\", label = \"Model Predictions\")\n",
        "\n",
        "plt.title(\"Dataset 4\", fontsize = \"x-large\")\n",
        "plt.xlabel(\"x\", fontsize = \"x-large\")\n",
        "plt.ylabel(\"y\", fontsize = \"x-large\")\n",
        "plt.legend()\n",
        "\n",
        "plt.show()"
      ]
    },
    {
      "cell_type": "markdown",
      "metadata": {
        "id": "LGxwPJGfg-iC"
      },
      "source": [
        "## **Part 2: 2015 World Happiness Report Project**\n",
        "\n",
        "\n",
        "\n",
        "\n",
        "---\n",
        "\n",
        "\n",
        "\n",
        "\n",
        "\n"
      ]
    },
    {
      "cell_type": "markdown",
      "metadata": {
        "id": "H2ql3GqGI1Vi"
      },
      "source": [
        "**Project Description:** \n",
        "\n",
        "This project involves a dataset containing information collected and used in the United Nations 2015 World Happiness Report. Using linear regression (both Ordinary Least Squares and Stochastic Gradient Descent) and KNN classification, you can implement various machine learning models to answer problems such as predicting a country's name from its happiness rank, economy (GDP), and freedom score. This project will challenge you to visualize data using Python packages while also exploring examples of real-world ML model building and evaluation.\n",
        "\n",
        "\n",
        "<br>\n",
        "\n",
        "**Data used:** \n",
        "\n",
        "UN 2015 World Happiness Report\n",
        "\n",
        "\n",
        "For this project, you are given data collected for the 2015 UN Happiness Report. Everything you need is provided below. But, if you are curious to learn more the [official source can be found here](https://worldhappiness.report/ed/2015/#appendices-and-data).\n",
        "\n",
        "\n",
        "<br>\n",
        "\n",
        "**Key questions to answer:**\n",
        "1. How are these measures, such as Happiness Score or Freedom, determined?\n",
        "\n",
        "2. What patterns are visually clear in this dataset?\n",
        "\n",
        "3. Using a linear regression model, predict a country's happiness score based on various features. Specifically, a country that reports the following:\n",
        "\n",
        "\n",
        "> * GDP: 0.9\n",
        ">\n",
        "> * Social Support: 0.4\n",
        ">\n",
        "> * Healthy Life Expectancy: 55 years\n",
        ">\n",
        "> * Freedom: 0.4\n",
        ">\n",
        "> * Corruption Perception: 0.2\n",
        ">\n",
        "> * Generosity: 0.09\n",
        "\n",
        "\n",
        "<br>\n",
        "\n",
        "**Goals:**\n",
        "\n",
        "By the end of this project, you will have :\n",
        "1. Visualized relationships between various variables in the data.\n",
        "\n",
        "2. Implemented and evaluated a linear regression model to predict a country's Happiness Score.\n",
        "\n",
        "3. [OPTIONAL] Implemented and evaluated a linear regression model using Stochastic Gradient Descent to predict a country's Happiness Score.\n",
        "\n",
        "4. [OPTIONAL] Implemented and evaluated a KNN Model to predict a country's name based upon features that you have selected."
      ]
    },
    {
      "cell_type": "markdown",
      "metadata": {
        "id": "PW6EDtnXdczv"
      },
      "source": [
        "---\n",
        "### **Step 1: Data Exploration and Visualization**\n",
        "---\n",
        "\n",
        "In this step, you will load in and explore the dataset for this project. This will involve using functions from pandas as well as reading source material to understand the data that you are working with."
      ]
    },
    {
      "cell_type": "markdown",
      "metadata": {
        "id": "E5KCZxj2rDHz"
      },
      "source": [
        "---\n",
        "\n",
        "#### **Exercise 0**\n",
        "\n",
        "Run the code below to load the data into a DataFrame."
      ]
    },
    {
      "cell_type": "code",
      "execution_count": null,
      "metadata": {
        "id": "hRZBMlvDZn5U"
      },
      "outputs": [],
      "source": [
        "url_one = \"https://docs.google.com/spreadsheets/d/e/2PACX-1vSFGYwItCEwjRjsvRogqoiHmcyEgv7vjF3Frg-vO9gOIgeKbv_GNYZFAG_eRatNJkdUgm9HVFuNWgDX/pub?gid=108149846&single=true&output=csv\"\n",
        "\n",
        "happy_df = pd.read_csv(url_one)"
      ]
    },
    {
      "cell_type": "markdown",
      "metadata": {
        "id": "NhuunxzY8Sxx"
      },
      "source": [
        "---\n",
        "\n",
        "#### **Exercise 1**\n",
        "\n",
        "Using pandas functions, look at the first few rows of data."
      ]
    },
    {
      "cell_type": "code",
      "execution_count": null,
      "metadata": {
        "id": "MQ7FE9748aE-",
        "colab": {
          "base_uri": "https://localhost:8080/",
          "height": 206
        },
        "outputId": "2008eae9-d276-4f9d-d9bb-7888259a5f1e"
      },
      "outputs": [
        {
          "output_type": "execute_result",
          "data": {
            "text/plain": [
              "       Country          Region  Happiness Score      GDP  Social Support  \\\n",
              "0  Switzerland  Western Europe            7.587  1.39651         1.34951   \n",
              "1      Iceland  Western Europe            7.561  1.30232         1.40223   \n",
              "2      Denmark  Western Europe            7.527  1.32548         1.36058   \n",
              "3       Norway  Western Europe            7.522  1.45900         1.33095   \n",
              "4       Canada   North America            7.427  1.32629         1.32261   \n",
              "\n",
              "   Healthy Life Expectancy  Freedom  Corruption Perception  Generosity  \n",
              "0                  0.94143  0.66557                0.41978     0.29678  \n",
              "1                  0.94784  0.62877                0.14145     0.43630  \n",
              "2                  0.87464  0.64938                0.48357     0.34139  \n",
              "3                  0.88521  0.66973                0.36503     0.34699  \n",
              "4                  0.90563  0.63297                0.32957     0.45811  "
            ],
            "text/html": [
              "\n",
              "  <div id=\"df-07224a73-ab6e-4c24-a4bb-8cdc6923c6fd\">\n",
              "    <div class=\"colab-df-container\">\n",
              "      <div>\n",
              "<style scoped>\n",
              "    .dataframe tbody tr th:only-of-type {\n",
              "        vertical-align: middle;\n",
              "    }\n",
              "\n",
              "    .dataframe tbody tr th {\n",
              "        vertical-align: top;\n",
              "    }\n",
              "\n",
              "    .dataframe thead th {\n",
              "        text-align: right;\n",
              "    }\n",
              "</style>\n",
              "<table border=\"1\" class=\"dataframe\">\n",
              "  <thead>\n",
              "    <tr style=\"text-align: right;\">\n",
              "      <th></th>\n",
              "      <th>Country</th>\n",
              "      <th>Region</th>\n",
              "      <th>Happiness Score</th>\n",
              "      <th>GDP</th>\n",
              "      <th>Social Support</th>\n",
              "      <th>Healthy Life Expectancy</th>\n",
              "      <th>Freedom</th>\n",
              "      <th>Corruption Perception</th>\n",
              "      <th>Generosity</th>\n",
              "    </tr>\n",
              "  </thead>\n",
              "  <tbody>\n",
              "    <tr>\n",
              "      <th>0</th>\n",
              "      <td>Switzerland</td>\n",
              "      <td>Western Europe</td>\n",
              "      <td>7.587</td>\n",
              "      <td>1.39651</td>\n",
              "      <td>1.34951</td>\n",
              "      <td>0.94143</td>\n",
              "      <td>0.66557</td>\n",
              "      <td>0.41978</td>\n",
              "      <td>0.29678</td>\n",
              "    </tr>\n",
              "    <tr>\n",
              "      <th>1</th>\n",
              "      <td>Iceland</td>\n",
              "      <td>Western Europe</td>\n",
              "      <td>7.561</td>\n",
              "      <td>1.30232</td>\n",
              "      <td>1.40223</td>\n",
              "      <td>0.94784</td>\n",
              "      <td>0.62877</td>\n",
              "      <td>0.14145</td>\n",
              "      <td>0.43630</td>\n",
              "    </tr>\n",
              "    <tr>\n",
              "      <th>2</th>\n",
              "      <td>Denmark</td>\n",
              "      <td>Western Europe</td>\n",
              "      <td>7.527</td>\n",
              "      <td>1.32548</td>\n",
              "      <td>1.36058</td>\n",
              "      <td>0.87464</td>\n",
              "      <td>0.64938</td>\n",
              "      <td>0.48357</td>\n",
              "      <td>0.34139</td>\n",
              "    </tr>\n",
              "    <tr>\n",
              "      <th>3</th>\n",
              "      <td>Norway</td>\n",
              "      <td>Western Europe</td>\n",
              "      <td>7.522</td>\n",
              "      <td>1.45900</td>\n",
              "      <td>1.33095</td>\n",
              "      <td>0.88521</td>\n",
              "      <td>0.66973</td>\n",
              "      <td>0.36503</td>\n",
              "      <td>0.34699</td>\n",
              "    </tr>\n",
              "    <tr>\n",
              "      <th>4</th>\n",
              "      <td>Canada</td>\n",
              "      <td>North America</td>\n",
              "      <td>7.427</td>\n",
              "      <td>1.32629</td>\n",
              "      <td>1.32261</td>\n",
              "      <td>0.90563</td>\n",
              "      <td>0.63297</td>\n",
              "      <td>0.32957</td>\n",
              "      <td>0.45811</td>\n",
              "    </tr>\n",
              "  </tbody>\n",
              "</table>\n",
              "</div>\n",
              "      <button class=\"colab-df-convert\" onclick=\"convertToInteractive('df-07224a73-ab6e-4c24-a4bb-8cdc6923c6fd')\"\n",
              "              title=\"Convert this dataframe to an interactive table.\"\n",
              "              style=\"display:none;\">\n",
              "        \n",
              "  <svg xmlns=\"http://www.w3.org/2000/svg\" height=\"24px\"viewBox=\"0 0 24 24\"\n",
              "       width=\"24px\">\n",
              "    <path d=\"M0 0h24v24H0V0z\" fill=\"none\"/>\n",
              "    <path d=\"M18.56 5.44l.94 2.06.94-2.06 2.06-.94-2.06-.94-.94-2.06-.94 2.06-2.06.94zm-11 1L8.5 8.5l.94-2.06 2.06-.94-2.06-.94L8.5 2.5l-.94 2.06-2.06.94zm10 10l.94 2.06.94-2.06 2.06-.94-2.06-.94-.94-2.06-.94 2.06-2.06.94z\"/><path d=\"M17.41 7.96l-1.37-1.37c-.4-.4-.92-.59-1.43-.59-.52 0-1.04.2-1.43.59L10.3 9.45l-7.72 7.72c-.78.78-.78 2.05 0 2.83L4 21.41c.39.39.9.59 1.41.59.51 0 1.02-.2 1.41-.59l7.78-7.78 2.81-2.81c.8-.78.8-2.07 0-2.86zM5.41 20L4 18.59l7.72-7.72 1.47 1.35L5.41 20z\"/>\n",
              "  </svg>\n",
              "      </button>\n",
              "      \n",
              "  <style>\n",
              "    .colab-df-container {\n",
              "      display:flex;\n",
              "      flex-wrap:wrap;\n",
              "      gap: 12px;\n",
              "    }\n",
              "\n",
              "    .colab-df-convert {\n",
              "      background-color: #E8F0FE;\n",
              "      border: none;\n",
              "      border-radius: 50%;\n",
              "      cursor: pointer;\n",
              "      display: none;\n",
              "      fill: #1967D2;\n",
              "      height: 32px;\n",
              "      padding: 0 0 0 0;\n",
              "      width: 32px;\n",
              "    }\n",
              "\n",
              "    .colab-df-convert:hover {\n",
              "      background-color: #E2EBFA;\n",
              "      box-shadow: 0px 1px 2px rgba(60, 64, 67, 0.3), 0px 1px 3px 1px rgba(60, 64, 67, 0.15);\n",
              "      fill: #174EA6;\n",
              "    }\n",
              "\n",
              "    [theme=dark] .colab-df-convert {\n",
              "      background-color: #3B4455;\n",
              "      fill: #D2E3FC;\n",
              "    }\n",
              "\n",
              "    [theme=dark] .colab-df-convert:hover {\n",
              "      background-color: #434B5C;\n",
              "      box-shadow: 0px 1px 3px 1px rgba(0, 0, 0, 0.15);\n",
              "      filter: drop-shadow(0px 1px 2px rgba(0, 0, 0, 0.3));\n",
              "      fill: #FFFFFF;\n",
              "    }\n",
              "  </style>\n",
              "\n",
              "      <script>\n",
              "        const buttonEl =\n",
              "          document.querySelector('#df-07224a73-ab6e-4c24-a4bb-8cdc6923c6fd button.colab-df-convert');\n",
              "        buttonEl.style.display =\n",
              "          google.colab.kernel.accessAllowed ? 'block' : 'none';\n",
              "\n",
              "        async function convertToInteractive(key) {\n",
              "          const element = document.querySelector('#df-07224a73-ab6e-4c24-a4bb-8cdc6923c6fd');\n",
              "          const dataTable =\n",
              "            await google.colab.kernel.invokeFunction('convertToInteractive',\n",
              "                                                     [key], {});\n",
              "          if (!dataTable) return;\n",
              "\n",
              "          const docLinkHtml = 'Like what you see? Visit the ' +\n",
              "            '<a target=\"_blank\" href=https://colab.research.google.com/notebooks/data_table.ipynb>data table notebook</a>'\n",
              "            + ' to learn more about interactive tables.';\n",
              "          element.innerHTML = '';\n",
              "          dataTable['output_type'] = 'display_data';\n",
              "          await google.colab.output.renderOutput(dataTable, element);\n",
              "          const docLink = document.createElement('div');\n",
              "          docLink.innerHTML = docLinkHtml;\n",
              "          element.appendChild(docLink);\n",
              "        }\n",
              "      </script>\n",
              "    </div>\n",
              "  </div>\n",
              "  "
            ]
          },
          "metadata": {},
          "execution_count": 16
        }
      ],
      "source": [
        "# HOW CAN WE LOOK AT THE FIRST FEW ROWS?\n",
        "happy_df.head()"
      ]
    },
    {
      "cell_type": "markdown",
      "metadata": {
        "id": "0sOSncGP8fNU"
      },
      "source": [
        "---\n",
        "\n",
        "#### **Exercise 2**\n",
        "\n",
        "To understand the variables in this dataset, look at the [official statistical appendix/codebook here](https://s3.amazonaws.com/happiness-report/2015/StatisticalAppendixWHR3-April-16-2015.pdf).\n",
        "\n",
        "Answer questions in the multiple choice based on the first 2.5 pages of information until they start mentioning the \"expanded data set\". You do not need to read anything after this."
      ]
    },
    {
      "cell_type": "markdown",
      "metadata": {
        "id": "1pSRy496-WVf"
      },
      "source": [
        "---\n",
        "\n",
        "#### **Exercise 3**\n",
        "\n",
        "Using pandas functions, explore the numerical data in two ways:\n",
        "\n",
        "1. Look at the mean (average) and std (spread/standard deviation) of these variables.\n",
        "\n",
        "2. Look at the correlations between these variables."
      ]
    },
    {
      "cell_type": "markdown",
      "metadata": {
        "id": "MX_Z_SQJH1hv"
      },
      "source": [
        "##### **1.**\n",
        "\n",
        "Look at the mean (average) and std (spread/standard deviation) of these variables."
      ]
    },
    {
      "cell_type": "code",
      "execution_count": null,
      "metadata": {
        "id": "3amrlLAQ-mgA",
        "colab": {
          "base_uri": "https://localhost:8080/"
        },
        "outputId": "f43517bf-400d-41bc-c427-332647c16496"
      },
      "outputs": [
        {
          "output_type": "stream",
          "name": "stdout",
          "text": [
            "Happiness Score            5.375734\n",
            "GDP                        0.846137\n",
            "Social Support             0.991046\n",
            "Healthy Life Expectancy    0.630259\n",
            "Freedom                    0.428615\n",
            "Corruption Perception      0.143422\n",
            "Generosity                 0.237296\n",
            "dtype: float64\n",
            "\n",
            "Happiness Score            1.145010\n",
            "GDP                        0.403121\n",
            "Social Support             0.272369\n",
            "Healthy Life Expectancy    0.247078\n",
            "Freedom                    0.150693\n",
            "Corruption Perception      0.120034\n",
            "Generosity                 0.126685\n",
            "dtype: float64\n"
          ]
        },
        {
          "output_type": "stream",
          "name": "stderr",
          "text": [
            "/usr/local/lib/python3.7/dist-packages/ipykernel_launcher.py:2: FutureWarning: Dropping of nuisance columns in DataFrame reductions (with 'numeric_only=None') is deprecated; in a future version this will raise TypeError.  Select only valid columns before calling the reduction.\n",
            "  \n",
            "/usr/local/lib/python3.7/dist-packages/ipykernel_launcher.py:3: FutureWarning: Dropping of nuisance columns in DataFrame reductions (with 'numeric_only=None') is deprecated; in a future version this will raise TypeError.  Select only valid columns before calling the reduction.\n",
            "  This is separate from the ipykernel package so we can avoid doing imports until\n"
          ]
        }
      ],
      "source": [
        "# HOW CAN WE GET THESE MEASURES USING PANDAS?\n",
        "average = happy_df.mean()\n",
        "stddev = happy_df.std()\n",
        "print(average)\n",
        "print()\n",
        "print(stddev)"
      ]
    },
    {
      "cell_type": "markdown",
      "metadata": {
        "id": "xz7wB4gTH4UL"
      },
      "source": [
        "##### **2.**\n",
        "\n",
        "Look at the correlations between these variables."
      ]
    },
    {
      "cell_type": "code",
      "execution_count": null,
      "metadata": {
        "id": "HIvv-NaaH9ht",
        "colab": {
          "base_uri": "https://localhost:8080/",
          "height": 269
        },
        "outputId": "0ec5368d-1960-48cf-e4f3-45c917835075"
      },
      "outputs": [
        {
          "output_type": "execute_result",
          "data": {
            "text/plain": [
              "                         Happiness Score       GDP  Social Support  \\\n",
              "Happiness Score                 1.000000  0.780966        0.740605   \n",
              "GDP                             0.780966  1.000000        0.645299   \n",
              "Social Support                  0.740605  0.645299        1.000000   \n",
              "Healthy Life Expectancy         0.724200  0.816478        0.531104   \n",
              "Freedom                         0.568211  0.370300        0.441518   \n",
              "Corruption Perception           0.395199  0.307885        0.205605   \n",
              "Generosity                      0.180319 -0.010465        0.087513   \n",
              "\n",
              "                         Healthy Life Expectancy   Freedom  \\\n",
              "Happiness Score                         0.724200  0.568211   \n",
              "GDP                                     0.816478  0.370300   \n",
              "Social Support                          0.531104  0.441518   \n",
              "Healthy Life Expectancy                 1.000000  0.360477   \n",
              "Freedom                                 0.360477  1.000000   \n",
              "Corruption Perception                   0.248335  0.493524   \n",
              "Generosity                              0.108335  0.373916   \n",
              "\n",
              "                         Corruption Perception  Generosity  \n",
              "Happiness Score                       0.395199    0.180319  \n",
              "GDP                                   0.307885   -0.010465  \n",
              "Social Support                        0.205605    0.087513  \n",
              "Healthy Life Expectancy               0.248335    0.108335  \n",
              "Freedom                               0.493524    0.373916  \n",
              "Corruption Perception                 1.000000    0.276123  \n",
              "Generosity                            0.276123    1.000000  "
            ],
            "text/html": [
              "\n",
              "  <div id=\"df-ebfd056b-b7d2-4044-b09d-944fa6158080\">\n",
              "    <div class=\"colab-df-container\">\n",
              "      <div>\n",
              "<style scoped>\n",
              "    .dataframe tbody tr th:only-of-type {\n",
              "        vertical-align: middle;\n",
              "    }\n",
              "\n",
              "    .dataframe tbody tr th {\n",
              "        vertical-align: top;\n",
              "    }\n",
              "\n",
              "    .dataframe thead th {\n",
              "        text-align: right;\n",
              "    }\n",
              "</style>\n",
              "<table border=\"1\" class=\"dataframe\">\n",
              "  <thead>\n",
              "    <tr style=\"text-align: right;\">\n",
              "      <th></th>\n",
              "      <th>Happiness Score</th>\n",
              "      <th>GDP</th>\n",
              "      <th>Social Support</th>\n",
              "      <th>Healthy Life Expectancy</th>\n",
              "      <th>Freedom</th>\n",
              "      <th>Corruption Perception</th>\n",
              "      <th>Generosity</th>\n",
              "    </tr>\n",
              "  </thead>\n",
              "  <tbody>\n",
              "    <tr>\n",
              "      <th>Happiness Score</th>\n",
              "      <td>1.000000</td>\n",
              "      <td>0.780966</td>\n",
              "      <td>0.740605</td>\n",
              "      <td>0.724200</td>\n",
              "      <td>0.568211</td>\n",
              "      <td>0.395199</td>\n",
              "      <td>0.180319</td>\n",
              "    </tr>\n",
              "    <tr>\n",
              "      <th>GDP</th>\n",
              "      <td>0.780966</td>\n",
              "      <td>1.000000</td>\n",
              "      <td>0.645299</td>\n",
              "      <td>0.816478</td>\n",
              "      <td>0.370300</td>\n",
              "      <td>0.307885</td>\n",
              "      <td>-0.010465</td>\n",
              "    </tr>\n",
              "    <tr>\n",
              "      <th>Social Support</th>\n",
              "      <td>0.740605</td>\n",
              "      <td>0.645299</td>\n",
              "      <td>1.000000</td>\n",
              "      <td>0.531104</td>\n",
              "      <td>0.441518</td>\n",
              "      <td>0.205605</td>\n",
              "      <td>0.087513</td>\n",
              "    </tr>\n",
              "    <tr>\n",
              "      <th>Healthy Life Expectancy</th>\n",
              "      <td>0.724200</td>\n",
              "      <td>0.816478</td>\n",
              "      <td>0.531104</td>\n",
              "      <td>1.000000</td>\n",
              "      <td>0.360477</td>\n",
              "      <td>0.248335</td>\n",
              "      <td>0.108335</td>\n",
              "    </tr>\n",
              "    <tr>\n",
              "      <th>Freedom</th>\n",
              "      <td>0.568211</td>\n",
              "      <td>0.370300</td>\n",
              "      <td>0.441518</td>\n",
              "      <td>0.360477</td>\n",
              "      <td>1.000000</td>\n",
              "      <td>0.493524</td>\n",
              "      <td>0.373916</td>\n",
              "    </tr>\n",
              "    <tr>\n",
              "      <th>Corruption Perception</th>\n",
              "      <td>0.395199</td>\n",
              "      <td>0.307885</td>\n",
              "      <td>0.205605</td>\n",
              "      <td>0.248335</td>\n",
              "      <td>0.493524</td>\n",
              "      <td>1.000000</td>\n",
              "      <td>0.276123</td>\n",
              "    </tr>\n",
              "    <tr>\n",
              "      <th>Generosity</th>\n",
              "      <td>0.180319</td>\n",
              "      <td>-0.010465</td>\n",
              "      <td>0.087513</td>\n",
              "      <td>0.108335</td>\n",
              "      <td>0.373916</td>\n",
              "      <td>0.276123</td>\n",
              "      <td>1.000000</td>\n",
              "    </tr>\n",
              "  </tbody>\n",
              "</table>\n",
              "</div>\n",
              "      <button class=\"colab-df-convert\" onclick=\"convertToInteractive('df-ebfd056b-b7d2-4044-b09d-944fa6158080')\"\n",
              "              title=\"Convert this dataframe to an interactive table.\"\n",
              "              style=\"display:none;\">\n",
              "        \n",
              "  <svg xmlns=\"http://www.w3.org/2000/svg\" height=\"24px\"viewBox=\"0 0 24 24\"\n",
              "       width=\"24px\">\n",
              "    <path d=\"M0 0h24v24H0V0z\" fill=\"none\"/>\n",
              "    <path d=\"M18.56 5.44l.94 2.06.94-2.06 2.06-.94-2.06-.94-.94-2.06-.94 2.06-2.06.94zm-11 1L8.5 8.5l.94-2.06 2.06-.94-2.06-.94L8.5 2.5l-.94 2.06-2.06.94zm10 10l.94 2.06.94-2.06 2.06-.94-2.06-.94-.94-2.06-.94 2.06-2.06.94z\"/><path d=\"M17.41 7.96l-1.37-1.37c-.4-.4-.92-.59-1.43-.59-.52 0-1.04.2-1.43.59L10.3 9.45l-7.72 7.72c-.78.78-.78 2.05 0 2.83L4 21.41c.39.39.9.59 1.41.59.51 0 1.02-.2 1.41-.59l7.78-7.78 2.81-2.81c.8-.78.8-2.07 0-2.86zM5.41 20L4 18.59l7.72-7.72 1.47 1.35L5.41 20z\"/>\n",
              "  </svg>\n",
              "      </button>\n",
              "      \n",
              "  <style>\n",
              "    .colab-df-container {\n",
              "      display:flex;\n",
              "      flex-wrap:wrap;\n",
              "      gap: 12px;\n",
              "    }\n",
              "\n",
              "    .colab-df-convert {\n",
              "      background-color: #E8F0FE;\n",
              "      border: none;\n",
              "      border-radius: 50%;\n",
              "      cursor: pointer;\n",
              "      display: none;\n",
              "      fill: #1967D2;\n",
              "      height: 32px;\n",
              "      padding: 0 0 0 0;\n",
              "      width: 32px;\n",
              "    }\n",
              "\n",
              "    .colab-df-convert:hover {\n",
              "      background-color: #E2EBFA;\n",
              "      box-shadow: 0px 1px 2px rgba(60, 64, 67, 0.3), 0px 1px 3px 1px rgba(60, 64, 67, 0.15);\n",
              "      fill: #174EA6;\n",
              "    }\n",
              "\n",
              "    [theme=dark] .colab-df-convert {\n",
              "      background-color: #3B4455;\n",
              "      fill: #D2E3FC;\n",
              "    }\n",
              "\n",
              "    [theme=dark] .colab-df-convert:hover {\n",
              "      background-color: #434B5C;\n",
              "      box-shadow: 0px 1px 3px 1px rgba(0, 0, 0, 0.15);\n",
              "      filter: drop-shadow(0px 1px 2px rgba(0, 0, 0, 0.3));\n",
              "      fill: #FFFFFF;\n",
              "    }\n",
              "  </style>\n",
              "\n",
              "      <script>\n",
              "        const buttonEl =\n",
              "          document.querySelector('#df-ebfd056b-b7d2-4044-b09d-944fa6158080 button.colab-df-convert');\n",
              "        buttonEl.style.display =\n",
              "          google.colab.kernel.accessAllowed ? 'block' : 'none';\n",
              "\n",
              "        async function convertToInteractive(key) {\n",
              "          const element = document.querySelector('#df-ebfd056b-b7d2-4044-b09d-944fa6158080');\n",
              "          const dataTable =\n",
              "            await google.colab.kernel.invokeFunction('convertToInteractive',\n",
              "                                                     [key], {});\n",
              "          if (!dataTable) return;\n",
              "\n",
              "          const docLinkHtml = 'Like what you see? Visit the ' +\n",
              "            '<a target=\"_blank\" href=https://colab.research.google.com/notebooks/data_table.ipynb>data table notebook</a>'\n",
              "            + ' to learn more about interactive tables.';\n",
              "          element.innerHTML = '';\n",
              "          dataTable['output_type'] = 'display_data';\n",
              "          await google.colab.output.renderOutput(dataTable, element);\n",
              "          const docLink = document.createElement('div');\n",
              "          docLink.innerHTML = docLinkHtml;\n",
              "          element.appendChild(docLink);\n",
              "        }\n",
              "      </script>\n",
              "    </div>\n",
              "  </div>\n",
              "  "
            ]
          },
          "metadata": {},
          "execution_count": 18
        }
      ],
      "source": [
        "# HOW CAN WE SEE THE CORRELATIONS?\n",
        "happy_df.corr()"
      ]
    },
    {
      "cell_type": "markdown",
      "metadata": {
        "id": "tWCgavI9-q_b"
      },
      "source": [
        "---\n",
        "\n",
        "#### **Exercise 4**\n",
        "\n",
        "Using pandas functions, determine all the countries that were included in this dataset."
      ]
    },
    {
      "cell_type": "code",
      "execution_count": null,
      "metadata": {
        "id": "DOiM-2NJ-4VT",
        "colab": {
          "base_uri": "https://localhost:8080/"
        },
        "outputId": "70605042-5fa8-4e89-e421-9009a7fa76ee"
      },
      "outputs": [
        {
          "output_type": "execute_result",
          "data": {
            "text/plain": [
              "array(['Switzerland', 'Iceland', 'Denmark', 'Norway', 'Canada', 'Finland',\n",
              "       'Netherlands', 'Sweden', 'New Zealand', 'Australia', 'Israel',\n",
              "       'Costa Rica', 'Austria', 'Mexico', 'United States', 'Brazil',\n",
              "       'Luxembourg', 'Ireland', 'Belgium', 'United Arab Emirates',\n",
              "       'United Kingdom', 'Oman', 'Venezuela', 'Singapore', 'Panama',\n",
              "       'Germany', 'Chile', 'Qatar', 'France', 'Argentina',\n",
              "       'Czech Republic', 'Uruguay', 'Colombia', 'Thailand',\n",
              "       'Saudi Arabia', 'Spain', 'Malta', 'Taiwan', 'Kuwait', 'Suriname',\n",
              "       'Trinidad and Tobago', 'El Salvador', 'Guatemala', 'Uzbekistan',\n",
              "       'Slovakia', 'Japan', 'South Korea', 'Ecuador', 'Bahrain', 'Italy',\n",
              "       'Bolivia', 'Moldova', 'Paraguay', 'Kazakhstan', 'Slovenia',\n",
              "       'Lithuania', 'Nicaragua', 'Peru', 'Belarus', 'Poland', 'Malaysia',\n",
              "       'Croatia', 'Libya', 'Russia', 'Jamaica', 'North Cyprus', 'Cyprus',\n",
              "       'Algeria', 'Kosovo', 'Turkmenistan', 'Mauritius', 'Hong Kong',\n",
              "       'Estonia', 'Indonesia', 'Vietnam', 'Turkey', 'Kyrgyzstan',\n",
              "       'Nigeria', 'Bhutan', 'Azerbaijan', 'Pakistan', 'Jordan',\n",
              "       'Montenegro', 'China', 'Zambia', 'Romania', 'Serbia', 'Portugal',\n",
              "       'Latvia', 'Philippines', 'Somaliland region', 'Morocco',\n",
              "       'Macedonia', 'Mozambique', 'Albania', 'Bosnia and Herzegovina',\n",
              "       'Lesotho', 'Dominican Republic', 'Laos', 'Mongolia', 'Swaziland',\n",
              "       'Greece', 'Lebanon', 'Hungary', 'Honduras', 'Tajikistan',\n",
              "       'Tunisia', 'Palestinian Territories', 'Bangladesh', 'Iran',\n",
              "       'Ukraine', 'Iraq', 'South Africa', 'Ghana', 'Zimbabwe', 'Liberia',\n",
              "       'India', 'Sudan', 'Haiti', 'Congo (Kinshasa)', 'Nepal', 'Ethiopia',\n",
              "       'Sierra Leone', 'Mauritania', 'Kenya', 'Djibouti', 'Armenia',\n",
              "       'Botswana', 'Myanmar', 'Georgia', 'Malawi', 'Sri Lanka',\n",
              "       'Cameroon', 'Bulgaria', 'Egypt', 'Yemen', 'Angola', 'Mali',\n",
              "       'Congo (Brazzaville)', 'Comoros', 'Uganda', 'Senegal', 'Gabon',\n",
              "       'Niger', 'Cambodia', 'Tanzania', 'Madagascar',\n",
              "       'Central African Republic', 'Chad', 'Guinea', 'Ivory Coast',\n",
              "       'Burkina Faso', 'Afghanistan', 'Rwanda', 'Benin', 'Syria',\n",
              "       'Burundi', 'Togo'], dtype=object)"
            ]
          },
          "metadata": {},
          "execution_count": 19
        }
      ],
      "source": [
        "# HOW CAN WE SEE THE UNIQUE VALUES OF A COLUMN?\n",
        "happy_df['Country'].unique()"
      ]
    },
    {
      "cell_type": "markdown",
      "metadata": {
        "id": "Qq1bhvR6-dYm"
      },
      "source": [
        "---\n",
        "\n",
        "#### **Exercise 5**\n",
        "\n",
        "Let's visualize some of the data and see if we can discover some relationships (linear or otherwise).\n",
        "\n",
        "Specifically,\n",
        "\n",
        "1. Create bar graphs of the happiness score for the countries in several different regions: \"Middle East and Northern Africa\", \"Southern Asia\", and \"North America\".\n",
        "\n",
        "2. Create scatter plots of the happiness score versus several different numerical variables: \"Social Support\", \"Freedom\", and \"GDP\"."
      ]
    },
    {
      "cell_type": "markdown",
      "metadata": {
        "id": "zCgZIan7B62u"
      },
      "source": [
        "##### **1.**\n",
        "\n",
        "Create bar graphs of the happiness score for the countries in several different regions: \"Middle East and Northern Africa\", \"Southern Asia\", and \"North America\".\n",
        "\n",
        "**NOTE: Some of the code has already been provided for the first example to help you get started.**"
      ]
    },
    {
      "cell_type": "markdown",
      "metadata": {
        "id": "jrmSU9K1DTB6"
      },
      "source": [
        "**Middle East and Northern Africa**"
      ]
    },
    {
      "cell_type": "code",
      "execution_count": null,
      "metadata": {
        "id": "PsHTbeKb_lxh",
        "colab": {
          "base_uri": "https://localhost:8080/",
          "height": 499
        },
        "outputId": "a81dda01-ba4c-4f01-c74f-cef309d14b56"
      },
      "outputs": [
        {
          "output_type": "display_data",
          "data": {
            "text/plain": [
              "<Figure size 576x360 with 1 Axes>"
            ],
            "image/png": "[encoded data removed]"
          },
          "metadata": {
            "needs_background": "light"
          }
        }
      ],
      "source": [
        "rows = (happy_df[\"Region\"] == \"Middle East and Northern Africa\")\n",
        "x = happy_df[rows][\"Country\"]\n",
        "y = happy_df[rows][\"Happiness Score\"]\n",
        "\n",
        "plt.figure(figsize = (8, 5))\n",
        "\n",
        "plt.bar(x, y)\n",
        "\n",
        "plt.title(\"Happiness Score for Countries in the Middle East and Northern Africa\", fontsize = \"x-large\")\n",
        "plt.xlabel(\"Country\", fontsize = \"x-large\")\n",
        "plt.ylabel(\"Happiness Score\", fontsize = \"x-large\")\n",
        "plt.xticks(rotation = 90, fontsize = \"x-large\")\n",
        "\n",
        "plt.show()"
      ]
    },
    {
      "cell_type": "markdown",
      "metadata": {
        "id": "7n3OX701DXUO"
      },
      "source": [
        "**Southern Asia**"
      ]
    },
    {
      "cell_type": "code",
      "execution_count": null,
      "metadata": {
        "id": "Pqr3x3NgC900",
        "colab": {
          "base_uri": "https://localhost:8080/",
          "height": 431
        },
        "outputId": "b00d1fae-80a2-4426-b3d2-d2e0d8d17053"
      },
      "outputs": [
        {
          "output_type": "display_data",
          "data": {
            "text/plain": [
              "<Figure size 576x360 with 1 Axes>"
            ],
            "image/png": "[encoded data removed]"
          },
          "metadata": {
            "needs_background": "light"
          }
        }
      ],
      "source": [
        "rows = (happy_df[\"Region\"] == \"Southern Asia\")\n",
        "x = happy_df[rows][\"Country\"]\n",
        "y = happy_df[rows][\"Happiness Score\"]\n",
        "\n",
        "plt.figure(figsize = (8, 5))\n",
        "\n",
        "plt.bar(x, y)\n",
        "\n",
        "plt.title(\"Happiness Score for Countries in Southern Asia\", fontsize = \"x-large\")\n",
        "plt.xlabel(\"Country\", fontsize = \"x-large\")\n",
        "plt.ylabel(\"Happiness Score\", fontsize = \"x-large\")\n",
        "plt.xticks(rotation = 90, fontsize = \"x-large\")\n",
        "\n",
        "plt.show()"
      ]
    },
    {
      "cell_type": "markdown",
      "metadata": {
        "id": "dMClKlfkDZVV"
      },
      "source": [
        "**North America**"
      ]
    },
    {
      "cell_type": "code",
      "execution_count": null,
      "metadata": {
        "id": "IEMaW2kgDQki",
        "colab": {
          "base_uri": "https://localhost:8080/",
          "height": 442
        },
        "outputId": "fecae1a0-ddf0-44f3-ca0c-32ae2cd89ba8"
      },
      "outputs": [
        {
          "output_type": "display_data",
          "data": {
            "text/plain": [
              "<Figure size 576x360 with 1 Axes>"
            ],
            "image/png": "[encoded data removed]"
          },
          "metadata": {
            "needs_background": "light"
          }
        }
      ],
      "source": [
        "rows = (happy_df[\"Region\"] == \"North America\")\n",
        "x = happy_df[rows][\"Country\"]\n",
        "y = happy_df[rows][\"Happiness Score\"]\n",
        "\n",
        "plt.figure(figsize = (8, 5))\n",
        "\n",
        "plt.bar(x, y)\n",
        "\n",
        "plt.title(\"Happiness Score for Countries in North America\", fontsize = \"x-large\")\n",
        "plt.xlabel(\"Country\", fontsize = \"x-large\")\n",
        "plt.ylabel(\"Happiness Score\", fontsize = \"x-large\")\n",
        "plt.xticks(rotation = 90, fontsize = \"x-large\")\n",
        "\n",
        "plt.show()"
      ]
    },
    {
      "cell_type": "markdown",
      "metadata": {
        "id": "8lFPhZ1iD1eg"
      },
      "source": [
        "##### **2.**\n",
        "\n",
        "Create scatter plots of the happiness score versus several different numerical variables: \"Social Support\", \"Freedom\", and \"GDP\"."
      ]
    },
    {
      "cell_type": "markdown",
      "metadata": {
        "id": "B8J2nKMeEA34"
      },
      "source": [
        "**Happiness Score vs. Social Support**"
      ]
    },
    {
      "cell_type": "code",
      "execution_count": null,
      "metadata": {
        "id": "yy3bJzekEEP_",
        "colab": {
          "base_uri": "https://localhost:8080/",
          "height": 355
        },
        "outputId": "8495c8c0-a375-4292-ffda-799e25f2ff2a"
      },
      "outputs": [
        {
          "output_type": "display_data",
          "data": {
            "text/plain": [
              "<Figure size 576x360 with 1 Axes>"
            ],
            "image/png": "[encoded data removed]"
          },
          "metadata": {
            "needs_background": "light"
          }
        }
      ],
      "source": [
        "plt.figure(figsize = (8, 5))\n",
        "\n",
        "x = happy_df[\"Social Support\"]\n",
        "y = happy_df[\"Happiness Score\"]\n",
        "\n",
        "plt.scatter(x, y)\n",
        "\n",
        "plt.title(\"Happiness Score vs. Social Support\", fontsize = \"x-large\")\n",
        "plt.xlabel(\"Social Support\", fontsize = \"x-large\")\n",
        "plt.ylabel(\"Happiness Score\", fontsize = \"x-large\")\n",
        "\n",
        "plt.show()"
      ]
    },
    {
      "cell_type": "markdown",
      "metadata": {
        "id": "Qm9qGGPwEFXm"
      },
      "source": [
        "**Happiness Score vs. Freedom**"
      ]
    },
    {
      "cell_type": "code",
      "execution_count": null,
      "metadata": {
        "id": "KFsn9ANwEG9a",
        "colab": {
          "base_uri": "https://localhost:8080/",
          "height": 355
        },
        "outputId": "97d12009-2a65-4e44-cab2-0f732aa3b5db"
      },
      "outputs": [
        {
          "output_type": "display_data",
          "data": {
            "text/plain": [
              "<Figure size 576x360 with 1 Axes>"
            ],
            "image/png": "[encoded data removed]"
          },
          "metadata": {
            "needs_background": "light"
          }
        }
      ],
      "source": [
        "plt.figure(figsize = (8, 5))\n",
        "\n",
        "x = happy_df[\"Freedom\"]\n",
        "y = happy_df[\"Happiness Score\"]\n",
        "\n",
        "plt.scatter(x, y)\n",
        "\n",
        "plt.title(\"Happiness Score vs. Freedom\", fontsize = \"x-large\")\n",
        "plt.xlabel(\"Freedom\", fontsize = \"x-large\")\n",
        "plt.ylabel(\"Happiness Score\", fontsize = \"x-large\")\n",
        "\n",
        "plt.show()"
      ]
    },
    {
      "cell_type": "markdown",
      "metadata": {
        "id": "DkKxNFWfEHPq"
      },
      "source": [
        "**Happiness Score vs. GDP**"
      ]
    },
    {
      "cell_type": "code",
      "execution_count": null,
      "metadata": {
        "id": "JCoeG60LEInk",
        "colab": {
          "base_uri": "https://localhost:8080/",
          "height": 355
        },
        "outputId": "43bee7e5-40ae-40e1-990c-fec026c039cd"
      },
      "outputs": [
        {
          "output_type": "display_data",
          "data": {
            "text/plain": [
              "<Figure size 576x360 with 1 Axes>"
            ],
            "image/png": "[encoded data removed]"
          },
          "metadata": {
            "needs_background": "light"
          }
        }
      ],
      "source": [
        "plt.figure(figsize = (8, 5))\n",
        "\n",
        "x = happy_df[\"GDP\"]\n",
        "y = happy_df[\"Happiness Score\"]\n",
        "\n",
        "plt.scatter(x, y)\n",
        "\n",
        "plt.title(\"Happiness Score vs. GDP\", fontsize = \"x-large\")\n",
        "plt.xlabel(\"GDP\", fontsize = \"x-large\")\n",
        "plt.ylabel(\"Happiness Score\", fontsize = \"x-large\")\n",
        "\n",
        "plt.show()"
      ]
    },
    {
      "cell_type": "markdown",
      "metadata": {
        "id": "tR2_M-tIYyfD"
      },
      "source": [
        "---\n",
        "### **Step \\#2: Model the Data using Linear Regresion**\n",
        "---\n",
        "\n",
        "Now, using LinearRegression, you will create, evaluate, and train a linear regression model to predict the happiness score of a country based on the provided numerical features."
      ]
    },
    {
      "cell_type": "markdown",
      "metadata": {
        "id": "k2QvnvxWIuq7"
      },
      "source": [
        "---\n",
        "\n",
        "#### **Exercise 1**\n",
        "\n",
        "Follow steps 2 - 6 to train a linear regression model on the data, using only numerical variables.\n",
        "\n",
        "Specifically,\n",
        "\n",
        "1. Using pandas functions, determine which variables are categorical (type is \"object\") and which ones are numerical (type is \"float64\" or \"int\").\n",
        "\n",
        "2. Split the data into training and test sets, only including the numerical data.\n",
        "\n",
        "3. Create and train a linear regression model on the training set."
      ]
    },
    {
      "cell_type": "markdown",
      "metadata": {
        "id": "dUhJEbBTJ9w9"
      },
      "source": [
        "##### **1.**\n",
        "\n",
        "Using pandas functions, determine which variables are categorical (type is \"object\") and which ones are numerical (type is \"float64\" or \"int\")."
      ]
    },
    {
      "cell_type": "code",
      "execution_count": null,
      "metadata": {
        "id": "hctlS6OuJO3-",
        "colab": {
          "base_uri": "https://localhost:8080/"
        },
        "outputId": "5a3b31e6-51ed-403f-f1a2-7ac52a547fd2"
      },
      "outputs": [
        {
          "output_type": "execute_result",
          "data": {
            "text/plain": [
              "Country                     object\n",
              "Region                      object\n",
              "Happiness Score            float64\n",
              "GDP                        float64\n",
              "Social Support             float64\n",
              "Healthy Life Expectancy    float64\n",
              "Freedom                    float64\n",
              "Corruption Perception      float64\n",
              "Generosity                 float64\n",
              "dtype: object"
            ]
          },
          "metadata": {},
          "execution_count": 27
        }
      ],
      "source": [
        "happy_df.dtypes"
      ]
    },
    {
      "cell_type": "markdown",
      "metadata": {
        "id": "RaaHRPatKBpL"
      },
      "source": [
        "##### **2.**\n",
        "\n",
        "Split the data into training and test sets, only including the numerical data."
      ]
    },
    {
      "cell_type": "code",
      "execution_count": null,
      "metadata": {
        "id": "2wJzv8aTIuq8"
      },
      "outputs": [],
      "source": [
        "# STEP 2: Decide our Variables\n",
        "#====================\n",
        "inputs = happy_df.drop(columns = [\"Country\", \"Region\", \"Happiness Score\"])\n",
        "output = happy_df[\"Happiness Score\"]\n",
        "\n",
        "\n",
        "# STEP 3: Split data\n",
        "#====================\n",
        "X_train, X_test, y_train, y_test = train_test_split(inputs, output, test_size = 0.2, random_state = 42)\n",
        "\n",
        "# Standardize training and testing datasets\n",
        "mu = X_train.mean()\n",
        "sig = X_train.std()\n",
        "\n",
        "X_train = (X_train - mu)/sig\n",
        "X_test = (X_test - mu)/sig"
      ]
    },
    {
      "cell_type": "markdown",
      "metadata": {
        "id": "riUz9v8MKFed"
      },
      "source": [
        "##### **3.**\n",
        "\n",
        "Create and train a linear regression model on the training set."
      ]
    },
    {
      "cell_type": "code",
      "execution_count": null,
      "metadata": {
        "id": "ufd-o3TuKKkw",
        "colab": {
          "base_uri": "https://localhost:8080/"
        },
        "outputId": "caf9d55b-8c08-4557-bec6-8dc01f12d938"
      },
      "outputs": [
        {
          "output_type": "execute_result",
          "data": {
            "text/plain": [
              "LinearRegression()"
            ]
          },
          "metadata": {},
          "execution_count": 29
        }
      ],
      "source": [
        "# STEP 4: Import model\n",
        "#=====================\n",
        "from sklearn.linear_model import LinearRegression\n",
        "\n",
        "# COMPLETE THE CODE BELOW\n",
        "\n",
        "# STEP 5: Initialize model\n",
        "#=========================\n",
        "\n",
        "model = LinearRegression()\n",
        "\n",
        "# STEP 6: Fit model\n",
        "#==================\n",
        "\n",
        "model.fit(X_train, y_train)"
      ]
    },
    {
      "cell_type": "markdown",
      "metadata": {
        "id": "EFwMYNz1KPwK"
      },
      "source": [
        "---\n",
        "\n",
        "#### **Exercise 2**\n",
        "\n",
        "Do an initial inspection of the model's predictions by comparing them visually to the actual values in the test set."
      ]
    },
    {
      "cell_type": "code",
      "execution_count": null,
      "metadata": {
        "id": "3sC-bjLtKqiL",
        "colab": {
          "base_uri": "https://localhost:8080/",
          "height": 518
        },
        "outputId": "96b7a765-1dac-4001-e603-398acb28b931"
      },
      "outputs": [
        {
          "output_type": "display_data",
          "data": {
            "text/plain": [
              "<Figure size 576x576 with 1 Axes>"
            ],
            "image/png": "[encoded data removed]"
          },
          "metadata": {
            "needs_background": "light"
          }
        }
      ],
      "source": [
        "# Make Predictions on test set\n",
        "predictions = model.predict(X_test)\n",
        "\n",
        "# Visualize comparison of predictions vs. actual values\n",
        "plt.figure(figsize=(8, 8))\n",
        "plt.scatter(y_test, predictions)\n",
        "\n",
        "\n",
        "# CREATE THE CORRECT SCATTER PLOT HERE\n",
        "\n",
        "plt.plot([y_test.min(), y_test.max()], [y_test.min(), y_test.max()], color = 'black', label=\"Correct prediction\")\n",
        "\n",
        "\n",
        "plt.xlabel('True Value', fontsize = 'x-large')\n",
        "plt.ylabel('Predicted Value', fontsize = 'x-large')\n",
        "plt.title(\"Real vs Value\", fontsize = 'x-large')\n",
        "plt.legend()\n",
        "\n",
        "plt.show()"
      ]
    },
    {
      "cell_type": "markdown",
      "metadata": {
        "id": "uKmkdF7_KwMY"
      },
      "source": [
        "---\n",
        "\n",
        "#### **Exercise 3**\n",
        "\n",
        "Now, complete the code below to plot the residuals to see if they are randomly distributed around 0 (homoscedastic)."
      ]
    },
    {
      "cell_type": "code",
      "execution_count": null,
      "metadata": {
        "id": "DK8NWKNpKwMY",
        "colab": {
          "base_uri": "https://localhost:8080/",
          "height": 355
        },
        "outputId": "a11bfdc3-18a3-4ae8-fd9c-2d8fc5ca978d"
      },
      "outputs": [
        {
          "output_type": "display_data",
          "data": {
            "text/plain": [
              "<Figure size 576x360 with 1 Axes>"
            ],
            "image/png": "[encoded data removed]"
          },
          "metadata": {
            "needs_background": "light"
          }
        }
      ],
      "source": [
        "residuals = y_test - predictions\n",
        "\n",
        "plt.figure(figsize = (8, 5))\n",
        "plt.scatter(predictions, residuals)\n",
        "\n",
        "plt.plot([predictions.min(), predictions.max()], [0, 0], color = \"black\")\n",
        "\n",
        "\n",
        "plt.title(\"Residuals Plot\", fontsize = \"x-large\")\n",
        "plt.xlabel(\"Predicted Value\", fontsize = \"x-large\")\n",
        "plt.ylabel(\"Residuals\", fontsize = \"x-large\")\n",
        "\n",
        "plt.show()"
      ]
    },
    {
      "cell_type": "markdown",
      "metadata": {
        "id": "jrMc2xMALZwW"
      },
      "source": [
        "---\n",
        "\n",
        "#### **Exercise 4**\n",
        "\n",
        "Assuming that the residuals were homoscedastic, we can more reliably use $R^2$ and other metrics. So, evaluate this model's $R^2$, MSE, and MAE."
      ]
    },
    {
      "cell_type": "code",
      "execution_count": null,
      "metadata": {
        "id": "bnC_ZJoJLZwX",
        "colab": {
          "base_uri": "https://localhost:8080/"
        },
        "outputId": "eee4c2cd-6ef3-456d-afd0-226d9a2d0fd6"
      },
      "outputs": [
        {
          "output_type": "stream",
          "name": "stdout",
          "text": [
            "R2: 0.8294705100069294\n",
            "MSE: 0.24193882833563732\n",
            "MAE: 0.4023049853814398\n"
          ]
        }
      ],
      "source": [
        "# COMPLETE THIS CODE\n",
        "print(\"R2: \" + str(r2_score(y_test, predictions)))\n",
        "print(\"MSE: \" + str(mean_squared_error(y_test, predictions)))\n",
        "print(\"MAE: \" + str(mean_absolute_error(y_test, predictions)))"
      ]
    },
    {
      "cell_type": "markdown",
      "metadata": {
        "id": "LTutWj2BMEKO"
      },
      "source": [
        "---\n",
        "\n",
        "#### **Exercise 5**\n",
        "\n",
        "Assuming we can have some trust in the quality of this model, let's apply it!\n",
        "\n",
        "Specifically,\n",
        "\n",
        "1. Make predictions for 2 different new data points.\n",
        "\n",
        "2. Visualize the modelled relationship between the Happinesss Score and the Social Support to see if a qualitative relationship can be inferred.\n",
        "\n",
        "3. Look at the coefficients and intercept to determine the modelled relationships quantitatively."
      ]
    },
    {
      "cell_type": "markdown",
      "metadata": {
        "id": "APzOK_U9NcDn"
      },
      "source": [
        "##### **1.**\n",
        "\n",
        "Predict the happiness score of a country that reports the following results for their numerical measures:\n",
        "\n",
        "* GDP: 0.9\n",
        "* Social Support: 0.4\n",
        "* Healthy Life Expectancy: 55 years\n",
        "* Freedom: 0.4\n",
        "* Corruption Perception: 0.2\n",
        "* Generosity: 0.09"
      ]
    },
    {
      "cell_type": "code",
      "execution_count": null,
      "metadata": {
        "id": "hhDBCoJpOs4S",
        "colab": {
          "base_uri": "https://localhost:8080/"
        },
        "outputId": "a691929e-ee42-458f-9208-ff427d447ede"
      },
      "outputs": [
        {
          "output_type": "stream",
          "name": "stdout",
          "text": [
            "[9.68008727]\n"
          ]
        }
      ],
      "source": [
        "new_country = pd.DataFrame([[0.9, 0.4, 55, 0.4, 0.2, 0.09]], columns = X_test.columns)\n",
        "\n",
        "new_country = new_country * sig + mu\n",
        "\n",
        "print(model.predict(new_country))"
      ]
    },
    {
      "cell_type": "markdown",
      "metadata": {
        "id": "oHo9E1DaNcMp"
      },
      "source": [
        "##### **2.**\n",
        "\n",
        "Visualize the modelled relationship between the Happinesss Score and the Social Support from the test data to see if a qualitative relationship can be inferred."
      ]
    },
    {
      "cell_type": "code",
      "execution_count": null,
      "metadata": {
        "id": "y-d1G-eUPYsH",
        "colab": {
          "base_uri": "https://localhost:8080/",
          "height": 355
        },
        "outputId": "3ba6124e-388b-4b7d-f4c8-d3288b4f6496"
      },
      "outputs": [
        {
          "output_type": "display_data",
          "data": {
            "text/plain": [
              "<Figure size 576x360 with 1 Axes>"
            ],
            "image/png": "[encoded data removed]"
          },
          "metadata": {
            "needs_background": "light"
          }
        }
      ],
      "source": [
        "plt.figure(figsize = (8, 5))\n",
        "\n",
        "plt.scatter(X_test[\"Social Support\"], predictions)\n",
        "\n",
        "plt.title(\"Happiness Score Predictions vs. Social Support\", fontsize = \"x-large\")\n",
        "plt.xlabel(\"Social Support\", fontsize = \"x-large\")\n",
        "plt.ylabel(\"Happiness Score Predictions\", fontsize = \"x-large\")\n",
        "\n",
        "plt.show()"
      ]
    },
    {
      "cell_type": "markdown",
      "metadata": {
        "id": "YG6QrVIrNcSr"
      },
      "source": [
        "##### **3.**\n",
        "\n",
        "Look at the coefficients and intercept to determine the modelled relationships quantitatively."
      ]
    },
    {
      "cell_type": "code",
      "execution_count": null,
      "metadata": {
        "id": "8MQzyKHwMDHE",
        "colab": {
          "base_uri": "https://localhost:8080/"
        },
        "outputId": "5fb446c9-8d27-442c-d77c-3bf05d829e7b"
      },
      "outputs": [
        {
          "output_type": "stream",
          "name": "stdout",
          "text": [
            "Scaled Coefficients:\n",
            "GDP                        0.343472\n",
            "Social Support             0.353366\n",
            "Healthy Life Expectancy    0.243357\n",
            "Freedom                    0.185304\n",
            "Corruption Perception      0.100411\n",
            "Generosity                 0.078220\n",
            "dtype: float64\n",
            "\n",
            "Coefficients:\n",
            "GDP                        1.007115\n",
            "Social Support             1.089087\n",
            "Healthy Life Expectancy    0.699655\n",
            "Freedom                    0.458842\n",
            "Corruption Perception      0.150857\n",
            "Generosity                 0.243510\n",
            "dtype: float64\n",
            "\n",
            "Intercept:\n",
            "   Happiness Score\n",
            "0         5.392992\n"
          ]
        }
      ],
      "source": [
        "scaled_coefficients = model.coef_\n",
        "intercept = model.intercept_\n",
        "\n",
        "coefficients = scaled_coefficients * sig + mu\n",
        "scaled_coefficients = (coefficients - mu)/sig\n",
        "\n",
        "intercept = pd.DataFrame([intercept], columns = [\"Happiness Score\"])\n",
        "\n",
        "print(\"Scaled Coefficients:\")\n",
        "print(scaled_coefficients)\n",
        "\n",
        "print(\"\\nCoefficients:\")\n",
        "print(coefficients)\n",
        "\n",
        "print(\"\\nIntercept:\")\n",
        "print(intercept)"
      ]
    },
    {
      "cell_type": "markdown",
      "metadata": {
        "id": "kOQBDdWEU-3_"
      },
      "source": [
        "---\n",
        "### **[OPTIONAL] Step #3: Stochastic Gradient Descent**\n",
        "---\n",
        "\n",
        "\n",
        "This section is optional and your main focus should be on completing the parts above. However, if you have the time to stretch your linear regression skills then we encourage you to work on these exercises!"
      ]
    },
    {
      "cell_type": "markdown",
      "metadata": {
        "id": "oIA0bLhnWktz"
      },
      "source": [
        "---\n",
        "#### **Exercise 0** \n",
        "\n",
        "**Run the code below to import the `SGDRegressor` function from sklearn and make sure that the training and test data matches up with above.**"
      ]
    },
    {
      "cell_type": "code",
      "execution_count": null,
      "metadata": {
        "id": "abDtJjFmWjbO"
      },
      "outputs": [],
      "source": [
        "from sklearn.linear_model import SGDRegressor\n",
        "\n",
        "url_one = \"https://docs.google.com/spreadsheets/d/e/2PACX-1vSFGYwItCEwjRjsvRogqoiHmcyEgv7vjF3Frg-vO9gOIgeKbv_GNYZFAG_eRatNJkdUgm9HVFuNWgDX/pub?gid=108149846&single=true&output=csv\"\n",
        "\n",
        "happy_df = pd.read_csv(url_one)\n",
        "\n",
        "# STEP 2: Decide our Variables\n",
        "#====================\n",
        "inputs = happy_df.drop(columns = [\"Country\", \"Region\", \"Happiness Score\"], axis = 1)\n",
        "output = happy_df[\"Happiness Score\"]\n",
        "\n",
        "\n",
        "# STEP 3: Split data\n",
        "#====================\n",
        "X_train, X_test, y_train, y_test = train_test_split(inputs, output, test_size = 0.2, random_state = 42)\n",
        "\n",
        "# Standardize training and testing datasets\n",
        "mu = X_train.mean()\n",
        "sig = X_train.std()\n",
        "\n",
        "X_train = (X_train - mu)/sig\n",
        "X_test = (X_test - mu)/sig"
      ]
    },
    {
      "cell_type": "markdown",
      "metadata": {
        "id": "uduj2VO8VXxF"
      },
      "source": [
        "---\n",
        "#### **Exercise 1** \n",
        "\n",
        "Train a Gradient Descent Linear Regression model using the same training and test data as you created and used above.\n",
        "\n",
        "Specifically, train and evaluate 3 SGD models using different values of eta: 1, 0.01, and one of your choice.\n",
        "\n"
      ]
    },
    {
      "cell_type": "markdown",
      "metadata": {
        "id": "WPxQ6_6mV_Ro"
      },
      "source": [
        "##### **1. Train for eta0 = 1**\n",
        "\n",
        "Train a model with eta0 = 1 and look at it's $R^2$, MSE, and MAE."
      ]
    },
    {
      "cell_type": "code",
      "execution_count": null,
      "metadata": {
        "id": "FO8tPPOiVXxG"
      },
      "outputs": [],
      "source": [
        "# COMPLETE THE CODE BELOW\n",
        "\n",
        "# STEP 5: Initialize model\n",
        "#=========================\n",
        "\n",
        "\n",
        "# STEP 6: Fit model\n",
        "#==================\n"
      ]
    },
    {
      "cell_type": "code",
      "execution_count": null,
      "metadata": {
        "id": "VtbbEuuJWXBl"
      },
      "outputs": [],
      "source": [
        "# R2, MSE, MAE"
      ]
    },
    {
      "cell_type": "markdown",
      "metadata": {
        "id": "0_cN5gCrWSdN"
      },
      "source": [
        "##### **2. Train for eta0 = 0.01**\n",
        "\n",
        "Train a model with eta0 = 0.01 and look at it's $R^2$, MSE, and MAE."
      ]
    },
    {
      "cell_type": "code",
      "execution_count": null,
      "metadata": {
        "id": "kX9vzk1RXRtb"
      },
      "outputs": [],
      "source": []
    },
    {
      "cell_type": "code",
      "execution_count": null,
      "metadata": {
        "id": "YfduLgsZXRtc"
      },
      "outputs": [],
      "source": [
        "# R2, MSE, MAE"
      ]
    },
    {
      "cell_type": "markdown",
      "metadata": {
        "id": "tbdNBos1XV35"
      },
      "source": [
        "##### **3. Train for an et0 of your choice**\n",
        "\n",
        "Train a model with eta0 of your choice and look at it's $R^2$, MSE, and MAE."
      ]
    },
    {
      "cell_type": "code",
      "execution_count": null,
      "metadata": {
        "id": "xBX8_XeEXV36"
      },
      "outputs": [],
      "source": []
    },
    {
      "cell_type": "code",
      "execution_count": null,
      "metadata": {
        "id": "dQBQjre0XV36"
      },
      "outputs": [],
      "source": [
        "# R2, MSE, MAE"
      ]
    },
    {
      "cell_type": "markdown",
      "metadata": {
        "id": "P2GZCt2eX6OF"
      },
      "source": [
        "#### Before moving on\n",
        "\n",
        "Evaluate which of the 3 models you trained is best and rerun any necessary code to use this model moving forward."
      ]
    },
    {
      "cell_type": "markdown",
      "metadata": {
        "id": "6dhgmCbBVXxG"
      },
      "source": [
        "---\n",
        "#### **Exercise 2** \n",
        "Using the best model from above, visualize the predictions vs. the actual values on the test set."
      ]
    },
    {
      "cell_type": "code",
      "execution_count": null,
      "metadata": {
        "id": "wt1DkZQcVXxG"
      },
      "outputs": [],
      "source": []
    },
    {
      "cell_type": "markdown",
      "metadata": {
        "id": "Gkp4AUSBVXxH"
      },
      "source": [
        "#### **Exercise 3** \n",
        "\n",
        "Plot the residuals to check that they are homoscedastic (randomly distributed around 0)."
      ]
    },
    {
      "cell_type": "code",
      "execution_count": null,
      "metadata": {
        "id": "LITOWaoMVXxH"
      },
      "outputs": [],
      "source": []
    },
    {
      "cell_type": "markdown",
      "metadata": {
        "id": "rCtBmBiZYhx_"
      },
      "source": [
        "---\n",
        "\n",
        "#### **Exercise 4**\n",
        "\n",
        "Assuming we can have some trust in the quality of this model, let's apply it in the same way that you applied your model trained (technically using linear algebra and calculus) in section 2.\n",
        "\n",
        "Specifically,\n",
        "\n",
        "1. Make predictions for 2 different new data points.\n",
        "\n",
        "2. Visualize the modelled relationship between the Happinesss Score and the Social Support to see if a qualitative relationship can be inferred.\n",
        "\n",
        "3. Look at the coefficients and intercept to determine the modelled relationships quantitatively."
      ]
    },
    {
      "cell_type": "markdown",
      "metadata": {
        "id": "3VYfEB19YhyA"
      },
      "source": [
        "##### **1.**\n",
        "\n",
        "Predict the happiness score of a country that reports the following results for their numerical measures:\n",
        "\n",
        "* GDP: 0.9\n",
        "* Social Support: 0.4\n",
        "* Healthy Life Expectancy: 55 years\n",
        "* Freedom: 0.4\n",
        "* Corruption Perception: 0.2\n",
        "* Generosity: 0.09"
      ]
    },
    {
      "cell_type": "code",
      "execution_count": null,
      "metadata": {
        "id": "3xhSlhLTYhyA"
      },
      "outputs": [],
      "source": []
    },
    {
      "cell_type": "markdown",
      "metadata": {
        "id": "AUJM7s8VYhyB"
      },
      "source": [
        "##### **2.**\n",
        "\n",
        "Visualize the modelled relationship between the Happinesss Score and the Social Support from the test data to see if a qualitative relationship can be inferred."
      ]
    },
    {
      "cell_type": "code",
      "execution_count": null,
      "metadata": {
        "id": "gGFTL5UzYhyB"
      },
      "outputs": [],
      "source": []
    },
    {
      "cell_type": "markdown",
      "metadata": {
        "id": "IBsNDTlZYhyB"
      },
      "source": [
        "##### **3.**\n",
        "\n",
        "Look at the coefficients and intercept to determine the modelled relationships quantitatively."
      ]
    },
    {
      "cell_type": "code",
      "execution_count": null,
      "metadata": {
        "id": "NZaw01qxYhyB"
      },
      "outputs": [],
      "source": []
    },
    {
      "cell_type": "markdown",
      "metadata": {
        "id": "VoKkr2CgZJ1z"
      },
      "source": [
        "---\n",
        "### **[OPTIONAL] Step #4: KNN - Classifying country regions**\n",
        "---\n",
        "\n",
        "\n",
        "This section is optional and your main focus should be on completing the parts above. However, if you have the time to continue practicing your KNN skills, then we encourage you to complete the following section!\n",
        "\n",
        "The goal of this section is to classify the region a country is in based on 2 features.\n",
        "\n",
        "The values of the `Region` variable are strings. It will be easier to start by assigning a number for each region. So, in this section, you will actually be predicting/targetting a new column, `Region Code`."
      ]
    },
    {
      "cell_type": "markdown",
      "metadata": {
        "id": "XgN6kR0zScxe"
      },
      "source": [
        "#### **Exercise #0**\n",
        "\n",
        "**Run the code below to create the `Region Code` column.**"
      ]
    },
    {
      "cell_type": "code",
      "execution_count": null,
      "metadata": {
        "id": "DstgMyYwSb-P"
      },
      "outputs": [],
      "source": [
        "from sklearn.preprocessing import LabelEncoder\n",
        "\n",
        "LE = LabelEncoder()\n",
        "happy_df['Region Code'] = LE.fit_transform(happy_df['Region'])"
      ]
    },
    {
      "cell_type": "markdown",
      "metadata": {
        "id": "O5kdxJsNY1El"
      },
      "source": [
        "#### **Exercise #1**\n",
        "\n",
        "Select the 2 best features based on their variances and correlations."
      ]
    },
    {
      "cell_type": "code",
      "execution_count": null,
      "metadata": {
        "id": "DO5U9-w9Tfuk"
      },
      "outputs": [],
      "source": []
    },
    {
      "cell_type": "code",
      "execution_count": null,
      "metadata": {
        "id": "qCOkXmzFXVAv"
      },
      "outputs": [],
      "source": []
    },
    {
      "cell_type": "markdown",
      "metadata": {
        "id": "wXvseH7JZHT_"
      },
      "source": [
        "#### **Exercise #2**\n",
        "\n",
        "Split data into training and test data."
      ]
    },
    {
      "cell_type": "code",
      "execution_count": null,
      "metadata": {
        "id": "TSd-TmBCXUJb"
      },
      "outputs": [],
      "source": []
    },
    {
      "cell_type": "markdown",
      "metadata": {
        "id": "PxrEoblVZLqx"
      },
      "source": [
        "#### **Exercise #3**\n",
        "\n",
        "Train a KNN Classifier for several K values and pick the best one."
      ]
    },
    {
      "cell_type": "code",
      "execution_count": null,
      "metadata": {
        "id": "Cs84lKfJZn8p"
      },
      "outputs": [],
      "source": [
        "from sklearn.neighbors import KNeighborsClassifier\n",
        "from sklearn.metrics import accuracy_score, plot_confusion_matrix"
      ]
    },
    {
      "cell_type": "markdown",
      "metadata": {
        "id": "gLBYEG0fZg5w"
      },
      "source": [
        "##### **1. Train for K = 1**\n",
        "\n",
        "Train a model with K = 1 and look at its accuracy and confusion matrix."
      ]
    },
    {
      "cell_type": "code",
      "execution_count": null,
      "metadata": {
        "id": "8yxyYIPWXHj7"
      },
      "outputs": [],
      "source": []
    },
    {
      "cell_type": "code",
      "execution_count": null,
      "metadata": {
        "id": "saSOh43-YdMW"
      },
      "outputs": [],
      "source": []
    },
    {
      "cell_type": "code",
      "execution_count": null,
      "metadata": {
        "id": "cWdU1vpzYjjx"
      },
      "outputs": [],
      "source": []
    },
    {
      "cell_type": "markdown",
      "metadata": {
        "id": "-xO6XQQwZ07e"
      },
      "source": [
        "##### **2. Train for K = 100**\n",
        "\n",
        "Train a model with K = 100 and look at its accuracy and confusion matrix."
      ]
    },
    {
      "cell_type": "code",
      "execution_count": null,
      "metadata": {
        "id": "61FUVQwk45at"
      },
      "outputs": [],
      "source": []
    },
    {
      "cell_type": "code",
      "execution_count": null,
      "metadata": {
        "id": "A1zrxt-m45Vu"
      },
      "outputs": [],
      "source": []
    },
    {
      "cell_type": "code",
      "execution_count": null,
      "metadata": {
        "id": "k9ydN3wr45IE"
      },
      "outputs": [],
      "source": []
    },
    {
      "cell_type": "markdown",
      "metadata": {
        "id": "A6gPPfeQZ9JR"
      },
      "source": [
        "##### **3. Train for your choice of K**\n",
        "\n",
        "Train a model with a K of your choice, specifically using some of the rules of thumb we've seen for choosing this hyperparameter, and look at its accuracy and confusion matrix."
      ]
    },
    {
      "cell_type": "code",
      "execution_count": null,
      "metadata": {
        "id": "JJetdfq147IU"
      },
      "outputs": [],
      "source": []
    },
    {
      "cell_type": "code",
      "execution_count": null,
      "metadata": {
        "id": "OUd-FAZt47CW"
      },
      "outputs": [],
      "source": []
    },
    {
      "cell_type": "code",
      "execution_count": null,
      "metadata": {
        "id": "r_xTNQTl4682"
      },
      "outputs": [],
      "source": []
    },
    {
      "cell_type": "markdown",
      "metadata": {
        "id": "71FCyXqnrgJJ"
      },
      "source": [
        "# End of Notebook\n",
        "---\n",
        "\n",
        " © 2022 The Coding School, All rights reserved"
      ]
    }
  ],
  "metadata": {
    "colab": {
      "collapsed_sections": [
        "0sOSncGP8fNU",
        "P2GZCt2eX6OF",
        "71FCyXqnrgJJ"
      ],
      "provenance": []
    },
    "kernelspec": {
      "display_name": "Python 3",
      "name": "python3"
    },
    "language_info": {
      "name": "python"
    }
  },
  "nbformat": 4,
  "nbformat_minor": 0
}