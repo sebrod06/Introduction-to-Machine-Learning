{
  "nbformat": 4,
  "nbformat_minor": 0,
  "metadata": {
    "colab": {
      "provenance": [],
      "collapsed_sections": [
        "NZiA0LHpfqDG"
      ]
    },
    "kernelspec": {
      "name": "python3",
      "display_name": "Python 3"
    },
    "language_info": {
      "name": "python"
    }
  },
  "cells": [
    {
      "cell_type": "markdown",
      "source": [
        "# **Lab #4: Exploratory Data Analysis and Data Visualization**"
      ],
      "metadata": {
        "id": "xKZNG_-OccAA"
      }
    },
    {
      "cell_type": "markdown",
      "source": [
        "# **Review of Exploratory Data Analysis and Data Visualization**\n",
        "---\n",
        "\n",
        "## **Description**\n",
        "\n",
        "This section contains some practice problems with the basics of pandas and matplotlib for EDA and data visualization.\n",
        "\n",
        "<br>\n",
        "\n",
        "## **Cheat Sheet**\n",
        "\n",
        "[EDA and Pandas Cheat Sheet](https://docs.google.com/document/d/1AtWgIgiKwVY5QAENob-r_R3pqPIdpalFoSYDpTvZVLA)\n",
        "\n",
        "[Data Visualization in Matplotlib Cheat Sheet](https://docs.google.com/document/d/1TDM-BcXtsPKdj9WjuK6wDx485aRqo56ymhMypd9onz4)"
      ],
      "metadata": {
        "id": "X22Kzw5jTg3-"
      }
    },
    {
      "cell_type": "markdown",
      "source": [
        "**Before getting started, run the code below.**"
      ],
      "metadata": {
        "id": "G59HkI0TSoCB"
      }
    },
    {
      "cell_type": "code",
      "source": [
        "#imports\n",
        "import pandas as pd\n",
        "import matplotlib.pyplot as plt"
      ],
      "metadata": {
        "id": "DogS4AKLUPMf"
      },
      "execution_count": null,
      "outputs": []
    },
    {
      "cell_type": "markdown",
      "source": [
        "## **Practice #1**\n",
        "---"
      ],
      "metadata": {
        "id": "9vt4ODytTsDy"
      }
    },
    {
      "cell_type": "markdown",
      "source": [
        "#### **Problem 1**\n",
        "\n",
        "Run the cell below to import the dataframe `housing_df`. "
      ],
      "metadata": {
        "id": "q_KD6jS8UDaj"
      }
    },
    {
      "cell_type": "code",
      "source": [
        "url = \"/content/sample_data/california_housing_train.csv\"\n",
        "housing_df = pd.read_csv(url)\n",
        "\n",
        "housing_df.head()"
      ],
      "metadata": {
        "id": "n65VxZ2aUWgd",
        "colab": {
          "base_uri": "https://localhost:8080/",
          "height": 206
        },
        "outputId": "955b538f-df33-419a-bbd7-e6cba7afe5a0"
      },
      "execution_count": null,
      "outputs": [
        {
          "output_type": "execute_result",
          "data": {
            "text/plain": [
              "   longitude  latitude  housing_median_age  total_rooms  total_bedrooms  \\\n",
              "0    -114.31     34.19                15.0       5612.0          1283.0   \n",
              "1    -114.47     34.40                19.0       7650.0          1901.0   \n",
              "2    -114.56     33.69                17.0        720.0           174.0   \n",
              "3    -114.57     33.64                14.0       1501.0           337.0   \n",
              "4    -114.57     33.57                20.0       1454.0           326.0   \n",
              "\n",
              "   population  households  median_income  median_house_value  \n",
              "0      1015.0       472.0         1.4936             66900.0  \n",
              "1      1129.0       463.0         1.8200             80100.0  \n",
              "2       333.0       117.0         1.6509             85700.0  \n",
              "3       515.0       226.0         3.1917             73400.0  \n",
              "4       624.0       262.0         1.9250             65500.0  "
            ],
            "text/html": [
              "\n",
              "  <div id=\"df-f677718f-e5cd-4a33-a54a-6c911a24becb\">\n",
              "    <div class=\"colab-df-container\">\n",
              "      <div>\n",
              "<style scoped>\n",
              "    .dataframe tbody tr th:only-of-type {\n",
              "        vertical-align: middle;\n",
              "    }\n",
              "\n",
              "    .dataframe tbody tr th {\n",
              "        vertical-align: top;\n",
              "    }\n",
              "\n",
              "    .dataframe thead th {\n",
              "        text-align: right;\n",
              "    }\n",
              "</style>\n",
              "<table border=\"1\" class=\"dataframe\">\n",
              "  <thead>\n",
              "    <tr style=\"text-align: right;\">\n",
              "      <th></th>\n",
              "      <th>longitude</th>\n",
              "      <th>latitude</th>\n",
              "      <th>housing_median_age</th>\n",
              "      <th>total_rooms</th>\n",
              "      <th>total_bedrooms</th>\n",
              "      <th>population</th>\n",
              "      <th>households</th>\n",
              "      <th>median_income</th>\n",
              "      <th>median_house_value</th>\n",
              "    </tr>\n",
              "  </thead>\n",
              "  <tbody>\n",
              "    <tr>\n",
              "      <th>0</th>\n",
              "      <td>-114.31</td>\n",
              "      <td>34.19</td>\n",
              "      <td>15.0</td>\n",
              "      <td>5612.0</td>\n",
              "      <td>1283.0</td>\n",
              "      <td>1015.0</td>\n",
              "      <td>472.0</td>\n",
              "      <td>1.4936</td>\n",
              "      <td>66900.0</td>\n",
              "    </tr>\n",
              "    <tr>\n",
              "      <th>1</th>\n",
              "      <td>-114.47</td>\n",
              "      <td>34.40</td>\n",
              "      <td>19.0</td>\n",
              "      <td>7650.0</td>\n",
              "      <td>1901.0</td>\n",
              "      <td>1129.0</td>\n",
              "      <td>463.0</td>\n",
              "      <td>1.8200</td>\n",
              "      <td>80100.0</td>\n",
              "    </tr>\n",
              "    <tr>\n",
              "      <th>2</th>\n",
              "      <td>-114.56</td>\n",
              "      <td>33.69</td>\n",
              "      <td>17.0</td>\n",
              "      <td>720.0</td>\n",
              "      <td>174.0</td>\n",
              "      <td>333.0</td>\n",
              "      <td>117.0</td>\n",
              "      <td>1.6509</td>\n",
              "      <td>85700.0</td>\n",
              "    </tr>\n",
              "    <tr>\n",
              "      <th>3</th>\n",
              "      <td>-114.57</td>\n",
              "      <td>33.64</td>\n",
              "      <td>14.0</td>\n",
              "      <td>1501.0</td>\n",
              "      <td>337.0</td>\n",
              "      <td>515.0</td>\n",
              "      <td>226.0</td>\n",
              "      <td>3.1917</td>\n",
              "      <td>73400.0</td>\n",
              "    </tr>\n",
              "    <tr>\n",
              "      <th>4</th>\n",
              "      <td>-114.57</td>\n",
              "      <td>33.57</td>\n",
              "      <td>20.0</td>\n",
              "      <td>1454.0</td>\n",
              "      <td>326.0</td>\n",
              "      <td>624.0</td>\n",
              "      <td>262.0</td>\n",
              "      <td>1.9250</td>\n",
              "      <td>65500.0</td>\n",
              "    </tr>\n",
              "  </tbody>\n",
              "</table>\n",
              "</div>\n",
              "      <button class=\"colab-df-convert\" onclick=\"convertToInteractive('df-f677718f-e5cd-4a33-a54a-6c911a24becb')\"\n",
              "              title=\"Convert this dataframe to an interactive table.\"\n",
              "              style=\"display:none;\">\n",
              "        \n",
              "  <svg xmlns=\"http://www.w3.org/2000/svg\" height=\"24px\"viewBox=\"0 0 24 24\"\n",
              "       width=\"24px\">\n",
              "    <path d=\"M0 0h24v24H0V0z\" fill=\"none\"/>\n",
              "    <path d=\"M18.56 5.44l.94 2.06.94-2.06 2.06-.94-2.06-.94-.94-2.06-.94 2.06-2.06.94zm-11 1L8.5 8.5l.94-2.06 2.06-.94-2.06-.94L8.5 2.5l-.94 2.06-2.06.94zm10 10l.94 2.06.94-2.06 2.06-.94-2.06-.94-.94-2.06-.94 2.06-2.06.94z\"/><path d=\"M17.41 7.96l-1.37-1.37c-.4-.4-.92-.59-1.43-.59-.52 0-1.04.2-1.43.59L10.3 9.45l-7.72 7.72c-.78.78-.78 2.05 0 2.83L4 21.41c.39.39.9.59 1.41.59.51 0 1.02-.2 1.41-.59l7.78-7.78 2.81-2.81c.8-.78.8-2.07 0-2.86zM5.41 20L4 18.59l7.72-7.72 1.47 1.35L5.41 20z\"/>\n",
              "  </svg>\n",
              "      </button>\n",
              "      \n",
              "  <style>\n",
              "    .colab-df-container {\n",
              "      display:flex;\n",
              "      flex-wrap:wrap;\n",
              "      gap: 12px;\n",
              "    }\n",
              "\n",
              "    .colab-df-convert {\n",
              "      background-color: #E8F0FE;\n",
              "      border: none;\n",
              "      border-radius: 50%;\n",
              "      cursor: pointer;\n",
              "      display: none;\n",
              "      fill: #1967D2;\n",
              "      height: 32px;\n",
              "      padding: 0 0 0 0;\n",
              "      width: 32px;\n",
              "    }\n",
              "\n",
              "    .colab-df-convert:hover {\n",
              "      background-color: #E2EBFA;\n",
              "      box-shadow: 0px 1px 2px rgba(60, 64, 67, 0.3), 0px 1px 3px 1px rgba(60, 64, 67, 0.15);\n",
              "      fill: #174EA6;\n",
              "    }\n",
              "\n",
              "    [theme=dark] .colab-df-convert {\n",
              "      background-color: #3B4455;\n",
              "      fill: #D2E3FC;\n",
              "    }\n",
              "\n",
              "    [theme=dark] .colab-df-convert:hover {\n",
              "      background-color: #434B5C;\n",
              "      box-shadow: 0px 1px 3px 1px rgba(0, 0, 0, 0.15);\n",
              "      filter: drop-shadow(0px 1px 2px rgba(0, 0, 0, 0.3));\n",
              "      fill: #FFFFFF;\n",
              "    }\n",
              "  </style>\n",
              "\n",
              "      <script>\n",
              "        const buttonEl =\n",
              "          document.querySelector('#df-f677718f-e5cd-4a33-a54a-6c911a24becb button.colab-df-convert');\n",
              "        buttonEl.style.display =\n",
              "          google.colab.kernel.accessAllowed ? 'block' : 'none';\n",
              "\n",
              "        async function convertToInteractive(key) {\n",
              "          const element = document.querySelector('#df-f677718f-e5cd-4a33-a54a-6c911a24becb');\n",
              "          const dataTable =\n",
              "            await google.colab.kernel.invokeFunction('convertToInteractive',\n",
              "                                                     [key], {});\n",
              "          if (!dataTable) return;\n",
              "\n",
              "          const docLinkHtml = 'Like what you see? Visit the ' +\n",
              "            '<a target=\"_blank\" href=https://colab.research.google.com/notebooks/data_table.ipynb>data table notebook</a>'\n",
              "            + ' to learn more about interactive tables.';\n",
              "          element.innerHTML = '';\n",
              "          dataTable['output_type'] = 'display_data';\n",
              "          await google.colab.output.renderOutput(dataTable, element);\n",
              "          const docLink = document.createElement('div');\n",
              "          docLink.innerHTML = docLinkHtml;\n",
              "          element.appendChild(docLink);\n",
              "        }\n",
              "      </script>\n",
              "    </div>\n",
              "  </div>\n",
              "  "
            ]
          },
          "metadata": {},
          "execution_count": 16
        }
      ]
    },
    {
      "cell_type": "markdown",
      "source": [
        "#### **Problem 2**\n",
        "\n",
        "What are the columns' names? "
      ],
      "metadata": {
        "id": "LJWtusGwVRID"
      }
    },
    {
      "cell_type": "code",
      "source": [
        "housing_df.columns"
      ],
      "metadata": {
        "id": "Fp_OMjirVRID",
        "colab": {
          "base_uri": "https://localhost:8080/"
        },
        "outputId": "c4f905fd-06e9-4a51-989f-b340f29beacb"
      },
      "execution_count": null,
      "outputs": [
        {
          "output_type": "execute_result",
          "data": {
            "text/plain": [
              "Index(['longitude', 'latitude', 'housing_median_age', 'total_rooms',\n",
              "       'total_bedrooms', 'population', 'households', 'median_income',\n",
              "       'median_house_value'],\n",
              "      dtype='object')"
            ]
          },
          "metadata": {},
          "execution_count": 12
        }
      ]
    },
    {
      "cell_type": "markdown",
      "source": [
        "#### **Problem 3**\n",
        "\n",
        "What is the dataype of `households`?"
      ],
      "metadata": {
        "id": "Rso4K7JCVZa7"
      }
    },
    {
      "cell_type": "code",
      "source": [
        "housing_df['households'].dtypes"
      ],
      "metadata": {
        "id": "VMUv1p0RVq9p",
        "colab": {
          "base_uri": "https://localhost:8080/"
        },
        "outputId": "297c6d3a-4704-4c68-b07d-07e81a43f70e"
      },
      "execution_count": null,
      "outputs": [
        {
          "output_type": "execute_result",
          "data": {
            "text/plain": [
              "dtype('float64')"
            ]
          },
          "metadata": {},
          "execution_count": 20
        }
      ]
    },
    {
      "cell_type": "markdown",
      "source": [
        "#### **Problem 4**\n",
        "How many rows are in this data frame?"
      ],
      "metadata": {
        "id": "GyQdC0gUV3rp"
      }
    },
    {
      "cell_type": "code",
      "source": [
        "print( housing_df.shape ) #output is (rows, columns)\n",
        "\n",
        "print(\"There are 17000 rows in the data frame!\")"
      ],
      "metadata": {
        "id": "_C9-Ui6SV3rp",
        "colab": {
          "base_uri": "https://localhost:8080/"
        },
        "outputId": "9401d52b-4f34-4187-a79f-bc1e8cdcae39"
      },
      "execution_count": null,
      "outputs": [
        {
          "output_type": "stream",
          "name": "stdout",
          "text": [
            "(17000, 9)\n",
            "There are 17000 rows in the data frame!\n"
          ]
        }
      ]
    },
    {
      "cell_type": "markdown",
      "source": [
        "## **Practice #2**\n",
        "---"
      ],
      "metadata": {
        "id": "427p0GHYXMLR"
      }
    },
    {
      "cell_type": "markdown",
      "source": [
        "#### **Problem 1**\n",
        "Let's look at the data concerning `housing_median_age`. Write code below to look at this particular column."
      ],
      "metadata": {
        "id": "kULDVqrHXOMU"
      }
    },
    {
      "cell_type": "code",
      "source": [
        "housing_df['housing_median_age']"
      ],
      "metadata": {
        "id": "6rvtZeOyXOMV",
        "colab": {
          "base_uri": "https://localhost:8080/",
          "height": 287
        },
        "outputId": "7bd57461-0120-4bf2-ea2f-faba8eb59dbc"
      },
      "execution_count": null,
      "outputs": [
        {
          "output_type": "error",
          "ename": "AttributeError",
          "evalue": "ignored",
          "traceback": [
            "\u001b[0;31m---------------------------------------------------------------------------\u001b[0m",
            "\u001b[0;31mAttributeError\u001b[0m                            Traceback (most recent call last)",
            "\u001b[0;32m<ipython-input-23-54701d461f5c>\u001b[0m in \u001b[0;36m<module>\u001b[0;34m\u001b[0m\n\u001b[0;32m----> 1\u001b[0;31m \u001b[0mhousing_df\u001b[0m\u001b[0;34m[\u001b[0m\u001b[0;34m'housing_median_age'\u001b[0m\u001b[0;34m]\u001b[0m\u001b[0;34m.\u001b[0m\u001b[0minfo\u001b[0m\u001b[0;34m(\u001b[0m\u001b[0;34m)\u001b[0m\u001b[0;34m\u001b[0m\u001b[0;34m\u001b[0m\u001b[0m\n\u001b[0m",
            "\u001b[0;32m/usr/local/lib/python3.7/dist-packages/pandas/core/generic.py\u001b[0m in \u001b[0;36m__getattr__\u001b[0;34m(self, name)\u001b[0m\n\u001b[1;32m   5485\u001b[0m         ):\n\u001b[1;32m   5486\u001b[0m             \u001b[0;32mreturn\u001b[0m \u001b[0mself\u001b[0m\u001b[0;34m[\u001b[0m\u001b[0mname\u001b[0m\u001b[0;34m]\u001b[0m\u001b[0;34m\u001b[0m\u001b[0;34m\u001b[0m\u001b[0m\n\u001b[0;32m-> 5487\u001b[0;31m         \u001b[0;32mreturn\u001b[0m \u001b[0mobject\u001b[0m\u001b[0;34m.\u001b[0m\u001b[0m__getattribute__\u001b[0m\u001b[0;34m(\u001b[0m\u001b[0mself\u001b[0m\u001b[0;34m,\u001b[0m \u001b[0mname\u001b[0m\u001b[0;34m)\u001b[0m\u001b[0;34m\u001b[0m\u001b[0;34m\u001b[0m\u001b[0m\n\u001b[0m\u001b[1;32m   5488\u001b[0m \u001b[0;34m\u001b[0m\u001b[0m\n\u001b[1;32m   5489\u001b[0m     \u001b[0;32mdef\u001b[0m \u001b[0m__setattr__\u001b[0m\u001b[0;34m(\u001b[0m\u001b[0mself\u001b[0m\u001b[0;34m,\u001b[0m \u001b[0mname\u001b[0m\u001b[0;34m:\u001b[0m \u001b[0mstr\u001b[0m\u001b[0;34m,\u001b[0m \u001b[0mvalue\u001b[0m\u001b[0;34m)\u001b[0m \u001b[0;34m->\u001b[0m \u001b[0;32mNone\u001b[0m\u001b[0;34m:\u001b[0m\u001b[0;34m\u001b[0m\u001b[0;34m\u001b[0m\u001b[0m\n",
            "\u001b[0;31mAttributeError\u001b[0m: 'Series' object has no attribute 'info'"
          ]
        }
      ]
    },
    {
      "cell_type": "markdown",
      "source": [
        "#### **Problem 2**\n",
        "What median age appears the most in this dataset?"
      ],
      "metadata": {
        "id": "l-PaSadUXROB"
      }
    },
    {
      "cell_type": "code",
      "source": [
        "print( housing_df['housing_median_age'].value_counts() ) #gives you like the frequency of how many times a value pops up in a data set\n",
        "print()\n",
        "print(\"52.0 is the median age that appears the most in the dataset!\")"
      ],
      "metadata": {
        "id": "7pPLQYueXROC",
        "colab": {
          "base_uri": "https://localhost:8080/"
        },
        "outputId": "87a8b6ca-d6b4-4c7e-980c-d739e193dd3e"
      },
      "execution_count": null,
      "outputs": [
        {
          "output_type": "stream",
          "name": "stdout",
          "text": [
            "52.0    1052\n",
            "36.0     715\n",
            "35.0     692\n",
            "16.0     635\n",
            "17.0     576\n",
            "34.0     567\n",
            "33.0     513\n",
            "26.0     503\n",
            "18.0     478\n",
            "25.0     461\n",
            "32.0     458\n",
            "37.0     437\n",
            "15.0     416\n",
            "19.0     412\n",
            "28.0     400\n",
            "27.0     397\n",
            "24.0     389\n",
            "31.0     384\n",
            "30.0     384\n",
            "20.0     383\n",
            "23.0     382\n",
            "29.0     374\n",
            "21.0     373\n",
            "14.0     347\n",
            "22.0     323\n",
            "38.0     318\n",
            "42.0     308\n",
            "39.0     302\n",
            "44.0     296\n",
            "43.0     286\n",
            "13.0     249\n",
            "40.0     249\n",
            "45.0     235\n",
            "41.0     232\n",
            "10.0     226\n",
            "11.0     208\n",
            "5.0      199\n",
            "46.0     196\n",
            "12.0     192\n",
            "8.0      178\n",
            "47.0     175\n",
            "9.0      172\n",
            "4.0      161\n",
            "7.0      151\n",
            "48.0     135\n",
            "6.0      129\n",
            "50.0     112\n",
            "49.0     111\n",
            "2.0       49\n",
            "3.0       46\n",
            "51.0      32\n",
            "1.0        2\n",
            "Name: housing_median_age, dtype: int64\n",
            "\n",
            "52.0 is the median age that appears the most in the dataset!\n"
          ]
        }
      ]
    },
    {
      "cell_type": "code",
      "source": [
        "housing_df['housing_median_age'].mode() #we love pandas for having this <3"
      ],
      "metadata": {
        "colab": {
          "base_uri": "https://localhost:8080/"
        },
        "id": "JjPEi8Vr8ffr",
        "outputId": "71b1cbca-0fb5-4068-eb27-d6e7d709485c"
      },
      "execution_count": null,
      "outputs": [
        {
          "output_type": "execute_result",
          "data": {
            "text/plain": [
              "0    52.0\n",
              "dtype: float64"
            ]
          },
          "metadata": {},
          "execution_count": 24
        }
      ]
    },
    {
      "cell_type": "markdown",
      "source": [
        "#### **Problem 3**\n",
        "Now, let's look at the `population` column. Specifically, calculate the median of this data."
      ],
      "metadata": {
        "id": "LApxbPtkXRWz"
      }
    },
    {
      "cell_type": "code",
      "source": [
        "populationMedian = housing_df['population'].median()\n",
        "print(populationMedian)"
      ],
      "metadata": {
        "id": "MXRtY6LjXRW0",
        "colab": {
          "base_uri": "https://localhost:8080/"
        },
        "outputId": "ece6caa8-0c5e-4e5f-f58e-de790868cb9b"
      },
      "execution_count": null,
      "outputs": [
        {
          "output_type": "stream",
          "name": "stdout",
          "text": [
            "1167.0\n"
          ]
        }
      ]
    },
    {
      "cell_type": "markdown",
      "source": [
        "#### **Problem 4**\n",
        "What is the population of the data in row 1000? Calculate the difference between this value and the median you calculated above. What does this difference mean?"
      ],
      "metadata": {
        "id": "KUmqHXx0XRrN"
      }
    },
    {
      "cell_type": "code",
      "source": [
        "row1000 = housing_df['population'][1000]\n",
        "print(\"The population of the data in row 1000 is \" + str(row1000))\n",
        "print()\n",
        "diff = populationMedian - row1000\n",
        "print(\"The difference between this value and the median is \" + str(diff))\n"
      ],
      "metadata": {
        "id": "sS_GAOMIXRrO",
        "colab": {
          "base_uri": "https://localhost:8080/"
        },
        "outputId": "b93d195f-b2b5-4fde-93a3-a4bf6f105a0b"
      },
      "execution_count": null,
      "outputs": [
        {
          "output_type": "stream",
          "name": "stdout",
          "text": [
            "The population of the data in row 1000 is 2091.0\n",
            "\n",
            "The difference between this value and the median is -924.0\n"
          ]
        }
      ]
    },
    {
      "cell_type": "markdown",
      "source": [
        "#### **Challenge: Problem 5**\n",
        "\n",
        "Lastly, look at the total number of bedrooms in rows 1000 - 2000 and compute the difference between the median of these rows from the median of the whole dataset. For practice purposes, use `iloc[row #, col #]` here where row can be a range of values (`:` for the whole dataset).\n",
        "\n",
        "\n"
      ],
      "metadata": {
        "id": "BtzhR_7RXSEG"
      }
    },
    {
      "cell_type": "code",
      "source": [
        "whole_med = housing_df['total_bedrooms'].median()\n",
        "\n",
        "spec_med = housing_df['total_bedrooms'][1000:2000].median()\n",
        "#or use iloc!\n",
        "spec_med = housing_df['total_bedrooms'][1000:2000].median()\n",
        "\n",
        "whole_med - spec_med"
      ],
      "metadata": {
        "id": "e4cRCV9CXSEG",
        "colab": {
          "base_uri": "https://localhost:8080/"
        },
        "outputId": "c93d6b11-d185-431d-9bbf-fd4c8a9cf4b7"
      },
      "execution_count": null,
      "outputs": [
        {
          "output_type": "execute_result",
          "data": {
            "text/plain": [
              "-55.0"
            ]
          },
          "metadata": {},
          "execution_count": 34
        }
      ]
    },
    {
      "cell_type": "code",
      "source": [
        "housing_df.info()\n"
      ],
      "metadata": {
        "colab": {
          "base_uri": "https://localhost:8080/"
        },
        "id": "TznFxGlP-Qin",
        "outputId": "08278898-aa72-4fac-c9b1-6c8fd8e57cbf"
      },
      "execution_count": null,
      "outputs": [
        {
          "output_type": "stream",
          "name": "stdout",
          "text": [
            "<class 'pandas.core.frame.DataFrame'>\n",
            "RangeIndex: 17000 entries, 0 to 16999\n",
            "Data columns (total 9 columns):\n",
            " #   Column              Non-Null Count  Dtype  \n",
            "---  ------              --------------  -----  \n",
            " 0   longitude           17000 non-null  float64\n",
            " 1   latitude            17000 non-null  float64\n",
            " 2   housing_median_age  17000 non-null  float64\n",
            " 3   total_rooms         17000 non-null  float64\n",
            " 4   total_bedrooms      17000 non-null  float64\n",
            " 5   population          17000 non-null  float64\n",
            " 6   households          17000 non-null  float64\n",
            " 7   median_income       17000 non-null  float64\n",
            " 8   median_house_value  17000 non-null  float64\n",
            "dtypes: float64(9)\n",
            "memory usage: 1.2 MB\n"
          ]
        }
      ]
    },
    {
      "cell_type": "code",
      "source": [
        "housing_df.iloc[1000:2000, 4]"
      ],
      "metadata": {
        "id": "m4YsxuP5-T7O"
      },
      "execution_count": null,
      "outputs": []
    },
    {
      "cell_type": "markdown",
      "source": [
        "## **Practice #3**"
      ],
      "metadata": {
        "id": "K-D97AUWQN3E"
      }
    },
    {
      "cell_type": "markdown",
      "source": [
        "####**A Pop of Color** \n",
        "\n",
        "Adjusting the color of your visualizations is a powerful way to make them clearer, nicer looking, and to distinguish multiple datasets. Let's see how we can adjust different types of graphs together!\n",
        "\n",
        "**NOTE**: These problems are about practicing adjusting color. In general, you would want to give these graphs titles, axis labels, and much more to make them very good visualizations."
      ],
      "metadata": {
        "id": "XKckSB9jc7LT"
      }
    },
    {
      "cell_type": "markdown",
      "source": [
        "##### **Problem #1**: Scatter Plots\n",
        "Adjust the scatter plot below so that the points are red."
      ],
      "metadata": {
        "id": "BCn2_lDqeMpq"
      }
    },
    {
      "cell_type": "code",
      "source": [
        "x = [0, 1, 2, 3, 4, 5, 6, 7, 8, 9]\n",
        "fib = [0, 1, 1, 2, 3, 5, 8, 13, 21, 34]\n",
        "\n",
        "plt.scatter(x, fib, color='red')\n",
        "plt.show()"
      ],
      "metadata": {
        "id": "kJKSRB-Cc0AL",
        "colab": {
          "base_uri": "https://localhost:8080/",
          "height": 265
        },
        "outputId": "11e6a19e-cf8e-4b5d-e189-e2ffc5f3bc8a"
      },
      "execution_count": null,
      "outputs": [
        {
          "output_type": "display_data",
          "data": {
            "text/plain": [
              "<Figure size 432x288 with 1 Axes>"
            ],
            "image/png": "[encoded data removed]"
          },
          "metadata": {
            "needs_background": "light"
          }
        }
      ]
    },
    {
      "cell_type": "markdown",
      "source": [
        "##### **Problem #2**: Line Graphs\n",
        "Create a line graph showing both the fib and pow2 datasets. Make the fib line orange and the pow2 line blue."
      ],
      "metadata": {
        "id": "fW7AGn7GeZNq"
      }
    },
    {
      "cell_type": "code",
      "source": [
        "x = [0, 1, 2, 3, 4, 5, 6, 7, 8, 9]\n",
        "fib = [0, 1, 1, 2, 3, 5, 8, 13, 21, 34]\n",
        "pow2 = [1, 2, 4, 8, 16, 32, 64, 128, 256, 512]"
      ],
      "metadata": {
        "id": "S25oDSC8eZN1"
      },
      "execution_count": null,
      "outputs": []
    },
    {
      "cell_type": "code",
      "source": [
        "plt.plot(x, fib, color='orange')\n",
        "plt.plot(x, pow2, color='blue')\n",
        "plt.show()"
      ],
      "metadata": {
        "colab": {
          "base_uri": "https://localhost:8080/",
          "height": 265
        },
        "id": "qqT3_Voy_xWA",
        "outputId": "68a8e90f-41ef-4fb0-9125-50d7a2b084ed"
      },
      "execution_count": null,
      "outputs": [
        {
          "output_type": "display_data",
          "data": {
            "text/plain": [
              "<Figure size 432x288 with 1 Axes>"
            ],
            "image/png": "[encoded data removed]"
          },
          "metadata": {
            "needs_background": "light"
          }
        }
      ]
    },
    {
      "cell_type": "markdown",
      "source": [
        "##### **Problem #3**: Bar Graphs\n",
        "Create a bar graph. Color the bar with score 11 orange, and color the rest of the bars black."
      ],
      "metadata": {
        "id": "EsNcRM2KeaPJ"
      }
    },
    {
      "cell_type": "code",
      "source": [
        "x = [1, 2, 3, 4]\n",
        "scores = [5, 11, 8, 9]"
      ],
      "metadata": {
        "id": "8O-eYdtneaPJ"
      },
      "execution_count": null,
      "outputs": []
    },
    {
      "cell_type": "code",
      "source": [
        "plt.bar(x, scores, color=[\"black\", \"orange\", \"black\", \"black\"])\n",
        "plt.show()"
      ],
      "metadata": {
        "colab": {
          "base_uri": "https://localhost:8080/",
          "height": 265
        },
        "id": "hZkl9pCYAgkX",
        "outputId": "27b20f88-0318-4620-d18c-959c14ba9117"
      },
      "execution_count": null,
      "outputs": [
        {
          "output_type": "display_data",
          "data": {
            "text/plain": [
              "<Figure size 432x288 with 1 Axes>"
            ],
            "image/png": "[encoded data removed]"
          },
          "metadata": {
            "needs_background": "light"
          }
        }
      ]
    },
    {
      "cell_type": "markdown",
      "source": [
        "####**Beyond the Datapoints** \n",
        "Data visualization is not just about the data points themselves. It's important to consider the many elements that make a graph and how we can add or adjust these to make your data and the story you are trying to tell clearer.\n",
        "\n",
        "Let's see a few simple ways we can improve our graphs."
      ],
      "metadata": {
        "id": "Ah1bnP2hdEfu"
      }
    },
    {
      "cell_type": "markdown",
      "source": [
        "##### **Problem #4**: Adjusting figure size\n",
        "If you run the code below, you will see the general shape of the data. This is great, but ideally we would also be able to see the individual data points. Adjust the size of the figure to accomplish this."
      ],
      "metadata": {
        "id": "_rDP0AGhxe8m"
      }
    },
    {
      "cell_type": "code",
      "source": [
        "x = [i for i in range(100)]\n",
        "squares = [i**2 for i in range(100)]\n",
        "\n",
        "plt.figure( figsize=(15,12))\n",
        "\n",
        "plt.scatter(x, squares)\n",
        "\n",
        "plt.title(\"Quadratic Growth\")\n",
        "plt.xlabel(\"x\")\n",
        "plt.ylabel(\"y^2\")\n",
        "plt.show()"
      ],
      "metadata": {
        "id": "WM2oj2Dcxe8z",
        "colab": {
          "base_uri": "https://localhost:8080/",
          "height": 730
        },
        "outputId": "acfae1bb-c29c-4273-d1d1-e9b2c6abb154"
      },
      "execution_count": null,
      "outputs": [
        {
          "output_type": "display_data",
          "data": {
            "text/plain": [
              "<Figure size 1080x864 with 1 Axes>"
            ],
            "image/png": "[encoded data removed]"
          },
          "metadata": {
            "needs_background": "light"
          }
        }
      ]
    },
    {
      "cell_type": "markdown",
      "source": [
        "##### **Problem #5**: Adjusting text\n",
        "Great, so now we can see the individual data points. However, the text is a bit hard to read. Copy your solution from above and make the text bold and x-large to address this."
      ],
      "metadata": {
        "id": "yLz9kv6lxe8z"
      }
    },
    {
      "cell_type": "code",
      "source": [
        "x = [i for i in range(100)]\n",
        "squares = [i**2 for i in range(100)]\n",
        "\n",
        "plt.figure( figsize=(15,12))\n",
        "\n",
        "plt.scatter(x, squares)\n",
        "\n",
        "plt.title(\"Quadratic Growth\", fontsize='x-large', fontweight='bold')\n",
        "plt.xlabel(\"x\", fontsize='x-large', fontweight='bold')\n",
        "plt.ylabel(\"y^2\", fontsize='x-large', fontweight='bold')\n",
        "plt.show()"
      ],
      "metadata": {
        "id": "A4BUrEbjxe80",
        "colab": {
          "base_uri": "https://localhost:8080/",
          "height": 735
        },
        "outputId": "18a5e400-f562-4faa-959b-8fc36456aa23"
      },
      "execution_count": null,
      "outputs": [
        {
          "output_type": "display_data",
          "data": {
            "text/plain": [
              "<Figure size 1080x864 with 1 Axes>"
            ],
            "image/png": "[encoded data removed]"
          },
          "metadata": {
            "needs_background": "light"
          }
        }
      ]
    },
    {
      "cell_type": "markdown",
      "source": [
        "####**Putting It Together** \n",
        "\n",
        "Now, let's combine all of these skills to make a nice visualization!"
      ],
      "metadata": {
        "id": "9lA8NIoodHUd"
      }
    },
    {
      "cell_type": "markdown",
      "source": [
        "##### **Problem #6**\n",
        "\n",
        "Below is data for the historical average high temperature in Boston in degrees Celsius for each month. \n",
        "\n",
        "Create a bar graph from this data such that:\n",
        "- the bars are red when the temperatures are above 18 and blue otherwise\n",
        "- the title and axis labels have a font size of extra large\n",
        "- the figure is as large as possible without being so large that you have to scroll the screen to see different parts"
      ],
      "metadata": {
        "id": "eGS4g7I3RLee"
      }
    },
    {
      "cell_type": "code",
      "source": [
        "month = [\"Jan\", \"Feb\", \"Mar\", \"Apr\", \"May\", \"Jun\", \"Jul\", \"Aug\", \"Sep\", \"Oct\", \"Nov\", \"Dec\"]\n",
        "high_temp = [3, 4, 8, 14, 19, 25, 28, 27, 23, 17, 11, 6]\n",
        "\n",
        "plt.figure( figsize=(12,9))\n",
        "plt.bar(month, high_temp)\n",
        "plt.xlabel(\"Month\", fontsize = 'x-large')\n",
        "plt.ylabel(\"High Temperatures\", fontsize = 'x-large')\n",
        "plt.title(\"Months vs. High Temperatures\", fontsize = 'x-large')"
      ],
      "metadata": {
        "id": "Zk3QC8uUdHUg",
        "colab": {
          "base_uri": "https://localhost:8080/",
          "height": 589
        },
        "outputId": "cb6c21b9-8a9e-47a2-d67a-25811d870169"
      },
      "execution_count": null,
      "outputs": [
        {
          "output_type": "execute_result",
          "data": {
            "text/plain": [
              "Text(0.5, 1.0, 'Months vs. High Temperatures')"
            ]
          },
          "metadata": {},
          "execution_count": 54
        },
        {
          "output_type": "display_data",
          "data": {
            "text/plain": [
              "<Figure size 864x648 with 1 Axes>"
            ],
            "image/png": "[encoded data removed]"
          },
          "metadata": {
            "needs_background": "light"
          }
        }
      ]
    },
    {
      "cell_type": "markdown",
      "source": [
        "# **Top 1000 Movies Data Project**\n",
        "---\n",
        "\n",
        "<br>\n",
        "\n",
        "## **Project Description**\n",
        "Welcome to your first project of the course! Throughout this project, you will explore, visualize, and understand data of the top 1000 movies based on IMDB. \n",
        "\n",
        "It is time to *apply* what you have seen so far. That's often the hardest part of learning anything, but it's also the most important part! You will have to think critically about which tools to use and why. Of course, don't forget that there are guiding questions, cheat sheets, and your amazing TA to support you along the way.\n",
        "\n",
        "\n",
        "<br>\n",
        "\n",
        "\n",
        "## **Key Questions**\n",
        "By the end of this project, you should be able to answer:\n",
        "- How has the movie industry changed over the years, specifically in terms of money made and runtime?\n",
        "- What factors most strongly affect how much money a movie will make?\n",
        "\n",
        "\n",
        "<br>\n",
        "\n",
        "\n",
        "## **Project Outline**\n",
        "**Part 1: Exploring Our Data**: 5 main tasks to import and explore the dataset using pandas.\n",
        "\n",
        "**Part 2: Visualizing Our Data**: 11 tasks to visualize the dataset using matplotlib.\n",
        "\n",
        "\n",
        "<br>\n",
        "\n",
        "\n",
        "## **Cheat Sheets**\n",
        "\n",
        "These may be helpful to refer to as you're working through this project:\n",
        "\n",
        "[Python Basics Cheat Sheet](https://docs.google.com/document/d/1c5LMGUa9wyxHGW49GbeOU5xLIVYyBQaLBFruwQHLFYc)\n",
        "\n",
        "[EDA and Pandas Cheat Sheet](https://docs.google.com/document/d/1AtWgIgiKwVY5QAENob-r_R3pqPIdpalFoSYDpTvZVLA)\n",
        "\n",
        "[Data Visualization in Matplotlib Cheat Sheet](https://docs.google.com/document/d/1TDM-BcXtsPKdj9WjuK6wDx485aRqo56ymhMypd9onz4)"
      ],
      "metadata": {
        "id": "FjlA9FX-d-Su"
      }
    },
    {
      "cell_type": "markdown",
      "source": [
        "**Before starting, run the code below.**"
      ],
      "metadata": {
        "id": "iFgM-WQfeKZs"
      }
    },
    {
      "cell_type": "code",
      "source": [
        "# libraries needed\n",
        "import numpy as np\n",
        "import matplotlib.pyplot as plt\n",
        "import pandas as pd"
      ],
      "metadata": {
        "id": "rXVQqqboeTcU"
      },
      "execution_count": null,
      "outputs": []
    },
    {
      "cell_type": "markdown",
      "source": [
        "---"
      ],
      "metadata": {
        "id": "_hgO92uH913t"
      }
    },
    {
      "cell_type": "markdown",
      "source": [
        "## **Part 1: Exploring Our Data**\n",
        "---"
      ],
      "metadata": {
        "id": "ZbgVHURQ7qbI"
      }
    },
    {
      "cell_type": "markdown",
      "source": [
        "#### **Problem #1**\n",
        "Run the cell below to import the data from a url into a data frame and to take a first look at the data."
      ],
      "metadata": {
        "id": "NZiA0LHpfqDG"
      }
    },
    {
      "cell_type": "code",
      "source": [
        "url = \"https://docs.google.com/spreadsheets/d/e/2PACX-1vQUZJYxmLprWya2_Bcg4aFjZzRSyUrkgwpL9hFCtROa5-yUJbn8oH6LGNyqOpNm9nFckaK1jPH1k6x5/pub?gid=169291584&single=true&output=csv\"\n",
        "movies_df = pd.read_csv(url)\n",
        "movies_df.head()"
      ],
      "metadata": {
        "id": "gI40Hn1NoUvm"
      },
      "execution_count": null,
      "outputs": []
    },
    {
      "cell_type": "markdown",
      "source": [
        "#### **Problem #2**\n",
        "Now, let's do an initial and high level exploration of this data so that we can get a feel for its structure and what kind of information we might be able to get out of it.\n",
        "\n",
        "In the space below, use the functions and attributes that we have seen to answer these questions:\n",
        "\n",
        "- What are the data types for each column?\n",
        "- How many rows and columns are there?\n",
        "- What are the unique values for the variable `Released_Year`?\n",
        "- How many movies in the comedy genre are included in this data?"
      ],
      "metadata": {
        "id": "LcL-K-GJrV0Q"
      }
    },
    {
      "cell_type": "code",
      "source": [],
      "metadata": {
        "id": "5qRgh1xgr4XL"
      },
      "execution_count": null,
      "outputs": []
    },
    {
      "cell_type": "code",
      "source": [],
      "metadata": {
        "id": "MrFUuw1B-jWd"
      },
      "execution_count": null,
      "outputs": []
    },
    {
      "cell_type": "code",
      "source": [],
      "metadata": {
        "id": "G3MvJP8v-jLa"
      },
      "execution_count": null,
      "outputs": []
    },
    {
      "cell_type": "code",
      "source": [],
      "metadata": {
        "id": "XZWALZC9gBCv"
      },
      "execution_count": null,
      "outputs": []
    },
    {
      "cell_type": "markdown",
      "source": [
        "#### **Problem #3**\n",
        "This problem is about exploring the column `Gross`, which represents the money (in USD) made by each movie.\n",
        "\n",
        "There are three questions below to help us understand this variable.\n",
        "\n",
        "<br>\n",
        "\n",
        "**Question 1**: What is the average (mean) amount grossed by movies in the list?"
      ],
      "metadata": {
        "id": "Le8stp0w7-ox"
      }
    },
    {
      "cell_type": "code",
      "source": [],
      "metadata": {
        "id": "9pJrOT857-ox"
      },
      "execution_count": null,
      "outputs": []
    },
    {
      "cell_type": "markdown",
      "source": [
        "**Question 2**: What is the highest grossing movie in the list?\n",
        "\n",
        "**Hint**: Python has built-in `min` and `max` functions that could be useful."
      ],
      "metadata": {
        "id": "uy971GcCDza2"
      }
    },
    {
      "cell_type": "code",
      "source": [],
      "metadata": {
        "id": "lIU9hCnrDkqg"
      },
      "execution_count": null,
      "outputs": []
    },
    {
      "cell_type": "markdown",
      "source": [
        "**Question 3**: What percentage of the total money grossed by all the movies in this data does the highest grossing amount represent?"
      ],
      "metadata": {
        "id": "eVWGY3sbDlgE"
      }
    },
    {
      "cell_type": "code",
      "source": [],
      "metadata": {
        "id": "3LMtVBwFjCm2"
      },
      "execution_count": null,
      "outputs": []
    },
    {
      "cell_type": "markdown",
      "source": [
        "#### **Problem #4**\n",
        "This problem is about exploring the column `Genre`. There are three questions below to help us understand this variable.\n",
        "\n",
        "<br>\n",
        "\n",
        "**Question 1**: How many unique genres are there?\n",
        "\n",
        "**Hint** Python has a built-in function called `len(...)` that can tell the length of any list or object. For instance\n",
        "\n",
        "```python\n",
        "my_list = [\"a\", \"b\", \"c\"]\n",
        "length = len(my_list)\n",
        "print(length)\n",
        "```\n",
        "\n",
        "would print 3."
      ],
      "metadata": {
        "id": "eI_aMe3qlUJD"
      }
    },
    {
      "cell_type": "code",
      "source": [],
      "metadata": {
        "id": "C1A0DTzXlUJD"
      },
      "execution_count": null,
      "outputs": []
    },
    {
      "cell_type": "markdown",
      "source": [
        "**Question 2**: What percentage of all the movies in this dataset are Biographies?"
      ],
      "metadata": {
        "id": "VBdO-E3DlUJE"
      }
    },
    {
      "cell_type": "code",
      "source": [],
      "metadata": {
        "id": "dCv_vtTdlUJE"
      },
      "execution_count": null,
      "outputs": []
    },
    {
      "cell_type": "markdown",
      "source": [
        "**Question 3**: Drama is the most represented genre in this list. How many more Dramas are there than Biographies?\n",
        "\n",
        "**Hint** We're asking what the ratio is of Dramas to Biographies."
      ],
      "metadata": {
        "id": "3ApoUk2TlUJE"
      }
    },
    {
      "cell_type": "code",
      "source": [],
      "metadata": {
        "id": "8RjVkVn7lUJE"
      },
      "execution_count": null,
      "outputs": []
    },
    {
      "cell_type": "code",
      "source": [],
      "metadata": {
        "id": "TR7QF9Xxo3O0"
      },
      "execution_count": null,
      "outputs": []
    },
    {
      "cell_type": "markdown",
      "source": [
        "#### **Problem #5**\n",
        "\n",
        "The `Star1` column shows the actor that was considered the top star of each movie. `Star 2` - `Star 4` show the next 3 top billed actors for each movie. Based on this data, answer the questions below."
      ],
      "metadata": {
        "id": "3dCI2GjeHEyl"
      }
    },
    {
      "cell_type": "markdown",
      "source": [
        "**Question 1**\n",
        "\n",
        "Which actor has been the top star of the most movies?\n",
        "\n",
        "Use the code cell below to find the answer. Then enter this in the text cell."
      ],
      "metadata": {
        "id": "Mk1Dp-NAIB0W"
      }
    },
    {
      "cell_type": "code",
      "source": [],
      "metadata": {
        "id": "lEZDCPaXHEyv"
      },
      "execution_count": null,
      "outputs": []
    },
    {
      "cell_type": "markdown",
      "source": [],
      "metadata": {
        "id": "nOHG-mB_JxRr"
      }
    },
    {
      "cell_type": "markdown",
      "source": [
        "**Question 2**\n",
        "\n",
        "Which actor has been the 2nd most top star of the most movies? What percentage of the top 1000 movies have they been a 2nd most top star?\n",
        "\n",
        "Use the code cell below to find the answer. Then enter this in the text cell."
      ],
      "metadata": {
        "id": "tGV6yKVuIQ9I"
      }
    },
    {
      "cell_type": "code",
      "source": [],
      "metadata": {
        "id": "h_W4uKjfIQ9J"
      },
      "execution_count": null,
      "outputs": []
    },
    {
      "cell_type": "markdown",
      "source": [
        "Write your answer here by double clicking this cell."
      ],
      "metadata": {
        "id": "cYC29LivJSWE"
      }
    },
    {
      "cell_type": "markdown",
      "source": [
        "**Question 3**\n",
        "\n",
        "Do the top actors in the `Star1` column tend to star in more, less, or the same number of movies as the top actors in the `Star4` column. Why do you think this is?\n",
        "\n",
        "Use the code cell below to find the answer. Then enter this in the text cell."
      ],
      "metadata": {
        "id": "FSPhaDdZIUTk"
      }
    },
    {
      "cell_type": "code",
      "source": [],
      "metadata": {
        "id": "bIL8AUSjIUTl"
      },
      "execution_count": null,
      "outputs": []
    },
    {
      "cell_type": "markdown",
      "source": [],
      "metadata": {
        "id": "vHL8KM0DJzTb"
      }
    },
    {
      "cell_type": "markdown",
      "source": [
        "#### **[Optional] Problem #6**\n",
        "After looking at different columns, it appears the `Overview` column would be very hard to deal with in any simple way. There is a field of Machine Learning known as Natural Language Processing (NLP) that could help us handle text data like this that we will learn a little bit about down the road.\n",
        "\n",
        "For now, let's just get rid of the `Overview` column so it isn't in our way. In the cell below, drop this column from the data frame."
      ],
      "metadata": {
        "id": "eCRuTjetsJmP"
      }
    },
    {
      "cell_type": "code",
      "source": [],
      "metadata": {
        "id": "fWHTiiNmsJmQ"
      },
      "execution_count": null,
      "outputs": []
    },
    {
      "cell_type": "markdown",
      "source": [
        "## **Part 2: Visualizing Our Data**\n",
        "\n",
        "Looking at the data is always a good place to start. But, as they say, \"a picture is worth a 1000 words\"! So, let's visualize the data to get a better understanding of it.\n",
        "\n",
        "---"
      ],
      "metadata": {
        "id": "8hsq-nTGBHa_"
      }
    },
    {
      "cell_type": "markdown",
      "source": [
        "#### **Problem #1**\n",
        "Using a bar graph, visualize the number of movies for each genre. Make sure this graph looks nice!"
      ],
      "metadata": {
        "id": "B4Ygb8SBtIvZ"
      }
    },
    {
      "cell_type": "code",
      "source": [],
      "metadata": {
        "id": "ml5gLIjptIva"
      },
      "execution_count": null,
      "outputs": []
    },
    {
      "cell_type": "markdown",
      "source": [
        "#### **Problem #2**\n",
        "Now visualize the `Star1` category in a similar way."
      ],
      "metadata": {
        "id": "18d8ANmBvIe5"
      }
    },
    {
      "cell_type": "code",
      "source": [],
      "metadata": {
        "id": "bODVY0q0vIe6"
      },
      "execution_count": null,
      "outputs": []
    },
    {
      "cell_type": "markdown",
      "source": [
        "#### **Challenge: Problem #3**\n",
        "Notice that this graph is *very* hard to read or interpret. There's too many actors!\n",
        "\n",
        "Make the same plot as the problem above, but only showing as many actors as you can before the graph becomes hard to read or interpret. \n",
        "\n",
        "**NOTE**: This will require some trial and error.\n",
        "\n",
        "<br>\n",
        "\n",
        "**Hint**:\n",
        "If you are stuck and want a hint, this is provided in white text below. You can double click into this cell to see what it says.\n",
        "\n",
        "\n",
        "<font color='white'>\n",
        "We can use indexing here. For example, \"...value_counts()[0:50]\" would select the top 50 actors from index 0 (the top actor) to index 49 (the 50th top actor). For us, 50 will still be too many, so the game is to try out different numbers and adjust the plot until it looks good.\n",
        "</font>"
      ],
      "metadata": {
        "id": "BFfHRyEPwKQA"
      }
    },
    {
      "cell_type": "code",
      "source": [],
      "metadata": {
        "id": "wRRPkDApOCKl"
      },
      "execution_count": null,
      "outputs": []
    },
    {
      "cell_type": "markdown",
      "source": [
        "#### **Problem #4**\n",
        "In the following problems, we will visualize the relationship between `Gross` and other variables to try to determine what has the strongest affect on this variable.\n",
        "\n",
        "Let's start with the `IMDB Rating`. See if there's any correlations (relationships/trends) by making a graph of these two variables. Make sure your graph looks as nice as possible!"
      ],
      "metadata": {
        "id": "jrEwStwt-C8O"
      }
    },
    {
      "cell_type": "code",
      "source": [],
      "metadata": {
        "id": "VdpQQGxA-C8O"
      },
      "execution_count": null,
      "outputs": []
    },
    {
      "cell_type": "markdown",
      "source": [
        "#### **Problem #5**\n",
        "At least amongst these top rated movies, the imdb rating does not seem to have much of a relationship with gross. Let's explore `Runtime` now to see there's any correlation.\n",
        "\n",
        "Graph `Runtime` and `Gross` below."
      ],
      "metadata": {
        "id": "vW2RnAJg-1W6"
      }
    },
    {
      "cell_type": "code",
      "source": [],
      "metadata": {
        "id": "HDeYWQLm-1W7"
      },
      "execution_count": null,
      "outputs": []
    },
    {
      "cell_type": "markdown",
      "source": [
        "#### **Problem #6**\n",
        "\n",
        "Let's now explore the relationship between `Gross` and `Genre`. This will require some slightly advanced code in the beginning, which has been provided to you below. \n",
        "\n",
        "**Please run this code now before proceeding.**\n"
      ],
      "metadata": {
        "id": "nsCYVKY8r-CV"
      }
    },
    {
      "cell_type": "code",
      "source": [
        "# create our initial lists\n",
        "genres = movies_df['Genre'].unique()\n",
        "means = []\n",
        "medians = []\n",
        "\n",
        "# for each genre, find the Gross data (for all movies in that genre)\n",
        "# calculate the mean and median and store these values in their respective lists\n",
        "for genre in genres:\n",
        "  gross = movies_df[movies_df['Genre'] == genre]['Gross']\n",
        "  means += [gross.mean()]\n",
        "  medians += [gross.median()]"
      ],
      "metadata": {
        "id": "5Dx8tT9Ir-CW"
      },
      "execution_count": null,
      "outputs": []
    },
    {
      "cell_type": "markdown",
      "source": [
        "\n",
        "Do not worry about understanding this code, but know we now have the following lists of data:\n",
        "- `genres` is a list of genres ordered by how often they appear in the original data. Note that we only used `.unique()` to create this.\n",
        "- `means` is a list of the mean amount grossed for each genre in the same order as the list above.\n",
        "- `medians` is a list of the median amount grossed for each genre in the same order as the list above.\n",
        "\n",
        "<br>\n",
        "\n",
        "Complete the 3 tasks below to see what kind of correlation exists between `Genre` and `Gross`.\n",
        "<br>\n",
        "\n",
        "**Task 1**: Visualize the relationship between `genres` and `means`."
      ],
      "metadata": {
        "id": "vEOIg_w1y1pV"
      }
    },
    {
      "cell_type": "code",
      "source": [],
      "metadata": {
        "id": "_GIhe-cdzo8c"
      },
      "execution_count": null,
      "outputs": []
    },
    {
      "cell_type": "markdown",
      "source": [
        "**Task 2**: Visualize the relationship between `genres` and `medians`."
      ],
      "metadata": {
        "id": "U4nO9WIJzpiy"
      }
    },
    {
      "cell_type": "code",
      "source": [],
      "metadata": {
        "id": "XQP0aR0czvul"
      },
      "execution_count": null,
      "outputs": []
    },
    {
      "cell_type": "markdown",
      "source": [
        "**Task 3**:\n",
        "\n",
        "1. These graphs should have some noticeable differences. List 1 - 2 observations about how these graphs are different. For instance, you could mention if there are any genres that change dramatically or if the ranking of the how profitable different genres are changes at all.\n",
        "\n",
        "\n",
        "\n",
        "2. What is the most profitable genre of movie to make? \n",
        "\n",
        "\n",
        "3. If an industry executive is interested in making the most money from a movie, what are the top 3 genres they should focus on?"
      ],
      "metadata": {
        "id": "sJ5UstDHzwQB"
      }
    },
    {
      "cell_type": "markdown",
      "source": [
        "Write your answer below by double clicking on this cell:\n",
        "\n",
        "1. \n",
        "\n",
        "\n",
        "\n",
        "2. \n",
        "\n",
        "\n",
        "\n",
        "3. \n",
        "\n"
      ],
      "metadata": {
        "id": "rAjJB3ee1h3k"
      }
    },
    {
      "cell_type": "markdown",
      "source": [
        "#### **Problem #7**\n",
        "For the following problems, we are going to see how the movie intdustry has changed over the years. Specifically, we will explore correlations with the `Released_Year` variable.\n",
        "\n",
        "To start, let's visualize `Released_Year` versus `Runtime`. Go ahead and do this below."
      ],
      "metadata": {
        "id": "KHXgMFNn5T0Y"
      }
    },
    {
      "cell_type": "code",
      "source": [],
      "metadata": {
        "id": "ddzRn6Ji5T0Z"
      },
      "execution_count": null,
      "outputs": []
    },
    {
      "cell_type": "markdown",
      "source": [
        "#### **Problem #8**\n",
        "\n",
        "Now, let's visualize `Released_Year` versus `Gross`. Just like above, it will be helpful to have some extra data to look at, which is processed in the code below.\n",
        "\n",
        "**Please run this code now before proceeding.**"
      ],
      "metadata": {
        "id": "3C9oG2ACPOP0"
      }
    },
    {
      "cell_type": "code",
      "source": [
        "# create our initial lists\n",
        "years = movies_df['Released_Year'].unique()\n",
        "gross_medians = []\n",
        "gross_sums = []\n",
        "\n",
        "runtime_medians = []\n",
        "runtime_sums = []\n",
        "\n",
        "# for each genre, find the Gross data (for all movies in that genre)\n",
        "# calculate the mean and median and store these values in their respective lists\n",
        "for year in years:\n",
        "  gross_medians += [movies_df[movies_df['Released_Year'] == year]['Gross'].median()]\n",
        "  gross_sums += [movies_df[movies_df['Released_Year'] == year]['Gross'].sum()]\n",
        "\n",
        "  runtime_medians += [movies_df[movies_df['Released_Year'] == year]['Runtime'].median()]\n",
        "  runtime_sums += [movies_df[movies_df['Released_Year'] == year]['Runtime'].sum()]"
      ],
      "metadata": {
        "id": "q7uF00pL6DVA"
      },
      "execution_count": null,
      "outputs": []
    },
    {
      "cell_type": "markdown",
      "source": [
        "\n",
        "Do not worry about understanding this code, but know we now have the following lists of data:\n",
        "- `years` is a list of the years of movies released in our dataset.\n",
        "- `gross_medians` is a list of the median amount grossed per year.\n",
        "- `gross_sums` is a list of the total amount grosses per year.\n",
        "\n",
        "<br>\n",
        "\n",
        "Complete the 4 tasks below to see what kind of correlation exists between `Released_Year` and `Gross`.\n",
        "<br>\n",
        "\n",
        "**Task 1**: Visualize the relationship between `Released_Year` and `Gross`. NOTE: This does not require any of our specially created lists yet!"
      ],
      "metadata": {
        "id": "1D-aYfYz9Udu"
      }
    },
    {
      "cell_type": "code",
      "source": [],
      "metadata": {
        "id": "X0f6qpQCPOP1"
      },
      "execution_count": null,
      "outputs": []
    },
    {
      "cell_type": "markdown",
      "source": [
        "**Task 2**: Visualize the relationship between `Released_Year` and `gross_medians`."
      ],
      "metadata": {
        "id": "rD4s2PEO92il"
      }
    },
    {
      "cell_type": "code",
      "source": [],
      "metadata": {
        "id": "mJYjf8QR9_Ds"
      },
      "execution_count": null,
      "outputs": []
    },
    {
      "cell_type": "markdown",
      "source": [
        "**Task 3**: Visualize the relationship between `Released_Year` and `gross_sums`."
      ],
      "metadata": {
        "id": "QxYT4Az29_pJ"
      }
    },
    {
      "cell_type": "code",
      "source": [],
      "metadata": {
        "id": "INFCAMPL-ETx"
      },
      "execution_count": null,
      "outputs": []
    },
    {
      "cell_type": "markdown",
      "source": [
        "**Task 4**: Answer the following questions:\n",
        "\n",
        "1. Which of the 3 graphs shows the clearest trend overall. What is this trend?\n",
        "\n",
        "\n",
        "2. How do the other two graphs compare to this one? Specifically, do they support this trend or not?\n",
        "\n",
        "\n",
        "3. Is there any other variable not provided by this dataset that could be important to consider when looking at these particular graphs? How might this variable affect the story being told by these graphs?"
      ],
      "metadata": {
        "id": "ZtB0T2qH-E0z"
      }
    },
    {
      "cell_type": "markdown",
      "source": [
        "## **[Optional] Challenge Problems**\n",
        "\n",
        "The following problems involve some more challenging content. If you have extra time or want to come back to these later, feel free to! However, really focus on understanding the problems above first.\n",
        "\n",
        "---"
      ],
      "metadata": {
        "id": "e0BZmMDTcF1s"
      }
    },
    {
      "cell_type": "markdown",
      "source": [
        "#### **Problem #1**\n",
        "Try visualizing `Gross`, `Runtime`, and `Released_Year` on the same graph now. Think about how you can make it clear which points belong to which category of data. A legend can be very helpful for this.\n",
        "\n",
        "\n",
        "Take a moment to consider why this is or is not a good visualization and what information we can get from it."
      ],
      "metadata": {
        "id": "esBCgToo_gP6"
      }
    },
    {
      "cell_type": "code",
      "source": [],
      "metadata": {
        "id": "0ypJC-rX_gP7"
      },
      "execution_count": null,
      "outputs": []
    },
    {
      "cell_type": "markdown",
      "source": [
        "#### **Problem #2**\n",
        "That was likely not a very good visualization. The data just does not work well that way. Let's see if combining the `Gross` and `Runtime` data together helps.\n",
        "\n",
        "In particular, create a new column in the data frame named `Gross_per_min` that stores the gross per minute of a movie. It's not the most obviously helpful quantity, but it can't hurt to try!\n",
        "\n",
        "Then, visualize the relationship between this new column and `Released_Year`.\n",
        "\n",
        "Is this any better?"
      ],
      "metadata": {
        "id": "MuquZm3OBlNa"
      }
    },
    {
      "cell_type": "code",
      "source": [
        "gross_per_min = movies_df['Gross'] / # complete the code from here\n"
      ],
      "metadata": {
        "id": "aC5qON21BlNb"
      },
      "execution_count": null,
      "outputs": []
    },
    {
      "cell_type": "markdown",
      "source": [
        "#### **Problem #3**\n",
        "Let's look at how the number movies released in a year has changed over time.\n",
        "\n",
        "Since we're looking at a large range of years, let's also make sure the figure size is relatively large. Consider whether we want the graph to be really wide, really tall, or both?"
      ],
      "metadata": {
        "id": "EIzgY2znDyKL"
      }
    },
    {
      "cell_type": "code",
      "source": [],
      "metadata": {
        "id": "GcLX1oxiDyKM"
      },
      "execution_count": null,
      "outputs": []
    },
    {
      "cell_type": "markdown",
      "source": [
        "#### **Problem #4**\n",
        "Oftentime, we are interested in looking at only the data that falls into a given category or within a certain range of values. For instance, we may want to look at only the movies released from 2000 onward or only dramas. In this problem and the following ones, we will look at only the dramas!\n",
        "\n",
        "**Syntax**:\n",
        "\n",
        "```python\n",
        "drama_df = movies_df.loc[movies_df[\"Genre\"] == \"Drama\"]\n",
        "```\n",
        "\n",
        "The part inside `movies_df.loc[...]` can be any comparison about columns and values in our data frame.\n",
        "\n",
        "Complete the code below by visualizing the number of dramas released each year over time."
      ],
      "metadata": {
        "id": "tHJbpHShGlKs"
      }
    },
    {
      "cell_type": "code",
      "source": [
        "drama_df = movies_df.loc[movies_df[\"Genre\"] == \"Drama\"]"
      ],
      "metadata": {
        "id": "v7Ws_X4ZGlKt"
      },
      "execution_count": null,
      "outputs": []
    },
    {
      "cell_type": "markdown",
      "source": [
        "#### **Problem #5**\n",
        "Now combine your answers for the previous two problems into one graph.\n",
        "\n",
        "Consider how you can make sure the two datasets stand out from each other. A legend is a very good start, but we will probably need more than that.\n",
        "\n",
        "<br>\n",
        "\n",
        "\n",
        "**Hint**\n",
        "\n",
        "If you are stuck and want a hint, this is provided in white text below. You can double click into this cell to see what it says.\n",
        "\n",
        "<font color='white'>\n",
        "We can: \n",
        "- change the colors of the two datasets\n",
        "- change the marker style of the two datasets\n",
        "- make the plot of all movies very transparent (ex: \"alpha = 0.25\") to make sure these larger bars don't obscure the smaller ones\n",
        "</font>"
      ],
      "metadata": {
        "id": "yGSddkMZIAPB"
      }
    },
    {
      "cell_type": "code",
      "source": [],
      "metadata": {
        "id": "qUxrVqFsIAPC"
      },
      "execution_count": null,
      "outputs": []
    },
    {
      "cell_type": "markdown",
      "source": [
        "---\n",
        "\n",
        "# Copyright 2022 The Coding School, All rights reserved"
      ],
      "metadata": {
        "id": "rUX-vIqrJ1bd"
      }
    }
  ]
}