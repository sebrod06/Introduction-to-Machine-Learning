{
  "cells": [
    {
      "cell_type": "markdown",
      "metadata": {
        "id": "_iaXDd2j9axp"
      },
      "source": [
        "# **Lab #5: K-Nearest Neighbors**\n",
        "---\n",
        "\n",
        "\n",
        "## **Description**\n",
        "The KNN Algorithm is a **Supervised Learning** classification algorithm.\n",
        "\n",
        "In the practice section you will learn how to use **KNN* to predict the type of iris flower based on its measurements.\n",
        "\n",
        "Your indpendent task in this lab you will be using the **KNN** model to classify the hit songs on Spotify from 2000 - 2019 according to whether they were in the top or bottom 50% of hits.\n",
        "\n",
        "\n",
        "<br>\n",
        "\n",
        "## **Cheat Sheet**\n",
        "\n",
        "[K-Nearest Neighbors with sklearn](https://docs.google.com/document/d/1kggnJfxf3RS9xyJ-g0VOqV1IWHqfmgs4H6rLVkopU1k/edit?usp=sharing)"
      ]
    },
    {
      "cell_type": "markdown",
      "metadata": {
        "id": "3f6t0yYBhCsm"
      },
      "source": [
        "## **Part 1: Practice Together**\n",
        "---"
      ]
    },
    {
      "cell_type": "markdown",
      "metadata": {
        "id": "oZZT5pJqia_E"
      },
      "source": [
        "### **Step \\#0: Import libraries**\n",
        "---"
      ]
    },
    {
      "cell_type": "code",
      "execution_count": null,
      "metadata": {
        "id": "J697Qi0eizBL"
      },
      "outputs": [],
      "source": [
        "import pandas as pd\n",
        "import numpy as np\n",
        "import matplotlib.pyplot as plt\n",
        "from sklearn import datasets, model_selection, metrics"
      ]
    },
    {
      "cell_type": "markdown",
      "metadata": {
        "id": "4hSqHdxjid5M"
      },
      "source": [
        "### **Step \\#1: Load in data**\n",
        "---\n",
        "\n",
        "The following dataset is the classic iris dataset that contains information about different types of iris flowers. It has some very nice structure that we can use to see KNN in action!\n",
        "\n",
        "<br>\n",
        "**Side note**: We will be categorizing by `Type` in this case. The numbers correspond to these types of irises:\n",
        "\n",
        "0 = Iris Setosa\n",
        "\n",
        "1 = Iris Versicolour\n",
        "\n",
        "2 = Iris Virginica"
      ]
    },
    {
      "cell_type": "code",
      "execution_count": null,
      "metadata": {
        "id": "3X4RLiyYizVx",
        "colab": {
          "base_uri": "https://localhost:8080/",
          "height": 424
        },
        "outputId": "bf2eba03-c546-4555-f3a4-425d40464f4c"
      },
      "outputs": [
        {
          "output_type": "execute_result",
          "data": {
            "text/plain": [
              "     sepal length (cm)  sepal width (cm)  petal length (cm)  petal width (cm)  \\\n",
              "0                  5.1               3.5                1.4               0.2   \n",
              "1                  4.9               3.0                1.4               0.2   \n",
              "2                  4.7               3.2                1.3               0.2   \n",
              "3                  4.6               3.1                1.5               0.2   \n",
              "4                  5.0               3.6                1.4               0.2   \n",
              "..                 ...               ...                ...               ...   \n",
              "145                6.7               3.0                5.2               2.3   \n",
              "146                6.3               2.5                5.0               1.9   \n",
              "147                6.5               3.0                5.2               2.0   \n",
              "148                6.2               3.4                5.4               2.3   \n",
              "149                5.9               3.0                5.1               1.8   \n",
              "\n",
              "     Type  \n",
              "0       0  \n",
              "1       0  \n",
              "2       0  \n",
              "3       0  \n",
              "4       0  \n",
              "..    ...  \n",
              "145     2  \n",
              "146     2  \n",
              "147     2  \n",
              "148     2  \n",
              "149     2  \n",
              "\n",
              "[150 rows x 5 columns]"
            ],
            "text/html": [
              "\n",
              "  <div id=\"df-63dda870-e9bd-4fb4-b761-dc4ac7172d66\">\n",
              "    <div class=\"colab-df-container\">\n",
              "      <div>\n",
              "<style scoped>\n",
              "    .dataframe tbody tr th:only-of-type {\n",
              "        vertical-align: middle;\n",
              "    }\n",
              "\n",
              "    .dataframe tbody tr th {\n",
              "        vertical-align: top;\n",
              "    }\n",
              "\n",
              "    .dataframe thead th {\n",
              "        text-align: right;\n",
              "    }\n",
              "</style>\n",
              "<table border=\"1\" class=\"dataframe\">\n",
              "  <thead>\n",
              "    <tr style=\"text-align: right;\">\n",
              "      <th></th>\n",
              "      <th>sepal length (cm)</th>\n",
              "      <th>sepal width (cm)</th>\n",
              "      <th>petal length (cm)</th>\n",
              "      <th>petal width (cm)</th>\n",
              "      <th>Type</th>\n",
              "    </tr>\n",
              "  </thead>\n",
              "  <tbody>\n",
              "    <tr>\n",
              "      <th>0</th>\n",
              "      <td>5.1</td>\n",
              "      <td>3.5</td>\n",
              "      <td>1.4</td>\n",
              "      <td>0.2</td>\n",
              "      <td>0</td>\n",
              "    </tr>\n",
              "    <tr>\n",
              "      <th>1</th>\n",
              "      <td>4.9</td>\n",
              "      <td>3.0</td>\n",
              "      <td>1.4</td>\n",
              "      <td>0.2</td>\n",
              "      <td>0</td>\n",
              "    </tr>\n",
              "    <tr>\n",
              "      <th>2</th>\n",
              "      <td>4.7</td>\n",
              "      <td>3.2</td>\n",
              "      <td>1.3</td>\n",
              "      <td>0.2</td>\n",
              "      <td>0</td>\n",
              "    </tr>\n",
              "    <tr>\n",
              "      <th>3</th>\n",
              "      <td>4.6</td>\n",
              "      <td>3.1</td>\n",
              "      <td>1.5</td>\n",
              "      <td>0.2</td>\n",
              "      <td>0</td>\n",
              "    </tr>\n",
              "    <tr>\n",
              "      <th>4</th>\n",
              "      <td>5.0</td>\n",
              "      <td>3.6</td>\n",
              "      <td>1.4</td>\n",
              "      <td>0.2</td>\n",
              "      <td>0</td>\n",
              "    </tr>\n",
              "    <tr>\n",
              "      <th>...</th>\n",
              "      <td>...</td>\n",
              "      <td>...</td>\n",
              "      <td>...</td>\n",
              "      <td>...</td>\n",
              "      <td>...</td>\n",
              "    </tr>\n",
              "    <tr>\n",
              "      <th>145</th>\n",
              "      <td>6.7</td>\n",
              "      <td>3.0</td>\n",
              "      <td>5.2</td>\n",
              "      <td>2.3</td>\n",
              "      <td>2</td>\n",
              "    </tr>\n",
              "    <tr>\n",
              "      <th>146</th>\n",
              "      <td>6.3</td>\n",
              "      <td>2.5</td>\n",
              "      <td>5.0</td>\n",
              "      <td>1.9</td>\n",
              "      <td>2</td>\n",
              "    </tr>\n",
              "    <tr>\n",
              "      <th>147</th>\n",
              "      <td>6.5</td>\n",
              "      <td>3.0</td>\n",
              "      <td>5.2</td>\n",
              "      <td>2.0</td>\n",
              "      <td>2</td>\n",
              "    </tr>\n",
              "    <tr>\n",
              "      <th>148</th>\n",
              "      <td>6.2</td>\n",
              "      <td>3.4</td>\n",
              "      <td>5.4</td>\n",
              "      <td>2.3</td>\n",
              "      <td>2</td>\n",
              "    </tr>\n",
              "    <tr>\n",
              "      <th>149</th>\n",
              "      <td>5.9</td>\n",
              "      <td>3.0</td>\n",
              "      <td>5.1</td>\n",
              "      <td>1.8</td>\n",
              "      <td>2</td>\n",
              "    </tr>\n",
              "  </tbody>\n",
              "</table>\n",
              "<p>150 rows × 5 columns</p>\n",
              "</div>\n",
              "      <button class=\"colab-df-convert\" onclick=\"convertToInteractive('df-63dda870-e9bd-4fb4-b761-dc4ac7172d66')\"\n",
              "              title=\"Convert this dataframe to an interactive table.\"\n",
              "              style=\"display:none;\">\n",
              "        \n",
              "  <svg xmlns=\"http://www.w3.org/2000/svg\" height=\"24px\"viewBox=\"0 0 24 24\"\n",
              "       width=\"24px\">\n",
              "    <path d=\"M0 0h24v24H0V0z\" fill=\"none\"/>\n",
              "    <path d=\"M18.56 5.44l.94 2.06.94-2.06 2.06-.94-2.06-.94-.94-2.06-.94 2.06-2.06.94zm-11 1L8.5 8.5l.94-2.06 2.06-.94-2.06-.94L8.5 2.5l-.94 2.06-2.06.94zm10 10l.94 2.06.94-2.06 2.06-.94-2.06-.94-.94-2.06-.94 2.06-2.06.94z\"/><path d=\"M17.41 7.96l-1.37-1.37c-.4-.4-.92-.59-1.43-.59-.52 0-1.04.2-1.43.59L10.3 9.45l-7.72 7.72c-.78.78-.78 2.05 0 2.83L4 21.41c.39.39.9.59 1.41.59.51 0 1.02-.2 1.41-.59l7.78-7.78 2.81-2.81c.8-.78.8-2.07 0-2.86zM5.41 20L4 18.59l7.72-7.72 1.47 1.35L5.41 20z\"/>\n",
              "  </svg>\n",
              "      </button>\n",
              "      \n",
              "  <style>\n",
              "    .colab-df-container {\n",
              "      display:flex;\n",
              "      flex-wrap:wrap;\n",
              "      gap: 12px;\n",
              "    }\n",
              "\n",
              "    .colab-df-convert {\n",
              "      background-color: #E8F0FE;\n",
              "      border: none;\n",
              "      border-radius: 50%;\n",
              "      cursor: pointer;\n",
              "      display: none;\n",
              "      fill: #1967D2;\n",
              "      height: 32px;\n",
              "      padding: 0 0 0 0;\n",
              "      width: 32px;\n",
              "    }\n",
              "\n",
              "    .colab-df-convert:hover {\n",
              "      background-color: #E2EBFA;\n",
              "      box-shadow: 0px 1px 2px rgba(60, 64, 67, 0.3), 0px 1px 3px 1px rgba(60, 64, 67, 0.15);\n",
              "      fill: #174EA6;\n",
              "    }\n",
              "\n",
              "    [theme=dark] .colab-df-convert {\n",
              "      background-color: #3B4455;\n",
              "      fill: #D2E3FC;\n",
              "    }\n",
              "\n",
              "    [theme=dark] .colab-df-convert:hover {\n",
              "      background-color: #434B5C;\n",
              "      box-shadow: 0px 1px 3px 1px rgba(0, 0, 0, 0.15);\n",
              "      filter: drop-shadow(0px 1px 2px rgba(0, 0, 0, 0.3));\n",
              "      fill: #FFFFFF;\n",
              "    }\n",
              "  </style>\n",
              "\n",
              "      <script>\n",
              "        const buttonEl =\n",
              "          document.querySelector('#df-63dda870-e9bd-4fb4-b761-dc4ac7172d66 button.colab-df-convert');\n",
              "        buttonEl.style.display =\n",
              "          google.colab.kernel.accessAllowed ? 'block' : 'none';\n",
              "\n",
              "        async function convertToInteractive(key) {\n",
              "          const element = document.querySelector('#df-63dda870-e9bd-4fb4-b761-dc4ac7172d66');\n",
              "          const dataTable =\n",
              "            await google.colab.kernel.invokeFunction('convertToInteractive',\n",
              "                                                     [key], {});\n",
              "          if (!dataTable) return;\n",
              "\n",
              "          const docLinkHtml = 'Like what you see? Visit the ' +\n",
              "            '<a target=\"_blank\" href=https://colab.research.google.com/notebooks/data_table.ipynb>data table notebook</a>'\n",
              "            + ' to learn more about interactive tables.';\n",
              "          element.innerHTML = '';\n",
              "          dataTable['output_type'] = 'display_data';\n",
              "          await google.colab.output.renderOutput(dataTable, element);\n",
              "          const docLink = document.createElement('div');\n",
              "          docLink.innerHTML = docLinkHtml;\n",
              "          element.appendChild(docLink);\n",
              "        }\n",
              "      </script>\n",
              "    </div>\n",
              "  </div>\n",
              "  "
            ]
          },
          "metadata": {},
          "execution_count": 2
        }
      ],
      "source": [
        "iris_dataset = datasets.load_iris()\n",
        "df = pd.DataFrame(data=iris_dataset.data, columns=iris_dataset.feature_names)\n",
        "df['Type'] = iris_dataset.target\n",
        "df"
      ]
    },
    {
      "cell_type": "markdown",
      "metadata": {
        "id": "Lf5OrHhNifXL"
      },
      "source": [
        "### **Step \\#2: Decide which features to base our classification on**\n",
        "---\n",
        "##### *Decide which columns/variables you want to use to predict the class of flower*\n",
        "\n",
        "\n",
        "To simplify our **KNN** fitting we will just use two input variables: `petal length (cm)`\tand `petal width (cm)`.\n",
        "\n",
        "Since we are building a classifier it can be useful to look at some of the variables and color the scatter plot depending on the value of the target.\n",
        "\n",
        "Let's visualize this data in the cell below to see if there's any obvious correlation betwen the petal length, petal width, and the class of iris:"
      ]
    },
    {
      "cell_type": "code",
      "execution_count": null,
      "metadata": {
        "id": "uU0u-IaDizsR",
        "colab": {
          "base_uri": "https://localhost:8080/",
          "height": 404
        },
        "outputId": "a13fe024-ab71-4014-9f5a-fb7a352acd18"
      },
      "outputs": [
        {
          "output_type": "display_data",
          "data": {
            "text/plain": [
              "<Figure size 720x432 with 1 Axes>"
            ],
            "image/png": "[encoded data removed]"
          },
          "metadata": {
            "needs_background": "light"
          }
        }
      ],
      "source": [
        "petal_length = df[\"petal length (cm)\"]\n",
        "petal_width = df[\"petal width (cm)\"]\n",
        "iris_class = df[\"Type\"]\n",
        "\n",
        "plt.figure(figsize=(10,6))\n",
        "plt.scatter(petal_length, petal_width, c = iris_class)\n",
        "\n",
        "plt.title(\"Petal length vs. Petal Width colored by Iris Type\")\n",
        "plt.xlabel(\"petal length (cm)\")\n",
        "plt.ylabel(\"petal width (cm)\")\n",
        "\n",
        "plt.show()"
      ]
    },
    {
      "cell_type": "markdown",
      "metadata": {
        "id": "uF-s6K6IilkM"
      },
      "source": [
        "### **Step \\#3: Split data into training and testing data**\n",
        "---\n"
      ]
    },
    {
      "cell_type": "code",
      "execution_count": null,
      "metadata": {
        "id": "hg_kivmJi0hA"
      },
      "outputs": [],
      "source": [
        "inputs = df[[\"petal length (cm)\",\"petal width (cm)\"]]\n",
        "output = df[[\"Type\"]]\n",
        "\n",
        "\n",
        "X_train, X_test, y_train, y_test = model_selection.train_test_split(inputs, output, test_size=0.2, random_state=42)"
      ]
    },
    {
      "cell_type": "markdown",
      "metadata": {
        "id": "db-f6jRvio38"
      },
      "source": [
        "### **Step #4: Import the ML algorithm from sklearn**\n",
        "---\n",
        " "
      ]
    },
    {
      "cell_type": "code",
      "execution_count": null,
      "metadata": {
        "id": "aZPn1IAIixnU"
      },
      "outputs": [],
      "source": [
        "# import the KNN algorithm\n",
        "from sklearn.neighbors import KNeighborsClassifier"
      ]
    },
    {
      "cell_type": "markdown",
      "metadata": {
        "id": "llzcCUibmVGM"
      },
      "source": [
        "### **Step \\#5: Initialize our model and set parameters**\n",
        "---\n",
        "\n",
        "Remember to set the *hyperparameter* `n_neighbors`!"
      ]
    },
    {
      "cell_type": "code",
      "execution_count": null,
      "metadata": {
        "id": "Xr0JvwcgDYKr"
      },
      "outputs": [],
      "source": [
        "# initialize\n",
        "model = KNeighborsClassifier(n_neighbors = 3)"
      ]
    },
    {
      "cell_type": "markdown",
      "metadata": {
        "id": "5o8GxzmYDdv3"
      },
      "source": [
        "### **Step \\#6: Fit model on training set**\n",
        "---"
      ]
    },
    {
      "cell_type": "code",
      "execution_count": null,
      "metadata": {
        "id": "pY5PiwS8gnZH",
        "colab": {
          "base_uri": "https://localhost:8080/"
        },
        "outputId": "b5532660-6cac-42d9-b29a-7338837ad2ff"
      },
      "outputs": [
        {
          "output_type": "stream",
          "name": "stderr",
          "text": [
            "/usr/local/lib/python3.7/dist-packages/sklearn/neighbors/_classification.py:198: DataConversionWarning: A column-vector y was passed when a 1d array was expected. Please change the shape of y to (n_samples,), for example using ravel().\n",
            "  return self._fit(X, y)\n"
          ]
        },
        {
          "output_type": "execute_result",
          "data": {
            "text/plain": [
              "KNeighborsClassifier(n_neighbors=3)"
            ]
          },
          "metadata": {},
          "execution_count": 7
        }
      ],
      "source": [
        "# fit\n",
        "model.fit(X_train, y_train)"
      ]
    },
    {
      "cell_type": "markdown",
      "metadata": {
        "id": "UqhuMqqCQy59"
      },
      "source": [
        "### **Step \\#7: Test the model**\n",
        "---\n"
      ]
    },
    {
      "cell_type": "code",
      "execution_count": null,
      "metadata": {
        "id": "dMEVWZ33DcSh",
        "colab": {
          "base_uri": "https://localhost:8080/",
          "height": 404
        },
        "outputId": "1cb1e43d-7c83-4ad9-8923-ea1954320a6f"
      },
      "outputs": [
        {
          "output_type": "display_data",
          "data": {
            "text/plain": [
              "<Figure size 720x432 with 1 Axes>"
            ],
            "image/png": "[encoded data removed]"
          },
          "metadata": {
            "needs_background": "light"
          }
        }
      ],
      "source": [
        "# predict\n",
        "pred = model.predict(X_test)\n",
        "\n",
        "\n",
        "# visualize these predictions\n",
        "petal_length = X_test['petal length (cm)']\n",
        "petal_width = X_test['petal width (cm)']\n",
        "iris_class = pred\n",
        "\n",
        "plt.figure(figsize=(10,6))\n",
        "plt.scatter(petal_length, petal_width, c = iris_class)\n",
        "\n",
        "plt.title(\"Petal length vs. Petal Width colored by Iris Type\")\n",
        "plt.xlabel(\"petal length (cm)\")\n",
        "plt.ylabel(\"petal width (cm)\")\n",
        "\n",
        "plt.show()"
      ]
    },
    {
      "cell_type": "markdown",
      "metadata": {
        "id": "M5HulLUJaW4_"
      },
      "source": [
        "### **Step \\#8: Make predictions**\n",
        "---\n"
      ]
    },
    {
      "cell_type": "markdown",
      "source": [
        "1. We are given an iris with petal length `1.9` cm and petal width `0.25` cm. What type of iris does your model predict this is?"
      ],
      "metadata": {
        "id": "R9xlEZO3klwe"
      }
    },
    {
      "cell_type": "code",
      "source": [
        "mystery_iris = pd.DataFrame([[1.9, 0.25]], columns = [\"petal length (cm)\", \"petal width (cm)\"])\n",
        "\n",
        "prediction = model.predict(mystery_iris)\n",
        "\n",
        "print(prediction)"
      ],
      "metadata": {
        "id": "E1h3GyVJkksp",
        "colab": {
          "base_uri": "https://localhost:8080/"
        },
        "outputId": "38957407-53ef-4c35-d208-547df2a16121"
      },
      "execution_count": null,
      "outputs": [
        {
          "output_type": "stream",
          "name": "stdout",
          "text": [
            "[0]\n"
          ]
        }
      ]
    },
    {
      "cell_type": "markdown",
      "source": [
        "2. Now, we are given an iris with petal length `6.5` cm and petal width `2.1` cm. What type of iris does your model predict this is?"
      ],
      "metadata": {
        "id": "WArXL_G7cDSz"
      }
    },
    {
      "cell_type": "code",
      "source": [
        "mystery_iris = pd.DataFrame([[6.5, 2.1]], columns = [\"petal length (cm)\", \"petal width (cm)\"])\n",
        "\n",
        "prediction = model.predict(mystery_iris)\n",
        "\n",
        "print(prediction)"
      ],
      "metadata": {
        "id": "P3lwiJ8ccDS_",
        "colab": {
          "base_uri": "https://localhost:8080/"
        },
        "outputId": "9404f6ed-cf11-4969-87cb-65ad2d6f387d"
      },
      "execution_count": null,
      "outputs": [
        {
          "output_type": "stream",
          "name": "stdout",
          "text": [
            "[2]\n"
          ]
        }
      ]
    },
    {
      "cell_type": "markdown",
      "source": [
        "3. Lastly, we are given an iris with petal length `2.5` cm and petal width `0.9` cm. What type of iris does your model predict this is?"
      ],
      "metadata": {
        "id": "YKAQtx87cOvK"
      }
    },
    {
      "cell_type": "code",
      "source": [
        "mystery_iris = pd.DataFrame([[2.5, 0.9]], columns = [\"petal length (cm)\", \"petal width (cm)\"])\n",
        "\n",
        "prediction = model.predict(mystery_iris)\n",
        "\n",
        "print(prediction)"
      ],
      "metadata": {
        "id": "nutTRIsLcOvL",
        "colab": {
          "base_uri": "https://localhost:8080/"
        },
        "outputId": "86e9a0d7-3665-4d42-e4b5-349cc94a7c54"
      },
      "execution_count": null,
      "outputs": [
        {
          "output_type": "stream",
          "name": "stdout",
          "text": [
            "[1]\n"
          ]
        }
      ]
    },
    {
      "cell_type": "markdown",
      "metadata": {
        "id": "mIzueNcpcBQK"
      },
      "source": [
        "## **Part 2: Independent Work**\n",
        "---\n",
        "\n",
        "The following dataset describes the top hits of 2000 - 2019 on Spotify. There is a lot of information for each song such as the tempo, key, energy, loudness, and more.\n",
        "\n",
        "One piece of information about each song is whether is was in the top or bottom half of these hits. This is marked by the `top half` column. If a song was in the top half of all these hits then `top half = 1`, otherwise `top half = 0`. `top half` will be the target for your KNN model in this part.\n",
        "\n",
        "The variables you will use to classify a song as a Top Half hit or not will be the `key` and `energy` of the song.\n",
        "\n",
        "Your code for this part will look very similar to the code we wrote above. Make sure to look at this as much as you need!"
      ]
    },
    {
      "cell_type": "markdown",
      "metadata": {
        "id": "XyOsLj64cBQU"
      },
      "source": [
        "### **Step \\#0: Import libraries**\n",
        "---"
      ]
    },
    {
      "cell_type": "code",
      "execution_count": null,
      "metadata": {
        "id": "BW5h-T1kcBQU"
      },
      "outputs": [],
      "source": [
        "import pandas as pd\n",
        "import numpy as np\n",
        "import matplotlib.pyplot as plt\n",
        "from sklearn import datasets, model_selection, metrics"
      ]
    },
    {
      "cell_type": "markdown",
      "metadata": {
        "id": "tPFT-jRpcBQU"
      },
      "source": [
        "### **Step \\#1: Load in data**\n",
        "---\n",
        "\n",
        "**Run the code below to load in the data. Take a moment to familiarize yourself with the general layout.**"
      ]
    },
    {
      "cell_type": "code",
      "source": [
        "url = \"https://docs.google.com/spreadsheets/d/e/2PACX-1vQJ9UIsI2j8vPnefdBj6GIrUGiDMsF5HRVAg4rsfaZqX5fAoTGLGydLvPXPQvE5ZSo9_aet1SC5UQji/pub?gid=1132556054&single=true&output=csv\"\n",
        "spotify_df = pd.read_csv(url)\n",
        "\n",
        "spotify_df.head()"
      ],
      "metadata": {
        "id": "g1KSiUQRdpDP",
        "colab": {
          "base_uri": "https://localhost:8080/",
          "height": 409
        },
        "outputId": "06726c45-9c01-42eb-c8e5-1ae324af7956"
      },
      "execution_count": null,
      "outputs": [
        {
          "output_type": "execute_result",
          "data": {
            "text/plain": [
              "           artist                    song  duration_ms  year  top half  \\\n",
              "0  Britney Spears  Oops!...I Did It Again       211160  2000         1   \n",
              "1       blink-182    All The Small Things       167066  1999         1   \n",
              "2      Faith Hill                 Breathe       250546  1999         1   \n",
              "3        Bon Jovi            It's My Life       224493  2000         1   \n",
              "4          *NSYNC             Bye Bye Bye       200560  2000         1   \n",
              "\n",
              "   danceability  energy  key  loudness  mode  speechiness  acousticness  \\\n",
              "0         0.751   0.834    1    -5.444     0       0.0437        0.3000   \n",
              "1         0.434   0.897    0    -4.918     1       0.0488        0.0103   \n",
              "2         0.529   0.496    7    -9.007     1       0.0290        0.1730   \n",
              "3         0.551   0.913    0    -4.063     0       0.0466        0.0263   \n",
              "4         0.614   0.928    8    -4.806     0       0.0516        0.0408   \n",
              "\n",
              "   instrumentalness  liveness  valence    tempo         genre  explicit  \\\n",
              "0          0.000018    0.3550    0.894   95.053           pop     False   \n",
              "1          0.000000    0.6120    0.684  148.726     rock, pop     False   \n",
              "2          0.000000    0.2510    0.278  136.859  pop, country     False   \n",
              "3          0.000013    0.3470    0.544  119.992   rock, metal     False   \n",
              "4          0.001040    0.0845    0.879  172.656           pop     False   \n",
              "\n",
              "   explicity binary  \n",
              "0                 0  \n",
              "1                 0  \n",
              "2                 0  \n",
              "3                 0  \n",
              "4                 0  "
            ],
            "text/html": [
              "\n",
              "  <div id=\"df-c9dc4aa6-3050-48bf-8bd1-df6ef548dfa0\">\n",
              "    <div class=\"colab-df-container\">\n",
              "      <div>\n",
              "<style scoped>\n",
              "    .dataframe tbody tr th:only-of-type {\n",
              "        vertical-align: middle;\n",
              "    }\n",
              "\n",
              "    .dataframe tbody tr th {\n",
              "        vertical-align: top;\n",
              "    }\n",
              "\n",
              "    .dataframe thead th {\n",
              "        text-align: right;\n",
              "    }\n",
              "</style>\n",
              "<table border=\"1\" class=\"dataframe\">\n",
              "  <thead>\n",
              "    <tr style=\"text-align: right;\">\n",
              "      <th></th>\n",
              "      <th>artist</th>\n",
              "      <th>song</th>\n",
              "      <th>duration_ms</th>\n",
              "      <th>year</th>\n",
              "      <th>top half</th>\n",
              "      <th>danceability</th>\n",
              "      <th>energy</th>\n",
              "      <th>key</th>\n",
              "      <th>loudness</th>\n",
              "      <th>mode</th>\n",
              "      <th>speechiness</th>\n",
              "      <th>acousticness</th>\n",
              "      <th>instrumentalness</th>\n",
              "      <th>liveness</th>\n",
              "      <th>valence</th>\n",
              "      <th>tempo</th>\n",
              "      <th>genre</th>\n",
              "      <th>explicit</th>\n",
              "      <th>explicity binary</th>\n",
              "    </tr>\n",
              "  </thead>\n",
              "  <tbody>\n",
              "    <tr>\n",
              "      <th>0</th>\n",
              "      <td>Britney Spears</td>\n",
              "      <td>Oops!...I Did It Again</td>\n",
              "      <td>211160</td>\n",
              "      <td>2000</td>\n",
              "      <td>1</td>\n",
              "      <td>0.751</td>\n",
              "      <td>0.834</td>\n",
              "      <td>1</td>\n",
              "      <td>-5.444</td>\n",
              "      <td>0</td>\n",
              "      <td>0.0437</td>\n",
              "      <td>0.3000</td>\n",
              "      <td>0.000018</td>\n",
              "      <td>0.3550</td>\n",
              "      <td>0.894</td>\n",
              "      <td>95.053</td>\n",
              "      <td>pop</td>\n",
              "      <td>False</td>\n",
              "      <td>0</td>\n",
              "    </tr>\n",
              "    <tr>\n",
              "      <th>1</th>\n",
              "      <td>blink-182</td>\n",
              "      <td>All The Small Things</td>\n",
              "      <td>167066</td>\n",
              "      <td>1999</td>\n",
              "      <td>1</td>\n",
              "      <td>0.434</td>\n",
              "      <td>0.897</td>\n",
              "      <td>0</td>\n",
              "      <td>-4.918</td>\n",
              "      <td>1</td>\n",
              "      <td>0.0488</td>\n",
              "      <td>0.0103</td>\n",
              "      <td>0.000000</td>\n",
              "      <td>0.6120</td>\n",
              "      <td>0.684</td>\n",
              "      <td>148.726</td>\n",
              "      <td>rock, pop</td>\n",
              "      <td>False</td>\n",
              "      <td>0</td>\n",
              "    </tr>\n",
              "    <tr>\n",
              "      <th>2</th>\n",
              "      <td>Faith Hill</td>\n",
              "      <td>Breathe</td>\n",
              "      <td>250546</td>\n",
              "      <td>1999</td>\n",
              "      <td>1</td>\n",
              "      <td>0.529</td>\n",
              "      <td>0.496</td>\n",
              "      <td>7</td>\n",
              "      <td>-9.007</td>\n",
              "      <td>1</td>\n",
              "      <td>0.0290</td>\n",
              "      <td>0.1730</td>\n",
              "      <td>0.000000</td>\n",
              "      <td>0.2510</td>\n",
              "      <td>0.278</td>\n",
              "      <td>136.859</td>\n",
              "      <td>pop, country</td>\n",
              "      <td>False</td>\n",
              "      <td>0</td>\n",
              "    </tr>\n",
              "    <tr>\n",
              "      <th>3</th>\n",
              "      <td>Bon Jovi</td>\n",
              "      <td>It's My Life</td>\n",
              "      <td>224493</td>\n",
              "      <td>2000</td>\n",
              "      <td>1</td>\n",
              "      <td>0.551</td>\n",
              "      <td>0.913</td>\n",
              "      <td>0</td>\n",
              "      <td>-4.063</td>\n",
              "      <td>0</td>\n",
              "      <td>0.0466</td>\n",
              "      <td>0.0263</td>\n",
              "      <td>0.000013</td>\n",
              "      <td>0.3470</td>\n",
              "      <td>0.544</td>\n",
              "      <td>119.992</td>\n",
              "      <td>rock, metal</td>\n",
              "      <td>False</td>\n",
              "      <td>0</td>\n",
              "    </tr>\n",
              "    <tr>\n",
              "      <th>4</th>\n",
              "      <td>*NSYNC</td>\n",
              "      <td>Bye Bye Bye</td>\n",
              "      <td>200560</td>\n",
              "      <td>2000</td>\n",
              "      <td>1</td>\n",
              "      <td>0.614</td>\n",
              "      <td>0.928</td>\n",
              "      <td>8</td>\n",
              "      <td>-4.806</td>\n",
              "      <td>0</td>\n",
              "      <td>0.0516</td>\n",
              "      <td>0.0408</td>\n",
              "      <td>0.001040</td>\n",
              "      <td>0.0845</td>\n",
              "      <td>0.879</td>\n",
              "      <td>172.656</td>\n",
              "      <td>pop</td>\n",
              "      <td>False</td>\n",
              "      <td>0</td>\n",
              "    </tr>\n",
              "  </tbody>\n",
              "</table>\n",
              "</div>\n",
              "      <button class=\"colab-df-convert\" onclick=\"convertToInteractive('df-c9dc4aa6-3050-48bf-8bd1-df6ef548dfa0')\"\n",
              "              title=\"Convert this dataframe to an interactive table.\"\n",
              "              style=\"display:none;\">\n",
              "        \n",
              "  <svg xmlns=\"http://www.w3.org/2000/svg\" height=\"24px\"viewBox=\"0 0 24 24\"\n",
              "       width=\"24px\">\n",
              "    <path d=\"M0 0h24v24H0V0z\" fill=\"none\"/>\n",
              "    <path d=\"M18.56 5.44l.94 2.06.94-2.06 2.06-.94-2.06-.94-.94-2.06-.94 2.06-2.06.94zm-11 1L8.5 8.5l.94-2.06 2.06-.94-2.06-.94L8.5 2.5l-.94 2.06-2.06.94zm10 10l.94 2.06.94-2.06 2.06-.94-2.06-.94-.94-2.06-.94 2.06-2.06.94z\"/><path d=\"M17.41 7.96l-1.37-1.37c-.4-.4-.92-.59-1.43-.59-.52 0-1.04.2-1.43.59L10.3 9.45l-7.72 7.72c-.78.78-.78 2.05 0 2.83L4 21.41c.39.39.9.59 1.41.59.51 0 1.02-.2 1.41-.59l7.78-7.78 2.81-2.81c.8-.78.8-2.07 0-2.86zM5.41 20L4 18.59l7.72-7.72 1.47 1.35L5.41 20z\"/>\n",
              "  </svg>\n",
              "      </button>\n",
              "      \n",
              "  <style>\n",
              "    .colab-df-container {\n",
              "      display:flex;\n",
              "      flex-wrap:wrap;\n",
              "      gap: 12px;\n",
              "    }\n",
              "\n",
              "    .colab-df-convert {\n",
              "      background-color: #E8F0FE;\n",
              "      border: none;\n",
              "      border-radius: 50%;\n",
              "      cursor: pointer;\n",
              "      display: none;\n",
              "      fill: #1967D2;\n",
              "      height: 32px;\n",
              "      padding: 0 0 0 0;\n",
              "      width: 32px;\n",
              "    }\n",
              "\n",
              "    .colab-df-convert:hover {\n",
              "      background-color: #E2EBFA;\n",
              "      box-shadow: 0px 1px 2px rgba(60, 64, 67, 0.3), 0px 1px 3px 1px rgba(60, 64, 67, 0.15);\n",
              "      fill: #174EA6;\n",
              "    }\n",
              "\n",
              "    [theme=dark] .colab-df-convert {\n",
              "      background-color: #3B4455;\n",
              "      fill: #D2E3FC;\n",
              "    }\n",
              "\n",
              "    [theme=dark] .colab-df-convert:hover {\n",
              "      background-color: #434B5C;\n",
              "      box-shadow: 0px 1px 3px 1px rgba(0, 0, 0, 0.15);\n",
              "      filter: drop-shadow(0px 1px 2px rgba(0, 0, 0, 0.3));\n",
              "      fill: #FFFFFF;\n",
              "    }\n",
              "  </style>\n",
              "\n",
              "      <script>\n",
              "        const buttonEl =\n",
              "          document.querySelector('#df-c9dc4aa6-3050-48bf-8bd1-df6ef548dfa0 button.colab-df-convert');\n",
              "        buttonEl.style.display =\n",
              "          google.colab.kernel.accessAllowed ? 'block' : 'none';\n",
              "\n",
              "        async function convertToInteractive(key) {\n",
              "          const element = document.querySelector('#df-c9dc4aa6-3050-48bf-8bd1-df6ef548dfa0');\n",
              "          const dataTable =\n",
              "            await google.colab.kernel.invokeFunction('convertToInteractive',\n",
              "                                                     [key], {});\n",
              "          if (!dataTable) return;\n",
              "\n",
              "          const docLinkHtml = 'Like what you see? Visit the ' +\n",
              "            '<a target=\"_blank\" href=https://colab.research.google.com/notebooks/data_table.ipynb>data table notebook</a>'\n",
              "            + ' to learn more about interactive tables.';\n",
              "          element.innerHTML = '';\n",
              "          dataTable['output_type'] = 'display_data';\n",
              "          await google.colab.output.renderOutput(dataTable, element);\n",
              "          const docLink = document.createElement('div');\n",
              "          docLink.innerHTML = docLinkHtml;\n",
              "          element.appendChild(docLink);\n",
              "        }\n",
              "      </script>\n",
              "    </div>\n",
              "  </div>\n",
              "  "
            ]
          },
          "metadata": {},
          "execution_count": 13
        }
      ]
    },
    {
      "cell_type": "markdown",
      "metadata": {
        "id": "QMES-y1icBQU"
      },
      "source": [
        "### **Step \\#2: Decide which features to base our classification on**\n",
        "---\n",
        "##### *Decide which columns/variables you want to use to predict the class of the song*\n",
        "\n",
        "For this week, we will provide you with choices, but it's still good to see when we would make this decision. For this part, look at the `key` and `energy` columns.\n",
        "\n",
        "\n",
        "Let's visualize this data in the cell below to see if there's any obvious correlation between these variables and whether a song is a top or bottom half hit.\n",
        "\n",
        "**Run the code below to create this visualization.**"
      ]
    },
    {
      "cell_type": "code",
      "execution_count": null,
      "metadata": {
        "colab": {
          "base_uri": "https://localhost:8080/",
          "height": 404
        },
        "outputId": "62c3fd5d-f95e-4f29-c28d-54709665ce29",
        "id": "H06tXaiGcBQU"
      },
      "outputs": [
        {
          "output_type": "display_data",
          "data": {
            "text/plain": [
              "<Figure size 720x432 with 1 Axes>"
            ],
            "image/png": "[encoded data removed]"
          },
          "metadata": {
            "needs_background": "light"
          }
        }
      ],
      "source": [
        "key = spotify_df[\"key\"]\n",
        "energy = spotify_df[\"energy\"]\n",
        "top_half = spotify_df[\"top half\"]\n",
        "\n",
        "plt.figure(figsize=(10,6))\n",
        "plt.scatter(key, energy, c = top_half)\n",
        "\n",
        "plt.title(\"Energy vs. Key of Hit Songs Colored by Whether they were a Top or Bottom Hit\")\n",
        "plt.xlabel(\"Key\")\n",
        "plt.ylabel(\"Energy\")\n",
        "\n",
        "plt.show()"
      ]
    },
    {
      "cell_type": "markdown",
      "source": [
        "**NOTE**: Even if correlations are not obvious, machine learning models may be able to detect correlations nonetheless! Let's see if that's the case here."
      ],
      "metadata": {
        "id": "rEywsx2UgGJ5"
      }
    },
    {
      "cell_type": "markdown",
      "metadata": {
        "id": "oNJlwKVscBQU"
      },
      "source": [
        "### **Step \\#3: Split data into training and testing data**\n",
        "---\n",
        "\n",
        "**Complete the code below to split your dataset based on the variables we are interested in here:**\n",
        "\n",
        "- `key`\n",
        "- `energy`\n",
        "- `top half`"
      ]
    },
    {
      "cell_type": "code",
      "execution_count": null,
      "metadata": {
        "id": "M1RFx5FucBQU"
      },
      "outputs": [],
      "source": [
        "inputs = spotify_df[['key', 'energy']]\n",
        "output = spotify_df['top half']\n",
        "\n",
        "\n",
        "X_train, X_test, y_train, y_test = model_selection.train_test_split(inputs, output, test_size=0.2, random_state=42)"
      ]
    },
    {
      "cell_type": "markdown",
      "metadata": {
        "id": "jUAyj2RrcBQU"
      },
      "source": [
        "### **Step #4: Import the ML algorithm using sklearn**\n",
        "---\n",
        " "
      ]
    },
    {
      "cell_type": "code",
      "execution_count": null,
      "metadata": {
        "id": "7Jx6uVLqcBQU"
      },
      "outputs": [],
      "source": [
        "# import the KNN algorithm\n",
        "from sklearn.neighbors import KNeighborsClassifier"
      ]
    },
    {
      "cell_type": "markdown",
      "metadata": {
        "id": "HS-iZKjNcBQV"
      },
      "source": [
        "### **Step \\#5: Initialize our model and set parameters**\n",
        "---\n",
        "\n",
        "Remember to set the *hyperparameter* `n_neighbors`! **In this case, let's use `k = 3` again.**"
      ]
    },
    {
      "cell_type": "code",
      "execution_count": null,
      "metadata": {
        "id": "7vIpt8BccBQV"
      },
      "outputs": [],
      "source": [
        "# initialize\n",
        "model = KNeighborsClassifier(n_neighbors = 3)"
      ]
    },
    {
      "cell_type": "markdown",
      "metadata": {
        "id": "tXf-rl6xcBQV"
      },
      "source": [
        "### **Step \\#6: Fit model using training set**\n",
        "---\n",
        "\n",
        "** Write code below to fit your model to the training data.**"
      ]
    },
    {
      "cell_type": "code",
      "execution_count": null,
      "metadata": {
        "id": "sXrFJKDccBQV",
        "colab": {
          "base_uri": "https://localhost:8080/"
        },
        "outputId": "5c75b0a5-7f6f-4f9e-b363-fbde1ebae2cc"
      },
      "outputs": [
        {
          "output_type": "execute_result",
          "data": {
            "text/plain": [
              "KNeighborsClassifier(n_neighbors=3)"
            ]
          },
          "metadata": {},
          "execution_count": 20
        }
      ],
      "source": [
        "# fit\n",
        "model.fit(X_train, y_train)"
      ]
    },
    {
      "cell_type": "markdown",
      "metadata": {
        "id": "nV24MS50cBQV"
      },
      "source": [
        "### **Step \\#7: Test the model**\n",
        "---\n",
        "\n",
        "\n",
        "**Run the code below to visualize the results of training.**"
      ]
    },
    {
      "cell_type": "code",
      "execution_count": null,
      "metadata": {
        "colab": {
          "base_uri": "https://localhost:8080/",
          "height": 404
        },
        "outputId": "a4180c41-e68c-4c7a-f58c-bb0f2d8930e8",
        "id": "zyh23llUcBQV"
      },
      "outputs": [
        {
          "output_type": "display_data",
          "data": {
            "text/plain": [
              "<Figure size 720x432 with 1 Axes>"
            ],
            "image/png": "[encoded data removed]"
          },
          "metadata": {
            "needs_background": "light"
          }
        }
      ],
      "source": [
        "# predict\n",
        "pred = model.predict(X_test)\n",
        "\n",
        "key = X_test[\"key\"]\n",
        "energy = X_test[\"energy\"]\n",
        "\n",
        "\n",
        "# visualize these predictions\n",
        "plt.figure(figsize=(10,6))\n",
        "plt.scatter(key, energy, c = pred)\n",
        "\n",
        "plt.title(\"Energy vs. Key of Hit Songs Colored by Whether they were a Top or Bottom Hit\")\n",
        "plt.xlabel(\"Key\")\n",
        "plt.ylabel(\"Energy\")\n",
        "\n",
        "plt.show()"
      ]
    },
    {
      "cell_type": "markdown",
      "metadata": {
        "id": "_7LYlAEgcBQV"
      },
      "source": [
        "### **Step \\#8: Make predictions**\n",
        "---\n"
      ]
    },
    {
      "cell_type": "markdown",
      "source": [
        "1. We are given an song with `key = 3` and `energy = 0.8`. According to your KNN model, will this song be in the top half of hits?\n",
        "\n",
        "**To Check Your Work**: The answer should be yes."
      ],
      "metadata": {
        "id": "EPFb_IYecBQV"
      }
    },
    {
      "cell_type": "code",
      "source": [
        "song = pd.DataFrame([[3, 0.8]], columns = [\"key\", \"energy\"])\n",
        "\n",
        "pred = model.predict(song)\n",
        "print(pred)"
      ],
      "metadata": {
        "id": "etaASsDRcBQV",
        "colab": {
          "base_uri": "https://localhost:8080/"
        },
        "outputId": "3da549d5-d6cf-4a90-c5d1-7b43280a358c"
      },
      "execution_count": null,
      "outputs": [
        {
          "output_type": "stream",
          "name": "stdout",
          "text": [
            "[1]\n"
          ]
        }
      ]
    },
    {
      "cell_type": "markdown",
      "source": [
        "2. We are given another song with `key = 10` and `energy = 0.2`. According to your KNN model, will this song be in the top half of hits?\n",
        "\n",
        "**To Check Your Work**: The answer should be no."
      ],
      "metadata": {
        "id": "-cnqFx2ecBQV"
      }
    },
    {
      "cell_type": "code",
      "source": [
        "song2 = pd.DataFrame([[10,0.2]], columns = [\"key\", \"energy\"])\n",
        "pred2 = model.predict(song2)\n",
        "print(pred2)"
      ],
      "metadata": {
        "id": "Anv4lTplcBQV",
        "colab": {
          "base_uri": "https://localhost:8080/"
        },
        "outputId": "959d9659-175d-40af-bb92-16f800ac7f92"
      },
      "execution_count": null,
      "outputs": [
        {
          "output_type": "stream",
          "name": "stdout",
          "text": [
            "[0]\n"
          ]
        }
      ]
    },
    {
      "cell_type": "markdown",
      "source": [
        "3. We are given an song with `key = 1` and `energy = 0.5`. According to your KNN model, will this song be in the top half of hits?\n",
        "\n",
        "**To Check Your Work**: The answer should be yes."
      ],
      "metadata": {
        "id": "fxLezyUucBQV"
      }
    },
    {
      "cell_type": "code",
      "source": [
        "song3 = pd.DataFrame([[1,0.5]], columns = [\"key\", \"energy\"])\n",
        "pred3 = model.predict(song3)\n",
        "print(pred3)"
      ],
      "metadata": {
        "id": "xSg6tNKncBQV",
        "colab": {
          "base_uri": "https://localhost:8080/"
        },
        "outputId": "df5d67f0-c624-4b6e-ed05-77d85015a4dd"
      },
      "execution_count": null,
      "outputs": [
        {
          "output_type": "stream",
          "name": "stdout",
          "text": [
            "[1]\n"
          ]
        }
      ]
    },
    {
      "cell_type": "markdown",
      "source": [
        "---\n",
        "\n",
        "# Copyright 2022 The Coding School, All rights reserved"
      ],
      "metadata": {
        "id": "swIhuttFir3l"
      }
    }
  ],
  "metadata": {
    "colab": {
      "provenance": []
    },
    "kernelspec": {
      "display_name": "Python 3 (ipykernel)",
      "language": "python",
      "name": "python3"
    },
    "language_info": {
      "codemirror_mode": {
        "name": "ipython",
        "version": 3
      },
      "file_extension": ".py",
      "mimetype": "text/x-python",
      "name": "python",
      "nbconvert_exporter": "python",
      "pygments_lexer": "ipython3",
      "version": "3.9.7"
    }
  },
  "nbformat": 4,
  "nbformat_minor": 0
}