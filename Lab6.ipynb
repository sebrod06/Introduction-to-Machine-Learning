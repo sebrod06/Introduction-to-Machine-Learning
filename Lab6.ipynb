{
  "cells": [
    {
      "cell_type": "markdown",
      "metadata": {
        "id": "_iaXDd2j9axp"
      },
      "source": [
        "# Lab \\#6: K-Nearest Neighbors Part II\n",
        "---\n",
        "\n",
        "### **Description**:\n",
        "Today's lab is broken into the following parts:\n",
        "<br>\n",
        "\n",
        "#### **Part 0: Import sklearn**: This is the main imports. Run this before doing anything else.\n",
        "\n",
        "<br>\n",
        "\n",
        "#### **Part 1: Will it Rain Today?**: We will try to predict whether it will rain on a given day in Australia using KNN with `K = 1`.\n",
        "\n",
        "<br>\n",
        "\n",
        "#### **Part 2: Feature Selection**: We will see how to use variance and correlation to determine the best features to use for KNN. \n",
        "\n",
        "<br>\n",
        "\n",
        "#### **Part 3: Model Evaluation**: We will see how to use evaluation metrics from `sklearn` to determine the quality of our models.\n",
        "\n",
        "<br>\n",
        "\n",
        "#### **Part 4: Finding the Optimal Value of K**: We will compare multiple values of K and see how to search over many values of K using an `sklearn` function called `CVGridSearch`.\n",
        "\n",
        "<br>\n",
        "\n",
        "#### **[OPTIONAL] Part 5: Real or Fake Money?**: This is an optional section where you can put all of this together to try to create an optimal KNN model that predicts if a banknote (paper money) is real or fake.\n",
        "\n",
        "<br><br>\n",
        "\n",
        "### **Cheat Sheet**: [K-Nearest Neighbors with sklearn](https://docs.google.com/document/d/1RqB0neapANsdy3Mku-AGHTpgQUbm2ZDt5hq2z1sMWpo/edit?usp=sharing)\n",
        "\n",
        "\n",
        "<br>\n",
        "\n",
        "**REMEMBER: the goal is to start getting familiar some of the tools available to you. Try not to get overwhelmed with the small details and just focus on understanding the general process we follow. This is still the first of many models that you will learn to use.**"
      ]
    },
    {
      "cell_type": "markdown",
      "metadata": {
        "id": "7VJ0olpwwTvn"
      },
      "source": [
        "## **Part 0: Import sklearn**\n",
        "---\n",
        "\n",
        "**Run the code below before continuing.**"
      ]
    },
    {
      "cell_type": "code",
      "execution_count": null,
      "metadata": {
        "id": "I67Z7TAJwTvo"
      },
      "outputs": [],
      "source": [
        "import pandas as pd\n",
        "import numpy as np\n",
        "import matplotlib.pyplot as plt\n",
        "from sklearn import datasets, model_selection"
      ]
    },
    {
      "cell_type": "markdown",
      "metadata": {
        "id": "IzVH7F22wfAk"
      },
      "source": [
        "## **Part 1: Will it Rain Today?**\n",
        "---\n",
        "\n",
        "Our goal in this part is to create a KNN model using `K = 1` to predict the class **`RainToday`**, which says whether it will rain on a given day (`RainToday = 1`) or not (`RainToday = 0`)."
      ]
    },
    {
      "cell_type": "markdown",
      "metadata": {
        "id": "PhYg_lnQwTvo"
      },
      "source": [
        "### **Step #1: Load in data**\n",
        "---"
      ]
    },
    {
      "cell_type": "code",
      "execution_count": null,
      "metadata": {
        "id": "FTdv48FFwqYY",
        "colab": {
          "base_uri": "https://localhost:8080/",
          "height": 206
        },
        "outputId": "30d59e69-9564-46b3-c614-0535de9c8bba"
      },
      "outputs": [
        {
          "output_type": "execute_result",
          "data": {
            "text/plain": [
              "  Location  WindSpeed  Humidity  Pressure  Temp  RainToday  RainTomorrow\n",
              "0   Albury         20        71    10.077  16.9          0             0\n",
              "1   Albury          4        44    10.106  17.2          0             0\n",
              "2   Albury          7        82    10.108  17.8          0             0\n",
              "3   Albury         19        55    10.092  20.6          0             0\n",
              "4   Albury          6        48    10.134  16.3          0             0"
            ],
            "text/html": [
              "\n",
              "  <div id=\"df-b1e493c0-a83d-41f1-9d5b-36ab6c9bbd33\">\n",
              "    <div class=\"colab-df-container\">\n",
              "      <div>\n",
              "<style scoped>\n",
              "    .dataframe tbody tr th:only-of-type {\n",
              "        vertical-align: middle;\n",
              "    }\n",
              "\n",
              "    .dataframe tbody tr th {\n",
              "        vertical-align: top;\n",
              "    }\n",
              "\n",
              "    .dataframe thead th {\n",
              "        text-align: right;\n",
              "    }\n",
              "</style>\n",
              "<table border=\"1\" class=\"dataframe\">\n",
              "  <thead>\n",
              "    <tr style=\"text-align: right;\">\n",
              "      <th></th>\n",
              "      <th>Location</th>\n",
              "      <th>WindSpeed</th>\n",
              "      <th>Humidity</th>\n",
              "      <th>Pressure</th>\n",
              "      <th>Temp</th>\n",
              "      <th>RainToday</th>\n",
              "      <th>RainTomorrow</th>\n",
              "    </tr>\n",
              "  </thead>\n",
              "  <tbody>\n",
              "    <tr>\n",
              "      <th>0</th>\n",
              "      <td>Albury</td>\n",
              "      <td>20</td>\n",
              "      <td>71</td>\n",
              "      <td>10.077</td>\n",
              "      <td>16.9</td>\n",
              "      <td>0</td>\n",
              "      <td>0</td>\n",
              "    </tr>\n",
              "    <tr>\n",
              "      <th>1</th>\n",
              "      <td>Albury</td>\n",
              "      <td>4</td>\n",
              "      <td>44</td>\n",
              "      <td>10.106</td>\n",
              "      <td>17.2</td>\n",
              "      <td>0</td>\n",
              "      <td>0</td>\n",
              "    </tr>\n",
              "    <tr>\n",
              "      <th>2</th>\n",
              "      <td>Albury</td>\n",
              "      <td>7</td>\n",
              "      <td>82</td>\n",
              "      <td>10.108</td>\n",
              "      <td>17.8</td>\n",
              "      <td>0</td>\n",
              "      <td>0</td>\n",
              "    </tr>\n",
              "    <tr>\n",
              "      <th>3</th>\n",
              "      <td>Albury</td>\n",
              "      <td>19</td>\n",
              "      <td>55</td>\n",
              "      <td>10.092</td>\n",
              "      <td>20.6</td>\n",
              "      <td>0</td>\n",
              "      <td>0</td>\n",
              "    </tr>\n",
              "    <tr>\n",
              "      <th>4</th>\n",
              "      <td>Albury</td>\n",
              "      <td>6</td>\n",
              "      <td>48</td>\n",
              "      <td>10.134</td>\n",
              "      <td>16.3</td>\n",
              "      <td>0</td>\n",
              "      <td>0</td>\n",
              "    </tr>\n",
              "  </tbody>\n",
              "</table>\n",
              "</div>\n",
              "      <button class=\"colab-df-convert\" onclick=\"convertToInteractive('df-b1e493c0-a83d-41f1-9d5b-36ab6c9bbd33')\"\n",
              "              title=\"Convert this dataframe to an interactive table.\"\n",
              "              style=\"display:none;\">\n",
              "        \n",
              "  <svg xmlns=\"http://www.w3.org/2000/svg\" height=\"24px\"viewBox=\"0 0 24 24\"\n",
              "       width=\"24px\">\n",
              "    <path d=\"M0 0h24v24H0V0z\" fill=\"none\"/>\n",
              "    <path d=\"M18.56 5.44l.94 2.06.94-2.06 2.06-.94-2.06-.94-.94-2.06-.94 2.06-2.06.94zm-11 1L8.5 8.5l.94-2.06 2.06-.94-2.06-.94L8.5 2.5l-.94 2.06-2.06.94zm10 10l.94 2.06.94-2.06 2.06-.94-2.06-.94-.94-2.06-.94 2.06-2.06.94z\"/><path d=\"M17.41 7.96l-1.37-1.37c-.4-.4-.92-.59-1.43-.59-.52 0-1.04.2-1.43.59L10.3 9.45l-7.72 7.72c-.78.78-.78 2.05 0 2.83L4 21.41c.39.39.9.59 1.41.59.51 0 1.02-.2 1.41-.59l7.78-7.78 2.81-2.81c.8-.78.8-2.07 0-2.86zM5.41 20L4 18.59l7.72-7.72 1.47 1.35L5.41 20z\"/>\n",
              "  </svg>\n",
              "      </button>\n",
              "      \n",
              "  <style>\n",
              "    .colab-df-container {\n",
              "      display:flex;\n",
              "      flex-wrap:wrap;\n",
              "      gap: 12px;\n",
              "    }\n",
              "\n",
              "    .colab-df-convert {\n",
              "      background-color: #E8F0FE;\n",
              "      border: none;\n",
              "      border-radius: 50%;\n",
              "      cursor: pointer;\n",
              "      display: none;\n",
              "      fill: #1967D2;\n",
              "      height: 32px;\n",
              "      padding: 0 0 0 0;\n",
              "      width: 32px;\n",
              "    }\n",
              "\n",
              "    .colab-df-convert:hover {\n",
              "      background-color: #E2EBFA;\n",
              "      box-shadow: 0px 1px 2px rgba(60, 64, 67, 0.3), 0px 1px 3px 1px rgba(60, 64, 67, 0.15);\n",
              "      fill: #174EA6;\n",
              "    }\n",
              "\n",
              "    [theme=dark] .colab-df-convert {\n",
              "      background-color: #3B4455;\n",
              "      fill: #D2E3FC;\n",
              "    }\n",
              "\n",
              "    [theme=dark] .colab-df-convert:hover {\n",
              "      background-color: #434B5C;\n",
              "      box-shadow: 0px 1px 3px 1px rgba(0, 0, 0, 0.15);\n",
              "      filter: drop-shadow(0px 1px 2px rgba(0, 0, 0, 0.3));\n",
              "      fill: #FFFFFF;\n",
              "    }\n",
              "  </style>\n",
              "\n",
              "      <script>\n",
              "        const buttonEl =\n",
              "          document.querySelector('#df-b1e493c0-a83d-41f1-9d5b-36ab6c9bbd33 button.colab-df-convert');\n",
              "        buttonEl.style.display =\n",
              "          google.colab.kernel.accessAllowed ? 'block' : 'none';\n",
              "\n",
              "        async function convertToInteractive(key) {\n",
              "          const element = document.querySelector('#df-b1e493c0-a83d-41f1-9d5b-36ab6c9bbd33');\n",
              "          const dataTable =\n",
              "            await google.colab.kernel.invokeFunction('convertToInteractive',\n",
              "                                                     [key], {});\n",
              "          if (!dataTable) return;\n",
              "\n",
              "          const docLinkHtml = 'Like what you see? Visit the ' +\n",
              "            '<a target=\"_blank\" href=https://colab.research.google.com/notebooks/data_table.ipynb>data table notebook</a>'\n",
              "            + ' to learn more about interactive tables.';\n",
              "          element.innerHTML = '';\n",
              "          dataTable['output_type'] = 'display_data';\n",
              "          await google.colab.output.renderOutput(dataTable, element);\n",
              "          const docLink = document.createElement('div');\n",
              "          docLink.innerHTML = docLinkHtml;\n",
              "          element.appendChild(docLink);\n",
              "        }\n",
              "      </script>\n",
              "    </div>\n",
              "  </div>\n",
              "  "
            ]
          },
          "metadata": {},
          "execution_count": 2
        }
      ],
      "source": [
        "url = \"https://docs.google.com/spreadsheets/d/e/2PACX-1vQgXRAZvBDRckm_Ll_LGXM7NTSHgBmoZA93QUDI6PBP37gMtq98ZNEE6PNf-WwUx1SGWT0diVo8JgGb/pub?gid=23834121&single=true&output=csv\"\n",
        "rainfall_df = pd.read_csv(url)\n",
        "\n",
        "rainfall_df.head()"
      ]
    },
    {
      "cell_type": "markdown",
      "metadata": {
        "id": "f_-Q5wVKTZlh"
      },
      "source": [
        "### **Step #2: Decide our variables**\n",
        "---\n",
        "\n",
        "Let's visualize the relationship between `RainToday` and two variables that we will use in this section: `WindSpeed` and `Temp`."
      ]
    },
    {
      "cell_type": "code",
      "execution_count": null,
      "metadata": {
        "id": "yJJvvyA8TZli",
        "colab": {
          "base_uri": "https://localhost:8080/",
          "height": 295
        },
        "outputId": "c09a01b1-2e49-45c5-8102-7c4d0d41b154"
      },
      "outputs": [
        {
          "output_type": "display_data",
          "data": {
            "text/plain": [
              "<Figure size 432x288 with 1 Axes>"
            ],
            "image/png": "[encoded data removed]"
          },
          "metadata": {
            "needs_background": "light"
          }
        }
      ],
      "source": [
        "plt.scatter(rainfall_df[\"WindSpeed\"], rainfall_df[\"Temp\"], c = rainfall_df[\"RainToday\"])\n",
        "\n",
        "plt.title(\"Temperature vs. Wind Speed Colored by Whether It Rained that Day\")\n",
        "plt.xlabel(\"Wind Speed\")\n",
        "plt.ylabel(\"Temperature\")\n",
        "\n",
        "plt.show()"
      ]
    },
    {
      "cell_type": "markdown",
      "metadata": {
        "id": "0lRnfmSuyJqH"
      },
      "source": [
        "### **Step #3: Split data into training and testing sets**\n",
        "---"
      ]
    },
    {
      "cell_type": "code",
      "execution_count": null,
      "metadata": {
        "id": "s8rn8c-zyJqT"
      },
      "outputs": [],
      "source": [
        "inputs = rainfall_df[[\"WindSpeed\", \"Temp\"]]\n",
        "output = rainfall_df[[\"RainToday\"]]\n",
        "\n",
        "X_train, X_test, y_train, y_test = model_selection.train_test_split(inputs, output)"
      ]
    },
    {
      "cell_type": "markdown",
      "metadata": {
        "id": "uPsSS_x4yyps"
      },
      "source": [
        "#### **Scaling data**\n",
        "As we saw in lecture, it's important to scale our data. Run the code below to do this.\n",
        "\n",
        "**NOTE**: It is very important that we scale based on just the training data. This keeps any information accidentally being shared about the testing data that the model could use to show an artificially higher performance."
      ]
    },
    {
      "cell_type": "code",
      "execution_count": null,
      "metadata": {
        "id": "NIcsVZV1zXwp"
      },
      "outputs": [],
      "source": [
        "mu = X_train.mean()\n",
        "sig = X_train.std()\n",
        "\n",
        "X_train = (X_train - mu)/sig\n",
        "X_test = (X_test - mu)/sig"
      ]
    },
    {
      "cell_type": "markdown",
      "metadata": {
        "id": "oCcU9G7Lzkiv"
      },
      "source": [
        "### **Step #4: Import our model from sklearn**\n",
        "---"
      ]
    },
    {
      "cell_type": "code",
      "execution_count": null,
      "metadata": {
        "id": "bqjg2BnYzkiw"
      },
      "outputs": [],
      "source": [
        "# import the KNN algorithm\n",
        "from sklearn.neighbors import KNeighborsClassifier"
      ]
    },
    {
      "cell_type": "markdown",
      "metadata": {
        "id": "gRHnKdRIz1O5"
      },
      "source": [
        "### **Step \\#5: Initialize your model**\n",
        "---\n",
        "\n",
        "Remember to set the *hyperparameter* `n_neighbors`! For now, let's use `K = 1`. Later today we will see how to test a range of K values."
      ]
    },
    {
      "cell_type": "code",
      "execution_count": null,
      "metadata": {
        "id": "i9LOWeQUz1O6"
      },
      "outputs": [],
      "source": [
        "model = KNeighborsClassifier(n_neighbors=1)"
      ]
    },
    {
      "cell_type": "markdown",
      "metadata": {
        "id": "qf_Ve7D-z1O6"
      },
      "source": [
        "### **Step \\#6: Fit your model on the training data**\n",
        "---"
      ]
    },
    {
      "cell_type": "code",
      "execution_count": null,
      "metadata": {
        "id": "mahcn-GNz1O6",
        "colab": {
          "base_uri": "https://localhost:8080/"
        },
        "outputId": "c82bd6d4-1643-4623-aee2-8e58689e90f5"
      },
      "outputs": [
        {
          "output_type": "stream",
          "name": "stderr",
          "text": [
            "/usr/local/lib/python3.7/dist-packages/sklearn/neighbors/_classification.py:198: DataConversionWarning: A column-vector y was passed when a 1d array was expected. Please change the shape of y to (n_samples,), for example using ravel().\n",
            "  return self._fit(X, y)\n"
          ]
        },
        {
          "output_type": "execute_result",
          "data": {
            "text/plain": [
              "KNeighborsClassifier(n_neighbors=1)"
            ]
          },
          "metadata": {},
          "execution_count": 25
        }
      ],
      "source": [
        "model.fit(X_train, y_train) "
      ]
    },
    {
      "cell_type": "markdown",
      "metadata": {
        "id": "_RF0e-Vd0Hp3"
      },
      "source": [
        "### **Step \\#7: Test your model**\n",
        "---\n",
        "\n",
        "Use your model to make predictions for the test data and then visualize this using the code provided below."
      ]
    },
    {
      "cell_type": "code",
      "execution_count": null,
      "metadata": {
        "id": "GFoOCZh50Hp4"
      },
      "outputs": [],
      "source": [
        "predictions = model.predict(X_test)"
      ]
    },
    {
      "cell_type": "code",
      "execution_count": null,
      "metadata": {
        "id": "lBmc5P7Cu_E4",
        "colab": {
          "base_uri": "https://localhost:8080/",
          "height": 295
        },
        "outputId": "12a4e8b8-755f-4b10-de7b-ffbfb461f3f7"
      },
      "outputs": [
        {
          "output_type": "display_data",
          "data": {
            "text/plain": [
              "<Figure size 432x288 with 1 Axes>"
            ],
            "image/png": "[encoded data removed]"
          },
          "metadata": {
            "needs_background": "light"
          }
        }
      ],
      "source": [
        "# Visualizing our predictions for now, but we will see how to more quantitatively\n",
        "# determine the quality of our predictions\n",
        "\n",
        "plt.scatter(X_test['WindSpeed'], X_test['Temp'], c = predictions)\n",
        "\n",
        "plt.title(\"Temperature vs. Wind Speed Colored by Prediction of Rainfall\")\n",
        "plt.xlabel(\"Wind Speed\")\n",
        "plt.ylabel(\"Temperature\")\n",
        "plt.show()"
      ]
    },
    {
      "cell_type": "markdown",
      "metadata": {
        "id": "CHIlHW1b0reu"
      },
      "source": [
        "### **Step \\#8: Apply your model**\n",
        "---\n",
        "\n",
        "Let's apply this model to entirely new points. NOTE: We will have to scale these inputs the same way as the training/testing data for the model to work properly.\n",
        "\n",
        "1. `WindSpeed = 17` and `Temp = 23`"
      ]
    },
    {
      "cell_type": "code",
      "execution_count": null,
      "metadata": {
        "id": "Lr8MM46r0re5",
        "colab": {
          "base_uri": "https://localhost:8080/"
        },
        "outputId": "bbb58065-0bc8-4cef-b3a5-83762eaea19f"
      },
      "outputs": [
        {
          "output_type": "stream",
          "name": "stdout",
          "text": [
            "[0]\n"
          ]
        }
      ],
      "source": [
        "new_day = pd.DataFrame([[17,23]], columns = [\"WindSpeed\", \"Temp\"])\n",
        "new_day = (new_day - mu)/sig\n",
        "\n",
        "pred = model.predict(new_day)\n",
        "\n",
        "print(pred)"
      ]
    },
    {
      "cell_type": "markdown",
      "source": [
        "2. `WindSpeed = 17` and `Temp = 6`"
      ],
      "metadata": {
        "id": "iFmwW2qO0VeG"
      }
    },
    {
      "cell_type": "code",
      "source": [
        "new_day = pd.DataFrame([[17,6]], columns = [\"WindSpeed\", \"Temp\"])\n",
        "new_day = (new_day - mu)/sig\n",
        "\n",
        "pred = model.predict(new_day)\n",
        "\n",
        "print(pred)"
      ],
      "metadata": {
        "id": "q0JC-bw60WDP",
        "colab": {
          "base_uri": "https://localhost:8080/"
        },
        "outputId": "e2d66c75-ffa5-4db3-d72b-ef5c55d0b33b"
      },
      "execution_count": null,
      "outputs": [
        {
          "output_type": "stream",
          "name": "stdout",
          "text": [
            "[0]\n"
          ]
        }
      ]
    },
    {
      "cell_type": "markdown",
      "source": [
        "3. `WindSpeed = 2` and `Temp = -1`"
      ],
      "metadata": {
        "id": "ZzBXhEX1VONA"
      }
    },
    {
      "cell_type": "code",
      "source": [
        "new_day = pd.DataFrame([[2,1]], columns = [\"WindSpeed\", \"Temp\"])\n",
        "new_day = (new_day - mu)/sig\n",
        "\n",
        "pred = model.predict(new_day)\n",
        "\n",
        "print(pred)"
      ],
      "metadata": {
        "id": "SXO0r4rEVONI",
        "colab": {
          "base_uri": "https://localhost:8080/"
        },
        "outputId": "b80ace09-b456-450d-c124-987b147363d1"
      },
      "execution_count": null,
      "outputs": [
        {
          "output_type": "stream",
          "name": "stdout",
          "text": [
            "[0]\n"
          ]
        }
      ]
    },
    {
      "cell_type": "markdown",
      "metadata": {
        "id": "T6RVGWYLTGuT"
      },
      "source": [
        "## **Part 2: Feature Selection**\n",
        "---\n",
        "\n",
        "Let's apply what we've learned about Feature Selection to determine the best features to use based on their variance and correlations."
      ]
    },
    {
      "cell_type": "markdown",
      "metadata": {
        "id": "YyI-a8xaxPW2"
      },
      "source": [
        "### **Exercise 1: Decide our variables using Variance and Correlation**\n",
        "---\n",
        "\n",
        "Use the pandas DataFrame functions for variance and correlation to decide on the best features to use."
      ]
    },
    {
      "cell_type": "code",
      "execution_count": null,
      "metadata": {
        "id": "Brn-2gFLrmYv",
        "colab": {
          "base_uri": "https://localhost:8080/"
        },
        "outputId": "28004b4e-8602-4d64-b65a-6085e34fc2e4"
      },
      "outputs": [
        {
          "output_type": "stream",
          "name": "stderr",
          "text": [
            "/usr/local/lib/python3.7/dist-packages/ipykernel_launcher.py:4: FutureWarning: Dropping of nuisance columns in DataFrame reductions (with 'numeric_only=None') is deprecated; in a future version this will raise TypeError.  Select only valid columns before calling the reduction.\n",
            "  after removing the cwd from sys.path.\n"
          ]
        },
        {
          "output_type": "execute_result",
          "data": {
            "text/plain": [
              "WindSpeed        77.940143\n",
              "Humidity        361.028614\n",
              "Pressure          0.005044\n",
              "Temp             41.179571\n",
              "RainToday         0.172660\n",
              "RainTomorrow      0.173894\n",
              "dtype: float64"
            ]
          },
          "metadata": {},
          "execution_count": 31
        }
      ],
      "source": [
        "# Look at the variance of each feature to see which ones might reveal interesting patterns\n",
        "\n",
        "# COMPLETE THIS CODE\n",
        "rainfall_df.var()\n",
        "\n",
        "#highest variance is humidity, so this would be good to look at since there's many diff values\n",
        "#pressure has lowest variance, meanng values are all pretty similar"
      ]
    },
    {
      "cell_type": "code",
      "execution_count": null,
      "metadata": {
        "id": "OJmVXl6oroFn",
        "colab": {
          "base_uri": "https://localhost:8080/",
          "height": 282
        },
        "outputId": "123884fb-06a1-44e9-e767-1974a667c06d"
      },
      "outputs": [
        {
          "output_type": "execute_result",
          "data": {
            "text/plain": [
              "              WindSpeed  Humidity  Pressure      Temp  RainToday  RainTomorrow\n",
              "WindSpeed      1.000000 -0.272017 -0.227232  0.144335   0.102628      0.093666\n",
              "Humidity      -0.272017  1.000000  0.142736 -0.479410   0.354287      0.259341\n",
              "Pressure      -0.227232  0.142736  1.000000 -0.423879  -0.187356     -0.246989\n",
              "Temp           0.144335 -0.479410 -0.423879  1.000000  -0.096078     -0.025192\n",
              "RainToday      0.102628  0.354287 -0.187356 -0.096078   1.000000      0.306378\n",
              "RainTomorrow   0.093666  0.259341 -0.246989 -0.025192   0.306378      1.000000"
            ],
            "text/html": [
              "\n",
              "  <div id=\"df-c88d6b13-0626-49e7-a2a7-407a3b4c633d\">\n",
              "    <div class=\"colab-df-container\">\n",
              "      <div>\n",
              "<style scoped>\n",
              "    .dataframe tbody tr th:only-of-type {\n",
              "        vertical-align: middle;\n",
              "    }\n",
              "\n",
              "    .dataframe tbody tr th {\n",
              "        vertical-align: top;\n",
              "    }\n",
              "\n",
              "    .dataframe thead th {\n",
              "        text-align: right;\n",
              "    }\n",
              "</style>\n",
              "<table border=\"1\" class=\"dataframe\">\n",
              "  <thead>\n",
              "    <tr style=\"text-align: right;\">\n",
              "      <th></th>\n",
              "      <th>WindSpeed</th>\n",
              "      <th>Humidity</th>\n",
              "      <th>Pressure</th>\n",
              "      <th>Temp</th>\n",
              "      <th>RainToday</th>\n",
              "      <th>RainTomorrow</th>\n",
              "    </tr>\n",
              "  </thead>\n",
              "  <tbody>\n",
              "    <tr>\n",
              "      <th>WindSpeed</th>\n",
              "      <td>1.000000</td>\n",
              "      <td>-0.272017</td>\n",
              "      <td>-0.227232</td>\n",
              "      <td>0.144335</td>\n",
              "      <td>0.102628</td>\n",
              "      <td>0.093666</td>\n",
              "    </tr>\n",
              "    <tr>\n",
              "      <th>Humidity</th>\n",
              "      <td>-0.272017</td>\n",
              "      <td>1.000000</td>\n",
              "      <td>0.142736</td>\n",
              "      <td>-0.479410</td>\n",
              "      <td>0.354287</td>\n",
              "      <td>0.259341</td>\n",
              "    </tr>\n",
              "    <tr>\n",
              "      <th>Pressure</th>\n",
              "      <td>-0.227232</td>\n",
              "      <td>0.142736</td>\n",
              "      <td>1.000000</td>\n",
              "      <td>-0.423879</td>\n",
              "      <td>-0.187356</td>\n",
              "      <td>-0.246989</td>\n",
              "    </tr>\n",
              "    <tr>\n",
              "      <th>Temp</th>\n",
              "      <td>0.144335</td>\n",
              "      <td>-0.479410</td>\n",
              "      <td>-0.423879</td>\n",
              "      <td>1.000000</td>\n",
              "      <td>-0.096078</td>\n",
              "      <td>-0.025192</td>\n",
              "    </tr>\n",
              "    <tr>\n",
              "      <th>RainToday</th>\n",
              "      <td>0.102628</td>\n",
              "      <td>0.354287</td>\n",
              "      <td>-0.187356</td>\n",
              "      <td>-0.096078</td>\n",
              "      <td>1.000000</td>\n",
              "      <td>0.306378</td>\n",
              "    </tr>\n",
              "    <tr>\n",
              "      <th>RainTomorrow</th>\n",
              "      <td>0.093666</td>\n",
              "      <td>0.259341</td>\n",
              "      <td>-0.246989</td>\n",
              "      <td>-0.025192</td>\n",
              "      <td>0.306378</td>\n",
              "      <td>1.000000</td>\n",
              "    </tr>\n",
              "  </tbody>\n",
              "</table>\n",
              "</div>\n",
              "      <button class=\"colab-df-convert\" onclick=\"convertToInteractive('df-c88d6b13-0626-49e7-a2a7-407a3b4c633d')\"\n",
              "              title=\"Convert this dataframe to an interactive table.\"\n",
              "              style=\"display:none;\">\n",
              "        \n",
              "  <svg xmlns=\"http://www.w3.org/2000/svg\" height=\"24px\"viewBox=\"0 0 24 24\"\n",
              "       width=\"24px\">\n",
              "    <path d=\"M0 0h24v24H0V0z\" fill=\"none\"/>\n",
              "    <path d=\"M18.56 5.44l.94 2.06.94-2.06 2.06-.94-2.06-.94-.94-2.06-.94 2.06-2.06.94zm-11 1L8.5 8.5l.94-2.06 2.06-.94-2.06-.94L8.5 2.5l-.94 2.06-2.06.94zm10 10l.94 2.06.94-2.06 2.06-.94-2.06-.94-.94-2.06-.94 2.06-2.06.94z\"/><path d=\"M17.41 7.96l-1.37-1.37c-.4-.4-.92-.59-1.43-.59-.52 0-1.04.2-1.43.59L10.3 9.45l-7.72 7.72c-.78.78-.78 2.05 0 2.83L4 21.41c.39.39.9.59 1.41.59.51 0 1.02-.2 1.41-.59l7.78-7.78 2.81-2.81c.8-.78.8-2.07 0-2.86zM5.41 20L4 18.59l7.72-7.72 1.47 1.35L5.41 20z\"/>\n",
              "  </svg>\n",
              "      </button>\n",
              "      \n",
              "  <style>\n",
              "    .colab-df-container {\n",
              "      display:flex;\n",
              "      flex-wrap:wrap;\n",
              "      gap: 12px;\n",
              "    }\n",
              "\n",
              "    .colab-df-convert {\n",
              "      background-color: #E8F0FE;\n",
              "      border: none;\n",
              "      border-radius: 50%;\n",
              "      cursor: pointer;\n",
              "      display: none;\n",
              "      fill: #1967D2;\n",
              "      height: 32px;\n",
              "      padding: 0 0 0 0;\n",
              "      width: 32px;\n",
              "    }\n",
              "\n",
              "    .colab-df-convert:hover {\n",
              "      background-color: #E2EBFA;\n",
              "      box-shadow: 0px 1px 2px rgba(60, 64, 67, 0.3), 0px 1px 3px 1px rgba(60, 64, 67, 0.15);\n",
              "      fill: #174EA6;\n",
              "    }\n",
              "\n",
              "    [theme=dark] .colab-df-convert {\n",
              "      background-color: #3B4455;\n",
              "      fill: #D2E3FC;\n",
              "    }\n",
              "\n",
              "    [theme=dark] .colab-df-convert:hover {\n",
              "      background-color: #434B5C;\n",
              "      box-shadow: 0px 1px 3px 1px rgba(0, 0, 0, 0.15);\n",
              "      filter: drop-shadow(0px 1px 2px rgba(0, 0, 0, 0.3));\n",
              "      fill: #FFFFFF;\n",
              "    }\n",
              "  </style>\n",
              "\n",
              "      <script>\n",
              "        const buttonEl =\n",
              "          document.querySelector('#df-c88d6b13-0626-49e7-a2a7-407a3b4c633d button.colab-df-convert');\n",
              "        buttonEl.style.display =\n",
              "          google.colab.kernel.accessAllowed ? 'block' : 'none';\n",
              "\n",
              "        async function convertToInteractive(key) {\n",
              "          const element = document.querySelector('#df-c88d6b13-0626-49e7-a2a7-407a3b4c633d');\n",
              "          const dataTable =\n",
              "            await google.colab.kernel.invokeFunction('convertToInteractive',\n",
              "                                                     [key], {});\n",
              "          if (!dataTable) return;\n",
              "\n",
              "          const docLinkHtml = 'Like what you see? Visit the ' +\n",
              "            '<a target=\"_blank\" href=https://colab.research.google.com/notebooks/data_table.ipynb>data table notebook</a>'\n",
              "            + ' to learn more about interactive tables.';\n",
              "          element.innerHTML = '';\n",
              "          dataTable['output_type'] = 'display_data';\n",
              "          await google.colab.output.renderOutput(dataTable, element);\n",
              "          const docLink = document.createElement('div');\n",
              "          docLink.innerHTML = docLinkHtml;\n",
              "          element.appendChild(docLink);\n",
              "        }\n",
              "      </script>\n",
              "    </div>\n",
              "  </div>\n",
              "  "
            ]
          },
          "metadata": {},
          "execution_count": 33
        }
      ],
      "source": [
        "# Look at the correlation between features to see which ones might be redundant\n",
        "\n",
        "# COMPLETE THIS CODE\n",
        "rainfall_df.corr()"
      ]
    },
    {
      "cell_type": "markdown",
      "metadata": {
        "id": "ZMe4aLzbqvkB"
      },
      "source": [
        "### **Exercise 2: Decide our variables using Variance and Correlation**\n",
        "---\n",
        "\n",
        "We have provided some data below for you to examine. Using the variation and correlation along with the principle of limiting the number of features, determine the best combination of features to use.\n",
        "\n",
        "**Run the code below first to create the dataset.**"
      ]
    },
    {
      "cell_type": "code",
      "source": [
        "data = {}\n",
        "data[\"Feature 1\"] = [x/10 for x in range(1000)]\n",
        "data[\"Feature 2\"] = [(x % 4)/8 for x in range(1000)]\n",
        "data[\"Feature 3\"] = [(-1)**x/(x + 1)*110 for x in range(1000)]\n",
        "data[\"Feature 4\"] = [(x % 4)**3/2 for x in range(1000)]\n",
        "data[\"Class Variable\"] = [(x % 2) for x in range(1000)]\n",
        "\n",
        "\n",
        "df = pd.DataFrame(data)"
      ],
      "metadata": {
        "id": "_i6FgFvUrGKk"
      },
      "execution_count": null,
      "outputs": []
    },
    {
      "cell_type": "code",
      "source": [
        "# Look at the variance of each feature to see which ones might reveal interesting patterns\n",
        "\n",
        "# COMPLETE THIS CODE\n",
        "\n",
        "df.var()"
      ],
      "metadata": {
        "id": "28n_tgaPzm77",
        "colab": {
          "base_uri": "https://localhost:8080/"
        },
        "outputId": "b5454bf3-27fd-480f-ccd7-8a46d11413a9"
      },
      "execution_count": null,
      "outputs": [
        {
          "output_type": "execute_result",
          "data": {
            "text/plain": [
              "Feature 1         834.166667\n",
              "Feature 2           0.019551\n",
              "Feature 3          19.905709\n",
              "Feature 4          29.404404\n",
              "Class Variable      0.250250\n",
              "dtype: float64"
            ]
          },
          "metadata": {},
          "execution_count": 36
        }
      ]
    },
    {
      "cell_type": "code",
      "source": [
        "# Look at the correlation between features to see which ones might be redundant\n",
        "\n",
        "# COMPLETE THIS CODE\n",
        "df.corr()\n",
        "\n",
        "#we would NOT want to use Feature 2, because it has a low variance, and\n",
        "#the correlation with other features are high, which we don't want to \n",
        "#measure since it is strongly correlated (or similar) to the other features "
      ],
      "metadata": {
        "id": "eVX0SsTyzp3O",
        "colab": {
          "base_uri": "https://localhost:8080/",
          "height": 206
        },
        "outputId": "18efae10-ece1-4abc-c016-0ef7f8de2abf"
      },
      "execution_count": null,
      "outputs": [
        {
          "output_type": "execute_result",
          "data": {
            "text/plain": [
              "                Feature 1  Feature 2  Feature 3  Feature 4  Class Variable\n",
              "Feature 1        1.000000   0.003873  -0.029623   0.003515        0.001732\n",
              "Feature 2        0.003873   1.000000  -0.092258   0.907651        0.447214\n",
              "Feature 3       -0.029623  -0.092258   1.000000  -0.082077       -0.184646\n",
              "Feature 4        0.003515   0.907651  -0.082077   1.000000        0.461266\n",
              "Class Variable   0.001732   0.447214  -0.184646   0.461266        1.000000"
            ],
            "text/html": [
              "\n",
              "  <div id=\"df-af52a826-18ca-4c46-b147-755ee3199602\">\n",
              "    <div class=\"colab-df-container\">\n",
              "      <div>\n",
              "<style scoped>\n",
              "    .dataframe tbody tr th:only-of-type {\n",
              "        vertical-align: middle;\n",
              "    }\n",
              "\n",
              "    .dataframe tbody tr th {\n",
              "        vertical-align: top;\n",
              "    }\n",
              "\n",
              "    .dataframe thead th {\n",
              "        text-align: right;\n",
              "    }\n",
              "</style>\n",
              "<table border=\"1\" class=\"dataframe\">\n",
              "  <thead>\n",
              "    <tr style=\"text-align: right;\">\n",
              "      <th></th>\n",
              "      <th>Feature 1</th>\n",
              "      <th>Feature 2</th>\n",
              "      <th>Feature 3</th>\n",
              "      <th>Feature 4</th>\n",
              "      <th>Class Variable</th>\n",
              "    </tr>\n",
              "  </thead>\n",
              "  <tbody>\n",
              "    <tr>\n",
              "      <th>Feature 1</th>\n",
              "      <td>1.000000</td>\n",
              "      <td>0.003873</td>\n",
              "      <td>-0.029623</td>\n",
              "      <td>0.003515</td>\n",
              "      <td>0.001732</td>\n",
              "    </tr>\n",
              "    <tr>\n",
              "      <th>Feature 2</th>\n",
              "      <td>0.003873</td>\n",
              "      <td>1.000000</td>\n",
              "      <td>-0.092258</td>\n",
              "      <td>0.907651</td>\n",
              "      <td>0.447214</td>\n",
              "    </tr>\n",
              "    <tr>\n",
              "      <th>Feature 3</th>\n",
              "      <td>-0.029623</td>\n",
              "      <td>-0.092258</td>\n",
              "      <td>1.000000</td>\n",
              "      <td>-0.082077</td>\n",
              "      <td>-0.184646</td>\n",
              "    </tr>\n",
              "    <tr>\n",
              "      <th>Feature 4</th>\n",
              "      <td>0.003515</td>\n",
              "      <td>0.907651</td>\n",
              "      <td>-0.082077</td>\n",
              "      <td>1.000000</td>\n",
              "      <td>0.461266</td>\n",
              "    </tr>\n",
              "    <tr>\n",
              "      <th>Class Variable</th>\n",
              "      <td>0.001732</td>\n",
              "      <td>0.447214</td>\n",
              "      <td>-0.184646</td>\n",
              "      <td>0.461266</td>\n",
              "      <td>1.000000</td>\n",
              "    </tr>\n",
              "  </tbody>\n",
              "</table>\n",
              "</div>\n",
              "      <button class=\"colab-df-convert\" onclick=\"convertToInteractive('df-af52a826-18ca-4c46-b147-755ee3199602')\"\n",
              "              title=\"Convert this dataframe to an interactive table.\"\n",
              "              style=\"display:none;\">\n",
              "        \n",
              "  <svg xmlns=\"http://www.w3.org/2000/svg\" height=\"24px\"viewBox=\"0 0 24 24\"\n",
              "       width=\"24px\">\n",
              "    <path d=\"M0 0h24v24H0V0z\" fill=\"none\"/>\n",
              "    <path d=\"M18.56 5.44l.94 2.06.94-2.06 2.06-.94-2.06-.94-.94-2.06-.94 2.06-2.06.94zm-11 1L8.5 8.5l.94-2.06 2.06-.94-2.06-.94L8.5 2.5l-.94 2.06-2.06.94zm10 10l.94 2.06.94-2.06 2.06-.94-2.06-.94-.94-2.06-.94 2.06-2.06.94z\"/><path d=\"M17.41 7.96l-1.37-1.37c-.4-.4-.92-.59-1.43-.59-.52 0-1.04.2-1.43.59L10.3 9.45l-7.72 7.72c-.78.78-.78 2.05 0 2.83L4 21.41c.39.39.9.59 1.41.59.51 0 1.02-.2 1.41-.59l7.78-7.78 2.81-2.81c.8-.78.8-2.07 0-2.86zM5.41 20L4 18.59l7.72-7.72 1.47 1.35L5.41 20z\"/>\n",
              "  </svg>\n",
              "      </button>\n",
              "      \n",
              "  <style>\n",
              "    .colab-df-container {\n",
              "      display:flex;\n",
              "      flex-wrap:wrap;\n",
              "      gap: 12px;\n",
              "    }\n",
              "\n",
              "    .colab-df-convert {\n",
              "      background-color: #E8F0FE;\n",
              "      border: none;\n",
              "      border-radius: 50%;\n",
              "      cursor: pointer;\n",
              "      display: none;\n",
              "      fill: #1967D2;\n",
              "      height: 32px;\n",
              "      padding: 0 0 0 0;\n",
              "      width: 32px;\n",
              "    }\n",
              "\n",
              "    .colab-df-convert:hover {\n",
              "      background-color: #E2EBFA;\n",
              "      box-shadow: 0px 1px 2px rgba(60, 64, 67, 0.3), 0px 1px 3px 1px rgba(60, 64, 67, 0.15);\n",
              "      fill: #174EA6;\n",
              "    }\n",
              "\n",
              "    [theme=dark] .colab-df-convert {\n",
              "      background-color: #3B4455;\n",
              "      fill: #D2E3FC;\n",
              "    }\n",
              "\n",
              "    [theme=dark] .colab-df-convert:hover {\n",
              "      background-color: #434B5C;\n",
              "      box-shadow: 0px 1px 3px 1px rgba(0, 0, 0, 0.15);\n",
              "      filter: drop-shadow(0px 1px 2px rgba(0, 0, 0, 0.3));\n",
              "      fill: #FFFFFF;\n",
              "    }\n",
              "  </style>\n",
              "\n",
              "      <script>\n",
              "        const buttonEl =\n",
              "          document.querySelector('#df-af52a826-18ca-4c46-b147-755ee3199602 button.colab-df-convert');\n",
              "        buttonEl.style.display =\n",
              "          google.colab.kernel.accessAllowed ? 'block' : 'none';\n",
              "\n",
              "        async function convertToInteractive(key) {\n",
              "          const element = document.querySelector('#df-af52a826-18ca-4c46-b147-755ee3199602');\n",
              "          const dataTable =\n",
              "            await google.colab.kernel.invokeFunction('convertToInteractive',\n",
              "                                                     [key], {});\n",
              "          if (!dataTable) return;\n",
              "\n",
              "          const docLinkHtml = 'Like what you see? Visit the ' +\n",
              "            '<a target=\"_blank\" href=https://colab.research.google.com/notebooks/data_table.ipynb>data table notebook</a>'\n",
              "            + ' to learn more about interactive tables.';\n",
              "          element.innerHTML = '';\n",
              "          dataTable['output_type'] = 'display_data';\n",
              "          await google.colab.output.renderOutput(dataTable, element);\n",
              "          const docLink = document.createElement('div');\n",
              "          docLink.innerHTML = docLinkHtml;\n",
              "          element.appendChild(docLink);\n",
              "        }\n",
              "      </script>\n",
              "    </div>\n",
              "  </div>\n",
              "  "
            ]
          },
          "metadata": {},
          "execution_count": 39
        }
      ]
    },
    {
      "cell_type": "markdown",
      "metadata": {
        "id": "NRDr5k7Q1IWt"
      },
      "source": [
        "## **Part 3: Model Evaluation**\n",
        "---\n",
        "\n",
        "Let's determine the accuracy and confusion matrix for the KNN model you trained in Part 1 on rainfall data."
      ]
    },
    {
      "cell_type": "markdown",
      "metadata": {
        "id": "ohZKQAMb1NaY"
      },
      "source": [
        "### **Exercise #1: Accuracy Score**\n",
        "---"
      ]
    },
    {
      "cell_type": "code",
      "execution_count": null,
      "metadata": {
        "id": "0yvpAEwu1NaZ",
        "colab": {
          "base_uri": "https://localhost:8080/"
        },
        "outputId": "efd8de4d-c49f-44a5-8622-a6b408fea926"
      },
      "outputs": [
        {
          "output_type": "execute_result",
          "data": {
            "text/plain": [
              "0.6702668646775573"
            ]
          },
          "metadata": {},
          "execution_count": 41
        }
      ],
      "source": [
        "from sklearn import metrics\n",
        "\n",
        "metrics.accuracy_score(y_test, predictions)"
      ]
    },
    {
      "cell_type": "markdown",
      "metadata": {
        "id": "L89sA_L21euG"
      },
      "source": [
        "### **Exercise #2: Confusion Matrix**\n",
        "---"
      ]
    },
    {
      "cell_type": "code",
      "execution_count": null,
      "metadata": {
        "id": "CGBopEd01euH",
        "colab": {
          "base_uri": "https://localhost:8080/",
          "height": 351
        },
        "outputId": "4cd1b157-a72f-477a-ca44-99cb9f5708cf"
      },
      "outputs": [
        {
          "output_type": "stream",
          "name": "stderr",
          "text": [
            "/usr/local/lib/python3.7/dist-packages/sklearn/utils/deprecation.py:87: FutureWarning: Function plot_confusion_matrix is deprecated; Function `plot_confusion_matrix` is deprecated in 1.0 and will be removed in 1.2. Use one of the class methods: ConfusionMatrixDisplay.from_predictions or ConfusionMatrixDisplay.from_estimator.\n",
            "  warnings.warn(msg, category=FutureWarning)\n"
          ]
        },
        {
          "output_type": "execute_result",
          "data": {
            "text/plain": [
              "<sklearn.metrics._plot.confusion_matrix.ConfusionMatrixDisplay at 0x7f7b6e62e410>"
            ]
          },
          "metadata": {},
          "execution_count": 42
        },
        {
          "output_type": "display_data",
          "data": {
            "text/plain": [
              "<Figure size 432x288 with 2 Axes>"
            ],
            "image/png": "[encoded data removed]"
          },
          "metadata": {
            "needs_background": "light"
          }
        }
      ],
      "source": [
        "metrics.plot_confusion_matrix(model, X_test, y_test)"
      ]
    },
    {
      "cell_type": "markdown",
      "metadata": {
        "id": "f7aAx0hT11yL"
      },
      "source": [
        "## **Part 4: Finding the Optimal Value of K**\n",
        "---"
      ]
    },
    {
      "cell_type": "markdown",
      "metadata": {
        "id": "urDjcLYG11yL"
      },
      "source": [
        "### **Exercise #1: Compare to a different K value**\n",
        "---\n",
        "\n",
        "Let's create a new model with K = 3. Then evaluate the model using two evaluation metrics: accuracy and a confusion matrix."
      ]
    },
    {
      "cell_type": "code",
      "execution_count": null,
      "metadata": {
        "id": "YzW2Nhb32_93"
      },
      "outputs": [],
      "source": [
        "model = # COMPLETE THIS LINE\n",
        "model.fit(X_train, y_train)"
      ]
    },
    {
      "cell_type": "code",
      "execution_count": null,
      "metadata": {
        "id": "ZXWgufo23BYl"
      },
      "outputs": [],
      "source": [
        "predictions = model.predict(X_test)\n",
        "# COMPLETE THIS LINE TO OUTPUT THE ACCURACY"
      ]
    },
    {
      "cell_type": "code",
      "execution_count": null,
      "metadata": {
        "id": "Pa3mzgF-3DX_"
      },
      "outputs": [],
      "source": [
        "# COMPLETE THIS CODE TO OUTPUT THE CONFUSION MATRIX"
      ]
    },
    {
      "cell_type": "markdown",
      "metadata": {
        "id": "snEaB39i3Ndz"
      },
      "source": [
        "How does this compare to the performance for the model we used in Part 3? Which model is better?"
      ]
    },
    {
      "cell_type": "markdown",
      "metadata": {
        "id": "LFYkH6ypAyV0"
      },
      "source": [
        "### **Exercise #2: Try different K values to see what is best**\n",
        "---\n",
        "\n",
        "Create and evaluate KNN models for differen K values using accuracy and the confusion matrix."
      ]
    },
    {
      "cell_type": "markdown",
      "source": [
        "#### 1. **K = 5**"
      ],
      "metadata": {
        "id": "DC1o4zffAyWA"
      }
    },
    {
      "cell_type": "code",
      "source": [
        "# Fit the model with K = 5"
      ],
      "metadata": {
        "id": "4rVS7Wv0AyWA"
      },
      "execution_count": null,
      "outputs": []
    },
    {
      "cell_type": "code",
      "source": [
        "# Make predictions and check the accuracy"
      ],
      "metadata": {
        "id": "rhCysCTLAyWB"
      },
      "execution_count": null,
      "outputs": []
    },
    {
      "cell_type": "code",
      "source": [
        "# Check the confusion matrix"
      ],
      "metadata": {
        "id": "yfNhKuKdAyWB"
      },
      "execution_count": null,
      "outputs": []
    },
    {
      "cell_type": "markdown",
      "source": [
        "#### 2. **K = 9**"
      ],
      "metadata": {
        "id": "GWmJEM1AAyWB"
      }
    },
    {
      "cell_type": "code",
      "source": [
        "# Fit the model with K = 5"
      ],
      "metadata": {
        "id": "LhwfqoQnH1me"
      },
      "execution_count": null,
      "outputs": []
    },
    {
      "cell_type": "code",
      "source": [
        "# Make predictions and check the accuracy"
      ],
      "metadata": {
        "id": "UdeWsUioH1me"
      },
      "execution_count": null,
      "outputs": []
    },
    {
      "cell_type": "code",
      "source": [
        "# Check the confusion matrix"
      ],
      "metadata": {
        "id": "PKYOes7kH1me"
      },
      "execution_count": null,
      "outputs": []
    },
    {
      "cell_type": "markdown",
      "source": [
        "#### 3. **K = size of dataset**"
      ],
      "metadata": {
        "id": "CfIfgSZ7AyWB"
      }
    },
    {
      "cell_type": "code",
      "source": [
        "# Fit the model with K = size of dataset\n",
        "k = len(X_train)\n",
        "\n",
        "# COMPLETE THIS CODE"
      ],
      "metadata": {
        "id": "uGiJln4kH16z"
      },
      "execution_count": null,
      "outputs": []
    },
    {
      "cell_type": "code",
      "source": [
        "# Make predictions and check the accuracy"
      ],
      "metadata": {
        "id": "PBGDjcK8H160"
      },
      "execution_count": null,
      "outputs": []
    },
    {
      "cell_type": "code",
      "source": [
        "# Check the confusion matrix"
      ],
      "metadata": {
        "id": "FHtT_weuH160"
      },
      "execution_count": null,
      "outputs": []
    },
    {
      "cell_type": "markdown",
      "source": [
        "#### 4. **K = $\\sqrt{\\text{size of dataset}}$**"
      ],
      "metadata": {
        "id": "aMy6cl2cAyWD"
      }
    },
    {
      "cell_type": "code",
      "source": [
        "# Fit the model with K = sqrt(size of dataset)\n",
        "k = int(len(X_train)**(1/2))\n",
        "\n",
        "# COMPLETE THIS CODE"
      ],
      "metadata": {
        "id": "wyq_a-6YH2eX"
      },
      "execution_count": null,
      "outputs": []
    },
    {
      "cell_type": "code",
      "source": [
        "# Make predictions and check the accuracy"
      ],
      "metadata": {
        "id": "oPj7AYSmH2eX"
      },
      "execution_count": null,
      "outputs": []
    },
    {
      "cell_type": "code",
      "source": [
        "# Check the confusion matrix"
      ],
      "metadata": {
        "id": "6cbmOQfeH2eY"
      },
      "execution_count": null,
      "outputs": []
    },
    {
      "cell_type": "markdown",
      "metadata": {
        "id": "vw8u7-mA3RVb"
      },
      "source": [
        "### **Exercise #3: Using `CVGridSearch` to search over many K values**\n",
        "---\n",
        "\n",
        "Let's create a range of models to conduct a more exhuastive search for the optimal value of K using the code provided below."
      ]
    },
    {
      "cell_type": "markdown",
      "metadata": {
        "id": "pR0oMKdU3QlY"
      },
      "source": [
        "#### **Part 1: Search over many K values**\n",
        "---\n",
        "\n",
        "Run the code below to determine the performance of KNN for many K values. **You are not responsible for knowing this code for now, but it is valuable to see another option in action.**"
      ]
    },
    {
      "cell_type": "code",
      "execution_count": null,
      "metadata": {
        "id": "OkoQRVG_lmXa"
      },
      "outputs": [],
      "source": [
        "from sklearn.model_selection import GridSearchCV\n",
        "\n",
        "# defining range of ks\n",
        "ks = list(range(1, 30, 4))\n",
        "param_grid = dict(n_neighbors=ks)\n",
        "\n",
        "\n",
        "# creating grid searcher for KNN Classifier\n",
        "knn = KNeighborsClassifier()\n",
        "grid = GridSearchCV(knn, param_grid)\n",
        "  \n",
        "\n",
        "# fitting the model for grid search\n",
        "grid_search = grid.fit(X_train, y_train)\n",
        "\n",
        "\n",
        "# looking at the scores for this range\n",
        "print(grid_search.cv_results_['mean_test_score'])\n",
        "\n",
        "\n",
        "# looking at the best k value\n",
        "print(grid_search.best_params_)\n",
        "\n",
        "# plotting results\n",
        "plt.scatter(ks, grid_search.cv_results_['mean_test_score'])\n",
        "\n",
        "plt.title(\"Accuracy vs. K Value\")\n",
        "plt.xlabel(\"K\")\n",
        "plt.ylabel(\"Accuracy\")\n",
        "plt.show()"
      ]
    },
    {
      "cell_type": "markdown",
      "metadata": {
        "id": "mtKkgX4BxbW7"
      },
      "source": [
        "#### **Part 2: Implement the best model**\n",
        "---\n",
        "\n",
        "Using the best K value found above, create a KNN model. Then look at its accuracy and confusion matrix. Compare to the previous results."
      ]
    },
    {
      "cell_type": "code",
      "source": [
        "# Fit the model with the best value of K"
      ],
      "metadata": {
        "id": "xdkJkEnIJDi7"
      },
      "execution_count": null,
      "outputs": []
    },
    {
      "cell_type": "code",
      "source": [
        "# Make predictions and check the accuracy"
      ],
      "metadata": {
        "id": "0bf1K8mdJDi8"
      },
      "execution_count": null,
      "outputs": []
    },
    {
      "cell_type": "code",
      "source": [
        "# Check the confusion matrix"
      ],
      "metadata": {
        "id": "NPUfxt7wJDi8"
      },
      "execution_count": null,
      "outputs": []
    },
    {
      "cell_type": "markdown",
      "source": [
        "---\n",
        "\n",
        "# © 2022 The Coding School, All rights reserved"
      ],
      "metadata": {
        "id": "1cI9UutlB2Xt"
      }
    }
  ],
  "metadata": {
    "colab": {
      "provenance": []
    },
    "kernelspec": {
      "display_name": "Python 3 (ipykernel)",
      "language": "python",
      "name": "python3"
    },
    "language_info": {
      "codemirror_mode": {
        "name": "ipython",
        "version": 3
      },
      "file_extension": ".py",
      "mimetype": "text/x-python",
      "name": "python",
      "nbconvert_exporter": "python",
      "pygments_lexer": "ipython3",
      "version": "3.9.7"
    }
  },
  "nbformat": 4,
  "nbformat_minor": 0
}